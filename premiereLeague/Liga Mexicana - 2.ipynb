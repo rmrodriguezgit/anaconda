{
 "cells": [
  {
   "cell_type": "markdown",
   "id": "6d833916",
   "metadata": {},
   "source": [
    "### Construcción de un Dataset de la Liga Méxicana de Fútbol\n",
    "#### a partir de la información de Wikipedia\n",
    "https://en.wikipedia.org/wiki/2021–22_Liga_MX_season"
   ]
  },
  {
   "cell_type": "markdown",
   "id": "f834d51f",
   "metadata": {},
   "source": [
    "Instrucciones:\n",
    "1. De la página de wikipedia busque la tabla de resultados\n",
    "2. Copie y pegue en una Hoja de Cálculo de Google Drive\n",
    "3. Descargue en formato .CSV \n",
    "4. Renombre el archivo con las siguientes características FMF_T(A|C)_(año4-año2).csv.  Ejemplo: FMF_TA_2021-22.csv\n",
    "5. Copie el archivo en la carpeta /ligas/data (importante cree las carpetas antes de este paso)"
   ]
  },
  {
   "cell_type": "code",
   "execution_count": 2,
   "id": "25d391d2",
   "metadata": {},
   "outputs": [],
   "source": [
    "%matplotlib inline\n",
    "%config InlineBackend.figure_format = 'retina'"
   ]
  },
  {
   "cell_type": "code",
   "execution_count": 3,
   "id": "de900518",
   "metadata": {},
   "outputs": [],
   "source": [
    "import os\n",
    "import warnings\n",
    "warnings.filterwarnings('ignore')\n",
    "\n",
    "import numpy as np\n",
    "import pandas as pd\n",
    "import matplotlib.pyplot as plt"
   ]
  },
  {
   "cell_type": "code",
   "execution_count": 4,
   "id": "4671a436",
   "metadata": {},
   "outputs": [],
   "source": [
    "DATA_DIR = os.path.join(os.getcwd(), 'data/')\n",
    "CHART_DIR = os.path.join(os.getcwd(), 'charts/')"
   ]
  },
  {
   "cell_type": "code",
   "execution_count": 5,
   "id": "acf45a7f",
   "metadata": {},
   "outputs": [
    {
     "data": {
      "text/plain": [
       "'/Users/rmrodriguez/Documents/anaconda/premiereLeague/data/'"
      ]
     },
     "execution_count": 5,
     "metadata": {},
     "output_type": "execute_result"
    }
   ],
   "source": [
    "DATA_DIR"
   ]
  },
  {
   "cell_type": "code",
   "execution_count": 6,
   "id": "d52eef41",
   "metadata": {},
   "outputs": [
    {
     "data": {
      "text/html": [
       "<div>\n",
       "<style scoped>\n",
       "    .dataframe tbody tr th:only-of-type {\n",
       "        vertical-align: middle;\n",
       "    }\n",
       "\n",
       "    .dataframe tbody tr th {\n",
       "        vertical-align: top;\n",
       "    }\n",
       "\n",
       "    .dataframe thead th {\n",
       "        text-align: right;\n",
       "    }\n",
       "</style>\n",
       "<table border=\"1\" class=\"dataframe\">\n",
       "  <thead>\n",
       "    <tr style=\"text-align: right;\">\n",
       "      <th></th>\n",
       "      <th>AMÉ</th>\n",
       "      <th>ATL</th>\n",
       "      <th>ASL</th>\n",
       "      <th>CAZ</th>\n",
       "      <th>GUA</th>\n",
       "      <th>JUÁ</th>\n",
       "      <th>LEÓ</th>\n",
       "      <th>MAZ</th>\n",
       "      <th>MON</th>\n",
       "      <th>NEC</th>\n",
       "      <th>PAC</th>\n",
       "      <th>PUE</th>\n",
       "      <th>QUE</th>\n",
       "      <th>SAN</th>\n",
       "      <th>TIJ</th>\n",
       "      <th>TOL</th>\n",
       "      <th>UNL</th>\n",
       "      <th>UNM</th>\n",
       "    </tr>\n",
       "    <tr>\n",
       "      <th>Home \\ Away</th>\n",
       "      <th></th>\n",
       "      <th></th>\n",
       "      <th></th>\n",
       "      <th></th>\n",
       "      <th></th>\n",
       "      <th></th>\n",
       "      <th></th>\n",
       "      <th></th>\n",
       "      <th></th>\n",
       "      <th></th>\n",
       "      <th></th>\n",
       "      <th></th>\n",
       "      <th></th>\n",
       "      <th></th>\n",
       "      <th></th>\n",
       "      <th></th>\n",
       "      <th></th>\n",
       "      <th></th>\n",
       "    </tr>\n",
       "  </thead>\n",
       "  <tbody>\n",
       "    <tr>\n",
       "      <th>América</th>\n",
       "      <td>—</td>\n",
       "      <td>—</td>\n",
       "      <td>—</td>\n",
       "      <td>—</td>\n",
       "      <td>0–0</td>\n",
       "      <td>—</td>\n",
       "      <td>—</td>\n",
       "      <td>2–0</td>\n",
       "      <td>0–0</td>\n",
       "      <td>2–1</td>\n",
       "      <td>—</td>\n",
       "      <td>2–0</td>\n",
       "      <td>—</td>\n",
       "      <td>2–1</td>\n",
       "      <td>2–0</td>\n",
       "      <td>—</td>\n",
       "      <td>1–0</td>\n",
       "      <td>2–0</td>\n",
       "    </tr>\n",
       "    <tr>\n",
       "      <th>Atlas</th>\n",
       "      <td>0–1</td>\n",
       "      <td>—</td>\n",
       "      <td>—</td>\n",
       "      <td>0–0</td>\n",
       "      <td>—</td>\n",
       "      <td>2–0</td>\n",
       "      <td>2–0</td>\n",
       "      <td>—</td>\n",
       "      <td>2–1</td>\n",
       "      <td>—</td>\n",
       "      <td>—</td>\n",
       "      <td>0–1</td>\n",
       "      <td>2–0</td>\n",
       "      <td>—</td>\n",
       "      <td>0–2</td>\n",
       "      <td>0–0</td>\n",
       "      <td>—</td>\n",
       "      <td>—</td>\n",
       "    </tr>\n",
       "    <tr>\n",
       "      <th>Atlético San Luis</th>\n",
       "      <td>0–1</td>\n",
       "      <td>2–6</td>\n",
       "      <td>—</td>\n",
       "      <td>0–0</td>\n",
       "      <td>—</td>\n",
       "      <td>—</td>\n",
       "      <td>—</td>\n",
       "      <td>—</td>\n",
       "      <td>1–1</td>\n",
       "      <td>0–2</td>\n",
       "      <td>—</td>\n",
       "      <td>—</td>\n",
       "      <td>1–1</td>\n",
       "      <td>—</td>\n",
       "      <td>4–1</td>\n",
       "      <td>—</td>\n",
       "      <td>0–3</td>\n",
       "      <td>—</td>\n",
       "    </tr>\n",
       "    <tr>\n",
       "      <th>Cruz Azul</th>\n",
       "      <td>2–1</td>\n",
       "      <td>—</td>\n",
       "      <td>—</td>\n",
       "      <td>—</td>\n",
       "      <td>—</td>\n",
       "      <td>—</td>\n",
       "      <td>0–1</td>\n",
       "      <td>0–2</td>\n",
       "      <td>1–1</td>\n",
       "      <td>—</td>\n",
       "      <td>1–1</td>\n",
       "      <td>—</td>\n",
       "      <td>2–0</td>\n",
       "      <td>—</td>\n",
       "      <td>—</td>\n",
       "      <td>4–0</td>\n",
       "      <td>1–1</td>\n",
       "      <td>3–4</td>\n",
       "    </tr>\n",
       "    <tr>\n",
       "      <th>Guadalajara</th>\n",
       "      <td>—</td>\n",
       "      <td>0–1</td>\n",
       "      <td>1–2</td>\n",
       "      <td>1–1</td>\n",
       "      <td>—</td>\n",
       "      <td>2–2</td>\n",
       "      <td>0–3</td>\n",
       "      <td>—</td>\n",
       "      <td>—</td>\n",
       "      <td>2–1</td>\n",
       "      <td>1–0</td>\n",
       "      <td>—</td>\n",
       "      <td>—</td>\n",
       "      <td>—</td>\n",
       "      <td>—</td>\n",
       "      <td>2–0</td>\n",
       "      <td>—</td>\n",
       "      <td>—</td>\n",
       "    </tr>\n",
       "  </tbody>\n",
       "</table>\n",
       "</div>"
      ],
      "text/plain": [
       "                   AMÉ  ATL  ASL  CAZ  GUA  JUÁ  LEÓ  MAZ  MON  NEC  PAC  PUE  \\\n",
       "Home \\ Away                                                                     \n",
       "América              —    —    —    —  0–0    —    —  2–0  0–0  2–1    —  2–0   \n",
       "Atlas              0–1    —    —  0–0    —  2–0  2–0    —  2–1    —    —  0–1   \n",
       "Atlético San Luis  0–1  2–6    —  0–0    —    —    —    —  1–1  0–2    —    —   \n",
       "Cruz Azul          2–1    —    —    —    —    —  0–1  0–2  1–1    —  1–1    —   \n",
       "Guadalajara          —  0–1  1–2  1–1    —  2–2  0–3    —    —  2–1  1–0    —   \n",
       "\n",
       "                   QUE  SAN  TIJ  TOL  UNL  UNM  \n",
       "Home \\ Away                                      \n",
       "América              —  2–1  2–0    —  1–0  2–0  \n",
       "Atlas              2–0    —  0–2  0–0    —    —  \n",
       "Atlético San Luis  1–1    —  4–1    —  0–3    —  \n",
       "Cruz Azul          2–0    —    —  4–0  1–1  3–4  \n",
       "Guadalajara          —    —    —  2–0    —    —  "
      ]
     },
     "execution_count": 6,
     "metadata": {},
     "output_type": "execute_result"
    }
   ],
   "source": [
    "data_file = './data/FMF_TA_2021.csv'\n",
    "df = pd.read_csv(data_file, index_col=0)\n",
    "df.head()"
   ]
  },
  {
   "cell_type": "code",
   "execution_count": 7,
   "id": "3ecb59eb",
   "metadata": {},
   "outputs": [
    {
     "name": "stdout",
     "output_type": "stream",
     "text": [
      "Index(['AMÉ', 'ATL', 'ASL', 'CAZ', 'GUA', 'JUÁ', 'LEÓ', 'MAZ', 'MON', 'NEC',\n",
      "       'PAC', 'PUE', 'QUE', 'SAN', 'TIJ', 'TOL', 'UNL', 'UNM'],\n",
      "      dtype='object')\n"
     ]
    }
   ],
   "source": [
    "print(df.columns)"
   ]
  },
  {
   "cell_type": "code",
   "execution_count": 8,
   "id": "070820a2",
   "metadata": {},
   "outputs": [
    {
     "data": {
      "text/html": [
       "<div>\n",
       "<style scoped>\n",
       "    .dataframe tbody tr th:only-of-type {\n",
       "        vertical-align: middle;\n",
       "    }\n",
       "\n",
       "    .dataframe tbody tr th {\n",
       "        vertical-align: top;\n",
       "    }\n",
       "\n",
       "    .dataframe thead th {\n",
       "        text-align: right;\n",
       "    }\n",
       "</style>\n",
       "<table border=\"1\" class=\"dataframe\">\n",
       "  <thead>\n",
       "    <tr style=\"text-align: right;\">\n",
       "      <th></th>\n",
       "      <th>home</th>\n",
       "      <th>away</th>\n",
       "      <th>home_score</th>\n",
       "      <th>away_score</th>\n",
       "    </tr>\n",
       "  </thead>\n",
       "  <tbody>\n",
       "    <tr>\n",
       "      <th>0</th>\n",
       "      <td>AMÉ</td>\n",
       "      <td>GUA</td>\n",
       "      <td>0</td>\n",
       "      <td>0</td>\n",
       "    </tr>\n",
       "    <tr>\n",
       "      <th>1</th>\n",
       "      <td>AMÉ</td>\n",
       "      <td>MAZ</td>\n",
       "      <td>2</td>\n",
       "      <td>0</td>\n",
       "    </tr>\n",
       "    <tr>\n",
       "      <th>2</th>\n",
       "      <td>AMÉ</td>\n",
       "      <td>MON</td>\n",
       "      <td>0</td>\n",
       "      <td>0</td>\n",
       "    </tr>\n",
       "    <tr>\n",
       "      <th>3</th>\n",
       "      <td>AMÉ</td>\n",
       "      <td>NEC</td>\n",
       "      <td>2</td>\n",
       "      <td>1</td>\n",
       "    </tr>\n",
       "    <tr>\n",
       "      <th>4</th>\n",
       "      <td>AMÉ</td>\n",
       "      <td>PUE</td>\n",
       "      <td>2</td>\n",
       "      <td>0</td>\n",
       "    </tr>\n",
       "  </tbody>\n",
       "</table>\n",
       "</div>"
      ],
      "text/plain": [
       "  home away home_score away_score\n",
       "0  AMÉ  GUA          0          0\n",
       "1  AMÉ  MAZ          2          0\n",
       "2  AMÉ  MON          0          0\n",
       "3  AMÉ  NEC          2          1\n",
       "4  AMÉ  PUE          2          0"
      ]
     },
     "execution_count": 8,
     "metadata": {},
     "output_type": "execute_result"
    }
   ],
   "source": [
    "df.index = df.columns\n",
    "rows = []\n",
    "for i in df.index:\n",
    "    for c in df.columns:\n",
    "        if i == c: continue\n",
    "        score = df.loc[i, c]\n",
    "        if score == '—': continue\n",
    "        ssplit = score.split('–')\n",
    "        #print(ssplit[1])\n",
    "        rows.append([i, c, ssplit[0], ssplit[1]])\n",
    "df = pd.DataFrame(rows, columns = ['home', 'away', 'home_score', 'away_score'])\n",
    "df.head()"
   ]
  },
  {
   "cell_type": "code",
   "execution_count": null,
   "id": "69c34673",
   "metadata": {},
   "outputs": [],
   "source": []
  },
  {
   "cell_type": "code",
   "execution_count": 9,
   "id": "6113156d",
   "metadata": {},
   "outputs": [
    {
     "data": {
      "text/html": [
       "<div>\n",
       "<style scoped>\n",
       "    .dataframe tbody tr th:only-of-type {\n",
       "        vertical-align: middle;\n",
       "    }\n",
       "\n",
       "    .dataframe tbody tr th {\n",
       "        vertical-align: top;\n",
       "    }\n",
       "\n",
       "    .dataframe thead th {\n",
       "        text-align: right;\n",
       "    }\n",
       "</style>\n",
       "<table border=\"1\" class=\"dataframe\">\n",
       "  <thead>\n",
       "    <tr style=\"text-align: right;\">\n",
       "      <th></th>\n",
       "      <th>team</th>\n",
       "      <th>i</th>\n",
       "    </tr>\n",
       "  </thead>\n",
       "  <tbody>\n",
       "    <tr>\n",
       "      <th>0</th>\n",
       "      <td>AMÉ</td>\n",
       "      <td>0</td>\n",
       "    </tr>\n",
       "    <tr>\n",
       "      <th>1</th>\n",
       "      <td>ATL</td>\n",
       "      <td>1</td>\n",
       "    </tr>\n",
       "    <tr>\n",
       "      <th>2</th>\n",
       "      <td>ASL</td>\n",
       "      <td>2</td>\n",
       "    </tr>\n",
       "    <tr>\n",
       "      <th>3</th>\n",
       "      <td>CAZ</td>\n",
       "      <td>3</td>\n",
       "    </tr>\n",
       "    <tr>\n",
       "      <th>4</th>\n",
       "      <td>GUA</td>\n",
       "      <td>4</td>\n",
       "    </tr>\n",
       "  </tbody>\n",
       "</table>\n",
       "</div>"
      ],
      "text/plain": [
       "  team  i\n",
       "0  AMÉ  0\n",
       "1  ATL  1\n",
       "2  ASL  2\n",
       "3  CAZ  3\n",
       "4  GUA  4"
      ]
     },
     "execution_count": 9,
     "metadata": {},
     "output_type": "execute_result"
    }
   ],
   "source": [
    "teams = df.home.unique()\n",
    "teams = pd.DataFrame(teams, columns=['team'])\n",
    "teams['i'] = teams.index\n",
    "teams.head()"
   ]
  },
  {
   "cell_type": "code",
   "execution_count": 10,
   "id": "836e7eeb",
   "metadata": {},
   "outputs": [
    {
     "data": {
      "text/html": [
       "<div>\n",
       "<style scoped>\n",
       "    .dataframe tbody tr th:only-of-type {\n",
       "        vertical-align: middle;\n",
       "    }\n",
       "\n",
       "    .dataframe tbody tr th {\n",
       "        vertical-align: top;\n",
       "    }\n",
       "\n",
       "    .dataframe thead th {\n",
       "        text-align: right;\n",
       "    }\n",
       "</style>\n",
       "<table border=\"1\" class=\"dataframe\">\n",
       "  <thead>\n",
       "    <tr style=\"text-align: right;\">\n",
       "      <th></th>\n",
       "      <th>home</th>\n",
       "      <th>away</th>\n",
       "      <th>home_score</th>\n",
       "      <th>away_score</th>\n",
       "      <th>i_home</th>\n",
       "      <th>i_away</th>\n",
       "    </tr>\n",
       "  </thead>\n",
       "  <tbody>\n",
       "    <tr>\n",
       "      <th>0</th>\n",
       "      <td>AMÉ</td>\n",
       "      <td>GUA</td>\n",
       "      <td>0</td>\n",
       "      <td>0</td>\n",
       "      <td>0</td>\n",
       "      <td>4</td>\n",
       "    </tr>\n",
       "    <tr>\n",
       "      <th>1</th>\n",
       "      <td>AMÉ</td>\n",
       "      <td>MAZ</td>\n",
       "      <td>2</td>\n",
       "      <td>0</td>\n",
       "      <td>0</td>\n",
       "      <td>7</td>\n",
       "    </tr>\n",
       "    <tr>\n",
       "      <th>2</th>\n",
       "      <td>AMÉ</td>\n",
       "      <td>MON</td>\n",
       "      <td>0</td>\n",
       "      <td>0</td>\n",
       "      <td>0</td>\n",
       "      <td>8</td>\n",
       "    </tr>\n",
       "    <tr>\n",
       "      <th>3</th>\n",
       "      <td>AMÉ</td>\n",
       "      <td>NEC</td>\n",
       "      <td>2</td>\n",
       "      <td>1</td>\n",
       "      <td>0</td>\n",
       "      <td>9</td>\n",
       "    </tr>\n",
       "    <tr>\n",
       "      <th>4</th>\n",
       "      <td>AMÉ</td>\n",
       "      <td>PUE</td>\n",
       "      <td>2</td>\n",
       "      <td>0</td>\n",
       "      <td>0</td>\n",
       "      <td>11</td>\n",
       "    </tr>\n",
       "  </tbody>\n",
       "</table>\n",
       "</div>"
      ],
      "text/plain": [
       "  home away home_score away_score  i_home  i_away\n",
       "0  AMÉ  GUA          0          0       0       4\n",
       "1  AMÉ  MAZ          2          0       0       7\n",
       "2  AMÉ  MON          0          0       0       8\n",
       "3  AMÉ  NEC          2          1       0       9\n",
       "4  AMÉ  PUE          2          0       0      11"
      ]
     },
     "execution_count": 10,
     "metadata": {},
     "output_type": "execute_result"
    }
   ],
   "source": [
    "df = pd.merge(df, teams, left_on='home', right_on='team', how='left')\n",
    "df = df.rename(columns = {'i': 'i_home'}).drop('team', 1)\n",
    "df = pd.merge(df, teams, left_on='away', right_on='team', how='left')\n",
    "df = df.rename(columns = {'i': 'i_away'}).drop('team', 1)\n",
    "df.head()"
   ]
  },
  {
   "cell_type": "code",
   "execution_count": 11,
   "id": "88effcbe",
   "metadata": {},
   "outputs": [
    {
     "data": {
      "text/plain": [
       "home          AMÉ\n",
       "away          TIJ\n",
       "home_score      2\n",
       "away_score      0\n",
       "i_home          0\n",
       "i_away         14\n",
       "Name: 6, dtype: object"
      ]
     },
     "execution_count": 11,
     "metadata": {},
     "output_type": "execute_result"
    }
   ],
   "source": [
    "df.iloc[6]"
   ]
  },
  {
   "cell_type": "code",
   "execution_count": 12,
   "id": "bc2902f7",
   "metadata": {},
   "outputs": [],
   "source": [
    "observed_home_goals = df.home_score.values\n",
    "observed_away_goals = df.away_score.values\n",
    "home_team = df.i_home.values\n",
    "away_team = df.i_away.values\n",
    "num_teams = len(df.i_home.unique())\n",
    "num_games = len(home_team)"
   ]
  },
  {
   "cell_type": "code",
   "execution_count": 13,
   "id": "67a7c648",
   "metadata": {},
   "outputs": [],
   "source": [
    "g = df.groupby('i_away')\n",
    "att_starting_points = np.log(g.away_score.mean())\n",
    "g = df.groupby('i_home')\n",
    "def_starting_points = -np.log(g.away_score.mean())"
   ]
  },
  {
   "cell_type": "code",
   "execution_count": 14,
   "id": "d11453a7",
   "metadata": {},
   "outputs": [
    {
     "data": {
      "text/plain": [
       "array(['0', '2', '0', '2', '2', '2', '2', '1', '2', '0', '0', '2', '2',\n",
       "       '2', '0', '2', '0', '0', '0', '2', '0', '1', '0', '1', '4', '0',\n",
       "       '2', '0', '0', '1', '1', '2', '4', '1', '3', '0', '1', '1', '2',\n",
       "       '0', '2', '1', '2', '1', '1', '2', '3', '0', '0', '1', '1', '1',\n",
       "       '0', '0', '3', '3', '1', '2', '1', '1', '2', '0', '3', '1', '2',\n",
       "       '2', '0', '2', '0', '0', '0', '3', '1', '2', '2', '2', '0', '1',\n",
       "       '1', '2', '0', '0', '3', '3', '1', '0', '0', '1', '4', '1', '1',\n",
       "       '1', '1', '2', '1', '0', '0', '2', '1', '1', '2', '1', '1', '0',\n",
       "       '1', '0', '1', '3', '0', '2', '1', '1', '0', '1', '0', '2', '1',\n",
       "       '1', '1', '2', '0', '0', '0', '2', '3', '1', '2', '0', '1', '3',\n",
       "       '1', '0', '2', '1', '1', '3', '2', '1', '2', '3', '2', '0', '3',\n",
       "       '3', '1', '1', '0', '1', '4', '0', '1', '2', '0', '0', '3'],\n",
       "      dtype=object)"
      ]
     },
     "execution_count": 14,
     "metadata": {},
     "output_type": "execute_result"
    }
   ],
   "source": [
    "df.home_score.values"
   ]
  },
  {
   "cell_type": "markdown",
   "id": "4bea595c",
   "metadata": {},
   "source": [
    "https://www.pinnacle.com/es/betting-articles/Soccer/how-to-calculate-poisson-distribution/MD62MLXUMKMXZ6A8"
   ]
  },
  {
   "cell_type": "code",
   "execution_count": 15,
   "id": "13cb8c0a",
   "metadata": {},
   "outputs": [
    {
     "data": {
      "text/plain": [
       "192"
      ]
     },
     "execution_count": 15,
     "metadata": {},
     "output_type": "execute_result"
    }
   ],
   "source": [
    "sumatoria_home = np.sum(df.home_score.astype(int))\n",
    "sumatoria_home"
   ]
  },
  {
   "cell_type": "code",
   "execution_count": 16,
   "id": "5d53e0e6",
   "metadata": {},
   "outputs": [
    {
     "data": {
      "text/plain": [
       "153"
      ]
     },
     "execution_count": 16,
     "metadata": {},
     "output_type": "execute_result"
    }
   ],
   "source": [
    "sumatoria_away = np.sum(df.away_score.astype(int))\n",
    "sumatoria_away"
   ]
  },
  {
   "cell_type": "code",
   "execution_count": 17,
   "id": "64a5bacc",
   "metadata": {},
   "outputs": [
    {
     "data": {
      "text/plain": [
       "345"
      ]
     },
     "execution_count": 17,
     "metadata": {},
     "output_type": "execute_result"
    }
   ],
   "source": [
    "sumatoria_liga = sumatoria_home + sumatoria_away\n",
    "sumatoria_liga"
   ]
  },
  {
   "cell_type": "code",
   "execution_count": 18,
   "id": "f5ea8aba",
   "metadata": {},
   "outputs": [
    {
     "name": "stdout",
     "output_type": "stream",
     "text": [
      "1.238709677419355\n",
      "0.9870967741935484\n"
     ]
    }
   ],
   "source": [
    "F_att = sumatoria_home / num_games\n",
    "F_def = sumatoria_away / num_games\n",
    "print(F_att)\n",
    "print(F_def)"
   ]
  },
  {
   "cell_type": "code",
   "execution_count": 19,
   "id": "f2ff8559",
   "metadata": {},
   "outputs": [
    {
     "data": {
      "text/plain": [
       "1.238709677419355"
      ]
     },
     "execution_count": 19,
     "metadata": {},
     "output_type": "execute_result"
    }
   ],
   "source": [
    "media_home = np.mean(df.home_score.astype(int))\n",
    "media_home"
   ]
  },
  {
   "cell_type": "code",
   "execution_count": 20,
   "id": "a729d586",
   "metadata": {},
   "outputs": [
    {
     "data": {
      "text/plain": [
       "0.9870967741935484"
      ]
     },
     "execution_count": 20,
     "metadata": {},
     "output_type": "execute_result"
    }
   ],
   "source": [
    "media_away = np.mean(df.away_score.astype(int))\n",
    "media_away"
   ]
  },
  {
   "cell_type": "code",
   "execution_count": 21,
   "id": "cbe488bc",
   "metadata": {},
   "outputs": [
    {
     "data": {
      "text/html": [
       "<div>\n",
       "<style scoped>\n",
       "    .dataframe tbody tr th:only-of-type {\n",
       "        vertical-align: middle;\n",
       "    }\n",
       "\n",
       "    .dataframe tbody tr th {\n",
       "        vertical-align: top;\n",
       "    }\n",
       "\n",
       "    .dataframe thead th {\n",
       "        text-align: right;\n",
       "    }\n",
       "</style>\n",
       "<table border=\"1\" class=\"dataframe\">\n",
       "  <thead>\n",
       "    <tr style=\"text-align: right;\">\n",
       "      <th></th>\n",
       "      <th>home</th>\n",
       "      <th>away</th>\n",
       "      <th>home_score</th>\n",
       "      <th>away_score</th>\n",
       "      <th>i_home</th>\n",
       "      <th>i_away</th>\n",
       "    </tr>\n",
       "  </thead>\n",
       "  <tbody>\n",
       "    <tr>\n",
       "      <th>111</th>\n",
       "      <td>SAN</td>\n",
       "      <td>ATL</td>\n",
       "      <td>1</td>\n",
       "      <td>1</td>\n",
       "      <td>13</td>\n",
       "      <td>1</td>\n",
       "    </tr>\n",
       "    <tr>\n",
       "      <th>112</th>\n",
       "      <td>SAN</td>\n",
       "      <td>ASL</td>\n",
       "      <td>0</td>\n",
       "      <td>0</td>\n",
       "      <td>13</td>\n",
       "      <td>2</td>\n",
       "    </tr>\n",
       "    <tr>\n",
       "      <th>113</th>\n",
       "      <td>SAN</td>\n",
       "      <td>CAZ</td>\n",
       "      <td>1</td>\n",
       "      <td>1</td>\n",
       "      <td>13</td>\n",
       "      <td>3</td>\n",
       "    </tr>\n",
       "    <tr>\n",
       "      <th>114</th>\n",
       "      <td>SAN</td>\n",
       "      <td>GUA</td>\n",
       "      <td>0</td>\n",
       "      <td>0</td>\n",
       "      <td>13</td>\n",
       "      <td>4</td>\n",
       "    </tr>\n",
       "    <tr>\n",
       "      <th>115</th>\n",
       "      <td>SAN</td>\n",
       "      <td>JUÁ</td>\n",
       "      <td>2</td>\n",
       "      <td>0</td>\n",
       "      <td>13</td>\n",
       "      <td>5</td>\n",
       "    </tr>\n",
       "    <tr>\n",
       "      <th>116</th>\n",
       "      <td>SAN</td>\n",
       "      <td>MAZ</td>\n",
       "      <td>1</td>\n",
       "      <td>0</td>\n",
       "      <td>13</td>\n",
       "      <td>7</td>\n",
       "    </tr>\n",
       "    <tr>\n",
       "      <th>117</th>\n",
       "      <td>SAN</td>\n",
       "      <td>MON</td>\n",
       "      <td>1</td>\n",
       "      <td>2</td>\n",
       "      <td>13</td>\n",
       "      <td>8</td>\n",
       "    </tr>\n",
       "    <tr>\n",
       "      <th>118</th>\n",
       "      <td>SAN</td>\n",
       "      <td>PUE</td>\n",
       "      <td>1</td>\n",
       "      <td>1</td>\n",
       "      <td>13</td>\n",
       "      <td>11</td>\n",
       "    </tr>\n",
       "    <tr>\n",
       "      <th>119</th>\n",
       "      <td>SAN</td>\n",
       "      <td>TOL</td>\n",
       "      <td>2</td>\n",
       "      <td>2</td>\n",
       "      <td>13</td>\n",
       "      <td>15</td>\n",
       "    </tr>\n",
       "  </tbody>\n",
       "</table>\n",
       "</div>"
      ],
      "text/plain": [
       "    home away home_score away_score  i_home  i_away\n",
       "111  SAN  ATL          1          1      13       1\n",
       "112  SAN  ASL          0          0      13       2\n",
       "113  SAN  CAZ          1          1      13       3\n",
       "114  SAN  GUA          0          0      13       4\n",
       "115  SAN  JUÁ          2          0      13       5\n",
       "116  SAN  MAZ          1          0      13       7\n",
       "117  SAN  MON          1          2      13       8\n",
       "118  SAN  PUE          1          1      13      11\n",
       "119  SAN  TOL          2          2      13      15"
      ]
     },
     "execution_count": 21,
     "metadata": {},
     "output_type": "execute_result"
    }
   ],
   "source": [
    "# Número de goles marcado como local por el equipo 'LEÓ' pos 6\n",
    "ht = df[df[\"home\"]=='SAN']\n",
    "ht"
   ]
  },
  {
   "cell_type": "code",
   "execution_count": 22,
   "id": "4ff1de54",
   "metadata": {},
   "outputs": [
    {
     "data": {
      "text/plain": [
       "1.0"
      ]
     },
     "execution_count": 22,
     "metadata": {},
     "output_type": "execute_result"
    }
   ],
   "source": [
    "media_ht = np.mean(ht.home_score.astype(int))\n",
    "media_ht"
   ]
  },
  {
   "cell_type": "code",
   "execution_count": 23,
   "id": "57374b36",
   "metadata": {},
   "outputs": [
    {
     "data": {
      "text/plain": [
       "0.8072916666666666"
      ]
     },
     "execution_count": 23,
     "metadata": {},
     "output_type": "execute_result"
    }
   ],
   "source": [
    "Fatt_ht = media_ht / media_home\n",
    "Fatt_ht"
   ]
  },
  {
   "cell_type": "code",
   "execution_count": 24,
   "id": "837daa37",
   "metadata": {},
   "outputs": [
    {
     "data": {
      "text/html": [
       "<div>\n",
       "<style scoped>\n",
       "    .dataframe tbody tr th:only-of-type {\n",
       "        vertical-align: middle;\n",
       "    }\n",
       "\n",
       "    .dataframe tbody tr th {\n",
       "        vertical-align: top;\n",
       "    }\n",
       "\n",
       "    .dataframe thead th {\n",
       "        text-align: right;\n",
       "    }\n",
       "</style>\n",
       "<table border=\"1\" class=\"dataframe\">\n",
       "  <thead>\n",
       "    <tr style=\"text-align: right;\">\n",
       "      <th></th>\n",
       "      <th>home</th>\n",
       "      <th>away</th>\n",
       "      <th>home_score</th>\n",
       "      <th>away_score</th>\n",
       "      <th>i_home</th>\n",
       "      <th>i_away</th>\n",
       "    </tr>\n",
       "  </thead>\n",
       "  <tbody>\n",
       "    <tr>\n",
       "      <th>12</th>\n",
       "      <td>ATL</td>\n",
       "      <td>LEÓ</td>\n",
       "      <td>2</td>\n",
       "      <td>0</td>\n",
       "      <td>1</td>\n",
       "      <td>6</td>\n",
       "    </tr>\n",
       "    <tr>\n",
       "      <th>27</th>\n",
       "      <td>CAZ</td>\n",
       "      <td>LEÓ</td>\n",
       "      <td>0</td>\n",
       "      <td>1</td>\n",
       "      <td>3</td>\n",
       "      <td>6</td>\n",
       "    </tr>\n",
       "    <tr>\n",
       "      <th>39</th>\n",
       "      <td>GUA</td>\n",
       "      <td>LEÓ</td>\n",
       "      <td>0</td>\n",
       "      <td>3</td>\n",
       "      <td>4</td>\n",
       "      <td>6</td>\n",
       "    </tr>\n",
       "    <tr>\n",
       "      <th>69</th>\n",
       "      <td>MON</td>\n",
       "      <td>LEÓ</td>\n",
       "      <td>0</td>\n",
       "      <td>1</td>\n",
       "      <td>8</td>\n",
       "      <td>6</td>\n",
       "    </tr>\n",
       "    <tr>\n",
       "      <th>88</th>\n",
       "      <td>PAC</td>\n",
       "      <td>LEÓ</td>\n",
       "      <td>4</td>\n",
       "      <td>0</td>\n",
       "      <td>10</td>\n",
       "      <td>6</td>\n",
       "    </tr>\n",
       "    <tr>\n",
       "      <th>96</th>\n",
       "      <td>PUE</td>\n",
       "      <td>LEÓ</td>\n",
       "      <td>0</td>\n",
       "      <td>1</td>\n",
       "      <td>11</td>\n",
       "      <td>6</td>\n",
       "    </tr>\n",
       "    <tr>\n",
       "      <th>105</th>\n",
       "      <td>QUE</td>\n",
       "      <td>LEÓ</td>\n",
       "      <td>0</td>\n",
       "      <td>1</td>\n",
       "      <td>12</td>\n",
       "      <td>6</td>\n",
       "    </tr>\n",
       "    <tr>\n",
       "      <th>131</th>\n",
       "      <td>TOL</td>\n",
       "      <td>LEÓ</td>\n",
       "      <td>0</td>\n",
       "      <td>0</td>\n",
       "      <td>15</td>\n",
       "      <td>6</td>\n",
       "    </tr>\n",
       "    <tr>\n",
       "      <th>140</th>\n",
       "      <td>UNL</td>\n",
       "      <td>LEÓ</td>\n",
       "      <td>2</td>\n",
       "      <td>2</td>\n",
       "      <td>16</td>\n",
       "      <td>6</td>\n",
       "    </tr>\n",
       "  </tbody>\n",
       "</table>\n",
       "</div>"
      ],
      "text/plain": [
       "    home away home_score away_score  i_home  i_away\n",
       "12   ATL  LEÓ          2          0       1       6\n",
       "27   CAZ  LEÓ          0          1       3       6\n",
       "39   GUA  LEÓ          0          3       4       6\n",
       "69   MON  LEÓ          0          1       8       6\n",
       "88   PAC  LEÓ          4          0      10       6\n",
       "96   PUE  LEÓ          0          1      11       6\n",
       "105  QUE  LEÓ          0          1      12       6\n",
       "131  TOL  LEÓ          0          0      15       6\n",
       "140  UNL  LEÓ          2          2      16       6"
      ]
     },
     "execution_count": 24,
     "metadata": {},
     "output_type": "execute_result"
    }
   ],
   "source": [
    "## Número de goles marcado como visitante por el equipo 'AMÉ' pos 0\n",
    "at = df[df[\"away\"]=='LEÓ']\n",
    "at"
   ]
  },
  {
   "cell_type": "code",
   "execution_count": 25,
   "id": "b98f4a1e",
   "metadata": {},
   "outputs": [
    {
     "data": {
      "text/plain": [
       "0.7777777777777778"
      ]
     },
     "execution_count": 25,
     "metadata": {},
     "output_type": "execute_result"
    }
   ],
   "source": [
    "media_at = np.mean(ht.away_score.astype(int))\n",
    "media_at"
   ]
  },
  {
   "cell_type": "code",
   "execution_count": 26,
   "id": "38f8e669",
   "metadata": {},
   "outputs": [
    {
     "data": {
      "text/plain": [
       "0.7879448075526507"
      ]
     },
     "execution_count": 26,
     "metadata": {},
     "output_type": "execute_result"
    }
   ],
   "source": [
    "Fdef_at = media_at / media_away\n",
    "Fdef_at"
   ]
  },
  {
   "cell_type": "code",
   "execution_count": 27,
   "id": "5563d69b",
   "metadata": {},
   "outputs": [
    {
     "data": {
      "text/plain": [
       "0.7879448075526507"
      ]
     },
     "execution_count": 27,
     "metadata": {},
     "output_type": "execute_result"
    }
   ],
   "source": [
    "# Número probable de goles que marque el León\n",
    "g_ht = Fatt_ht * Fdef_at * media_home\n",
    "g_ht"
   ]
  },
  {
   "cell_type": "code",
   "execution_count": 28,
   "id": "84c4707c",
   "metadata": {},
   "outputs": [
    {
     "data": {
      "text/plain": [
       "0.6278935185185185"
      ]
     },
     "execution_count": 28,
     "metadata": {},
     "output_type": "execute_result"
    }
   ],
   "source": [
    "# Pronostico de goles del América\n",
    "g_at = Fdef_at * Fatt_ht * media_away\n",
    "g_at"
   ]
  },
  {
   "cell_type": "code",
   "execution_count": 29,
   "id": "11df4275",
   "metadata": {},
   "outputs": [],
   "source": [
    "from scipy.stats import poisson"
   ]
  },
  {
   "cell_type": "code",
   "execution_count": 30,
   "id": "f5226551",
   "metadata": {},
   "outputs": [
    {
     "name": "stdout",
     "output_type": "stream",
     "text": [
      "SAN 0 goles 0.4547784928132986\n",
      "LEO 0 goles 0.5337148782283092\n",
      "SAN 1 goles 0.3583403519988591\n",
      "LEO 1 goles 0.33511611277645575\n",
      "SAN 2 goles 0.14117620984704507\n",
      "LEO 2 goles 0.10520861758172868\n",
      "SAN 3 goles 0.03707968716631418\n",
      "LEO 3 goles 0.02201993635728696\n",
      "SAN 4 goles 0.007304186742093477\n",
      "LEO 4 goles 0.00345654382923269\n"
     ]
    }
   ],
   "source": [
    "for i in range(5):\n",
    "    print(f'SAN {i} goles {poisson.pmf(k= i, mu=g_ht)}')\n",
    "    print(f'LEO {i} goles {poisson.pmf(k= i, mu=g_at)}')"
   ]
  },
  {
   "cell_type": "code",
   "execution_count": 31,
   "id": "fa271218",
   "metadata": {},
   "outputs": [
    {
     "name": "stdout",
     "output_type": "stream",
     "text": [
      "SAN 0 goles 0.4547784928132986\n",
      "LEO 0 goles 0.5337148782283092\n"
     ]
    }
   ],
   "source": [
    "print(f'SAN {0} goles {poisson.pmf(k= 0, mu=g_ht)}')\n",
    "print(f'LEO {0} goles {poisson.pmf(k= 0, mu=g_at)}')"
   ]
  },
  {
   "cell_type": "code",
   "execution_count": null,
   "id": "a06fbfd0",
   "metadata": {},
   "outputs": [],
   "source": []
  },
  {
   "cell_type": "code",
   "execution_count": null,
   "id": "0ee0cf51",
   "metadata": {},
   "outputs": [],
   "source": []
  }
 ],
 "metadata": {
  "kernelspec": {
   "display_name": "Python 3 (ipykernel)",
   "language": "python",
   "name": "python3"
  },
  "language_info": {
   "codemirror_mode": {
    "name": "ipython",
    "version": 3
   },
   "file_extension": ".py",
   "mimetype": "text/x-python",
   "name": "python",
   "nbconvert_exporter": "python",
   "pygments_lexer": "ipython3",
   "version": "3.9.12"
  }
 },
 "nbformat": 4,
 "nbformat_minor": 5
}
