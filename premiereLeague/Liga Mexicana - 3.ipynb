{
 "cells": [
  {
   "cell_type": "markdown",
   "id": "6d833916",
   "metadata": {},
   "source": [
    "### Construcción de un Dataset de la Liga Méxicana de Fútbol\n",
    "#### a partir de la información de Wikipedia\n",
    "https://en.wikipedia.org/wiki/2021–22_Liga_MX_season"
   ]
  },
  {
   "cell_type": "markdown",
   "id": "f834d51f",
   "metadata": {},
   "source": [
    "Instrucciones:\n",
    "1. De la página de wikipedia busque la tabla de resultados\n",
    "2. Copie y pegue en una Hoja de Cálculo de Google Drive\n",
    "3. Descargue en formato .CSV \n",
    "4. Renombre el archivo con las siguientes características FMF_T(A|C)_(año4-año2).csv.  Ejemplo: FMF_TA_2021-22.csv\n",
    "5. Copie el archivo en la carpeta /ligas/data (importante cree las carpetas antes de este paso)"
   ]
  },
  {
   "cell_type": "code",
   "execution_count": 2,
   "id": "25d391d2",
   "metadata": {},
   "outputs": [],
   "source": [
    "%matplotlib inline\n",
    "%config InlineBackend.figure_format = 'retina'"
   ]
  },
  {
   "cell_type": "code",
   "execution_count": 3,
   "id": "de900518",
   "metadata": {},
   "outputs": [],
   "source": [
    "import os\n",
    "import warnings\n",
    "warnings.filterwarnings('ignore')\n",
    "\n",
    "import numpy as np\n",
    "import pandas as pd\n",
    "import matplotlib.pyplot as plt"
   ]
  },
  {
   "cell_type": "code",
   "execution_count": 4,
   "id": "4671a436",
   "metadata": {},
   "outputs": [],
   "source": [
    "DATA_DIR = os.path.join(os.getcwd(), 'data/')\n",
    "CHART_DIR = os.path.join(os.getcwd(), 'charts/')"
   ]
  },
  {
   "cell_type": "code",
   "execution_count": 5,
   "id": "acf45a7f",
   "metadata": {},
   "outputs": [
    {
     "data": {
      "text/plain": [
       "'/Users/rubenrodriguez/Documents/anaconda/premiereLeague/data/'"
      ]
     },
     "execution_count": 5,
     "metadata": {},
     "output_type": "execute_result"
    }
   ],
   "source": [
    "DATA_DIR"
   ]
  },
  {
   "cell_type": "code",
   "execution_count": 9,
   "id": "d52eef41",
   "metadata": {},
   "outputs": [
    {
     "data": {
      "text/html": [
       "<div>\n",
       "<style scoped>\n",
       "    .dataframe tbody tr th:only-of-type {\n",
       "        vertical-align: middle;\n",
       "    }\n",
       "\n",
       "    .dataframe tbody tr th {\n",
       "        vertical-align: top;\n",
       "    }\n",
       "\n",
       "    .dataframe thead th {\n",
       "        text-align: right;\n",
       "    }\n",
       "</style>\n",
       "<table border=\"1\" class=\"dataframe\">\n",
       "  <thead>\n",
       "    <tr style=\"text-align: right;\">\n",
       "      <th></th>\n",
       "      <th>AMÉ</th>\n",
       "      <th>ATL</th>\n",
       "      <th>ASL</th>\n",
       "      <th>CAZ</th>\n",
       "      <th>GUA</th>\n",
       "      <th>JUÁ</th>\n",
       "      <th>LEÓ</th>\n",
       "      <th>MAZ</th>\n",
       "      <th>MON</th>\n",
       "      <th>NEC</th>\n",
       "      <th>PAC</th>\n",
       "      <th>PUE</th>\n",
       "      <th>QUE</th>\n",
       "      <th>SAN</th>\n",
       "      <th>TIJ</th>\n",
       "      <th>TOL</th>\n",
       "      <th>UNL</th>\n",
       "      <th>UNM</th>\n",
       "    </tr>\n",
       "    <tr>\n",
       "      <th>Home \\ Away</th>\n",
       "      <th></th>\n",
       "      <th></th>\n",
       "      <th></th>\n",
       "      <th></th>\n",
       "      <th></th>\n",
       "      <th></th>\n",
       "      <th></th>\n",
       "      <th></th>\n",
       "      <th></th>\n",
       "      <th></th>\n",
       "      <th></th>\n",
       "      <th></th>\n",
       "      <th></th>\n",
       "      <th></th>\n",
       "      <th></th>\n",
       "      <th></th>\n",
       "      <th></th>\n",
       "      <th></th>\n",
       "    </tr>\n",
       "  </thead>\n",
       "  <tbody>\n",
       "    <tr>\n",
       "      <th>América</th>\n",
       "      <td>—</td>\n",
       "      <td>0–2</td>\n",
       "      <td>2–3</td>\n",
       "      <td>0–0</td>\n",
       "      <td>0–0</td>\n",
       "      <td>3–0</td>\n",
       "      <td>2–0</td>\n",
       "      <td>2–0</td>\n",
       "      <td>0–0</td>\n",
       "      <td>2–1</td>\n",
       "      <td>1–3</td>\n",
       "      <td>2–0</td>\n",
       "      <td>1–1</td>\n",
       "      <td>2–1</td>\n",
       "      <td>2–0</td>\n",
       "      <td>3–0</td>\n",
       "      <td>1–0</td>\n",
       "      <td>2–0</td>\n",
       "    </tr>\n",
       "    <tr>\n",
       "      <th>Atlas</th>\n",
       "      <td>0–1</td>\n",
       "      <td>—</td>\n",
       "      <td>1–0</td>\n",
       "      <td>0–0</td>\n",
       "      <td>1–1</td>\n",
       "      <td>2–0</td>\n",
       "      <td>2–0</td>\n",
       "      <td>1–2</td>\n",
       "      <td>2–1</td>\n",
       "      <td>2–1</td>\n",
       "      <td>0–1</td>\n",
       "      <td>0–1</td>\n",
       "      <td>2–0</td>\n",
       "      <td>2–1</td>\n",
       "      <td>0–2</td>\n",
       "      <td>0–0</td>\n",
       "      <td>1–1</td>\n",
       "      <td>0–0</td>\n",
       "    </tr>\n",
       "    <tr>\n",
       "      <th>Atlético San Luis</th>\n",
       "      <td>0–1</td>\n",
       "      <td>2–6</td>\n",
       "      <td>—</td>\n",
       "      <td>0–0</td>\n",
       "      <td>2–2</td>\n",
       "      <td>0–1</td>\n",
       "      <td>2–0</td>\n",
       "      <td>1–0</td>\n",
       "      <td>1–1</td>\n",
       "      <td>0–2</td>\n",
       "      <td>0–2</td>\n",
       "      <td>2–1</td>\n",
       "      <td>1–1</td>\n",
       "      <td>1–3</td>\n",
       "      <td>4–1</td>\n",
       "      <td>0–1</td>\n",
       "      <td>0–3</td>\n",
       "      <td>2–0</td>\n",
       "    </tr>\n",
       "    <tr>\n",
       "      <th>Cruz Azul</th>\n",
       "      <td>2–1</td>\n",
       "      <td>1–0</td>\n",
       "      <td>0–1</td>\n",
       "      <td>—</td>\n",
       "      <td>0–1</td>\n",
       "      <td>1–0</td>\n",
       "      <td>0–1</td>\n",
       "      <td>0–2</td>\n",
       "      <td>1–1</td>\n",
       "      <td>1–2</td>\n",
       "      <td>1–1</td>\n",
       "      <td>1–3</td>\n",
       "      <td>2–0</td>\n",
       "      <td>1–2</td>\n",
       "      <td>2–0</td>\n",
       "      <td>4–0</td>\n",
       "      <td>1–1</td>\n",
       "      <td>2–1</td>\n",
       "    </tr>\n",
       "    <tr>\n",
       "      <th>Guadalajara</th>\n",
       "      <td>0–0</td>\n",
       "      <td>0–1</td>\n",
       "      <td>1–2</td>\n",
       "      <td>1–1</td>\n",
       "      <td>—</td>\n",
       "      <td>2–2</td>\n",
       "      <td>0–3</td>\n",
       "      <td>3–0</td>\n",
       "      <td>1–3</td>\n",
       "      <td>2–1</td>\n",
       "      <td>1–0</td>\n",
       "      <td>2–3</td>\n",
       "      <td>1–1</td>\n",
       "      <td>1–0</td>\n",
       "      <td>2–1</td>\n",
       "      <td>2–0</td>\n",
       "      <td>1–3</td>\n",
       "      <td>3–1</td>\n",
       "    </tr>\n",
       "  </tbody>\n",
       "</table>\n",
       "</div>"
      ],
      "text/plain": [
       "                   AMÉ  ATL  ASL  CAZ  GUA  JUÁ  LEÓ  MAZ  MON  NEC  PAC  PUE  \\\n",
       "Home \\ Away                                                                     \n",
       "América              —  0–2  2–3  0–0  0–0  3–0  2–0  2–0  0–0  2–1  1–3  2–0   \n",
       "Atlas              0–1    —  1–0  0–0  1–1  2–0  2–0  1–2  2–1  2–1  0–1  0–1   \n",
       "Atlético San Luis  0–1  2–6    —  0–0  2–2  0–1  2–0  1–0  1–1  0–2  0–2  2–1   \n",
       "Cruz Azul          2–1  1–0  0–1    —  0–1  1–0  0–1  0–2  1–1  1–2  1–1  1–3   \n",
       "Guadalajara        0–0  0–1  1–2  1–1    —  2–2  0–3  3–0  1–3  2–1  1–0  2–3   \n",
       "\n",
       "                   QUE  SAN  TIJ  TOL  UNL  UNM  \n",
       "Home \\ Away                                      \n",
       "América            1–1  2–1  2–0  3–0  1–0  2–0  \n",
       "Atlas              2–0  2–1  0–2  0–0  1–1  0–0  \n",
       "Atlético San Luis  1–1  1–3  4–1  0–1  0–3  2–0  \n",
       "Cruz Azul          2–0  1–2  2–0  4–0  1–1  2–1  \n",
       "Guadalajara        1–1  1–0  2–1  2–0  1–3  3–1  "
      ]
     },
     "execution_count": 9,
     "metadata": {},
     "output_type": "execute_result"
    }
   ],
   "source": [
    "#data_file = './data/FMF_TA_2021.csv'\n",
    "data_file = './data/lmf-ac-2021-22.csv'\n",
    "df = pd.read_csv(data_file, index_col=0)\n",
    "df.head()"
   ]
  },
  {
   "cell_type": "code",
   "execution_count": 10,
   "id": "3ecb59eb",
   "metadata": {},
   "outputs": [
    {
     "name": "stdout",
     "output_type": "stream",
     "text": [
      "Index(['AMÉ', 'ATL', 'ASL', 'CAZ', 'GUA', 'JUÁ', 'LEÓ', 'MAZ', 'MON', 'NEC',\n",
      "       'PAC', 'PUE', 'QUE', 'SAN', 'TIJ', 'TOL', 'UNL', 'UNM'],\n",
      "      dtype='object')\n"
     ]
    }
   ],
   "source": [
    "print(df.columns)"
   ]
  },
  {
   "cell_type": "code",
   "execution_count": 11,
   "id": "070820a2",
   "metadata": {},
   "outputs": [
    {
     "data": {
      "text/html": [
       "<div>\n",
       "<style scoped>\n",
       "    .dataframe tbody tr th:only-of-type {\n",
       "        vertical-align: middle;\n",
       "    }\n",
       "\n",
       "    .dataframe tbody tr th {\n",
       "        vertical-align: top;\n",
       "    }\n",
       "\n",
       "    .dataframe thead th {\n",
       "        text-align: right;\n",
       "    }\n",
       "</style>\n",
       "<table border=\"1\" class=\"dataframe\">\n",
       "  <thead>\n",
       "    <tr style=\"text-align: right;\">\n",
       "      <th></th>\n",
       "      <th>home</th>\n",
       "      <th>away</th>\n",
       "      <th>home_score</th>\n",
       "      <th>away_score</th>\n",
       "    </tr>\n",
       "  </thead>\n",
       "  <tbody>\n",
       "    <tr>\n",
       "      <th>0</th>\n",
       "      <td>AMÉ</td>\n",
       "      <td>ATL</td>\n",
       "      <td>0</td>\n",
       "      <td>2</td>\n",
       "    </tr>\n",
       "    <tr>\n",
       "      <th>1</th>\n",
       "      <td>AMÉ</td>\n",
       "      <td>ASL</td>\n",
       "      <td>2</td>\n",
       "      <td>3</td>\n",
       "    </tr>\n",
       "    <tr>\n",
       "      <th>2</th>\n",
       "      <td>AMÉ</td>\n",
       "      <td>CAZ</td>\n",
       "      <td>0</td>\n",
       "      <td>0</td>\n",
       "    </tr>\n",
       "    <tr>\n",
       "      <th>3</th>\n",
       "      <td>AMÉ</td>\n",
       "      <td>GUA</td>\n",
       "      <td>0</td>\n",
       "      <td>0</td>\n",
       "    </tr>\n",
       "    <tr>\n",
       "      <th>4</th>\n",
       "      <td>AMÉ</td>\n",
       "      <td>JUÁ</td>\n",
       "      <td>3</td>\n",
       "      <td>0</td>\n",
       "    </tr>\n",
       "  </tbody>\n",
       "</table>\n",
       "</div>"
      ],
      "text/plain": [
       "  home away home_score away_score\n",
       "0  AMÉ  ATL          0          2\n",
       "1  AMÉ  ASL          2          3\n",
       "2  AMÉ  CAZ          0          0\n",
       "3  AMÉ  GUA          0          0\n",
       "4  AMÉ  JUÁ          3          0"
      ]
     },
     "execution_count": 11,
     "metadata": {},
     "output_type": "execute_result"
    }
   ],
   "source": [
    "df.index = df.columns\n",
    "rows = []\n",
    "for i in df.index:\n",
    "    for c in df.columns:\n",
    "        if i == c: continue\n",
    "        score = df.loc[i, c]\n",
    "        if score == '—': continue\n",
    "        ssplit = score.split('–')\n",
    "        #print(ssplit[1])\n",
    "        rows.append([i, c, ssplit[0], ssplit[1]])\n",
    "df = pd.DataFrame(rows, columns = ['home', 'away', 'home_score', 'away_score'])\n",
    "df.head()"
   ]
  },
  {
   "cell_type": "code",
   "execution_count": 12,
   "id": "6113156d",
   "metadata": {},
   "outputs": [
    {
     "data": {
      "text/html": [
       "<div>\n",
       "<style scoped>\n",
       "    .dataframe tbody tr th:only-of-type {\n",
       "        vertical-align: middle;\n",
       "    }\n",
       "\n",
       "    .dataframe tbody tr th {\n",
       "        vertical-align: top;\n",
       "    }\n",
       "\n",
       "    .dataframe thead th {\n",
       "        text-align: right;\n",
       "    }\n",
       "</style>\n",
       "<table border=\"1\" class=\"dataframe\">\n",
       "  <thead>\n",
       "    <tr style=\"text-align: right;\">\n",
       "      <th></th>\n",
       "      <th>team</th>\n",
       "      <th>i</th>\n",
       "    </tr>\n",
       "  </thead>\n",
       "  <tbody>\n",
       "    <tr>\n",
       "      <th>0</th>\n",
       "      <td>AMÉ</td>\n",
       "      <td>0</td>\n",
       "    </tr>\n",
       "    <tr>\n",
       "      <th>1</th>\n",
       "      <td>ATL</td>\n",
       "      <td>1</td>\n",
       "    </tr>\n",
       "    <tr>\n",
       "      <th>2</th>\n",
       "      <td>ASL</td>\n",
       "      <td>2</td>\n",
       "    </tr>\n",
       "    <tr>\n",
       "      <th>3</th>\n",
       "      <td>CAZ</td>\n",
       "      <td>3</td>\n",
       "    </tr>\n",
       "    <tr>\n",
       "      <th>4</th>\n",
       "      <td>GUA</td>\n",
       "      <td>4</td>\n",
       "    </tr>\n",
       "  </tbody>\n",
       "</table>\n",
       "</div>"
      ],
      "text/plain": [
       "  team  i\n",
       "0  AMÉ  0\n",
       "1  ATL  1\n",
       "2  ASL  2\n",
       "3  CAZ  3\n",
       "4  GUA  4"
      ]
     },
     "execution_count": 12,
     "metadata": {},
     "output_type": "execute_result"
    }
   ],
   "source": [
    "teams = df.home.unique()\n",
    "teams = pd.DataFrame(teams, columns=['team'])\n",
    "teams['i'] = teams.index\n",
    "teams.head()"
   ]
  },
  {
   "cell_type": "code",
   "execution_count": 13,
   "id": "836e7eeb",
   "metadata": {},
   "outputs": [
    {
     "data": {
      "text/html": [
       "<div>\n",
       "<style scoped>\n",
       "    .dataframe tbody tr th:only-of-type {\n",
       "        vertical-align: middle;\n",
       "    }\n",
       "\n",
       "    .dataframe tbody tr th {\n",
       "        vertical-align: top;\n",
       "    }\n",
       "\n",
       "    .dataframe thead th {\n",
       "        text-align: right;\n",
       "    }\n",
       "</style>\n",
       "<table border=\"1\" class=\"dataframe\">\n",
       "  <thead>\n",
       "    <tr style=\"text-align: right;\">\n",
       "      <th></th>\n",
       "      <th>home</th>\n",
       "      <th>away</th>\n",
       "      <th>home_score</th>\n",
       "      <th>away_score</th>\n",
       "      <th>i_home</th>\n",
       "      <th>i_away</th>\n",
       "    </tr>\n",
       "  </thead>\n",
       "  <tbody>\n",
       "    <tr>\n",
       "      <th>0</th>\n",
       "      <td>AMÉ</td>\n",
       "      <td>ATL</td>\n",
       "      <td>0</td>\n",
       "      <td>2</td>\n",
       "      <td>0</td>\n",
       "      <td>1</td>\n",
       "    </tr>\n",
       "    <tr>\n",
       "      <th>1</th>\n",
       "      <td>AMÉ</td>\n",
       "      <td>ASL</td>\n",
       "      <td>2</td>\n",
       "      <td>3</td>\n",
       "      <td>0</td>\n",
       "      <td>2</td>\n",
       "    </tr>\n",
       "    <tr>\n",
       "      <th>2</th>\n",
       "      <td>AMÉ</td>\n",
       "      <td>CAZ</td>\n",
       "      <td>0</td>\n",
       "      <td>0</td>\n",
       "      <td>0</td>\n",
       "      <td>3</td>\n",
       "    </tr>\n",
       "    <tr>\n",
       "      <th>3</th>\n",
       "      <td>AMÉ</td>\n",
       "      <td>GUA</td>\n",
       "      <td>0</td>\n",
       "      <td>0</td>\n",
       "      <td>0</td>\n",
       "      <td>4</td>\n",
       "    </tr>\n",
       "    <tr>\n",
       "      <th>4</th>\n",
       "      <td>AMÉ</td>\n",
       "      <td>JUÁ</td>\n",
       "      <td>3</td>\n",
       "      <td>0</td>\n",
       "      <td>0</td>\n",
       "      <td>5</td>\n",
       "    </tr>\n",
       "  </tbody>\n",
       "</table>\n",
       "</div>"
      ],
      "text/plain": [
       "  home away home_score away_score  i_home  i_away\n",
       "0  AMÉ  ATL          0          2       0       1\n",
       "1  AMÉ  ASL          2          3       0       2\n",
       "2  AMÉ  CAZ          0          0       0       3\n",
       "3  AMÉ  GUA          0          0       0       4\n",
       "4  AMÉ  JUÁ          3          0       0       5"
      ]
     },
     "execution_count": 13,
     "metadata": {},
     "output_type": "execute_result"
    }
   ],
   "source": [
    "df = pd.merge(df, teams, left_on='home', right_on='team', how='left')\n",
    "df = df.rename(columns = {'i': 'i_home'}).drop('team', 1)\n",
    "df = pd.merge(df, teams, left_on='away', right_on='team', how='left')\n",
    "df = df.rename(columns = {'i': 'i_away'}).drop('team', 1)\n",
    "df.head()"
   ]
  },
  {
   "cell_type": "code",
   "execution_count": 14,
   "id": "88effcbe",
   "metadata": {},
   "outputs": [
    {
     "data": {
      "text/plain": [
       "home          AMÉ\n",
       "away          MAZ\n",
       "home_score      2\n",
       "away_score      0\n",
       "i_home          0\n",
       "i_away          7\n",
       "Name: 6, dtype: object"
      ]
     },
     "execution_count": 14,
     "metadata": {},
     "output_type": "execute_result"
    }
   ],
   "source": [
    "df.iloc[6]"
   ]
  },
  {
   "cell_type": "code",
   "execution_count": 15,
   "id": "bc2902f7",
   "metadata": {},
   "outputs": [],
   "source": [
    "observed_home_goals = df.home_score.values\n",
    "observed_away_goals = df.away_score.values\n",
    "home_team = df.i_home.values\n",
    "away_team = df.i_away.values\n",
    "num_teams = len(df.i_home.unique())\n",
    "num_games = len(home_team)"
   ]
  },
  {
   "cell_type": "code",
   "execution_count": 16,
   "id": "67a7c648",
   "metadata": {},
   "outputs": [],
   "source": [
    "g = df.groupby('i_away')\n",
    "att_starting_points = np.log(g.away_score.mean())\n",
    "g = df.groupby('i_home')\n",
    "def_starting_points = -np.log(g.away_score.mean())"
   ]
  },
  {
   "cell_type": "code",
   "execution_count": 17,
   "id": "d11453a7",
   "metadata": {},
   "outputs": [
    {
     "data": {
      "text/plain": [
       "array(['0', '2', '0', '0', '3', '2', '2', '0', '2', '1', '2', '1', '2',\n",
       "       '2', '3', '1', '2', '0', '1', '0', '1', '2', '2', '1', '2', '2',\n",
       "       '0', '0', '2', '2', '0', '0', '1', '0', '0', '2', '0', '2', '0',\n",
       "       '2', '1', '1', '0', '0', '2', '1', '1', '4', '0', '0', '2', '2',\n",
       "       '1', '0', '0', '1', '0', '0', '1', '1', '1', '1', '2', '1', '2',\n",
       "       '4', '1', '2', '0', '0', '1', '1', '2', '0', '3', '1', '2', '1',\n",
       "       '2', '1', '1', '2', '2', '1', '3', '1', '1', '1', '2', '1', '0',\n",
       "       '0', '3', '2', '1', '0', '0', '0', '1', '1', '2', '0', '1', '1',\n",
       "       '0', '0', '2', '0', '3', '0', '3', '2', '0', '1', '1', '2', '4',\n",
       "       '0', '1', '2', '1', '2', '1', '0', '3', '1', '1', '0', '2', '2',\n",
       "       '2', '1', '2', '1', '0', '2', '2', '0', '0', '2', '0', '3', '0',\n",
       "       '2', '0', '3', '1', '0', '1', '2', '2', '2', '2', '0', '0', '4',\n",
       "       '1', '0', '1', '0', '2', '0', '1', '0', '1', '0', '3', '0', '2',\n",
       "       '3', '1', '0', '0', '1', '2', '1', '4', '3', '3', '1', '1', '2',\n",
       "       '1', '0', '1', '2', '1', '1', '1', '2', '1', '0', '1', '0', '2',\n",
       "       '1', '0', '1', '1', '2', '3', '1', '1', '2', '0', '0', '2', '0',\n",
       "       '1', '4', '0', '2', '1', '3', '0', '0', '2', '1', '1', '0', '1',\n",
       "       '2', '1', '0', '1', '0', '2', '1', '1', '1', '1', '3', '1', '1',\n",
       "       '4', '2', '1', '3', '1', '2', '1', '0', '0', '1', '1', '0', '2',\n",
       "       '1', '3', '1', '2', '2', '0', '1', '1', '3', '2', '1', '1', '1',\n",
       "       '0', '0', '2', '2', '1', '0', '2', '1', '3', '1', '3', '2', '0',\n",
       "       '1', '2', '2', '2', '3', '2', '4', '2', '0', '3', '0', '3', '1',\n",
       "       '2', '3', '1', '0', '0', '1', '4', '0', '1', '2', '1', '2', '1',\n",
       "       '2', '2', '0', '0', '3', '5', '1'], dtype=object)"
      ]
     },
     "execution_count": 17,
     "metadata": {},
     "output_type": "execute_result"
    }
   ],
   "source": [
    "df.home_score.values"
   ]
  },
  {
   "cell_type": "markdown",
   "id": "4bea595c",
   "metadata": {},
   "source": [
    "https://www.pinnacle.com/es/betting-articles/Soccer/how-to-calculate-poisson-distribution/MD62MLXUMKMXZ6A8"
   ]
  },
  {
   "cell_type": "code",
   "execution_count": 18,
   "id": "13cb8c0a",
   "metadata": {},
   "outputs": [
    {
     "data": {
      "text/plain": [
       "389"
      ]
     },
     "execution_count": 18,
     "metadata": {},
     "output_type": "execute_result"
    }
   ],
   "source": [
    "sumatoria_home = np.sum(df.home_score.astype(int))\n",
    "sumatoria_home"
   ]
  },
  {
   "cell_type": "code",
   "execution_count": 19,
   "id": "5d53e0e6",
   "metadata": {},
   "outputs": [
    {
     "data": {
      "text/plain": [
       "332"
      ]
     },
     "execution_count": 19,
     "metadata": {},
     "output_type": "execute_result"
    }
   ],
   "source": [
    "sumatoria_away = np.sum(df.away_score.astype(int))\n",
    "sumatoria_away"
   ]
  },
  {
   "cell_type": "code",
   "execution_count": 20,
   "id": "64a5bacc",
   "metadata": {},
   "outputs": [
    {
     "data": {
      "text/plain": [
       "721"
      ]
     },
     "execution_count": 20,
     "metadata": {},
     "output_type": "execute_result"
    }
   ],
   "source": [
    "sumatoria_liga = sumatoria_home + sumatoria_away\n",
    "sumatoria_liga"
   ]
  },
  {
   "cell_type": "code",
   "execution_count": 21,
   "id": "f5ea8aba",
   "metadata": {},
   "outputs": [
    {
     "name": "stdout",
     "output_type": "stream",
     "text": [
      "1.2712418300653594\n",
      "1.0849673202614378\n"
     ]
    }
   ],
   "source": [
    "F_att = sumatoria_home / num_games\n",
    "F_def = sumatoria_away / num_games\n",
    "print(F_att)\n",
    "print(F_def)"
   ]
  },
  {
   "cell_type": "code",
   "execution_count": 22,
   "id": "f2ff8559",
   "metadata": {},
   "outputs": [
    {
     "data": {
      "text/plain": [
       "1.2712418300653594"
      ]
     },
     "execution_count": 22,
     "metadata": {},
     "output_type": "execute_result"
    }
   ],
   "source": [
    "media_home = np.mean(df.home_score.astype(int))\n",
    "media_home"
   ]
  },
  {
   "cell_type": "code",
   "execution_count": 23,
   "id": "a729d586",
   "metadata": {},
   "outputs": [
    {
     "data": {
      "text/plain": [
       "1.0849673202614378"
      ]
     },
     "execution_count": 23,
     "metadata": {},
     "output_type": "execute_result"
    }
   ],
   "source": [
    "media_away = np.mean(df.away_score.astype(int))\n",
    "media_away"
   ]
  },
  {
   "cell_type": "code",
   "execution_count": 56,
   "id": "cbe488bc",
   "metadata": {},
   "outputs": [
    {
     "data": {
      "text/html": [
       "<div>\n",
       "<style scoped>\n",
       "    .dataframe tbody tr th:only-of-type {\n",
       "        vertical-align: middle;\n",
       "    }\n",
       "\n",
       "    .dataframe tbody tr th {\n",
       "        vertical-align: top;\n",
       "    }\n",
       "\n",
       "    .dataframe thead th {\n",
       "        text-align: right;\n",
       "    }\n",
       "</style>\n",
       "<table border=\"1\" class=\"dataframe\">\n",
       "  <thead>\n",
       "    <tr style=\"text-align: right;\">\n",
       "      <th></th>\n",
       "      <th>home</th>\n",
       "      <th>away</th>\n",
       "      <th>home_score</th>\n",
       "      <th>away_score</th>\n",
       "      <th>i_home</th>\n",
       "      <th>i_away</th>\n",
       "    </tr>\n",
       "  </thead>\n",
       "  <tbody>\n",
       "    <tr>\n",
       "      <th>102</th>\n",
       "      <td>LEÓ</td>\n",
       "      <td>AMÉ</td>\n",
       "      <td>1</td>\n",
       "      <td>1</td>\n",
       "      <td>6</td>\n",
       "      <td>0</td>\n",
       "    </tr>\n",
       "    <tr>\n",
       "      <th>103</th>\n",
       "      <td>LEÓ</td>\n",
       "      <td>ATL</td>\n",
       "      <td>1</td>\n",
       "      <td>1</td>\n",
       "      <td>6</td>\n",
       "      <td>1</td>\n",
       "    </tr>\n",
       "    <tr>\n",
       "      <th>104</th>\n",
       "      <td>LEÓ</td>\n",
       "      <td>ASL</td>\n",
       "      <td>0</td>\n",
       "      <td>0</td>\n",
       "      <td>6</td>\n",
       "      <td>2</td>\n",
       "    </tr>\n",
       "    <tr>\n",
       "      <th>105</th>\n",
       "      <td>LEÓ</td>\n",
       "      <td>CAZ</td>\n",
       "      <td>0</td>\n",
       "      <td>1</td>\n",
       "      <td>6</td>\n",
       "      <td>3</td>\n",
       "    </tr>\n",
       "    <tr>\n",
       "      <th>106</th>\n",
       "      <td>LEÓ</td>\n",
       "      <td>GUA</td>\n",
       "      <td>2</td>\n",
       "      <td>1</td>\n",
       "      <td>6</td>\n",
       "      <td>4</td>\n",
       "    </tr>\n",
       "    <tr>\n",
       "      <th>107</th>\n",
       "      <td>LEÓ</td>\n",
       "      <td>JUÁ</td>\n",
       "      <td>0</td>\n",
       "      <td>1</td>\n",
       "      <td>6</td>\n",
       "      <td>5</td>\n",
       "    </tr>\n",
       "    <tr>\n",
       "      <th>108</th>\n",
       "      <td>LEÓ</td>\n",
       "      <td>MAZ</td>\n",
       "      <td>3</td>\n",
       "      <td>0</td>\n",
       "      <td>6</td>\n",
       "      <td>7</td>\n",
       "    </tr>\n",
       "    <tr>\n",
       "      <th>109</th>\n",
       "      <td>LEÓ</td>\n",
       "      <td>MON</td>\n",
       "      <td>0</td>\n",
       "      <td>0</td>\n",
       "      <td>6</td>\n",
       "      <td>8</td>\n",
       "    </tr>\n",
       "    <tr>\n",
       "      <th>110</th>\n",
       "      <td>LEÓ</td>\n",
       "      <td>NEC</td>\n",
       "      <td>3</td>\n",
       "      <td>0</td>\n",
       "      <td>6</td>\n",
       "      <td>9</td>\n",
       "    </tr>\n",
       "    <tr>\n",
       "      <th>111</th>\n",
       "      <td>LEÓ</td>\n",
       "      <td>PAC</td>\n",
       "      <td>2</td>\n",
       "      <td>1</td>\n",
       "      <td>6</td>\n",
       "      <td>10</td>\n",
       "    </tr>\n",
       "    <tr>\n",
       "      <th>112</th>\n",
       "      <td>LEÓ</td>\n",
       "      <td>PUE</td>\n",
       "      <td>0</td>\n",
       "      <td>1</td>\n",
       "      <td>6</td>\n",
       "      <td>11</td>\n",
       "    </tr>\n",
       "    <tr>\n",
       "      <th>113</th>\n",
       "      <td>LEÓ</td>\n",
       "      <td>QUE</td>\n",
       "      <td>1</td>\n",
       "      <td>1</td>\n",
       "      <td>6</td>\n",
       "      <td>12</td>\n",
       "    </tr>\n",
       "    <tr>\n",
       "      <th>114</th>\n",
       "      <td>LEÓ</td>\n",
       "      <td>SAN</td>\n",
       "      <td>1</td>\n",
       "      <td>1</td>\n",
       "      <td>6</td>\n",
       "      <td>13</td>\n",
       "    </tr>\n",
       "    <tr>\n",
       "      <th>115</th>\n",
       "      <td>LEÓ</td>\n",
       "      <td>TIJ</td>\n",
       "      <td>2</td>\n",
       "      <td>1</td>\n",
       "      <td>6</td>\n",
       "      <td>14</td>\n",
       "    </tr>\n",
       "    <tr>\n",
       "      <th>116</th>\n",
       "      <td>LEÓ</td>\n",
       "      <td>TOL</td>\n",
       "      <td>4</td>\n",
       "      <td>4</td>\n",
       "      <td>6</td>\n",
       "      <td>15</td>\n",
       "    </tr>\n",
       "    <tr>\n",
       "      <th>117</th>\n",
       "      <td>LEÓ</td>\n",
       "      <td>UNL</td>\n",
       "      <td>0</td>\n",
       "      <td>3</td>\n",
       "      <td>6</td>\n",
       "      <td>16</td>\n",
       "    </tr>\n",
       "    <tr>\n",
       "      <th>118</th>\n",
       "      <td>LEÓ</td>\n",
       "      <td>UNM</td>\n",
       "      <td>1</td>\n",
       "      <td>2</td>\n",
       "      <td>6</td>\n",
       "      <td>17</td>\n",
       "    </tr>\n",
       "  </tbody>\n",
       "</table>\n",
       "</div>"
      ],
      "text/plain": [
       "    home away home_score away_score  i_home  i_away\n",
       "102  LEÓ  AMÉ          1          1       6       0\n",
       "103  LEÓ  ATL          1          1       6       1\n",
       "104  LEÓ  ASL          0          0       6       2\n",
       "105  LEÓ  CAZ          0          1       6       3\n",
       "106  LEÓ  GUA          2          1       6       4\n",
       "107  LEÓ  JUÁ          0          1       6       5\n",
       "108  LEÓ  MAZ          3          0       6       7\n",
       "109  LEÓ  MON          0          0       6       8\n",
       "110  LEÓ  NEC          3          0       6       9\n",
       "111  LEÓ  PAC          2          1       6      10\n",
       "112  LEÓ  PUE          0          1       6      11\n",
       "113  LEÓ  QUE          1          1       6      12\n",
       "114  LEÓ  SAN          1          1       6      13\n",
       "115  LEÓ  TIJ          2          1       6      14\n",
       "116  LEÓ  TOL          4          4       6      15\n",
       "117  LEÓ  UNL          0          3       6      16\n",
       "118  LEÓ  UNM          1          2       6      17"
      ]
     },
     "execution_count": 56,
     "metadata": {},
     "output_type": "execute_result"
    }
   ],
   "source": [
    "# Número de goles marcado como local por el equipo\n",
    "ht = df[df[\"home\"]=='LEÓ']\n",
    "ht"
   ]
  },
  {
   "cell_type": "code",
   "execution_count": 57,
   "id": "4ff1de54",
   "metadata": {},
   "outputs": [
    {
     "data": {
      "text/plain": [
       "1.2352941176470589"
      ]
     },
     "execution_count": 57,
     "metadata": {},
     "output_type": "execute_result"
    }
   ],
   "source": [
    "media_ht = np.mean(ht.home_score.astype(int))\n",
    "media_ht"
   ]
  },
  {
   "cell_type": "code",
   "execution_count": 58,
   "id": "57374b36",
   "metadata": {},
   "outputs": [
    {
     "data": {
      "text/plain": [
       "0.9717223650385605"
      ]
     },
     "execution_count": 58,
     "metadata": {},
     "output_type": "execute_result"
    }
   ],
   "source": [
    "Fatt_ht = media_ht / media_home\n",
    "Fatt_ht"
   ]
  },
  {
   "cell_type": "code",
   "execution_count": 59,
   "id": "837daa37",
   "metadata": {},
   "outputs": [
    {
     "data": {
      "text/html": [
       "<div>\n",
       "<style scoped>\n",
       "    .dataframe tbody tr th:only-of-type {\n",
       "        vertical-align: middle;\n",
       "    }\n",
       "\n",
       "    .dataframe tbody tr th {\n",
       "        vertical-align: top;\n",
       "    }\n",
       "\n",
       "    .dataframe thead th {\n",
       "        text-align: right;\n",
       "    }\n",
       "</style>\n",
       "<table border=\"1\" class=\"dataframe\">\n",
       "  <thead>\n",
       "    <tr style=\"text-align: right;\">\n",
       "      <th></th>\n",
       "      <th>home</th>\n",
       "      <th>away</th>\n",
       "      <th>home_score</th>\n",
       "      <th>away_score</th>\n",
       "      <th>i_home</th>\n",
       "      <th>i_away</th>\n",
       "    </tr>\n",
       "  </thead>\n",
       "  <tbody>\n",
       "    <tr>\n",
       "      <th>0</th>\n",
       "      <td>AMÉ</td>\n",
       "      <td>ATL</td>\n",
       "      <td>0</td>\n",
       "      <td>2</td>\n",
       "      <td>0</td>\n",
       "      <td>1</td>\n",
       "    </tr>\n",
       "    <tr>\n",
       "      <th>35</th>\n",
       "      <td>ASL</td>\n",
       "      <td>ATL</td>\n",
       "      <td>2</td>\n",
       "      <td>6</td>\n",
       "      <td>2</td>\n",
       "      <td>1</td>\n",
       "    </tr>\n",
       "    <tr>\n",
       "      <th>52</th>\n",
       "      <td>CAZ</td>\n",
       "      <td>ATL</td>\n",
       "      <td>1</td>\n",
       "      <td>0</td>\n",
       "      <td>3</td>\n",
       "      <td>1</td>\n",
       "    </tr>\n",
       "    <tr>\n",
       "      <th>69</th>\n",
       "      <td>GUA</td>\n",
       "      <td>ATL</td>\n",
       "      <td>0</td>\n",
       "      <td>1</td>\n",
       "      <td>4</td>\n",
       "      <td>1</td>\n",
       "    </tr>\n",
       "    <tr>\n",
       "      <th>86</th>\n",
       "      <td>JUÁ</td>\n",
       "      <td>ATL</td>\n",
       "      <td>1</td>\n",
       "      <td>2</td>\n",
       "      <td>5</td>\n",
       "      <td>1</td>\n",
       "    </tr>\n",
       "    <tr>\n",
       "      <th>103</th>\n",
       "      <td>LEÓ</td>\n",
       "      <td>ATL</td>\n",
       "      <td>1</td>\n",
       "      <td>1</td>\n",
       "      <td>6</td>\n",
       "      <td>1</td>\n",
       "    </tr>\n",
       "    <tr>\n",
       "      <th>120</th>\n",
       "      <td>MAZ</td>\n",
       "      <td>ATL</td>\n",
       "      <td>1</td>\n",
       "      <td>0</td>\n",
       "      <td>7</td>\n",
       "      <td>1</td>\n",
       "    </tr>\n",
       "    <tr>\n",
       "      <th>137</th>\n",
       "      <td>MON</td>\n",
       "      <td>ATL</td>\n",
       "      <td>0</td>\n",
       "      <td>0</td>\n",
       "      <td>8</td>\n",
       "      <td>1</td>\n",
       "    </tr>\n",
       "    <tr>\n",
       "      <th>154</th>\n",
       "      <td>NEC</td>\n",
       "      <td>ATL</td>\n",
       "      <td>0</td>\n",
       "      <td>3</td>\n",
       "      <td>9</td>\n",
       "      <td>1</td>\n",
       "    </tr>\n",
       "    <tr>\n",
       "      <th>171</th>\n",
       "      <td>PAC</td>\n",
       "      <td>ATL</td>\n",
       "      <td>0</td>\n",
       "      <td>1</td>\n",
       "      <td>10</td>\n",
       "      <td>1</td>\n",
       "    </tr>\n",
       "    <tr>\n",
       "      <th>188</th>\n",
       "      <td>PUE</td>\n",
       "      <td>ATL</td>\n",
       "      <td>1</td>\n",
       "      <td>1</td>\n",
       "      <td>11</td>\n",
       "      <td>1</td>\n",
       "    </tr>\n",
       "    <tr>\n",
       "      <th>205</th>\n",
       "      <td>QUE</td>\n",
       "      <td>ATL</td>\n",
       "      <td>0</td>\n",
       "      <td>3</td>\n",
       "      <td>12</td>\n",
       "      <td>1</td>\n",
       "    </tr>\n",
       "    <tr>\n",
       "      <th>222</th>\n",
       "      <td>SAN</td>\n",
       "      <td>ATL</td>\n",
       "      <td>1</td>\n",
       "      <td>1</td>\n",
       "      <td>13</td>\n",
       "      <td>1</td>\n",
       "    </tr>\n",
       "    <tr>\n",
       "      <th>239</th>\n",
       "      <td>TIJ</td>\n",
       "      <td>ATL</td>\n",
       "      <td>2</td>\n",
       "      <td>0</td>\n",
       "      <td>14</td>\n",
       "      <td>1</td>\n",
       "    </tr>\n",
       "    <tr>\n",
       "      <th>256</th>\n",
       "      <td>TOL</td>\n",
       "      <td>ATL</td>\n",
       "      <td>2</td>\n",
       "      <td>4</td>\n",
       "      <td>15</td>\n",
       "      <td>1</td>\n",
       "    </tr>\n",
       "    <tr>\n",
       "      <th>273</th>\n",
       "      <td>UNL</td>\n",
       "      <td>ATL</td>\n",
       "      <td>1</td>\n",
       "      <td>1</td>\n",
       "      <td>16</td>\n",
       "      <td>1</td>\n",
       "    </tr>\n",
       "    <tr>\n",
       "      <th>290</th>\n",
       "      <td>UNM</td>\n",
       "      <td>ATL</td>\n",
       "      <td>0</td>\n",
       "      <td>0</td>\n",
       "      <td>17</td>\n",
       "      <td>1</td>\n",
       "    </tr>\n",
       "  </tbody>\n",
       "</table>\n",
       "</div>"
      ],
      "text/plain": [
       "    home away home_score away_score  i_home  i_away\n",
       "0    AMÉ  ATL          0          2       0       1\n",
       "35   ASL  ATL          2          6       2       1\n",
       "52   CAZ  ATL          1          0       3       1\n",
       "69   GUA  ATL          0          1       4       1\n",
       "86   JUÁ  ATL          1          2       5       1\n",
       "103  LEÓ  ATL          1          1       6       1\n",
       "120  MAZ  ATL          1          0       7       1\n",
       "137  MON  ATL          0          0       8       1\n",
       "154  NEC  ATL          0          3       9       1\n",
       "171  PAC  ATL          0          1      10       1\n",
       "188  PUE  ATL          1          1      11       1\n",
       "205  QUE  ATL          0          3      12       1\n",
       "222  SAN  ATL          1          1      13       1\n",
       "239  TIJ  ATL          2          0      14       1\n",
       "256  TOL  ATL          2          4      15       1\n",
       "273  UNL  ATL          1          1      16       1\n",
       "290  UNM  ATL          0          0      17       1"
      ]
     },
     "execution_count": 59,
     "metadata": {},
     "output_type": "execute_result"
    }
   ],
   "source": [
    "## Número de goles marcado como visitante por el equipo \n",
    "at = df[df[\"away\"]=='ATL']\n",
    "at"
   ]
  },
  {
   "cell_type": "code",
   "execution_count": 60,
   "id": "b98f4a1e",
   "metadata": {},
   "outputs": [
    {
     "data": {
      "text/plain": [
       "1.1176470588235294"
      ]
     },
     "execution_count": 60,
     "metadata": {},
     "output_type": "execute_result"
    }
   ],
   "source": [
    "media_at = np.mean(ht.away_score.astype(int))\n",
    "media_at"
   ]
  },
  {
   "cell_type": "code",
   "execution_count": 61,
   "id": "38f8e669",
   "metadata": {},
   "outputs": [
    {
     "data": {
      "text/plain": [
       "1.030120481927711"
      ]
     },
     "execution_count": 61,
     "metadata": {},
     "output_type": "execute_result"
    }
   ],
   "source": [
    "Fdef_at = media_at / media_away\n",
    "Fdef_at"
   ]
  },
  {
   "cell_type": "code",
   "execution_count": 62,
   "id": "5563d69b",
   "metadata": {},
   "outputs": [
    {
     "data": {
      "text/plain": [
       "1.272501771793055"
      ]
     },
     "execution_count": 62,
     "metadata": {},
     "output_type": "execute_result"
    }
   ],
   "source": [
    "# Número probable de goles que marque el León\n",
    "g_ht = Fatt_ht * Fdef_at * media_home\n",
    "g_ht"
   ]
  },
  {
   "cell_type": "code",
   "execution_count": 63,
   "id": "84c4707c",
   "metadata": {},
   "outputs": [
    {
     "data": {
      "text/plain": [
       "1.0860426432783912"
      ]
     },
     "execution_count": 63,
     "metadata": {},
     "output_type": "execute_result"
    }
   ],
   "source": [
    "# Pronostico de goles del América\n",
    "g_at = Fdef_at * Fatt_ht * media_away\n",
    "g_at"
   ]
  },
  {
   "cell_type": "code",
   "execution_count": 64,
   "id": "11df4275",
   "metadata": {},
   "outputs": [],
   "source": [
    "from scipy.stats import poisson"
   ]
  },
  {
   "cell_type": "code",
   "execution_count": 67,
   "id": "f5226551",
   "metadata": {},
   "outputs": [
    {
     "name": "stdout",
     "output_type": "stream",
     "text": [
      "LEO 0 goles 0.2801299232591842\n",
      "ATL 0 goles 0.33754965847243845\n",
      "LEO 1 goles 0.3564658236795644\n",
      "ATL 1 goles 0.3665933233251253\n",
      "LEO 2 goles 0.22680169610795822\n",
      "ATL 2 goles 0.1990679909361145\n",
      "LEO 3 goles 0.0962018533810156\n",
      "ATL 3 goles 0.07206544235612554\n",
      "LEO 4 goles 0.030604257219279507\n",
      "ATL 4 goles 0.019566535876368266\n",
      "LEO 5 goles 0.007788794307188716\n",
      "ATL 5 goles 0.0042500184685944934\n",
      "LEO 6 goles 0.0016518757593382148\n",
      "ATL 6 goles 0.0007692835486023905\n",
      "LEO 7 goles 0.00030028783293426805\n",
      "ATL 7 goles 0.00011935353407924586\n"
     ]
    }
   ],
   "source": [
    "for i in range(8):\n",
    "    print(f'LEO {i} goles {poisson.pmf(k= i, mu=g_ht)}')\n",
    "    print(f'ATL {i} goles {poisson.pmf(k= i, mu=g_at)}')"
   ]
  },
  {
   "cell_type": "code",
   "execution_count": 68,
   "id": "fa271218",
   "metadata": {},
   "outputs": [
    {
     "name": "stdout",
     "output_type": "stream",
     "text": [
      "LEO 0 goles 0.2801299232591842\n",
      "ATL 0 goles 0.33754965847243845\n"
     ]
    }
   ],
   "source": [
    "print(f'LEO {0} goles {poisson.pmf(k= 0, mu=g_ht)}')\n",
    "print(f'ATL {0} goles {poisson.pmf(k= 0, mu=g_at)}')"
   ]
  },
  {
   "cell_type": "code",
   "execution_count": null,
   "id": "a06fbfd0",
   "metadata": {},
   "outputs": [],
   "source": []
  },
  {
   "cell_type": "code",
   "execution_count": null,
   "id": "b161a119",
   "metadata": {},
   "outputs": [],
   "source": []
  }
 ],
 "metadata": {
  "kernelspec": {
   "display_name": "Python 3 (ipykernel)",
   "language": "python",
   "name": "python3"
  },
  "language_info": {
   "codemirror_mode": {
    "name": "ipython",
    "version": 3
   },
   "file_extension": ".py",
   "mimetype": "text/x-python",
   "name": "python",
   "nbconvert_exporter": "python",
   "pygments_lexer": "ipython3",
   "version": "3.9.12"
  }
 },
 "nbformat": 4,
 "nbformat_minor": 5
}
