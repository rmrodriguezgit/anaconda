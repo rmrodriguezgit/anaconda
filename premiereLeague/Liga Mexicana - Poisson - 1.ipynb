{
 "cells": [
  {
   "cell_type": "markdown",
   "id": "2299681f",
   "metadata": {},
   "source": [
    "### Poisson Ratings\n",
    "https://penaltyblog.readthedocs.io/en/latest/ratings/massey_ratings.html"
   ]
  },
  {
   "cell_type": "code",
   "execution_count": 3,
   "id": "8032d00a",
   "metadata": {},
   "outputs": [],
   "source": [
    "%matplotlib inline\n",
    "%config InlineBackend.figure_format = 'retina'"
   ]
  },
  {
   "cell_type": "code",
   "execution_count": 4,
   "id": "46c641e9",
   "metadata": {},
   "outputs": [],
   "source": [
    "import os\n",
    "import warnings\n",
    "warnings.filterwarnings('ignore')\n",
    "\n",
    "import numpy as np\n",
    "import pandas as pd\n",
    "import matplotlib.pyplot as plt\n",
    "import penaltyblog as pb"
   ]
  },
  {
   "cell_type": "code",
   "execution_count": 5,
   "id": "93d64c8c",
   "metadata": {},
   "outputs": [],
   "source": [
    "DATA_DIR = os.path.join(os.getcwd(), 'data/')\n",
    "CHART_DIR = os.path.join(os.getcwd(), 'charts/')"
   ]
  },
  {
   "cell_type": "code",
   "execution_count": 6,
   "id": "c8ce3297",
   "metadata": {},
   "outputs": [
    {
     "data": {
      "text/html": [
       "<div>\n",
       "<style scoped>\n",
       "    .dataframe tbody tr th:only-of-type {\n",
       "        vertical-align: middle;\n",
       "    }\n",
       "\n",
       "    .dataframe tbody tr th {\n",
       "        vertical-align: top;\n",
       "    }\n",
       "\n",
       "    .dataframe thead th {\n",
       "        text-align: right;\n",
       "    }\n",
       "</style>\n",
       "<table border=\"1\" class=\"dataframe\">\n",
       "  <thead>\n",
       "    <tr style=\"text-align: right;\">\n",
       "      <th></th>\n",
       "      <th>AMÉ</th>\n",
       "      <th>ATL</th>\n",
       "      <th>ASL</th>\n",
       "      <th>CAZ</th>\n",
       "      <th>GUA</th>\n",
       "      <th>JUÁ</th>\n",
       "      <th>LEÓ</th>\n",
       "      <th>MAZ</th>\n",
       "      <th>MON</th>\n",
       "      <th>NEC</th>\n",
       "      <th>PAC</th>\n",
       "      <th>PUE</th>\n",
       "      <th>QUE</th>\n",
       "      <th>SAN</th>\n",
       "      <th>TIJ</th>\n",
       "      <th>TOL</th>\n",
       "      <th>UNL</th>\n",
       "      <th>UNM</th>\n",
       "    </tr>\n",
       "    <tr>\n",
       "      <th>Home \\ Away</th>\n",
       "      <th></th>\n",
       "      <th></th>\n",
       "      <th></th>\n",
       "      <th></th>\n",
       "      <th></th>\n",
       "      <th></th>\n",
       "      <th></th>\n",
       "      <th></th>\n",
       "      <th></th>\n",
       "      <th></th>\n",
       "      <th></th>\n",
       "      <th></th>\n",
       "      <th></th>\n",
       "      <th></th>\n",
       "      <th></th>\n",
       "      <th></th>\n",
       "      <th></th>\n",
       "      <th></th>\n",
       "    </tr>\n",
       "  </thead>\n",
       "  <tbody>\n",
       "    <tr>\n",
       "      <th>América</th>\n",
       "      <td>-</td>\n",
       "      <td>0-0</td>\n",
       "      <td>3-0</td>\n",
       "      <td>7-0</td>\n",
       "      <td>2-1</td>\n",
       "      <td>2-1</td>\n",
       "      <td>-</td>\n",
       "      <td>-</td>\n",
       "      <td>-</td>\n",
       "      <td>-</td>\n",
       "      <td>-</td>\n",
       "      <td>-</td>\n",
       "      <td>-</td>\n",
       "      <td>3-3</td>\n",
       "      <td>-</td>\n",
       "      <td>1-0</td>\n",
       "      <td>2-1</td>\n",
       "      <td>-</td>\n",
       "    </tr>\n",
       "    <tr>\n",
       "      <th>Atlas</th>\n",
       "      <td>-</td>\n",
       "      <td>-</td>\n",
       "      <td>1-3</td>\n",
       "      <td>3-2</td>\n",
       "      <td>-</td>\n",
       "      <td>0-1</td>\n",
       "      <td>-</td>\n",
       "      <td>-</td>\n",
       "      <td>-</td>\n",
       "      <td>1-0</td>\n",
       "      <td>-</td>\n",
       "      <td>1-1</td>\n",
       "      <td>3-1</td>\n",
       "      <td>-</td>\n",
       "      <td>1-2</td>\n",
       "      <td>1-0</td>\n",
       "      <td>-</td>\n",
       "      <td>0-0</td>\n",
       "    </tr>\n",
       "    <tr>\n",
       "      <th>Atlético San Luis</th>\n",
       "      <td>-</td>\n",
       "      <td>-</td>\n",
       "      <td>-</td>\n",
       "      <td>0-0</td>\n",
       "      <td>-</td>\n",
       "      <td>-</td>\n",
       "      <td>1-2</td>\n",
       "      <td>-</td>\n",
       "      <td>0-1</td>\n",
       "      <td>1-2</td>\n",
       "      <td>1-2</td>\n",
       "      <td>-</td>\n",
       "      <td>-</td>\n",
       "      <td>-</td>\n",
       "      <td>0-0</td>\n",
       "      <td>-</td>\n",
       "      <td>0-3</td>\n",
       "      <td>3-2</td>\n",
       "    </tr>\n",
       "    <tr>\n",
       "      <th>Cruz Azul</th>\n",
       "      <td>-</td>\n",
       "      <td>-</td>\n",
       "      <td>-</td>\n",
       "      <td>-</td>\n",
       "      <td>2-1</td>\n",
       "      <td>-</td>\n",
       "      <td>2-1</td>\n",
       "      <td>2-0</td>\n",
       "      <td>-</td>\n",
       "      <td>1-0</td>\n",
       "      <td>1-2</td>\n",
       "      <td>2-2</td>\n",
       "      <td>2-1</td>\n",
       "      <td>-</td>\n",
       "      <td>1-2</td>\n",
       "      <td>2-3</td>\n",
       "      <td>-</td>\n",
       "      <td>-</td>\n",
       "    </tr>\n",
       "    <tr>\n",
       "      <th>Guadalajara</th>\n",
       "      <td>-</td>\n",
       "      <td>1-1</td>\n",
       "      <td>0-1</td>\n",
       "      <td>-</td>\n",
       "      <td>-</td>\n",
       "      <td>0-0</td>\n",
       "      <td>0-0</td>\n",
       "      <td>-</td>\n",
       "      <td>1-0</td>\n",
       "      <td>-</td>\n",
       "      <td>0-0</td>\n",
       "      <td>1-0</td>\n",
       "      <td>-</td>\n",
       "      <td>-</td>\n",
       "      <td>-</td>\n",
       "      <td>-</td>\n",
       "      <td>1-4</td>\n",
       "      <td>3-1</td>\n",
       "    </tr>\n",
       "  </tbody>\n",
       "</table>\n",
       "</div>"
      ],
      "text/plain": [
       "                  AMÉ  ATL  ASL  CAZ  GUA  JUÁ  LEÓ  MAZ  MON  NEC  PAC  PUE  \\\n",
       "Home \\ Away                                                                    \n",
       "América             -  0-0  3-0  7-0  2-1  2-1    -    -    -    -    -    -   \n",
       "Atlas               -    -  1-3  3-2    -  0-1    -    -    -  1-0    -  1-1   \n",
       "Atlético San Luis   -    -    -  0-0    -    -  1-2    -  0-1  1-2  1-2    -   \n",
       "Cruz Azul           -    -    -    -  2-1    -  2-1  2-0    -  1-0  1-2  2-2   \n",
       "Guadalajara         -  1-1  0-1    -    -  0-0  0-0    -  1-0    -  0-0  1-0   \n",
       "\n",
       "                   QUE  SAN  TIJ  TOL  UNL  UNM  \n",
       "Home \\ Away                                      \n",
       "América              -  3-3    -  1-0  2-1    -  \n",
       "Atlas              3-1    -  1-2  1-0    -  0-0  \n",
       "Atlético San Luis    -    -  0-0    -  0-3  3-2  \n",
       "Cruz Azul          2-1    -  1-2  2-3    -    -  \n",
       "Guadalajara          -    -    -    -  1-4  3-1  "
      ]
     },
     "execution_count": 6,
     "metadata": {},
     "output_type": "execute_result"
    }
   ],
   "source": [
    "#data_file = './data/FMF_TA_2021.csv'\n",
    "data_file = './data/FMF_TA_2022.csv'\n",
    "df = pd.read_csv(data_file, index_col=0)\n",
    "df.head()"
   ]
  },
  {
   "cell_type": "code",
   "execution_count": 7,
   "id": "08f0cdca",
   "metadata": {},
   "outputs": [
    {
     "data": {
      "text/html": [
       "<div>\n",
       "<style scoped>\n",
       "    .dataframe tbody tr th:only-of-type {\n",
       "        vertical-align: middle;\n",
       "    }\n",
       "\n",
       "    .dataframe tbody tr th {\n",
       "        vertical-align: top;\n",
       "    }\n",
       "\n",
       "    .dataframe thead th {\n",
       "        text-align: right;\n",
       "    }\n",
       "</style>\n",
       "<table border=\"1\" class=\"dataframe\">\n",
       "  <thead>\n",
       "    <tr style=\"text-align: right;\">\n",
       "      <th></th>\n",
       "      <th>HomeTeam</th>\n",
       "      <th>AwayTeam</th>\n",
       "      <th>FTHG</th>\n",
       "      <th>FTAG</th>\n",
       "    </tr>\n",
       "  </thead>\n",
       "  <tbody>\n",
       "    <tr>\n",
       "      <th>0</th>\n",
       "      <td>AMÉ</td>\n",
       "      <td>ATL</td>\n",
       "      <td>0</td>\n",
       "      <td>0</td>\n",
       "    </tr>\n",
       "    <tr>\n",
       "      <th>1</th>\n",
       "      <td>AMÉ</td>\n",
       "      <td>ASL</td>\n",
       "      <td>3</td>\n",
       "      <td>0</td>\n",
       "    </tr>\n",
       "    <tr>\n",
       "      <th>2</th>\n",
       "      <td>AMÉ</td>\n",
       "      <td>CAZ</td>\n",
       "      <td>7</td>\n",
       "      <td>0</td>\n",
       "    </tr>\n",
       "    <tr>\n",
       "      <th>3</th>\n",
       "      <td>AMÉ</td>\n",
       "      <td>GUA</td>\n",
       "      <td>2</td>\n",
       "      <td>1</td>\n",
       "    </tr>\n",
       "    <tr>\n",
       "      <th>4</th>\n",
       "      <td>AMÉ</td>\n",
       "      <td>JUÁ</td>\n",
       "      <td>2</td>\n",
       "      <td>1</td>\n",
       "    </tr>\n",
       "  </tbody>\n",
       "</table>\n",
       "</div>"
      ],
      "text/plain": [
       "  HomeTeam AwayTeam  FTHG  FTAG\n",
       "0      AMÉ      ATL     0     0\n",
       "1      AMÉ      ASL     3     0\n",
       "2      AMÉ      CAZ     7     0\n",
       "3      AMÉ      GUA     2     1\n",
       "4      AMÉ      JUÁ     2     1"
      ]
     },
     "execution_count": 7,
     "metadata": {},
     "output_type": "execute_result"
    }
   ],
   "source": [
    "df.index = df.columns\n",
    "rows = []\n",
    "for i in df.index:\n",
    "    for c in df.columns:\n",
    "        if i == c: continue\n",
    "        #print(i,c)\n",
    "        score = df.loc[i, c]\n",
    "        #print(score)\n",
    "        if score == '-': continue\n",
    "        ssplit = score.split('-')\n",
    "        #print(ssplit[0],ssplit[1])\n",
    "        rows.append([i, c, int(ssplit[0]), int(ssplit[1])])\n",
    "        #rows.append([i, c, ssplit[0], ssplit[1]])\n",
    "df = pd.DataFrame(rows, columns = ['HomeTeam', 'AwayTeam','FTHG',\n",
    "                                   'FTAG'])\n",
    "df.head()"
   ]
  },
  {
   "cell_type": "code",
   "execution_count": 8,
   "id": "86c8e00f",
   "metadata": {},
   "outputs": [],
   "source": [
    "df.home_score = df['FTHG'].astype('int')\n",
    "df.away_score = df['FTAG'].astype('int')"
   ]
  },
  {
   "cell_type": "code",
   "execution_count": 9,
   "id": "f5156114",
   "metadata": {},
   "outputs": [
    {
     "data": {
      "text/plain": [
       "HomeTeam    object\n",
       "AwayTeam    object\n",
       "FTHG         int64\n",
       "FTAG         int64\n",
       "dtype: object"
      ]
     },
     "execution_count": 9,
     "metadata": {},
     "output_type": "execute_result"
    }
   ],
   "source": [
    "df.dtypes"
   ]
  },
  {
   "cell_type": "code",
   "execution_count": 10,
   "id": "05df29cd",
   "metadata": {},
   "outputs": [
    {
     "data": {
      "text/plain": [
       "FTHG    1.522876\n",
       "FTAG    1.222222\n",
       "dtype: float64"
      ]
     },
     "execution_count": 10,
     "metadata": {},
     "output_type": "execute_result"
    }
   ],
   "source": [
    "df[[\"FTHG\", \"FTAG\"]].mean()"
   ]
  },
  {
   "cell_type": "code",
   "execution_count": 11,
   "id": "0bf1ad4e",
   "metadata": {},
   "outputs": [
    {
     "data": {
      "text/plain": [
       "Text(0.5, 1.0, 'Number of Goals Scored Per Match')"
      ]
     },
     "execution_count": 11,
     "metadata": {},
     "output_type": "execute_result"
    },
    {
     "data": {
      "image/png": "[encoded data removed]",
      "text/plain": [
       "<Figure size 432x288 with 1 Axes>"
      ]
     },
     "metadata": {
      "image/png": {
       "height": 282,
       "width": 395
      }
     },
     "output_type": "display_data"
    }
   ],
   "source": [
    "import matplotlib.pyplot as plt\n",
    "import seaborn as sns\n",
    "\n",
    "sns.set()\n",
    "\n",
    "max_goals = 10\n",
    "plt.hist(\n",
    "    df[[\"FTHG\", \"FTAG\"]].values, range(max_goals), \n",
    "                 label=[\"Home\", \"Away\"], density=True\n",
    ")\n",
    "plt.xticks([i - 0.5 for i in range(max_goals)], \n",
    "            [i for i in range(max_goals)])\n",
    "plt.xlabel(\"Goals\")\n",
    "plt.ylabel(\"Proportion of matches\")\n",
    "plt.legend(loc=\"upper right\", fontsize=13)\n",
    "plt.title(\"Number of Goals Scored Per Match\", size=14, \n",
    "          fontweight=\"bold\")"
   ]
  },
  {
   "cell_type": "code",
   "execution_count": 12,
   "id": "2961fb6d",
   "metadata": {},
   "outputs": [
    {
     "data": {
      "text/plain": [
       "Text(0.5, 1.0, 'Number of Goals Scored Per Match')"
      ]
     },
     "execution_count": 12,
     "metadata": {},
     "output_type": "execute_result"
    },
    {
     "data": {
      "image/png": "[encoded data removed]",
      "text/plain": [
       "<Figure size 432x288 with 1 Axes>"
      ]
     },
     "metadata": {
      "image/png": {
       "height": 282,
       "width": 395
      }
     },
     "output_type": "display_data"
    }
   ],
   "source": [
    "import numpy as np\n",
    "from scipy.stats import poisson\n",
    "\n",
    "home_poisson = poisson.pmf(range(10), df[\"FTHG\"].mean())\n",
    "away_poisson = poisson.pmf(range(10), df[\"FTAG\"].mean())\n",
    "\n",
    "max_goals = 10\n",
    "plt.hist(\n",
    "    df[[\"FTHG\", \"FTAG\"]].values, range(max_goals), \n",
    "               label=[\"Home\", \"Away\"], density=True\n",
    ")\n",
    "\n",
    "plt.plot(\n",
    "    [i - 0.5 for i in range(1, max_goals + 1)],\n",
    "    home_poisson,\n",
    "    linestyle=\"-\",\n",
    "    marker=\"o\",\n",
    "    label=\"Home Poisson\",\n",
    ")\n",
    "\n",
    "plt.plot(\n",
    "    [i - 0.5 for i in range(1, max_goals + 1)],\n",
    "    away_poisson,\n",
    "    linestyle=\"-\",\n",
    "    marker=\"o\",\n",
    "    label=\"Away Poisson\",\n",
    ")\n",
    "\n",
    "\n",
    "plt.xticks([i - 0.5 for i in range(1, max_goals + 1)], \n",
    "           [i for i in range(max_goals)])\n",
    "plt.xlabel(\"Goals\")\n",
    "plt.ylabel(\"Proportion of matches\")\n",
    "plt.legend(loc=\"upper right\", fontsize=13)\n",
    "plt.title(\"Number of Goals Scored Per Match\", size=14, fontweight=\"bold\")"
   ]
  },
  {
   "cell_type": "code",
   "execution_count": 13,
   "id": "37e90fc8",
   "metadata": {},
   "outputs": [],
   "source": [
    "def log_likelihood(\n",
    "    goals_home_observed,\n",
    "    goals_away_observed,\n",
    "    home_attack,\n",
    "    home_defence,\n",
    "    away_attack,\n",
    "    away_defence,\n",
    "    home_advantage,\n",
    "):\n",
    "    goal_expectation_home = np.exp(home_attack + \n",
    "                                   away_defence + home_advantage)\n",
    "    goal_expectation_away = np.exp(away_attack + home_defence)\n",
    "\n",
    "    if goal_expectation_home < 0 or goal_expectation_away < 0:\n",
    "        return 10000    \n",
    "\n",
    "    home_llk = poisson.pmf(goals_home_observed, goal_expectation_home)\n",
    "    away_llk = poisson.pmf(goals_away_observed, goal_expectation_away)\n",
    "\n",
    "    log_llk = np.log(home_llk) + np.log(away_llk)\n",
    "\n",
    "    return -log_llk"
   ]
  },
  {
   "cell_type": "code",
   "execution_count": 14,
   "id": "13de9767",
   "metadata": {},
   "outputs": [],
   "source": [
    "from scipy.optimize import minimize\n",
    "\n",
    "\n",
    "def fit_poisson_model():\n",
    "    teams = np.sort(np.unique(np.concatenate([df[\"HomeTeam\"], \n",
    "                                              df[\"AwayTeam\"]])))\n",
    "    n_teams = len(teams)\n",
    "\n",
    "    params = np.concatenate(\n",
    "        (\n",
    "            np.random.uniform(0.5, 1.5, (n_teams)),  # attack strength\n",
    "            np.random.uniform(0, -1, (n_teams)),  # defence strength\n",
    "            [0.25],  # home advantage\n",
    "        )\n",
    "    )\n",
    "\n",
    "    def _fit(params, df, teams):\n",
    "        attack_params = dict(zip(teams, params[:n_teams]))\n",
    "        defence_params = dict(zip(teams, params[n_teams : \n",
    "                                                (2 * n_teams)]))\n",
    "        home_advantage = params[-1]\n",
    "\n",
    "        llk = list()\n",
    "        for idx, row in df.iterrows():\n",
    "            tmp = log_likelihood(\n",
    "                row[\"FTHG\"],\n",
    "                row[\"FTAG\"],\n",
    "                attack_params[row[\"HomeTeam\"]],\n",
    "                defence_params[row[\"HomeTeam\"]],\n",
    "                attack_params[row[\"AwayTeam\"]],\n",
    "                defence_params[row[\"AwayTeam\"]],\n",
    "                home_advantage,\n",
    "            )\n",
    "            llk.append(tmp)\n",
    "\n",
    "        return np.sum(llk)\n",
    "\n",
    "    options = {\n",
    "        \"maxiter\": 100,\n",
    "        \"disp\": False,\n",
    "    }\n",
    "\n",
    "    constraints = [{\"type\": \"eq\", \"fun\": lambda x: \n",
    "                    sum(x[:n_teams]) - n_teams}]\n",
    "\n",
    "    res = minimize(\n",
    "        _fit,\n",
    "        params,\n",
    "        args=(df, teams),\n",
    "        constraints=constraints,\n",
    "        options=options,\n",
    "    )\n",
    "\n",
    "    model_params = dict(\n",
    "        zip(\n",
    "            [\"attack_\" + team for team in teams]\n",
    "            + [\"defence_\" + team for team in teams]\n",
    "            + [\"home_adv\"],\n",
    "            res[\"x\"],\n",
    "        )\n",
    "    )\n",
    "\n",
    "    return model_params\n",
    "\n",
    "model_params = fit_poisson_model()"
   ]
  },
  {
   "cell_type": "code",
   "execution_count": 15,
   "id": "db08fee1",
   "metadata": {},
   "outputs": [
    {
     "name": "stdout",
     "output_type": "stream",
     "text": [
      "{'attack_AMÉ': 1.5294918241593352,\n",
      " 'attack_ASL': 0.5932424455688271,\n",
      " 'attack_ATL': 0.6530839071816966,\n",
      " 'attack_CAZ': 1.1644094460952015,\n",
      " 'attack_GUA': 0.8266968415633936,\n",
      " 'attack_JUÁ': 0.6484643060785147,\n",
      " 'attack_LEÓ': 1.1321085295659892,\n",
      " 'attack_MAZ': 0.7187321234427395,\n",
      " 'attack_MON': 1.2482048693030112,\n",
      " 'attack_NEC': 0.8675656480264295,\n",
      " 'attack_PAC': 1.2227351067161583,\n",
      " 'attack_PUE': 1.0889989929523922,\n",
      " 'attack_QUE': 0.824716791763803,\n",
      " 'attack_SAN': 1.5214832893906738,\n",
      " 'attack_TIJ': 0.7928100028541921,\n",
      " 'attack_TOL': 1.1820122623922444,\n",
      " 'attack_UNL': 1.0380965939827813,\n",
      " 'attack_UNM': 0.947147018962617,\n",
      " 'defence_AMÉ': -1.1249313946283128,\n",
      " 'defence_ASL': -0.8050465962562036,\n",
      " 'defence_ATL': -0.7918144230587428,\n",
      " 'defence_CAZ': -0.4549899275428127,\n",
      " 'defence_GUA': -1.1690525357588843,\n",
      " 'defence_JUÁ': -1.0648001263801727,\n",
      " 'defence_LEÓ': -0.6802037574173362,\n",
      " 'defence_MAZ': -0.8290947886144787,\n",
      " 'defence_MON': -1.4091617387072273,\n",
      " 'defence_NEC': -0.7414885979660509,\n",
      " 'defence_PAC': -1.2876953615565925,\n",
      " 'defence_PUE': -0.831428743319538,\n",
      " 'defence_QUE': -0.44548536874698136,\n",
      " 'defence_SAN': -0.9128057311924977,\n",
      " 'defence_TIJ': -0.6230202543400806,\n",
      " 'defence_TOL': -0.8388757555050342,\n",
      " 'defence_UNL': -1.3557323689014191,\n",
      " 'defence_UNM': -0.5447569766352431,\n",
      " 'home_adv': 0.22289685281072197}\n"
     ]
    }
   ],
   "source": [
    "from pprint import pprint\n",
    "\n",
    "pprint(model_params)"
   ]
  },
  {
   "cell_type": "code",
   "execution_count": 16,
   "id": "5804fd1a",
   "metadata": {},
   "outputs": [],
   "source": [
    "def predict(home_team, away_team, params, max_goals=10):\n",
    "    home_attack = params[\"attack_\" + home_team]\n",
    "    home_defence = params[\"defence_\" + home_team]\n",
    "    away_attack = params[\"attack_\" + away_team]\n",
    "    away_defence = params[\"defence_\" + away_team]\n",
    "    home_advantage = params[\"home_adv\"]\n",
    "\n",
    "    home_goal_expectation = np.exp(home_attack + away_defence \n",
    "                                   + home_advantage)\n",
    "    away_goal_expectation = np.exp(away_attack + home_defence)\n",
    "\n",
    "    home_probs = poisson.pmf(list(range(max_goals + 1)), \n",
    "                             home_goal_expectation)\n",
    "    away_probs = poisson.pmf(range(max_goals + 1), \n",
    "                             away_goal_expectation)\n",
    "\n",
    "    probability_matrix = np.outer(home_probs, away_probs)\n",
    "\n",
    "    return probability_matrix"
   ]
  },
  {
   "cell_type": "code",
   "execution_count": 29,
   "id": "c39b95bf",
   "metadata": {},
   "outputs": [],
   "source": [
    "EL = 'PAC'\n",
    "EV = 'MON'"
   ]
  },
  {
   "cell_type": "code",
   "execution_count": 30,
   "id": "49da3b79",
   "metadata": {},
   "outputs": [
    {
     "name": "stdout",
     "output_type": "stream",
     "text": [
      "array([[0.13554894, 0.13030036, 0.06262751, 0.0200675 , 0.00482262],\n",
      "       [0.14058369, 0.13514016, 0.06495371, 0.02081288, 0.00500175],\n",
      "       [0.07290273, 0.07007987, 0.03368316, 0.01079297, 0.00259376],\n",
      "       [0.02520353, 0.02422762, 0.01164475, 0.00373129, 0.0008967 ],\n",
      "       [0.00653492, 0.00628188, 0.00301932, 0.00096747, 0.0002325 ]])\n"
     ]
    }
   ],
   "source": [
    "probs = predict(EL, EV, model_params, 4)\n",
    "pprint(probs)"
   ]
  },
  {
   "cell_type": "code",
   "execution_count": 31,
   "id": "5a0f27a5",
   "metadata": {},
   "outputs": [
    {
     "name": "stdout",
     "output_type": "stream",
     "text": [
      "Probabilidad que empaten PAC vs MON es = 0.30833604951533217\n"
     ]
    }
   ],
   "source": [
    "# draw\n",
    "\n",
    "E = np.sum(np.diag(probs))\n",
    "print(f'Probabilidad que empaten {EL} vs {EV} es = {E}')"
   ]
  },
  {
   "cell_type": "code",
   "execution_count": 32,
   "id": "a37ada74",
   "metadata": {},
   "outputs": [
    {
     "name": "stdout",
     "output_type": "stream",
     "text": [
      "Probabilidad que gane PAC vs MON es = 0.36144577803880673\n"
     ]
    }
   ],
   "source": [
    "# home win\n",
    "\n",
    "L = np.sum(np.tril(probs, -1))\n",
    "print(f'Probabilidad que gane {EL} vs {EV} es = {L}')"
   ]
  },
  {
   "cell_type": "code",
   "execution_count": 33,
   "id": "34ff6867",
   "metadata": {},
   "outputs": [
    {
     "name": "stdout",
     "output_type": "stream",
     "text": [
      "Probabilidad que pierda PAC vs MON es = 0.32286976572645965\n"
     ]
    }
   ],
   "source": [
    "# away win\n",
    "V = np.sum(np.triu(probs, 1))\n",
    "print(f'Probabilidad que pierda {EL} vs {EV} es = {V}')\n"
   ]
  },
  {
   "cell_type": "code",
   "execution_count": 34,
   "id": "cbe90cc6",
   "metadata": {},
   "outputs": [
    {
     "name": "stdout",
     "output_type": "stream",
     "text": [
      "PAC vs MON L 276.666670565629 E 324.3214672990336 V 309.7224039389355\n"
     ]
    }
   ],
   "source": [
    "print(f'{EL} vs {EV} L {100/L} E {100/E} V {100/V}')"
   ]
  },
  {
   "cell_type": "code",
   "execution_count": 35,
   "id": "46041dbd",
   "metadata": {},
   "outputs": [
    {
     "name": "stdout",
     "output_type": "stream",
     "text": [
      "array([[0.13117514, 0.1088648 , 0.04517451, 0.01249707, 0.00259289],\n",
      "       [0.15758102, 0.13077955, 0.05426825, 0.01501276, 0.00311484],\n",
      "       [0.09465123, 0.0785529 , 0.03259629, 0.00901743, 0.00187094],\n",
      "       [0.03790159, 0.03145526, 0.01305267, 0.00361089, 0.00074919],\n",
      "       [0.01138282, 0.00944682, 0.00392005, 0.00108444, 0.000225  ]])\n"
     ]
    }
   ],
   "source": [
    "probs = predict(EV, EL, model_params, 4)\n",
    "pprint(probs)"
   ]
  },
  {
   "cell_type": "code",
   "execution_count": 36,
   "id": "a6dd6708",
   "metadata": {},
   "outputs": [
    {
     "name": "stdout",
     "output_type": "stream",
     "text": [
      "Probabilidad que empaten MON vs PAC es =\n"
     ]
    },
    {
     "data": {
      "text/plain": [
       "0.29838686514803614"
      ]
     },
     "execution_count": 36,
     "metadata": {},
     "output_type": "execute_result"
    }
   ],
   "source": [
    "# draw\n",
    "print(f'Probabilidad que empaten {EV} vs {EL} es =')\n",
    "np.sum(np.diag(probs))"
   ]
  },
  {
   "cell_type": "code",
   "execution_count": 37,
   "id": "cdc2a907",
   "metadata": {},
   "outputs": [
    {
     "name": "stdout",
     "output_type": "stream",
     "text": [
      "Probabilidad que gane MON vs PAC es =\n"
     ]
    },
    {
     "data": {
      "text/plain": [
       "0.43902879754434904"
      ]
     },
     "execution_count": 37,
     "metadata": {},
     "output_type": "execute_result"
    }
   ],
   "source": [
    "# home win\n",
    "print(f'Probabilidad que gane {EV} vs {EL} es =')\n",
    "np.sum(np.tril(probs, -1))"
   ]
  },
  {
   "cell_type": "code",
   "execution_count": 38,
   "id": "ee2c4563",
   "metadata": {},
   "outputs": [
    {
     "name": "stdout",
     "output_type": "stream",
     "text": [
      "Probabilidad que pierda MON vs PAC es =\n"
     ]
    },
    {
     "data": {
      "text/plain": [
       "0.253162663960941"
      ]
     },
     "execution_count": 38,
     "metadata": {},
     "output_type": "execute_result"
    }
   ],
   "source": [
    "# away win\n",
    "print(f'Probabilidad que pierda {EV} vs {EL} es =')\n",
    "np.sum(np.triu(probs, 1))"
   ]
  },
  {
   "cell_type": "code",
   "execution_count": 39,
   "id": "22d26473",
   "metadata": {},
   "outputs": [
    {
     "data": {
      "text/plain": [
       "7.262164124909223"
      ]
     },
     "execution_count": 39,
     "metadata": {},
     "output_type": "execute_result"
    }
   ],
   "source": [
    "100/13.77"
   ]
  },
  {
   "cell_type": "code",
   "execution_count": null,
   "id": "6b2511b4",
   "metadata": {},
   "outputs": [],
   "source": []
  }
 ],
 "metadata": {
  "kernelspec": {
   "display_name": "Python 3 (ipykernel)",
   "language": "python",
   "name": "python3"
  },
  "language_info": {
   "codemirror_mode": {
    "name": "ipython",
    "version": 3
   },
   "file_extension": ".py",
   "mimetype": "text/x-python",
   "name": "python",
   "nbconvert_exporter": "python",
   "pygments_lexer": "ipython3",
   "version": "3.9.12"
  }
 },
 "nbformat": 4,
 "nbformat_minor": 5
}
