{
 "cells": [
  {
   "cell_type": "code",
   "execution_count": 5,
   "id": "196aa332",
   "metadata": {},
   "outputs": [],
   "source": [
    "from tkinter import *\n",
    "import matplotlib.pyplot as plt\n",
    "import pandas as pd\n",
    "from timple.timedelta import strftimedelta\n",
    "import fastf1 as ff1\n",
    "import fastf1.plotting\n",
    "from fastf1.core import Laps\n",
    "import matplotlib.cbook as cbook\n",
    "import matplotlib.image as image\n",
    "import fastf1.plotting"
   ]
  },
  {
   "cell_type": "code",
   "execution_count": 9,
   "id": "4a84a68c",
   "metadata": {},
   "outputs": [],
   "source": [
    "# Habilitamos el cache en nuestro equipo\n",
    "ff1.Cache.enable_cache('../fastf1/cache') "
   ]
  },
  {
   "cell_type": "code",
   "execution_count": 10,
   "id": "6f63fdc2",
   "metadata": {},
   "outputs": [],
   "source": [
    "# we only want support for timedelta plotting in this example\n",
    "ff1.plotting.setup_mpl(mpl_timedelta_support=True, color_scheme=None, misc_mpl_mods=False)"
   ]
  },
  {
   "cell_type": "code",
   "execution_count": 11,
   "id": "95703425",
   "metadata": {},
   "outputs": [
    {
     "name": "stdout",
     "output_type": "stream",
     "text": [
      "Año: 2022\n",
      "Round: 16\n",
      "------ Session Type ------\n",
      "R - Race\n",
      "Q - Qualifying\n",
      "SQ - Sprint Qualifying\n",
      "FP1 - Practice 1\n",
      "FP2 - Practice 2\n",
      "FP3 - Practice 3\n",
      "--------------------------\n",
      "Session :FP2\n"
     ]
    }
   ],
   "source": [
    "# Solicitar variables\n",
    "year = int(input('Año: '))\n",
    "wknd = int(input('Round: '))\n",
    "print('------ Session Type ------')\n",
    "print('R - Race')\n",
    "print('Q - Qualifying')\n",
    "print('SQ - Sprint Qualifying')\n",
    "print('FP1 - Practice 1')\n",
    "print('FP2 - Practice 2')\n",
    "print('FP3 - Practice 3')\n",
    "print('--------------------------')\n",
    "ses = input('Session :')\n",
    "#piloto1 = input('Piloto 1: ')\n",
    "#piloto2 = input('Piloto 2: ')"
   ]
  },
  {
   "cell_type": "code",
   "execution_count": 12,
   "id": "77da9a48",
   "metadata": {},
   "outputs": [
    {
     "name": "stderr",
     "output_type": "stream",
     "text": [
      "core           INFO \tLoading data for Italian Grand Prix - Practice 2 [v2.2.9]\n",
      "api            INFO \tUsing cached data for driver_info\n",
      "core        WARNING \tFailed to load data from Ergast API! (This is expected for recent sessions)\n",
      "api            INFO \tUsing cached data for timing_data\n",
      "api            INFO \tUsing cached data for timing_app_data\n",
      "core           INFO \tProcessing timing data...\n",
      "api            INFO \tUsing cached data for session_status_data\n",
      "api            INFO \tUsing cached data for track_status_data\n",
      "api            INFO \tUsing cached data for car_data\n",
      "api            INFO \tUsing cached data for position_data\n",
      "api            INFO \tUsing cached data for weather_data\n",
      "api            INFO \tUsing cached data for race_control_messages\n",
      "core           INFO \tFinished loading data for 20 drivers: ['1', '55', '47', '44', '31', '24', '23', '22', '20', '18', '16', '14', '11', '10', '6', '5', '4', '3', '63', '77']\n"
     ]
    }
   ],
   "source": [
    "session = ff1.get_session(year, wknd, ses)\n",
    "session.load()"
   ]
  },
  {
   "cell_type": "code",
   "execution_count": 14,
   "id": "dba929a6",
   "metadata": {},
   "outputs": [
    {
     "ename": "TypeError",
     "evalue": "'list' object is not callable",
     "output_type": "error",
     "traceback": [
      "\u001b[0;31m---------------------------------------------------------------------------\u001b[0m",
      "\u001b[0;31mTypeError\u001b[0m                                 Traceback (most recent call last)",
      "Input \u001b[0;32mIn [14]\u001b[0m, in \u001b[0;36m<cell line: 1>\u001b[0;34m()\u001b[0m\n\u001b[0;32m----> 1\u001b[0m \u001b[43msession\u001b[49m\u001b[38;5;241;43m.\u001b[39;49m\u001b[43mdrivers\u001b[49m\u001b[43m(\u001b[49m\u001b[38;5;241;43m1\u001b[39;49m\u001b[43m)\u001b[49m\n",
      "\u001b[0;31mTypeError\u001b[0m: 'list' object is not callable"
     ]
    }
   ],
   "source": [
    "session.drivers"
   ]
  },
  {
   "cell_type": "code",
   "execution_count": null,
   "id": "a0f7aea1",
   "metadata": {},
   "outputs": [],
   "source": []
  },
  {
   "cell_type": "code",
   "execution_count": 2,
   "id": "c8c3acfd",
   "metadata": {},
   "outputs": [],
   "source": [
    "def grafica_piloto(piloto, mensaje):\n",
    "    print(f'DDDDDDD{piloto} puntos {mensaje}')\n"
   ]
  },
  {
   "cell_type": "code",
   "execution_count": 3,
   "id": "7dab3e1f",
   "metadata": {},
   "outputs": [
    {
     "name": "stdout",
     "output_type": "stream",
     "text": [
      "DDDDDDDPerez puntos 100 pts\n"
     ]
    }
   ],
   "source": [
    "grafica_piloto('Perez','100 pts')"
   ]
  },
  {
   "cell_type": "code",
   "execution_count": null,
   "id": "f10a8aed",
   "metadata": {},
   "outputs": [],
   "source": []
  }
 ],
 "metadata": {
  "kernelspec": {
   "display_name": "Python 3 (ipykernel)",
   "language": "python",
   "name": "python3"
  },
  "language_info": {
   "codemirror_mode": {
    "name": "ipython",
    "version": 3
   },
   "file_extension": ".py",
   "mimetype": "text/x-python",
   "name": "python",
   "nbconvert_exporter": "python",
   "pygments_lexer": "ipython3",
   "version": "3.9.12"
  }
 },
 "nbformat": 4,
 "nbformat_minor": 5
}
