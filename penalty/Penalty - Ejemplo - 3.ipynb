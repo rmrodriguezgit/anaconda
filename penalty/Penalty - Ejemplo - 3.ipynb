{
 "cells": [
  {
   "cell_type": "markdown",
   "id": "c2de214e",
   "metadata": {},
   "source": [
    "### Poisson\n",
    "https://penaltyblog.readthedocs.io/en/latest/models/poisson.html"
   ]
  },
  {
   "cell_type": "code",
   "execution_count": null,
   "id": "9814e73c",
   "metadata": {},
   "outputs": [],
   "source": [
    "import sys\n",
    "\n",
    "sys.path.append(\"../\")\n",
    "\n",
    "import penaltyblog as pb"
   ]
  },
  {
   "cell_type": "code",
   "execution_count": null,
   "id": "91632f95",
   "metadata": {},
   "outputs": [],
   "source": [
    "fb = pb.scrapers.FootballData(\"ENG Premier League\", \"2019-2020\")\n",
    "df = fb.get_fixtures()\n",
    "\n",
    "df.head()"
   ]
  },
  {
   "cell_type": "code",
   "execution_count": 3,
   "id": "e3e0b810",
   "metadata": {},
   "outputs": [],
   "source": [
    "clf = pb.models.PoissonGoalsModel(\n",
    "    df[\"fthg\"], df[\"ftag\"], df[\"team_home\"], df[\"team_away\"]\n",
    ")\n",
    "clf.fit()"
   ]
  },
  {
   "cell_type": "code",
   "execution_count": 4,
   "id": "2373d403",
   "metadata": {},
   "outputs": [
    {
     "data": {
      "text/plain": [
       "{'attack_Arsenal': 1.1331233644296586,\n",
       " 'attack_Aston Villa': 0.8398888683900171,\n",
       " 'attack_Bournemouth': 0.8130895838533593,\n",
       " 'attack_Brighton': 0.7765244156344735,\n",
       " 'attack_Burnley': 0.8703022610372075,\n",
       " 'attack_Chelsea': 1.3487336095906706,\n",
       " 'attack_Crystal Palace': 0.5425419752936778,\n",
       " 'attack_Everton': 0.8994388034062366,\n",
       " 'attack_Leicester': 1.3056835609022448,\n",
       " 'attack_Liverpool': 1.5361419942148606,\n",
       " 'attack_Man City': 1.721273764329873,\n",
       " 'attack_Man United': 1.2855299859954672,\n",
       " 'attack_Newcastle': 0.7545385489210381,\n",
       " 'attack_Norwich': 0.39112516952794785,\n",
       " 'attack_Sheffield United': 0.7614769108467212,\n",
       " 'attack_Southampton': 1.0516113651415375,\n",
       " 'attack_Tottenham': 1.2177896127161842,\n",
       " 'attack_Watford': 0.7064640374378415,\n",
       " 'attack_West Ham': 1.0135086697688134,\n",
       " 'attack_Wolves': 1.0312134985601544,\n",
       " 'defence_Arsenal': -0.9373598011217494,\n",
       " 'defence_Aston Villa': -0.6183886984351747,\n",
       " 'defence_Bournemouth': -0.6497776871471524,\n",
       " 'defence_Brighton': -0.8366647803388451,\n",
       " 'defence_Burnley': -0.9096443161843661,\n",
       " 'defence_Chelsea': -0.805679527120389,\n",
       " 'defence_Crystal Palace': -0.9217232013820567,\n",
       " 'defence_Everton': -0.7950830382122211,\n",
       " 'defence_Leicester': -1.0841116102690118,\n",
       " 'defence_Liverpool': -1.2833712844361889,\n",
       " 'defence_Man City': -1.206323622467908,\n",
       " 'defence_Man United': -1.21563160015064,\n",
       " 'defence_Newcastle': -0.7660199219530203,\n",
       " 'defence_Norwich': -0.5206712574751792,\n",
       " 'defence_Sheffield United': -1.1626928911845371,\n",
       " 'defence_Southampton': -0.7187487772527337,\n",
       " 'defence_Tottenham': -0.9533484060760911,\n",
       " 'defence_Watford': -0.6693858618076344,\n",
       " 'defence_West Ham': -0.6878741494434693,\n",
       " 'defence_Wolves': -1.1252403783475924,\n",
       " 'home_advantage': 0.2292520811737984}"
      ]
     },
     "execution_count": 4,
     "metadata": {},
     "output_type": "execute_result"
    }
   ],
   "source": [
    "params = clf.get_params()\n",
    "params"
   ]
  },
  {
   "cell_type": "code",
   "execution_count": 5,
   "id": "dc385d3f",
   "metadata": {},
   "outputs": [
    {
     "data": {
      "text/plain": [
       "Module: Penaltyblog\n",
       "\n",
       "Class: FootballProbabilityGrid\n",
       "\n",
       "Home Goal Expectation: 1.8967723852057632\n",
       "Away Goal Expectation: 0.7771221095018391\n",
       "\n",
       "Home Win: 0.6385323367636325\n",
       "Draw: 0.21487343788988633\n",
       "Away Win: 0.1465942234219436"
      ]
     },
     "execution_count": 5,
     "metadata": {},
     "output_type": "execute_result"
    }
   ],
   "source": [
    "probs = clf.predict(\"Liverpool\", \"Wolves\")\n",
    "probs"
   ]
  },
  {
   "cell_type": "code",
   "execution_count": 6,
   "id": "52aec841",
   "metadata": {},
   "outputs": [
    {
     "data": {
      "text/plain": [
       "[0.6385323367636325, 0.21487343788988633, 0.1465942234219436]"
      ]
     },
     "execution_count": 6,
     "metadata": {},
     "output_type": "execute_result"
    }
   ],
   "source": [
    "probs.home_draw_away"
   ]
  },
  {
   "cell_type": "code",
   "execution_count": 7,
   "id": "464c4b01",
   "metadata": {},
   "outputs": [
    {
     "data": {
      "text/plain": [
       "0.7465635600756537"
      ]
     },
     "execution_count": 7,
     "metadata": {},
     "output_type": "execute_result"
    }
   ],
   "source": [
    "probs.total_goals(\"over\", 1.5)"
   ]
  },
  {
   "cell_type": "code",
   "execution_count": 8,
   "id": "733cf1e0",
   "metadata": {},
   "outputs": [
    {
     "data": {
      "text/plain": [
       "0.384426170280971"
      ]
     },
     "execution_count": 8,
     "metadata": {},
     "output_type": "execute_result"
    }
   ],
   "source": [
    "probs.asian_handicap(\"home\", 1.5)"
   ]
  },
  {
   "cell_type": "code",
   "execution_count": null,
   "id": "e78aedbb",
   "metadata": {},
   "outputs": [],
   "source": []
  }
 ],
 "metadata": {
  "kernelspec": {
   "display_name": "Python 3 (ipykernel)",
   "language": "python",
   "name": "python3"
  },
  "language_info": {
   "codemirror_mode": {
    "name": "ipython",
    "version": 3
   },
   "file_extension": ".py",
   "mimetype": "text/x-python",
   "name": "python",
   "nbconvert_exporter": "python",
   "pygments_lexer": "ipython3",
   "version": "3.9.12"
  }
 },
 "nbformat": 4,
 "nbformat_minor": 5
}
