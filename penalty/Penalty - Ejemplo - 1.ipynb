{
 "cells": [
  {
   "cell_type": "markdown",
   "id": "704df74d",
   "metadata": {},
   "source": [
    "### Predicting Football Results With the Poisson Distribution"
   ]
  },
  {
   "cell_type": "markdown",
   "id": "a5aeea09",
   "metadata": {},
   "source": [
    "http://www.pena.lt/y/2021/06/18/predicting-football-results-using-the-poisson-distribution/"
   ]
  },
  {
   "cell_type": "code",
   "execution_count": 4,
   "id": "e51d1335",
   "metadata": {},
   "outputs": [
    {
     "data": {
      "text/html": [
       "<div>\n",
       "<style scoped>\n",
       "    .dataframe tbody tr th:only-of-type {\n",
       "        vertical-align: middle;\n",
       "    }\n",
       "\n",
       "    .dataframe tbody tr th {\n",
       "        vertical-align: top;\n",
       "    }\n",
       "\n",
       "    .dataframe thead th {\n",
       "        text-align: right;\n",
       "    }\n",
       "</style>\n",
       "<table border=\"1\" class=\"dataframe\">\n",
       "  <thead>\n",
       "    <tr style=\"text-align: right;\">\n",
       "      <th></th>\n",
       "      <th>Date</th>\n",
       "      <th>HomeTeam</th>\n",
       "      <th>AwayTeam</th>\n",
       "      <th>FTHG</th>\n",
       "      <th>FTAG</th>\n",
       "    </tr>\n",
       "  </thead>\n",
       "  <tbody>\n",
       "    <tr>\n",
       "      <th>0</th>\n",
       "      <td>11/08/2017</td>\n",
       "      <td>Arsenal</td>\n",
       "      <td>Leicester</td>\n",
       "      <td>4</td>\n",
       "      <td>3</td>\n",
       "    </tr>\n",
       "    <tr>\n",
       "      <th>1</th>\n",
       "      <td>12/08/2017</td>\n",
       "      <td>Brighton</td>\n",
       "      <td>Man City</td>\n",
       "      <td>0</td>\n",
       "      <td>2</td>\n",
       "    </tr>\n",
       "    <tr>\n",
       "      <th>2</th>\n",
       "      <td>12/08/2017</td>\n",
       "      <td>Chelsea</td>\n",
       "      <td>Burnley</td>\n",
       "      <td>2</td>\n",
       "      <td>3</td>\n",
       "    </tr>\n",
       "    <tr>\n",
       "      <th>3</th>\n",
       "      <td>12/08/2017</td>\n",
       "      <td>Crystal Palace</td>\n",
       "      <td>Huddersfield</td>\n",
       "      <td>0</td>\n",
       "      <td>3</td>\n",
       "    </tr>\n",
       "    <tr>\n",
       "      <th>4</th>\n",
       "      <td>12/08/2017</td>\n",
       "      <td>Everton</td>\n",
       "      <td>Stoke</td>\n",
       "      <td>1</td>\n",
       "      <td>0</td>\n",
       "    </tr>\n",
       "  </tbody>\n",
       "</table>\n",
       "</div>"
      ],
      "text/plain": [
       "         Date        HomeTeam      AwayTeam  FTHG  FTAG\n",
       "0  11/08/2017         Arsenal     Leicester     4     3\n",
       "1  12/08/2017        Brighton      Man City     0     2\n",
       "2  12/08/2017         Chelsea       Burnley     2     3\n",
       "3  12/08/2017  Crystal Palace  Huddersfield     0     3\n",
       "4  12/08/2017         Everton         Stoke     1     0"
      ]
     },
     "execution_count": 4,
     "metadata": {},
     "output_type": "execute_result"
    }
   ],
   "source": [
    "import pandas as pd\n",
    "\n",
    "#df = pd.read_csv(\"https://www.football-data.co.uk/mmz4281/1718/E0.csv\")\n",
    "df = pd.read_csv('./data/E0.csv')\n",
    "df[[\"Date\", \"HomeTeam\", \"AwayTeam\", \"FTHG\", \"FTAG\"]].head()"
   ]
  },
  {
   "cell_type": "code",
   "execution_count": 5,
   "id": "4b947d29",
   "metadata": {},
   "outputs": [
    {
     "data": {
      "text/plain": [
       "FTHG    1.531579\n",
       "FTAG    1.147368\n",
       "dtype: float64"
      ]
     },
     "execution_count": 5,
     "metadata": {},
     "output_type": "execute_result"
    }
   ],
   "source": [
    "df[[\"FTHG\", \"FTAG\"]].mean()"
   ]
  },
  {
   "cell_type": "code",
   "execution_count": 6,
   "id": "8754468c",
   "metadata": {},
   "outputs": [
    {
     "data": {
      "text/plain": [
       "Text(0.5, 1.0, 'Number of Goals Scored Per Match')"
      ]
     },
     "execution_count": 6,
     "metadata": {},
     "output_type": "execute_result"
    },
    {
     "data": {
      "image/png": "[encoded data removed]",
      "text/plain": [
       "<Figure size 432x288 with 1 Axes>"
      ]
     },
     "metadata": {},
     "output_type": "display_data"
    }
   ],
   "source": [
    "import matplotlib.pyplot as plt\n",
    "import seaborn as sns\n",
    "\n",
    "sns.set()\n",
    "\n",
    "max_goals = 10\n",
    "plt.hist(\n",
    "    df[[\"FTHG\", \"FTAG\"]].values, range(max_goals), label=[\"Home\", \"Away\"], density=True\n",
    ")\n",
    "plt.xticks([i - 0.5 for i in range(max_goals)], [i for i in range(max_goals)])\n",
    "plt.xlabel(\"Goals\")\n",
    "plt.ylabel(\"Proportion of matches\")\n",
    "plt.legend(loc=\"upper right\", fontsize=13)\n",
    "plt.title(\"Number of Goals Scored Per Match\", size=14, fontweight=\"bold\")"
   ]
  },
  {
   "cell_type": "code",
   "execution_count": 7,
   "id": "0d62c431",
   "metadata": {},
   "outputs": [
    {
     "data": {
      "text/plain": [
       "Text(0.5, 1.0, 'Number of Goals Scored Per Match')"
      ]
     },
     "execution_count": 7,
     "metadata": {},
     "output_type": "execute_result"
    },
    {
     "data": {
      "image/png": "[encoded data removed]",
      "text/plain": [
       "<Figure size 432x288 with 1 Axes>"
      ]
     },
     "metadata": {},
     "output_type": "display_data"
    }
   ],
   "source": [
    "import numpy as np\n",
    "from scipy.stats import poisson\n",
    "\n",
    "home_poisson = poisson.pmf(range(10), df[\"FTHG\"].mean())\n",
    "away_poisson = poisson.pmf(range(10), df[\"FTAG\"].mean())\n",
    "\n",
    "max_goals = 10\n",
    "plt.hist(\n",
    "    df[[\"FTHG\", \"FTAG\"]].values, range(max_goals), label=[\"Home\", \"Away\"], density=True\n",
    ")\n",
    "\n",
    "plt.plot(\n",
    "    [i - 0.5 for i in range(1, max_goals + 1)],\n",
    "    home_poisson,\n",
    "    linestyle=\"-\",\n",
    "    marker=\"o\",\n",
    "    label=\"Home Poisson\",\n",
    ")\n",
    "\n",
    "plt.plot(\n",
    "    [i - 0.5 for i in range(1, max_goals + 1)],\n",
    "    away_poisson,\n",
    "    linestyle=\"-\",\n",
    "    marker=\"o\",\n",
    "    label=\"Away Poisson\",\n",
    ")\n",
    "\n",
    "\n",
    "plt.xticks([i - 0.5 for i in range(1, max_goals + 1)], [i for i in range(max_goals)])\n",
    "plt.xlabel(\"Goals\")\n",
    "plt.ylabel(\"Proportion of matches\")\n",
    "plt.legend(loc=\"upper right\", fontsize=13)\n",
    "plt.title(\"Number of Goals Scored Per Match\", size=14, fontweight=\"bold\")"
   ]
  },
  {
   "cell_type": "code",
   "execution_count": 8,
   "id": "a646d23c",
   "metadata": {},
   "outputs": [],
   "source": [
    "def log_likelihood(\n",
    "    goals_home_observed,\n",
    "    goals_away_observed,\n",
    "    home_attack,\n",
    "    home_defence,\n",
    "    away_attack,\n",
    "    away_defence,\n",
    "    home_advantage,\n",
    "):\n",
    "    goal_expectation_home = np.exp(home_attack + away_defence + home_advantage)\n",
    "    goal_expectation_away = np.exp(away_attack + home_defence)\n",
    "\n",
    "    if goal_expectation_home < 0 or goal_expectation_away < 0:\n",
    "        return 10000    \n",
    "\n",
    "    home_llk = poisson.pmf(goals_home_observed, goal_expectation_home)\n",
    "    away_llk = poisson.pmf(goals_away_observed, goal_expectation_away)\n",
    "\n",
    "    log_llk = np.log(home_llk) + np.log(away_llk)\n",
    "\n",
    "    return -log_llk"
   ]
  },
  {
   "cell_type": "code",
   "execution_count": 9,
   "id": "282ce79b",
   "metadata": {},
   "outputs": [
    {
     "name": "stderr",
     "output_type": "stream",
     "text": [
      "/var/folders/mt/_c41mk5d48d02v2zcb5lld2h0000gn/T/ipykernel_22360/2836897768.py:19: RuntimeWarning: divide by zero encountered in log\n",
      "  log_llk = np.log(home_llk) + np.log(away_llk)\n"
     ]
    }
   ],
   "source": [
    "from scipy.optimize import minimize\n",
    "\n",
    "\n",
    "def fit_poisson_model():\n",
    "    teams = np.sort(np.unique(np.concatenate([df[\"HomeTeam\"], df[\"AwayTeam\"]])))\n",
    "    n_teams = len(teams)\n",
    "\n",
    "    params = np.concatenate(\n",
    "        (\n",
    "            np.random.uniform(0.5, 1.5, (n_teams)),  # attack strength\n",
    "            np.random.uniform(0, -1, (n_teams)),  # defence strength\n",
    "            [0.25],  # home advantage\n",
    "        )\n",
    "    )\n",
    "\n",
    "    def _fit(params, df, teams):\n",
    "        attack_params = dict(zip(teams, params[:n_teams]))\n",
    "        defence_params = dict(zip(teams, params[n_teams : (2 * n_teams)]))\n",
    "        home_advantage = params[-1]\n",
    "\n",
    "        llk = list()\n",
    "        for idx, row in df.iterrows():\n",
    "            tmp = log_likelihood(\n",
    "                row[\"FTHG\"],\n",
    "                row[\"FTAG\"],\n",
    "                attack_params[row[\"HomeTeam\"]],\n",
    "                defence_params[row[\"HomeTeam\"]],\n",
    "                attack_params[row[\"AwayTeam\"]],\n",
    "                defence_params[row[\"AwayTeam\"]],\n",
    "                home_advantage,\n",
    "            )\n",
    "            llk.append(tmp)\n",
    "\n",
    "        return np.sum(llk)\n",
    "\n",
    "    options = {\n",
    "        \"maxiter\": 100,\n",
    "        \"disp\": False,\n",
    "    }\n",
    "\n",
    "    constraints = [{\"type\": \"eq\", \"fun\": lambda x: sum(x[:n_teams]) - n_teams}]\n",
    "\n",
    "    res = minimize(\n",
    "        _fit,\n",
    "        params,\n",
    "        args=(df, teams),\n",
    "        constraints=constraints,\n",
    "        options=options,\n",
    "    )\n",
    "\n",
    "    model_params = dict(\n",
    "        zip(\n",
    "            [\"attack_\" + team for team in teams]\n",
    "            + [\"defence_\" + team for team in teams]\n",
    "            + [\"home_adv\"],\n",
    "            res[\"x\"],\n",
    "        )\n",
    "    )\n",
    "\n",
    "    return model_params\n",
    "\n",
    "model_params = fit_poisson_model()"
   ]
  },
  {
   "cell_type": "code",
   "execution_count": 8,
   "id": "28b0b831",
   "metadata": {},
   "outputs": [
    {
     "name": "stdout",
     "output_type": "stream",
     "text": [
      "{'attack_Arsenal': 1.4472960959077086,\n",
      " 'attack_Bournemouth': 0.9586577503781972,\n",
      " 'attack_Brighton': 0.6704406085481511,\n",
      " 'attack_Burnley': 0.7124428177976605,\n",
      " 'attack_Chelsea': 1.2560827083499768,\n",
      " 'attack_Crystal Palace': 0.9524104053054706,\n",
      " 'attack_Everton': 0.9329955722763397,\n",
      " 'attack_Huddersfield': 0.4800241491879954,\n",
      " 'attack_Leicester': 1.1770280182883157,\n",
      " 'attack_Liverpool': 1.5606845805860983,\n",
      " 'attack_Man City': 1.782351240120223,\n",
      " 'attack_Man United': 1.3383155745789959,\n",
      " 'attack_Newcastle': 0.8007493332896695,\n",
      " 'attack_Southampton': 0.7572207203202753,\n",
      " 'attack_Stoke': 0.7139463342172566,\n",
      " 'attack_Swansea': 0.4779829985899056,\n",
      " 'attack_Tottenham': 1.4314083146897396,\n",
      " 'attack_Watford': 0.9392522715838968,\n",
      " 'attack_West Brom': 0.5799415050731347,\n",
      " 'attack_West Ham': 1.030769000910988,\n",
      " 'defence_Arsenal': -0.9046205863665658,\n",
      " 'defence_Bournemouth': -0.755566328448959,\n",
      " 'defence_Brighton': -0.8891312122681508,\n",
      " 'defence_Burnley': -1.2130522217733017,\n",
      " 'defence_Chelsea': -1.2124839511518684,\n",
      " 'defence_Crystal Palace': -0.8593983248108749,\n",
      " 'defence_Everton': -0.8071867281502445,\n",
      " 'defence_Huddersfield': -0.8236785261225688,\n",
      " 'defence_Leicester': -0.7605857835752861,\n",
      " 'defence_Liverpool': -1.189376289187508,\n",
      " 'defence_Man City': -1.5087536438906777,\n",
      " 'defence_Man United': -1.5123421282431708,\n",
      " 'defence_Newcastle': -1.0231178524685998,\n",
      " 'defence_Southampton': -0.849610721882098,\n",
      " 'defence_Stoke': -0.6570606522080255,\n",
      " 'defence_Swansea': -0.8588264223714338,\n",
      " 'defence_Tottenham': -1.2541679751195423,\n",
      " 'defence_Watford': -0.7084589934144734,\n",
      " 'defence_West Brom': -0.8557637516317423,\n",
      " 'defence_West Ham': -0.643421188372818,\n",
      " 'home_adv': 0.28882863189007313}\n"
     ]
    }
   ],
   "source": [
    "from pprint import pprint\n",
    "\n",
    "pprint(model_params)"
   ]
  },
  {
   "cell_type": "code",
   "execution_count": 10,
   "id": "672376a7",
   "metadata": {},
   "outputs": [],
   "source": [
    "def predict(home_team, away_team, params, max_goals=10):\n",
    "    home_attack = params[\"attack_\" + home_team]\n",
    "    home_defence = params[\"defence_\" + home_team]\n",
    "    away_attack = params[\"attack_\" + away_team]\n",
    "    away_defence = params[\"defence_\" + away_team]\n",
    "    home_advantage = params[\"home_adv\"]\n",
    "\n",
    "    home_goal_expectation = np.exp(home_attack + away_defence + home_advantage)\n",
    "    away_goal_expectation = np.exp(away_attack + home_defence)\n",
    "\n",
    "    home_probs = poisson.pmf(list(range(max_goals + 1)), home_goal_expectation)\n",
    "    away_probs = poisson.pmf(range(max_goals + 1), away_goal_expectation)\n",
    "\n",
    "    probability_matrix = np.outer(home_probs, away_probs)\n",
    "\n",
    "    return probability_matrix"
   ]
  },
  {
   "cell_type": "code",
   "execution_count": 11,
   "id": "108c88a5",
   "metadata": {},
   "outputs": [
    {
     "ename": "NameError",
     "evalue": "name 'pprint' is not defined",
     "output_type": "error",
     "traceback": [
      "\u001b[0;31m---------------------------------------------------------------------------\u001b[0m",
      "\u001b[0;31mNameError\u001b[0m                                 Traceback (most recent call last)",
      "Input \u001b[0;32mIn [11]\u001b[0m, in \u001b[0;36m<cell line: 2>\u001b[0;34m()\u001b[0m\n\u001b[1;32m      1\u001b[0m probs \u001b[38;5;241m=\u001b[39m predict(\u001b[38;5;124m\"\u001b[39m\u001b[38;5;124mMan City\u001b[39m\u001b[38;5;124m\"\u001b[39m, \u001b[38;5;124m\"\u001b[39m\u001b[38;5;124mStoke\u001b[39m\u001b[38;5;124m\"\u001b[39m, model_params, \u001b[38;5;241m4\u001b[39m)\n\u001b[0;32m----> 2\u001b[0m \u001b[43mpprint\u001b[49m(probs)\n",
      "\u001b[0;31mNameError\u001b[0m: name 'pprint' is not defined"
     ]
    }
   ],
   "source": [
    "probs = predict(\"Man City\", \"Stoke\", model_params, 4)\n",
    "pprint(probs)"
   ]
  },
  {
   "cell_type": "code",
   "execution_count": null,
   "id": "93993023",
   "metadata": {},
   "outputs": [],
   "source": [
    "# draw\n",
    "np.sum(np.diag(probs))"
   ]
  },
  {
   "cell_type": "code",
   "execution_count": null,
   "id": "def26fd4",
   "metadata": {},
   "outputs": [],
   "source": [
    "# home win\n",
    "np.sum(np.tril(probs, -1))"
   ]
  },
  {
   "cell_type": "code",
   "execution_count": null,
   "id": "b928180d",
   "metadata": {},
   "outputs": [],
   "source": [
    "# away win\n",
    "np.sum(np.triu(probs, 1))"
   ]
  },
  {
   "cell_type": "code",
   "execution_count": 1,
   "id": "edf1fa44",
   "metadata": {},
   "outputs": [
    {
     "ename": "ModuleNotFoundError",
     "evalue": "No module named 'penaltyblog'",
     "output_type": "error",
     "traceback": [
      "\u001b[0;31m---------------------------------------------------------------------------\u001b[0m",
      "\u001b[0;31mModuleNotFoundError\u001b[0m                       Traceback (most recent call last)",
      "Input \u001b[0;32mIn [1]\u001b[0m, in \u001b[0;36m<cell line: 1>\u001b[0;34m()\u001b[0m\n\u001b[0;32m----> 1\u001b[0m \u001b[38;5;28;01mimport\u001b[39;00m \u001b[38;5;21;01mpenaltyblog\u001b[39;00m \u001b[38;5;28;01mas\u001b[39;00m \u001b[38;5;21;01mpb\u001b[39;00m\n",
      "\u001b[0;31mModuleNotFoundError\u001b[0m: No module named 'penaltyblog'"
     ]
    }
   ],
   "source": [
    "import penaltyblog as pb"
   ]
  },
  {
   "cell_type": "code",
   "execution_count": 2,
   "id": "0070ae92",
   "metadata": {},
   "outputs": [
    {
     "ename": "NameError",
     "evalue": "name 'pb' is not defined",
     "output_type": "error",
     "traceback": [
      "\u001b[0;31m---------------------------------------------------------------------------\u001b[0m",
      "\u001b[0;31mNameError\u001b[0m                                 Traceback (most recent call last)",
      "Input \u001b[0;32mIn [2]\u001b[0m, in \u001b[0;36m<cell line: 1>\u001b[0;34m()\u001b[0m\n\u001b[0;32m----> 1\u001b[0m df \u001b[38;5;241m=\u001b[39m \u001b[43mpb\u001b[49m\u001b[38;5;241m.\u001b[39mfootballdata\u001b[38;5;241m.\u001b[39mfetch_data(\u001b[38;5;124m\"\u001b[39m\u001b[38;5;124mEngland\u001b[39m\u001b[38;5;124m\"\u001b[39m, \u001b[38;5;241m2017\u001b[39m, \u001b[38;5;241m0\u001b[39m)\n\u001b[1;32m      2\u001b[0m df[[\u001b[38;5;124m\"\u001b[39m\u001b[38;5;124mDate\u001b[39m\u001b[38;5;124m\"\u001b[39m, \u001b[38;5;124m\"\u001b[39m\u001b[38;5;124mHomeTeam\u001b[39m\u001b[38;5;124m\"\u001b[39m, \u001b[38;5;124m\"\u001b[39m\u001b[38;5;124mAwayTeam\u001b[39m\u001b[38;5;124m\"\u001b[39m, \u001b[38;5;124m\"\u001b[39m\u001b[38;5;124mFTHG\u001b[39m\u001b[38;5;124m\"\u001b[39m, \u001b[38;5;124m\"\u001b[39m\u001b[38;5;124mFTAG\u001b[39m\u001b[38;5;124m\"\u001b[39m]]\u001b[38;5;241m.\u001b[39mhead()\n\u001b[1;32m      4\u001b[0m pois \u001b[38;5;241m=\u001b[39m pb\u001b[38;5;241m.\u001b[39mpoisson\u001b[38;5;241m.\u001b[39mPoissonGoalsModel(df[\u001b[38;5;124m\"\u001b[39m\u001b[38;5;124mFTHG\u001b[39m\u001b[38;5;124m\"\u001b[39m], df[\u001b[38;5;124m\"\u001b[39m\u001b[38;5;124mFTAG\u001b[39m\u001b[38;5;124m\"\u001b[39m], df[\u001b[38;5;124m\"\u001b[39m\u001b[38;5;124mHomeTeam\u001b[39m\u001b[38;5;124m\"\u001b[39m], df[\u001b[38;5;124m\"\u001b[39m\u001b[38;5;124mAwayTeam\u001b[39m\u001b[38;5;124m\"\u001b[39m])\n",
      "\u001b[0;31mNameError\u001b[0m: name 'pb' is not defined"
     ]
    }
   ],
   "source": [
    "df = pb.footballdata.fetch_data(\"England\", 2017, 0)\n",
    "df[[\"Date\", \"HomeTeam\", \"AwayTeam\", \"FTHG\", \"FTAG\"]].head()\n",
    "\n",
    "pois = pb.poisson.PoissonGoalsModel(df[\"FTHG\"], df[\"FTAG\"], df[\"HomeTeam\"], df[\"AwayTeam\"])\n",
    "pois.fit()\n",
    "probs = pois.predict(\"Man City\", \"Man United\")\n",
    "print(probs.home_draw_away)"
   ]
  },
  {
   "cell_type": "code",
   "execution_count": null,
   "id": "853f8ce3",
   "metadata": {},
   "outputs": [],
   "source": []
  },
  {
   "cell_type": "code",
   "execution_count": null,
   "id": "28b7bf23",
   "metadata": {},
   "outputs": [],
   "source": []
  },
  {
   "cell_type": "code",
   "execution_count": null,
   "id": "15db36c1",
   "metadata": {},
   "outputs": [],
   "source": []
  }
 ],
 "metadata": {
  "kernelspec": {
   "display_name": "Python 3 (ipykernel)",
   "language": "python",
   "name": "python3"
  },
  "language_info": {
   "codemirror_mode": {
    "name": "ipython",
    "version": 3
   },
   "file_extension": ".py",
   "mimetype": "text/x-python",
   "name": "python",
   "nbconvert_exporter": "python",
   "pygments_lexer": "ipython3",
   "version": "3.9.12"
  }
 },
 "nbformat": 4,
 "nbformat_minor": 5
}
