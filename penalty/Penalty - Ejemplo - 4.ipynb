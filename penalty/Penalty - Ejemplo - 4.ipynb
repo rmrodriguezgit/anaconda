{
 "cells": [
  {
   "cell_type": "markdown",
   "id": "63eede7c",
   "metadata": {},
   "source": [
    "### Dixon and Coles\n",
    "https://penaltyblog.readthedocs.io/en/latest/models/dixon_coles.html"
   ]
  },
  {
   "cell_type": "code",
   "execution_count": 1,
   "id": "30eaac66",
   "metadata": {},
   "outputs": [],
   "source": [
    "import sys\n",
    "\n",
    "sys.path.append(\"../\")\n",
    "\n",
    "import penaltyblog as pb"
   ]
  },
  {
   "cell_type": "code",
   "execution_count": 2,
   "id": "64c394a2",
   "metadata": {},
   "outputs": [
    {
     "data": {
      "text/html": [
       "<div>\n",
       "<style scoped>\n",
       "    .dataframe tbody tr th:only-of-type {\n",
       "        vertical-align: middle;\n",
       "    }\n",
       "\n",
       "    .dataframe tbody tr th {\n",
       "        vertical-align: top;\n",
       "    }\n",
       "\n",
       "    .dataframe thead th {\n",
       "        text-align: right;\n",
       "    }\n",
       "</style>\n",
       "<table border=\"1\" class=\"dataframe\">\n",
       "  <thead>\n",
       "    <tr style=\"text-align: right;\">\n",
       "      <th></th>\n",
       "      <th>competition</th>\n",
       "      <th>season</th>\n",
       "      <th>datetime</th>\n",
       "      <th>div</th>\n",
       "      <th>date</th>\n",
       "      <th>time</th>\n",
       "      <th>team_home</th>\n",
       "      <th>team_away</th>\n",
       "      <th>fthg</th>\n",
       "      <th>ftag</th>\n",
       "      <th>...</th>\n",
       "      <th>b365_cahh</th>\n",
       "      <th>b365_caha</th>\n",
       "      <th>pcahh</th>\n",
       "      <th>pcaha</th>\n",
       "      <th>max_cahh</th>\n",
       "      <th>max_caha</th>\n",
       "      <th>avg_cahh</th>\n",
       "      <th>avg_caha</th>\n",
       "      <th>goals_home</th>\n",
       "      <th>goals_away</th>\n",
       "    </tr>\n",
       "    <tr>\n",
       "      <th>id</th>\n",
       "      <th></th>\n",
       "      <th></th>\n",
       "      <th></th>\n",
       "      <th></th>\n",
       "      <th></th>\n",
       "      <th></th>\n",
       "      <th></th>\n",
       "      <th></th>\n",
       "      <th></th>\n",
       "      <th></th>\n",
       "      <th></th>\n",
       "      <th></th>\n",
       "      <th></th>\n",
       "      <th></th>\n",
       "      <th></th>\n",
       "      <th></th>\n",
       "      <th></th>\n",
       "      <th></th>\n",
       "      <th></th>\n",
       "      <th></th>\n",
       "      <th></th>\n",
       "    </tr>\n",
       "  </thead>\n",
       "  <tbody>\n",
       "    <tr>\n",
       "      <th>1565308800---liverpool---norwich</th>\n",
       "      <td>ENG Premier League</td>\n",
       "      <td>2019-2020</td>\n",
       "      <td>2019-08-09 20:00:00</td>\n",
       "      <td>E0</td>\n",
       "      <td>2019-08-09</td>\n",
       "      <td>20:00</td>\n",
       "      <td>Liverpool</td>\n",
       "      <td>Norwich</td>\n",
       "      <td>4</td>\n",
       "      <td>1</td>\n",
       "      <td>...</td>\n",
       "      <td>1.91</td>\n",
       "      <td>1.99</td>\n",
       "      <td>1.94</td>\n",
       "      <td>1.98</td>\n",
       "      <td>1.99</td>\n",
       "      <td>2.07</td>\n",
       "      <td>1.90</td>\n",
       "      <td>1.99</td>\n",
       "      <td>4</td>\n",
       "      <td>1</td>\n",
       "    </tr>\n",
       "    <tr>\n",
       "      <th>1565395200---bournemouth---sheffield_united</th>\n",
       "      <td>ENG Premier League</td>\n",
       "      <td>2019-2020</td>\n",
       "      <td>2019-08-10 15:00:00</td>\n",
       "      <td>E0</td>\n",
       "      <td>2019-08-10</td>\n",
       "      <td>15:00</td>\n",
       "      <td>Bournemouth</td>\n",
       "      <td>Sheffield United</td>\n",
       "      <td>1</td>\n",
       "      <td>1</td>\n",
       "      <td>...</td>\n",
       "      <td>1.95</td>\n",
       "      <td>1.95</td>\n",
       "      <td>1.98</td>\n",
       "      <td>1.95</td>\n",
       "      <td>2.00</td>\n",
       "      <td>1.96</td>\n",
       "      <td>1.96</td>\n",
       "      <td>1.92</td>\n",
       "      <td>1</td>\n",
       "      <td>1</td>\n",
       "    </tr>\n",
       "    <tr>\n",
       "      <th>1565395200---burnley---southampton</th>\n",
       "      <td>ENG Premier League</td>\n",
       "      <td>2019-2020</td>\n",
       "      <td>2019-08-10 15:00:00</td>\n",
       "      <td>E0</td>\n",
       "      <td>2019-08-10</td>\n",
       "      <td>15:00</td>\n",
       "      <td>Burnley</td>\n",
       "      <td>Southampton</td>\n",
       "      <td>3</td>\n",
       "      <td>0</td>\n",
       "      <td>...</td>\n",
       "      <td>1.87</td>\n",
       "      <td>2.03</td>\n",
       "      <td>1.89</td>\n",
       "      <td>2.03</td>\n",
       "      <td>1.90</td>\n",
       "      <td>2.07</td>\n",
       "      <td>1.86</td>\n",
       "      <td>2.02</td>\n",
       "      <td>3</td>\n",
       "      <td>0</td>\n",
       "    </tr>\n",
       "    <tr>\n",
       "      <th>1565395200---crystal_palace---everton</th>\n",
       "      <td>ENG Premier League</td>\n",
       "      <td>2019-2020</td>\n",
       "      <td>2019-08-10 15:00:00</td>\n",
       "      <td>E0</td>\n",
       "      <td>2019-08-10</td>\n",
       "      <td>15:00</td>\n",
       "      <td>Crystal Palace</td>\n",
       "      <td>Everton</td>\n",
       "      <td>0</td>\n",
       "      <td>0</td>\n",
       "      <td>...</td>\n",
       "      <td>1.82</td>\n",
       "      <td>2.08</td>\n",
       "      <td>1.97</td>\n",
       "      <td>1.96</td>\n",
       "      <td>2.03</td>\n",
       "      <td>2.08</td>\n",
       "      <td>1.96</td>\n",
       "      <td>1.93</td>\n",
       "      <td>0</td>\n",
       "      <td>0</td>\n",
       "    </tr>\n",
       "    <tr>\n",
       "      <th>1565395200---tottenham---aston_villa</th>\n",
       "      <td>ENG Premier League</td>\n",
       "      <td>2019-2020</td>\n",
       "      <td>2019-08-10 17:30:00</td>\n",
       "      <td>E0</td>\n",
       "      <td>2019-08-10</td>\n",
       "      <td>17:30</td>\n",
       "      <td>Tottenham</td>\n",
       "      <td>Aston Villa</td>\n",
       "      <td>3</td>\n",
       "      <td>1</td>\n",
       "      <td>...</td>\n",
       "      <td>2.10</td>\n",
       "      <td>1.70</td>\n",
       "      <td>2.18</td>\n",
       "      <td>1.77</td>\n",
       "      <td>2.21</td>\n",
       "      <td>1.87</td>\n",
       "      <td>2.08</td>\n",
       "      <td>1.80</td>\n",
       "      <td>3</td>\n",
       "      <td>1</td>\n",
       "    </tr>\n",
       "  </tbody>\n",
       "</table>\n",
       "<p>5 rows × 111 columns</p>\n",
       "</div>"
      ],
      "text/plain": [
       "                                                    competition     season  \\\n",
       "id                                                                           \n",
       "1565308800---liverpool---norwich             ENG Premier League  2019-2020   \n",
       "1565395200---bournemouth---sheffield_united  ENG Premier League  2019-2020   \n",
       "1565395200---burnley---southampton           ENG Premier League  2019-2020   \n",
       "1565395200---crystal_palace---everton        ENG Premier League  2019-2020   \n",
       "1565395200---tottenham---aston_villa         ENG Premier League  2019-2020   \n",
       "\n",
       "                                                       datetime div  \\\n",
       "id                                                                    \n",
       "1565308800---liverpool---norwich            2019-08-09 20:00:00  E0   \n",
       "1565395200---bournemouth---sheffield_united 2019-08-10 15:00:00  E0   \n",
       "1565395200---burnley---southampton          2019-08-10 15:00:00  E0   \n",
       "1565395200---crystal_palace---everton       2019-08-10 15:00:00  E0   \n",
       "1565395200---tottenham---aston_villa        2019-08-10 17:30:00  E0   \n",
       "\n",
       "                                                  date   time       team_home  \\\n",
       "id                                                                              \n",
       "1565308800---liverpool---norwich            2019-08-09  20:00       Liverpool   \n",
       "1565395200---bournemouth---sheffield_united 2019-08-10  15:00     Bournemouth   \n",
       "1565395200---burnley---southampton          2019-08-10  15:00         Burnley   \n",
       "1565395200---crystal_palace---everton       2019-08-10  15:00  Crystal Palace   \n",
       "1565395200---tottenham---aston_villa        2019-08-10  17:30       Tottenham   \n",
       "\n",
       "                                                    team_away  fthg  ftag  \\\n",
       "id                                                                          \n",
       "1565308800---liverpool---norwich                      Norwich     4     1   \n",
       "1565395200---bournemouth---sheffield_united  Sheffield United     1     1   \n",
       "1565395200---burnley---southampton                Southampton     3     0   \n",
       "1565395200---crystal_palace---everton                 Everton     0     0   \n",
       "1565395200---tottenham---aston_villa              Aston Villa     3     1   \n",
       "\n",
       "                                             ... b365_cahh  b365_caha  pcahh  \\\n",
       "id                                           ...                               \n",
       "1565308800---liverpool---norwich             ...      1.91       1.99   1.94   \n",
       "1565395200---bournemouth---sheffield_united  ...      1.95       1.95   1.98   \n",
       "1565395200---burnley---southampton           ...      1.87       2.03   1.89   \n",
       "1565395200---crystal_palace---everton        ...      1.82       2.08   1.97   \n",
       "1565395200---tottenham---aston_villa         ...      2.10       1.70   2.18   \n",
       "\n",
       "                                            pcaha max_cahh  max_caha  \\\n",
       "id                                                                     \n",
       "1565308800---liverpool---norwich             1.98     1.99      2.07   \n",
       "1565395200---bournemouth---sheffield_united  1.95     2.00      1.96   \n",
       "1565395200---burnley---southampton           2.03     1.90      2.07   \n",
       "1565395200---crystal_palace---everton        1.96     2.03      2.08   \n",
       "1565395200---tottenham---aston_villa         1.77     2.21      1.87   \n",
       "\n",
       "                                             avg_cahh  avg_caha  goals_home  \\\n",
       "id                                                                            \n",
       "1565308800---liverpool---norwich                 1.90      1.99           4   \n",
       "1565395200---bournemouth---sheffield_united      1.96      1.92           1   \n",
       "1565395200---burnley---southampton               1.86      2.02           3   \n",
       "1565395200---crystal_palace---everton            1.96      1.93           0   \n",
       "1565395200---tottenham---aston_villa             2.08      1.80           3   \n",
       "\n",
       "                                             goals_away  \n",
       "id                                                       \n",
       "1565308800---liverpool---norwich                      1  \n",
       "1565395200---bournemouth---sheffield_united           1  \n",
       "1565395200---burnley---southampton                    0  \n",
       "1565395200---crystal_palace---everton                 0  \n",
       "1565395200---tottenham---aston_villa                  1  \n",
       "\n",
       "[5 rows x 111 columns]"
      ]
     },
     "execution_count": 2,
     "metadata": {},
     "output_type": "execute_result"
    }
   ],
   "source": [
    "fb = pb.scrapers.FootballData(\"ENG Premier League\", \"2019-2020\")\n",
    "df = fb.get_fixtures()\n",
    "\n",
    "df.head()"
   ]
  },
  {
   "cell_type": "code",
   "execution_count": 9,
   "id": "7a79f1eb",
   "metadata": {},
   "outputs": [],
   "source": [
    "clf = pb.models.DixonColesGoalModel(\n",
    "    df[\"fthg\"], df[\"ftag\"], df[\"team_home\"], df[\"team_away\"]\n",
    ")\n",
    "clf.fit()"
   ]
  },
  {
   "cell_type": "code",
   "execution_count": 10,
   "id": "4d44aeda",
   "metadata": {},
   "outputs": [
    {
     "data": {
      "text/plain": [
       "Module: Penaltyblog\n",
       "\n",
       "Model: Dixon and Coles\n",
       "\n",
       "Number of parameters: 42\n",
       "Log Likelihood: -1057.16\n",
       "AIC: 2198.319\n",
       "\n",
       "Team                 Attack               Defence             \n",
       "------------------------------------------------------------\n",
       "Arsenal              1.134                -0.939              \n",
       "Aston Villa          0.843                -0.619              \n",
       "Bournemouth          0.812                -0.652              \n",
       "Brighton             0.781                -0.832              \n",
       "Burnley              0.874                -0.917              \n",
       "Chelsea              1.341                -0.81               \n",
       "Crystal Palace       0.54                 -0.928              \n",
       "Everton              0.904                -0.798              \n",
       "Leicester            1.306                -1.077              \n",
       "Liverpool            1.539                -1.288              \n",
       "Man City             1.72                 -1.213              \n",
       "Man United           1.283                -1.217              \n",
       "Newcastle            0.756                -0.773              \n",
       "Norwich              0.386                -0.524              \n",
       "Sheffield United     0.757                -1.171              \n",
       "Southampton          1.046                -0.729              \n",
       "Tottenham            1.216                -0.951              \n",
       "Watford              0.712                -0.664              \n",
       "West Ham             1.012                -0.693              \n",
       "Wolves               1.037                -1.12               \n",
       "------------------------------------------------------------\n",
       "Home Advantage: 0.231\n",
       "Rho: -0.079"
      ]
     },
     "execution_count": 10,
     "metadata": {},
     "output_type": "execute_result"
    }
   ],
   "source": [
    "clf"
   ]
  },
  {
   "cell_type": "code",
   "execution_count": 11,
   "id": "861d6ad5",
   "metadata": {},
   "outputs": [
    {
     "data": {
      "text/plain": [
       "Module: Penaltyblog\n",
       "\n",
       "Class: FootballProbabilityGrid\n",
       "\n",
       "Home Goal Expectation: 1.9154618251628113\n",
       "Away Goal Expectation: 0.7781276475737643\n",
       "\n",
       "Home Win: 0.6343571306822224\n",
       "Draw: 0.22868506650897777\n",
       "Away Win: 0.13695780061776308"
      ]
     },
     "execution_count": 11,
     "metadata": {},
     "output_type": "execute_result"
    }
   ],
   "source": [
    "probs = clf.predict(\"Liverpool\", \"Wolves\")\n",
    "probs"
   ]
  },
  {
   "cell_type": "code",
   "execution_count": 12,
   "id": "1d264a94",
   "metadata": {},
   "outputs": [
    {
     "data": {
      "text/plain": [
       "[0.6343571306822224, 0.22868506650897777, 0.13695780061776308]"
      ]
     },
     "execution_count": 12,
     "metadata": {},
     "output_type": "execute_result"
    }
   ],
   "source": [
    "probs.home_draw_away"
   ]
  },
  {
   "cell_type": "code",
   "execution_count": 13,
   "id": "5e15b380",
   "metadata": {},
   "outputs": [
    {
     "data": {
      "text/plain": [
       "0.7580910623057328"
      ]
     },
     "execution_count": 13,
     "metadata": {},
     "output_type": "execute_result"
    }
   ],
   "source": [
    "probs.total_goals(\"over\", 1.5)"
   ]
  },
  {
   "cell_type": "code",
   "execution_count": 14,
   "id": "9fdcdd25",
   "metadata": {},
   "outputs": [
    {
     "data": {
      "text/plain": [
       "0.38896877261685825"
      ]
     },
     "execution_count": 14,
     "metadata": {},
     "output_type": "execute_result"
    }
   ],
   "source": [
    "probs.asian_handicap(\"home\", 1.5)"
   ]
  },
  {
   "cell_type": "code",
   "execution_count": null,
   "id": "d9728d55",
   "metadata": {},
   "outputs": [],
   "source": []
  }
 ],
 "metadata": {
  "kernelspec": {
   "display_name": "Python 3 (ipykernel)",
   "language": "python",
   "name": "python3"
  },
  "language_info": {
   "codemirror_mode": {
    "name": "ipython",
    "version": 3
   },
   "file_extension": ".py",
   "mimetype": "text/x-python",
   "name": "python",
   "nbconvert_exporter": "python",
   "pygments_lexer": "ipython3",
   "version": "3.9.12"
  }
 },
 "nbformat": 4,
 "nbformat_minor": 5
}
