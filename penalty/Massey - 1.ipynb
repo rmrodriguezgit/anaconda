{
 "cells": [
  {
   "cell_type": "code",
   "execution_count": 93,
   "id": "ba4e5509",
   "metadata": {},
   "outputs": [],
   "source": [
    "### ww3.nd.edu"
   ]
  },
  {
   "cell_type": "code",
   "execution_count": 33,
   "id": "80bda032",
   "metadata": {},
   "outputs": [],
   "source": [
    "%matplotlib inline\n",
    "%config InlineBackend.figure_format = 'retina'"
   ]
  },
  {
   "cell_type": "code",
   "execution_count": 34,
   "id": "26f5cba5",
   "metadata": {},
   "outputs": [],
   "source": [
    "import pandas as pd\n",
    "import numpy as np"
   ]
  },
  {
   "cell_type": "code",
   "execution_count": 35,
   "id": "9944f327",
   "metadata": {},
   "outputs": [
    {
     "data": {
      "text/html": [
       "<div>\n",
       "<style scoped>\n",
       "    .dataframe tbody tr th:only-of-type {\n",
       "        vertical-align: middle;\n",
       "    }\n",
       "\n",
       "    .dataframe tbody tr th {\n",
       "        vertical-align: top;\n",
       "    }\n",
       "\n",
       "    .dataframe thead th {\n",
       "        text-align: right;\n",
       "    }\n",
       "</style>\n",
       "<table border=\"1\" class=\"dataframe\">\n",
       "  <thead>\n",
       "    <tr style=\"text-align: right;\">\n",
       "      <th></th>\n",
       "      <th>Badin</th>\n",
       "      <th>Farley</th>\n",
       "      <th>Lyons</th>\n",
       "      <th>McGlinn</th>\n",
       "      <th>Pangborn</th>\n",
       "    </tr>\n",
       "    <tr>\n",
       "      <th>equipos</th>\n",
       "      <th></th>\n",
       "      <th></th>\n",
       "      <th></th>\n",
       "      <th></th>\n",
       "      <th></th>\n",
       "    </tr>\n",
       "  </thead>\n",
       "  <tbody>\n",
       "    <tr>\n",
       "      <th>Badin</th>\n",
       "      <td>-</td>\n",
       "      <td>37-82</td>\n",
       "      <td>51-54</td>\n",
       "      <td>37-68</td>\n",
       "      <td>30-75</td>\n",
       "    </tr>\n",
       "    <tr>\n",
       "      <th>Farley</th>\n",
       "      <td>82-37</td>\n",
       "      <td>-</td>\n",
       "      <td>64-46</td>\n",
       "      <td>55-47</td>\n",
       "      <td>57-37</td>\n",
       "    </tr>\n",
       "    <tr>\n",
       "      <th>Lyons</th>\n",
       "      <td>54-51</td>\n",
       "      <td>46-64</td>\n",
       "      <td>-</td>\n",
       "      <td>37-35</td>\n",
       "      <td>33-60</td>\n",
       "    </tr>\n",
       "    <tr>\n",
       "      <th>McGlinn</th>\n",
       "      <td>68-37</td>\n",
       "      <td>47-55</td>\n",
       "      <td>35-37</td>\n",
       "      <td>-</td>\n",
       "      <td>44-82</td>\n",
       "    </tr>\n",
       "    <tr>\n",
       "      <th>Pangborn</th>\n",
       "      <td>75-30</td>\n",
       "      <td>37-57</td>\n",
       "      <td>60-33</td>\n",
       "      <td>82-44</td>\n",
       "      <td>-</td>\n",
       "    </tr>\n",
       "  </tbody>\n",
       "</table>\n",
       "</div>"
      ],
      "text/plain": [
       "          Badin Farley  Lyons McGlinn Pangborn\n",
       "equipos                                       \n",
       "Badin         -  37-82  51-54   37-68    30-75\n",
       "Farley    82-37      -  64-46   55-47    57-37\n",
       "Lyons     54-51  46-64      -   37-35    33-60\n",
       "McGlinn   68-37  47-55  35-37       -    44-82\n",
       "Pangborn  75-30  37-57  60-33   82-44        -"
      ]
     },
     "execution_count": 35,
     "metadata": {},
     "output_type": "execute_result"
    }
   ],
   "source": [
    "data_file = './data/massey.csv'\n",
    "df = pd.read_csv(data_file, index_col=0)\n",
    "df.head()"
   ]
  },
  {
   "cell_type": "code",
   "execution_count": 36,
   "id": "3e984a15",
   "metadata": {},
   "outputs": [
    {
     "name": "stdout",
     "output_type": "stream",
     "text": [
      "Index(['Badin', 'Farley', 'Lyons', 'McGlinn', 'Pangborn'], dtype='object')\n"
     ]
    }
   ],
   "source": [
    "print(df.columns)"
   ]
  },
  {
   "cell_type": "code",
   "execution_count": 38,
   "id": "4f3ec549",
   "metadata": {},
   "outputs": [
    {
     "data": {
      "text/html": [
       "<div>\n",
       "<style scoped>\n",
       "    .dataframe tbody tr th:only-of-type {\n",
       "        vertical-align: middle;\n",
       "    }\n",
       "\n",
       "    .dataframe tbody tr th {\n",
       "        vertical-align: top;\n",
       "    }\n",
       "\n",
       "    .dataframe thead th {\n",
       "        text-align: right;\n",
       "    }\n",
       "</style>\n",
       "<table border=\"1\" class=\"dataframe\">\n",
       "  <thead>\n",
       "    <tr style=\"text-align: right;\">\n",
       "      <th></th>\n",
       "      <th>equipos</th>\n",
       "      <th>PointDiff</th>\n",
       "    </tr>\n",
       "  </thead>\n",
       "  <tbody>\n",
       "    <tr>\n",
       "      <th>0</th>\n",
       "      <td>Badin</td>\n",
       "      <td>-124</td>\n",
       "    </tr>\n",
       "    <tr>\n",
       "      <th>1</th>\n",
       "      <td>Farley</td>\n",
       "      <td>91</td>\n",
       "    </tr>\n",
       "    <tr>\n",
       "      <th>2</th>\n",
       "      <td>Lyons</td>\n",
       "      <td>-40</td>\n",
       "    </tr>\n",
       "    <tr>\n",
       "      <th>3</th>\n",
       "      <td>McGlinn</td>\n",
       "      <td>-17</td>\n",
       "    </tr>\n",
       "    <tr>\n",
       "      <th>4</th>\n",
       "      <td>Pangborn</td>\n",
       "      <td>90</td>\n",
       "    </tr>\n",
       "  </tbody>\n",
       "</table>\n",
       "</div>"
      ],
      "text/plain": [
       "    equipos  PointDiff\n",
       "0     Badin       -124\n",
       "1    Farley         91\n",
       "2     Lyons        -40\n",
       "3   McGlinn        -17\n",
       "4  Pangborn         90"
      ]
     },
     "execution_count": 38,
     "metadata": {},
     "output_type": "execute_result"
    }
   ],
   "source": [
    "rows = []\n",
    "for i in df.index:\n",
    "    puntos = 0\n",
    "    for c in df.columns:\n",
    "        if i == c: continue\n",
    "        score = df.loc[i,c]\n",
    "        ssplit = score.split('-')\n",
    "        puntos = puntos + int(ssplit[0])-int(ssplit[1])\n",
    "    rows.append([i,puntos])\n",
    "df2 = pd.DataFrame(rows, columns = ['equipos', 'PointDiff'])\n",
    "df2"
   ]
  },
  {
   "cell_type": "code",
   "execution_count": 40,
   "id": "0c3786bd",
   "metadata": {},
   "outputs": [
    {
     "data": {
      "text/html": [
       "<div>\n",
       "<style scoped>\n",
       "    .dataframe tbody tr th:only-of-type {\n",
       "        vertical-align: middle;\n",
       "    }\n",
       "\n",
       "    .dataframe tbody tr th {\n",
       "        vertical-align: top;\n",
       "    }\n",
       "\n",
       "    .dataframe thead th {\n",
       "        text-align: right;\n",
       "    }\n",
       "</style>\n",
       "<table border=\"1\" class=\"dataframe\">\n",
       "  <thead>\n",
       "    <tr style=\"text-align: right;\">\n",
       "      <th></th>\n",
       "      <th>equipos</th>\n",
       "      <th>Badin</th>\n",
       "      <th>Farley</th>\n",
       "      <th>Lyons</th>\n",
       "      <th>McGlinn</th>\n",
       "      <th>Pangborn</th>\n",
       "      <th>PointDiff</th>\n",
       "    </tr>\n",
       "  </thead>\n",
       "  <tbody>\n",
       "    <tr>\n",
       "      <th>0</th>\n",
       "      <td>Badin</td>\n",
       "      <td>-</td>\n",
       "      <td>37-82</td>\n",
       "      <td>51-54</td>\n",
       "      <td>37-68</td>\n",
       "      <td>30-75</td>\n",
       "      <td>-124</td>\n",
       "    </tr>\n",
       "    <tr>\n",
       "      <th>1</th>\n",
       "      <td>Farley</td>\n",
       "      <td>82-37</td>\n",
       "      <td>-</td>\n",
       "      <td>64-46</td>\n",
       "      <td>55-47</td>\n",
       "      <td>57-37</td>\n",
       "      <td>91</td>\n",
       "    </tr>\n",
       "    <tr>\n",
       "      <th>2</th>\n",
       "      <td>Lyons</td>\n",
       "      <td>54-51</td>\n",
       "      <td>46-64</td>\n",
       "      <td>-</td>\n",
       "      <td>37-35</td>\n",
       "      <td>33-60</td>\n",
       "      <td>-40</td>\n",
       "    </tr>\n",
       "    <tr>\n",
       "      <th>3</th>\n",
       "      <td>McGlinn</td>\n",
       "      <td>68-37</td>\n",
       "      <td>47-55</td>\n",
       "      <td>35-37</td>\n",
       "      <td>-</td>\n",
       "      <td>44-82</td>\n",
       "      <td>-17</td>\n",
       "    </tr>\n",
       "    <tr>\n",
       "      <th>4</th>\n",
       "      <td>Pangborn</td>\n",
       "      <td>75-30</td>\n",
       "      <td>37-57</td>\n",
       "      <td>60-33</td>\n",
       "      <td>82-44</td>\n",
       "      <td>-</td>\n",
       "      <td>90</td>\n",
       "    </tr>\n",
       "  </tbody>\n",
       "</table>\n",
       "</div>"
      ],
      "text/plain": [
       "    equipos  Badin Farley  Lyons McGlinn Pangborn  PointDiff\n",
       "0     Badin      -  37-82  51-54   37-68    30-75       -124\n",
       "1    Farley  82-37      -  64-46   55-47    57-37         91\n",
       "2     Lyons  54-51  46-64      -   37-35    33-60        -40\n",
       "3   McGlinn  68-37  47-55  35-37       -    44-82        -17\n",
       "4  Pangborn  75-30  37-57  60-33   82-44        -         90"
      ]
     },
     "execution_count": 40,
     "metadata": {},
     "output_type": "execute_result"
    }
   ],
   "source": [
    "df = pd.merge(df, df2, left_on='equipos', right_on='equipos', how='left')\n",
    "df"
   ]
  },
  {
   "cell_type": "code",
   "execution_count": 42,
   "id": "29852950",
   "metadata": {},
   "outputs": [
    {
     "data": {
      "text/html": [
       "<div>\n",
       "<style scoped>\n",
       "    .dataframe tbody tr th:only-of-type {\n",
       "        vertical-align: middle;\n",
       "    }\n",
       "\n",
       "    .dataframe tbody tr th {\n",
       "        vertical-align: top;\n",
       "    }\n",
       "\n",
       "    .dataframe thead th {\n",
       "        text-align: right;\n",
       "    }\n",
       "</style>\n",
       "<table border=\"1\" class=\"dataframe\">\n",
       "  <thead>\n",
       "    <tr style=\"text-align: right;\">\n",
       "      <th></th>\n",
       "      <th>Badin</th>\n",
       "      <th>Farley</th>\n",
       "      <th>Lyons</th>\n",
       "      <th>McGlinn</th>\n",
       "      <th>Pangborn</th>\n",
       "    </tr>\n",
       "    <tr>\n",
       "      <th>equipos</th>\n",
       "      <th></th>\n",
       "      <th></th>\n",
       "      <th></th>\n",
       "      <th></th>\n",
       "      <th></th>\n",
       "    </tr>\n",
       "  </thead>\n",
       "  <tbody>\n",
       "    <tr>\n",
       "      <th>Badin</th>\n",
       "      <td>-</td>\n",
       "      <td>37-82</td>\n",
       "      <td>51-54</td>\n",
       "      <td>37-68</td>\n",
       "      <td>30-75</td>\n",
       "    </tr>\n",
       "    <tr>\n",
       "      <th>Farley</th>\n",
       "      <td>82-37</td>\n",
       "      <td>-</td>\n",
       "      <td>64-46</td>\n",
       "      <td>55-47</td>\n",
       "      <td>57-37</td>\n",
       "    </tr>\n",
       "    <tr>\n",
       "      <th>Lyons</th>\n",
       "      <td>54-51</td>\n",
       "      <td>46-64</td>\n",
       "      <td>-</td>\n",
       "      <td>37-35</td>\n",
       "      <td>33-60</td>\n",
       "    </tr>\n",
       "    <tr>\n",
       "      <th>McGlinn</th>\n",
       "      <td>68-37</td>\n",
       "      <td>47-55</td>\n",
       "      <td>35-37</td>\n",
       "      <td>-</td>\n",
       "      <td>44-82</td>\n",
       "    </tr>\n",
       "    <tr>\n",
       "      <th>Pangborn</th>\n",
       "      <td>75-30</td>\n",
       "      <td>37-57</td>\n",
       "      <td>60-33</td>\n",
       "      <td>82-44</td>\n",
       "      <td>-</td>\n",
       "    </tr>\n",
       "  </tbody>\n",
       "</table>\n",
       "</div>"
      ],
      "text/plain": [
       "          Badin Farley  Lyons McGlinn Pangborn\n",
       "equipos                                       \n",
       "Badin         -  37-82  51-54   37-68    30-75\n",
       "Farley    82-37      -  64-46   55-47    57-37\n",
       "Lyons     54-51  46-64      -   37-35    33-60\n",
       "McGlinn   68-37  47-55  35-37       -    44-82\n",
       "Pangborn  75-30  37-57  60-33   82-44        -"
      ]
     },
     "execution_count": 42,
     "metadata": {},
     "output_type": "execute_result"
    }
   ],
   "source": [
    "data_file = './data/massey.csv'\n",
    "df3 = pd.read_csv(data_file, index_col=0)\n",
    "df3.head()"
   ]
  },
  {
   "cell_type": "code",
   "execution_count": 87,
   "id": "a396015c",
   "metadata": {},
   "outputs": [],
   "source": [
    "X = np.array([\n",
    "            [1, -1,  0,  0,  0],\n",
    "            [1,  0, -1,  0,  0],\n",
    "            [1,  0,  0, -1,  0],\n",
    "            [1,  0,  0,  0, -1],\n",
    "            [0,  1, -1,  0,  0],\n",
    "            [0,  1,  0, -1,  0],\n",
    "            [0,  1,  0,  0, -1],\n",
    "            [0,  0,  1, -1,  0],\n",
    "            [0,  0,  1,  0, -1],\n",
    "            [0,  0,  0,  1, -1]\n",
    "            ])\n",
    "B = np.array(\n",
    "    [-45,-3,-31,-45,18,8,20,2,-27,-38]\n",
    "    )\n",
    "Xty = np.array([-124,91,-40,-17,90])"
   ]
  },
  {
   "cell_type": "code",
   "execution_count": 88,
   "id": "f7bb1a21",
   "metadata": {},
   "outputs": [
    {
     "data": {
      "text/plain": [
       "array([[ 1,  1,  1,  1,  0,  0,  0,  0,  0,  0],\n",
       "       [-1,  0,  0,  0,  1,  1,  1,  0,  0,  0],\n",
       "       [ 0, -1,  0,  0, -1,  0,  0,  1,  1,  0],\n",
       "       [ 0,  0, -1,  0,  0, -1,  0, -1,  0,  1],\n",
       "       [ 0,  0,  0, -1,  0,  0, -1,  0, -1, -1]])"
      ]
     },
     "execution_count": 88,
     "metadata": {},
     "output_type": "execute_result"
    }
   ],
   "source": [
    "Xt = np.transpose(X)\n",
    "Xt"
   ]
  },
  {
   "cell_type": "code",
   "execution_count": 89,
   "id": "bd37a136",
   "metadata": {},
   "outputs": [
    {
     "data": {
      "text/plain": [
       "array([[ 4, -1, -1, -1, -1],\n",
       "       [-1,  4, -1, -1, -1],\n",
       "       [-1, -1,  4, -1, -1],\n",
       "       [-1, -1, -1,  4, -1],\n",
       "       [-1, -1, -1, -1,  4]])"
      ]
     },
     "execution_count": 89,
     "metadata": {},
     "output_type": "execute_result"
    }
   ],
   "source": [
    "M = np.matmul(Xt,X)\n",
    "M"
   ]
  },
  {
   "cell_type": "code",
   "execution_count": 92,
   "id": "93e115ba",
   "metadata": {},
   "outputs": [
    {
     "name": "stdout",
     "output_type": "stream",
     "text": [
      "[-16.  32.   8.   8.  32.]\n"
     ]
    }
   ],
   "source": [
    "# no son los resultados\n",
    "X = np.linalg.inv(M).dot(Xty)\n",
    "print(X)"
   ]
  },
  {
   "cell_type": "code",
   "execution_count": null,
   "id": "39281f83",
   "metadata": {},
   "outputs": [],
   "source": []
  }
 ],
 "metadata": {
  "kernelspec": {
   "display_name": "Python 3 (ipykernel)",
   "language": "python",
   "name": "python3"
  },
  "language_info": {
   "codemirror_mode": {
    "name": "ipython",
    "version": 3
   },
   "file_extension": ".py",
   "mimetype": "text/x-python",
   "name": "python",
   "nbconvert_exporter": "python",
   "pygments_lexer": "ipython3",
   "version": "3.9.12"
  }
 },
 "nbformat": 4,
 "nbformat_minor": 5
}
