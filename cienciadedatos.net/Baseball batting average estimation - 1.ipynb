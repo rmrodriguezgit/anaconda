{
 "cells": [
  {
   "cell_type": "markdown",
   "id": "9862c11c",
   "metadata": {},
   "source": [
    "https://github.com/pymc-devs/pymc4/blob/master/notebooks/baseball.ipynb"
   ]
  },
  {
   "cell_type": "markdown",
   "id": "428302c2",
   "metadata": {},
   "source": [
    "Estimación promedio de bateo de béisbol\n",
    "Uno de los principales objetivos de la analítica deportiva es separar el talento o la habilidad del azar al interpretar los resultados observados. Si bien, en última instancia, nos preocupamos por los resultados (juegos ganados, puntos anotados, hits de base), solo la habilidad asociada con el jugador o el equipo es útil para predecir resultados futuros. Este es sin duda el caso en el béisbol, donde incluso los jugadores muy buenos pueden tener períodos prolongados sin conseguir un hit, y de la misma manera, los jugadores por debajo del promedio pueden tener rachas de hits.\n",
    "\n",
    "El siguiente ejemplo, tomado de Efron y Morris (1975) ilustra este punto: los datos comprenden 18 bateadores que, en una fecha particular de la temporada de 1970, acumularon 45 turnos al bate (posibilidades de conseguir un hit). El número de aciertos oscila entre 7 y 18. Sin embargo, ¿cómo podemos estar seguros de que los jugadores con más aciertos son más hábiles que los que tienen menos? Podemos usar un enfoque de modelado bayesiano para estimar los promedios de bateo (la proporción esperada de turnos al bate que resultan en hits) para los jugadores, usando un pool parcial para ajustar los valores extremos, cubriendo así nuestras apuestas donde la suerte pudo haber estado en juego."
   ]
  },
  {
   "cell_type": "code",
   "execution_count": 4,
   "id": "1c0a2267",
   "metadata": {},
   "outputs": [],
   "source": [
    "import arviz as az\n",
    "import pymc3 as pm\n",
    "import tensorflow as tf\n",
    "import pandas as pd"
   ]
  },
  {
   "cell_type": "code",
   "execution_count": 6,
   "id": "65b717ce",
   "metadata": {},
   "outputs": [
    {
     "ename": "AttributeError",
     "evalue": "module 'pymc3.glm.utils' has no attribute 'get_data'",
     "output_type": "error",
     "traceback": [
      "\u001b[0;31m---------------------------------------------------------------------------\u001b[0m",
      "\u001b[0;31mAttributeError\u001b[0m                            Traceback (most recent call last)",
      "Input \u001b[0;32mIn [6]\u001b[0m, in \u001b[0;36m<cell line: 1>\u001b[0;34m()\u001b[0m\n\u001b[0;32m----> 1\u001b[0m data \u001b[38;5;241m=\u001b[39m pd\u001b[38;5;241m.\u001b[39mread_csv(\u001b[43mpm\u001b[49m\u001b[38;5;241;43m.\u001b[39;49m\u001b[43mutils\u001b[49m\u001b[38;5;241;43m.\u001b[39;49m\u001b[43mget_data\u001b[49m(\u001b[38;5;124m'\u001b[39m\u001b[38;5;124m./efron-morris-75-data.tsv\u001b[39m\u001b[38;5;124m'\u001b[39m), sep\u001b[38;5;241m=\u001b[39m\u001b[38;5;124m\"\u001b[39m\u001b[38;5;130;01m\\t\u001b[39;00m\u001b[38;5;124m\"\u001b[39m)\n\u001b[1;32m      2\u001b[0m at_bats, hits \u001b[38;5;241m=\u001b[39m data[[\u001b[38;5;124m'\u001b[39m\u001b[38;5;124mAt-Bats\u001b[39m\u001b[38;5;124m'\u001b[39m, \u001b[38;5;124m'\u001b[39m\u001b[38;5;124mHits\u001b[39m\u001b[38;5;124m'\u001b[39m]]\u001b[38;5;241m.\u001b[39mvalues\u001b[38;5;241m.\u001b[39mT\n",
      "\u001b[0;31mAttributeError\u001b[0m: module 'pymc3.glm.utils' has no attribute 'get_data'"
     ]
    }
   ],
   "source": [
    "data = pd.read_csv(pm.utils.get_data('./efron-morris-75-data.tsv'), sep=\"\\t\")\n",
    "at_bats, hits = data[['At-Bats', 'Hits']].values.T"
   ]
  },
  {
   "cell_type": "code",
   "execution_count": null,
   "id": "e1f039a0",
   "metadata": {},
   "outputs": [],
   "source": []
  }
 ],
 "metadata": {
  "kernelspec": {
   "display_name": "Python 3 (ipykernel)",
   "language": "python",
   "name": "python3"
  },
  "language_info": {
   "codemirror_mode": {
    "name": "ipython",
    "version": 3
   },
   "file_extension": ".py",
   "mimetype": "text/x-python",
   "name": "python",
   "nbconvert_exporter": "python",
   "pygments_lexer": "ipython3",
   "version": "3.9.12"
  }
 },
 "nbformat": 4,
 "nbformat_minor": 5
}
