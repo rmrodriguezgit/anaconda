{
 "cells": [
  {
   "cell_type": "code",
   "execution_count": 1,
   "id": "2e587eac",
   "metadata": {},
   "outputs": [
    {
     "name": "stdout",
     "output_type": "stream",
     "text": [
      "ymedia =  25.433333333333334\n",
      " f = 1.86071428571428*x**2 + 2.35928571428574*x + 2.47857142857141\n",
      "coef_determinacion r2 =  0.9985093572984048\n",
      "99.85% de los datos\n",
      "     se describe con el modelo\n"
     ]
    },
    {
     "data": {
      "image/png": "[encoded data removed]",
      "text/plain": [
       "<Figure size 432x288 with 1 Axes>"
      ]
     },
     "metadata": {
      "needs_background": "light"
     },
     "output_type": "display_data"
    }
   ],
   "source": [
    "# regresion con polinomio grado m=2\n",
    "import numpy as np\n",
    "import sympy as sym\n",
    "import matplotlib.pyplot as plt\n",
    "\n",
    "# INGRESO\n",
    "xi = [0,   1,    2,    3,    4,   5]\n",
    "yi = [2.1, 7.7, 13.6, 27.2, 40.9, 61.1]\n",
    "m  = 2\n",
    "\n",
    "# PROCEDIMIENTO\n",
    "xi = np.array(xi)\n",
    "yi = np.array(yi)\n",
    "n  = len(xi)\n",
    "\n",
    "# llenar matriz a y vector B\n",
    "k = m + 1\n",
    "A = np.zeros(shape=(k,k),dtype=float)\n",
    "B = np.zeros(k,dtype=float)\n",
    "for i in range(0,k,1):\n",
    "    for j in range(0,i+1,1):\n",
    "        coeficiente = np.sum(xi**(i+j))\n",
    "        A[i,j] = coeficiente\n",
    "        A[j,i] = coeficiente\n",
    "    B[i] = np.sum(yi*(xi**i))\n",
    "\n",
    "# coeficientes, resuelve sistema de ecuaciones\n",
    "C = np.linalg.solve(A,B)\n",
    "\n",
    "# polinomio\n",
    "x = sym.Symbol('x')\n",
    "f = 0\n",
    "fetiq = 0\n",
    "for i in range(0,k,1):\n",
    "    f = f + C[i]*(x**i)\n",
    "    fetiq = fetiq + np.around(C[i],4)*(x**i)\n",
    "\n",
    "fx = sym.lambdify(x,f)\n",
    "fi = fx(xi)\n",
    "\n",
    "# errores\n",
    "ym = np.mean(yi)\n",
    "xm = np.mean(xi)\n",
    "errado = fi - yi\n",
    "\n",
    "sr = np.sum((yi-fi)**2)\n",
    "syx = np.sqrt(sr/(n-(m+1)))\n",
    "st = np.sum((yi-ym)**2)\n",
    "\n",
    "# coeficiente de determinacion\n",
    "r2 = (st-sr)/st\n",
    "r2_porcentaje = np.around(r2*100,2)\n",
    "\n",
    "# SALIDA\n",
    "print('ymedia = ',ym)\n",
    "print(' f =',f)\n",
    "print('coef_determinacion r2 = ',r2)\n",
    "print(str(r2_porcentaje)+'% de los datos')\n",
    "print('     se describe con el modelo')\n",
    "\n",
    "# grafica\n",
    "plt.plot(xi,yi,'o',label='(xi,yi)')\n",
    "# plt.stem(xi,yi, bottom=ym)\n",
    "plt.plot(xi,fi, color='orange', label=fetiq)\n",
    "\n",
    "# lineas de error\n",
    "for i in range(0,n,1):\n",
    "    y0 = np.min([yi[i],fi[i]])\n",
    "    y1 = np.max([yi[i],fi[i]])\n",
    "    plt.vlines(xi[i],y0,y1, color='red',\n",
    "               linestyle = 'dotted')\n",
    "\n",
    "plt.xlabel('xi')\n",
    "plt.ylabel('yi')\n",
    "plt.legend()\n",
    "plt.title('Regresion polinomial grado '+str(m))\n",
    "plt.show()"
   ]
  },
  {
   "cell_type": "code",
   "execution_count": null,
   "id": "eebd9ab5",
   "metadata": {},
   "outputs": [],
   "source": []
  }
 ],
 "metadata": {
  "kernelspec": {
   "display_name": "Python 3 (ipykernel)",
   "language": "python",
   "name": "python3"
  },
  "language_info": {
   "codemirror_mode": {
    "name": "ipython",
    "version": 3
   },
   "file_extension": ".py",
   "mimetype": "text/x-python",
   "name": "python",
   "nbconvert_exporter": "python",
   "pygments_lexer": "ipython3",
   "version": "3.9.12"
  }
 },
 "nbformat": 4,
 "nbformat_minor": 5
}
