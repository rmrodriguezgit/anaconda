{
 "cells": [
  {
   "cell_type": "code",
   "execution_count": 1,
   "id": "0a66c257",
   "metadata": {},
   "outputs": [],
   "source": [
    "import numpy as np\n",
    "np.random.seed(4)\n",
    "import matplotlib.pyplot as plt\n",
    "import pandas as pd\n",
    "\n",
    "from sklearn.preprocessing import MinMaxScaler\n",
    "from keras.models import Sequential\n",
    "from keras.layers import Dense, LSTM"
   ]
  },
  {
   "cell_type": "code",
   "execution_count": 2,
   "id": "db9fd13e",
   "metadata": {},
   "outputs": [],
   "source": [
    "#\n",
    "# Funciones auxiliares\n",
    "#\n",
    "def graficar_predicciones(real, prediccion):\n",
    "    plt.plot(real[0:len(prediccion)],color='red', label='Valor real de la acción')\n",
    "    plt.plot(prediccion, color='blue', label='Predicción de la acción')\n",
    "    plt.ylim(1.1 * np.min(prediccion)/2, 1.1 * np.max(prediccion))\n",
    "    plt.xlabel('Tiempo')\n",
    "    plt.ylabel('Valor de la acción')\n",
    "    plt.legend()\n",
    "    plt.show()"
   ]
  },
  {
   "cell_type": "code",
   "execution_count": 3,
   "id": "42d46b6f",
   "metadata": {},
   "outputs": [
    {
     "data": {
      "text/html": [
       "<div>\n",
       "<style scoped>\n",
       "    .dataframe tbody tr th:only-of-type {\n",
       "        vertical-align: middle;\n",
       "    }\n",
       "\n",
       "    .dataframe tbody tr th {\n",
       "        vertical-align: top;\n",
       "    }\n",
       "\n",
       "    .dataframe thead th {\n",
       "        text-align: right;\n",
       "    }\n",
       "</style>\n",
       "<table border=\"1\" class=\"dataframe\">\n",
       "  <thead>\n",
       "    <tr style=\"text-align: right;\">\n",
       "      <th></th>\n",
       "      <th>Open</th>\n",
       "      <th>High</th>\n",
       "      <th>Low</th>\n",
       "      <th>Close</th>\n",
       "      <th>Volume</th>\n",
       "      <th>Name</th>\n",
       "    </tr>\n",
       "    <tr>\n",
       "      <th>Date</th>\n",
       "      <th></th>\n",
       "      <th></th>\n",
       "      <th></th>\n",
       "      <th></th>\n",
       "      <th></th>\n",
       "      <th></th>\n",
       "    </tr>\n",
       "  </thead>\n",
       "  <tbody>\n",
       "    <tr>\n",
       "      <th>2006-01-03</th>\n",
       "      <td>10.34</td>\n",
       "      <td>10.68</td>\n",
       "      <td>10.32</td>\n",
       "      <td>10.68</td>\n",
       "      <td>201853036</td>\n",
       "      <td>AAPL</td>\n",
       "    </tr>\n",
       "    <tr>\n",
       "      <th>2006-01-04</th>\n",
       "      <td>10.73</td>\n",
       "      <td>10.85</td>\n",
       "      <td>10.64</td>\n",
       "      <td>10.71</td>\n",
       "      <td>155225609</td>\n",
       "      <td>AAPL</td>\n",
       "    </tr>\n",
       "    <tr>\n",
       "      <th>2006-01-05</th>\n",
       "      <td>10.69</td>\n",
       "      <td>10.70</td>\n",
       "      <td>10.54</td>\n",
       "      <td>10.63</td>\n",
       "      <td>112396081</td>\n",
       "      <td>AAPL</td>\n",
       "    </tr>\n",
       "    <tr>\n",
       "      <th>2006-01-06</th>\n",
       "      <td>10.75</td>\n",
       "      <td>10.96</td>\n",
       "      <td>10.65</td>\n",
       "      <td>10.90</td>\n",
       "      <td>176139334</td>\n",
       "      <td>AAPL</td>\n",
       "    </tr>\n",
       "    <tr>\n",
       "      <th>2006-01-09</th>\n",
       "      <td>10.96</td>\n",
       "      <td>11.03</td>\n",
       "      <td>10.82</td>\n",
       "      <td>10.86</td>\n",
       "      <td>168861224</td>\n",
       "      <td>AAPL</td>\n",
       "    </tr>\n",
       "  </tbody>\n",
       "</table>\n",
       "</div>"
      ],
      "text/plain": [
       "             Open   High    Low  Close     Volume  Name\n",
       "Date                                                   \n",
       "2006-01-03  10.34  10.68  10.32  10.68  201853036  AAPL\n",
       "2006-01-04  10.73  10.85  10.64  10.71  155225609  AAPL\n",
       "2006-01-05  10.69  10.70  10.54  10.63  112396081  AAPL\n",
       "2006-01-06  10.75  10.96  10.65  10.90  176139334  AAPL\n",
       "2006-01-09  10.96  11.03  10.82  10.86  168861224  AAPL"
      ]
     },
     "execution_count": 3,
     "metadata": {},
     "output_type": "execute_result"
    }
   ],
   "source": [
    "#\n",
    "# Lectura de los datos\n",
    "#\n",
    "dataset = pd.read_csv('./AAPL_2006-01-01_to_2018-01-01.csv', index_col='Date', parse_dates=['Date'])\n",
    "dataset.head()"
   ]
  },
  {
   "cell_type": "code",
   "execution_count": 4,
   "id": "27e26764",
   "metadata": {},
   "outputs": [
    {
     "data": {
      "image/png": "[encoded data removed]",
      "text/plain": [
       "<Figure size 432x288 with 1 Axes>"
      ]
     },
     "metadata": {
      "needs_background": "light"
     },
     "output_type": "display_data"
    },
    {
     "name": "stdout",
     "output_type": "stream",
     "text": [
      "Epoch 1/20\n",
      "85/85 [==============================] - 6s 37ms/step - loss: 0.0133\n",
      "Epoch 2/20\n",
      "85/85 [==============================] - 3s 35ms/step - loss: 0.0014\n",
      "Epoch 3/20\n",
      "85/85 [==============================] - 3s 41ms/step - loss: 8.5148e-04\n",
      "Epoch 4/20\n",
      "85/85 [==============================] - 3s 38ms/step - loss: 6.0971e-04\n",
      "Epoch 5/20\n",
      "85/85 [==============================] - 3s 39ms/step - loss: 4.4438e-04\n",
      "Epoch 6/20\n",
      "85/85 [==============================] - 4s 41ms/step - loss: 3.9519e-04\n",
      "Epoch 7/20\n",
      "85/85 [==============================] - 4s 46ms/step - loss: 3.2813e-04\n",
      "Epoch 8/20\n",
      "85/85 [==============================] - 3s 36ms/step - loss: 3.1630e-04\n",
      "Epoch 9/20\n",
      "85/85 [==============================] - 3s 37ms/step - loss: 2.9154e-04\n",
      "Epoch 10/20\n",
      "85/85 [==============================] - 5s 53ms/step - loss: 2.5854e-04\n",
      "Epoch 11/20\n",
      "85/85 [==============================] - 4s 45ms/step - loss: 2.4706e-04\n",
      "Epoch 12/20\n",
      "85/85 [==============================] - 4s 51ms/step - loss: 2.3661e-04\n",
      "Epoch 13/20\n",
      "85/85 [==============================] - 3s 39ms/step - loss: 2.3481e-04\n",
      "Epoch 14/20\n",
      "85/85 [==============================] - 3s 41ms/step - loss: 2.0744e-04\n",
      "Epoch 15/20\n",
      "85/85 [==============================] - 3s 38ms/step - loss: 2.0626e-04\n",
      "Epoch 16/20\n",
      "85/85 [==============================] - 3s 36ms/step - loss: 2.1006e-04\n",
      "Epoch 17/20\n",
      "85/85 [==============================] - 3s 35ms/step - loss: 1.9295e-04\n",
      "Epoch 18/20\n",
      "85/85 [==============================] - 3s 37ms/step - loss: 1.7321e-04\n",
      "Epoch 19/20\n",
      "85/85 [==============================] - 3s 37ms/step - loss: 1.7870e-04\n",
      "Epoch 20/20\n",
      "85/85 [==============================] - 3s 38ms/step - loss: 1.8473e-04\n"
     ]
    },
    {
     "data": {
      "text/plain": [
       "<keras.callbacks.History at 0x7f88891b8d60>"
      ]
     },
     "execution_count": 4,
     "metadata": {},
     "output_type": "execute_result"
    }
   ],
   "source": [
    "#\n",
    "# Sets de entrenamiento y validación \n",
    "# La LSTM se entrenará con datos de 2016 hacia atrás. La validación se hará con datos de 2017 en adelante.\n",
    "# En ambos casos sólo se usará el valor más alto de la acción para cada día\n",
    "#\n",
    "set_entrenamiento = dataset[:'2016'].iloc[:,1:2]\n",
    "set_validacion = dataset['2017':].iloc[:,1:2]\n",
    "\n",
    "set_entrenamiento['High'].plot(legend=True)\n",
    "set_validacion['High'].plot(legend=True)\n",
    "plt.legend(['Entrenamiento (2006-2016)', 'Validación (2017)'])\n",
    "plt.show()\n",
    "\n",
    "# Normalización del set de entrenamiento\n",
    "sc = MinMaxScaler(feature_range=(0,1))\n",
    "set_entrenamiento_escalado = sc.fit_transform(set_entrenamiento)\n",
    "\n",
    "# La red LSTM tendrá como entrada \"time_step\" datos consecutivos, y como salida 1 dato (la predicción a\n",
    "# partir de esos \"time_step\" datos). Se conformará de esta forma el set de entrenamiento\n",
    "time_step = 60\n",
    "X_train = []\n",
    "Y_train = []\n",
    "m = len(set_entrenamiento_escalado)\n",
    "\n",
    "for i in range(time_step,m):\n",
    "    # X: bloques de \"time_step\" datos: 0-time_step, 1-time_step+1, 2-time_step+2, etc\n",
    "    X_train.append(set_entrenamiento_escalado[i-time_step:i,0])\n",
    "\n",
    "    # Y: el siguiente dato\n",
    "    Y_train.append(set_entrenamiento_escalado[i,0])\n",
    "X_train, Y_train = np.array(X_train), np.array(Y_train)\n",
    "\n",
    "# Reshape X_train para que se ajuste al modelo en Keras\n",
    "X_train = np.reshape(X_train, (X_train.shape[0], X_train.shape[1], 1))\n",
    "\n",
    "#\n",
    "# Red LSTM\n",
    "#\n",
    "dim_entrada = (X_train.shape[1],1)\n",
    "dim_salida = 1\n",
    "na = 50\n",
    "\n",
    "modelo = Sequential()\n",
    "modelo.add(LSTM(units=na, input_shape=dim_entrada))\n",
    "modelo.add(Dense(units=dim_salida))\n",
    "modelo.compile(optimizer='rmsprop', loss='mse')\n",
    "modelo.fit(X_train,Y_train,epochs=20,batch_size=32)"
   ]
  },
  {
   "cell_type": "code",
   "execution_count": 5,
   "id": "daba6da0",
   "metadata": {},
   "outputs": [
    {
     "name": "stderr",
     "output_type": "stream",
     "text": [
      "/opt/anaconda3/envs/kerasTensor/lib/python3.9/site-packages/sklearn/base.py:450: UserWarning: X does not have valid feature names, but MinMaxScaler was fitted with feature names\n",
      "  warnings.warn(\n"
     ]
    },
    {
     "name": "stdout",
     "output_type": "stream",
     "text": [
      "6/6 [==============================] - 1s 14ms/step\n"
     ]
    },
    {
     "data": {
      "image/png": "[encoded data removed]",
      "text/plain": [
       "<Figure size 432x288 with 1 Axes>"
      ]
     },
     "metadata": {
      "needs_background": "light"
     },
     "output_type": "display_data"
    }
   ],
   "source": [
    "#\n",
    "# Validación (predicción del valor de las acciones)\n",
    "#\n",
    "x_test = set_validacion.values\n",
    "x_test = sc.transform(x_test)\n",
    "\n",
    "X_test = []\n",
    "for i in range(time_step,len(x_test)):\n",
    "    X_test.append(x_test[i-time_step:i,0])\n",
    "X_test = np.array(X_test)\n",
    "X_test = np.reshape(X_test, (X_test.shape[0],X_test.shape[1],1))\n",
    "\n",
    "prediccion = modelo.predict(X_test)\n",
    "prediccion = sc.inverse_transform(prediccion)\n",
    "\n",
    "# Graficar resultados\n",
    "graficar_predicciones(set_validacion.values,prediccion)"
   ]
  },
  {
   "cell_type": "code",
   "execution_count": null,
   "id": "7b7d419c",
   "metadata": {},
   "outputs": [],
   "source": []
  }
 ],
 "metadata": {
  "kernelspec": {
   "display_name": "Python 3 (ipykernel)",
   "language": "python",
   "name": "python3"
  },
  "language_info": {
   "codemirror_mode": {
    "name": "ipython",
    "version": 3
   },
   "file_extension": ".py",
   "mimetype": "text/x-python",
   "name": "python",
   "nbconvert_exporter": "python",
   "pygments_lexer": "ipython3",
   "version": "3.9.12"
  }
 },
 "nbformat": 4,
 "nbformat_minor": 5
}
