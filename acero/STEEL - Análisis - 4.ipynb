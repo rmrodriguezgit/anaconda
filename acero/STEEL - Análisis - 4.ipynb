{
 "cells": [
  {
   "cell_type": "markdown",
   "id": "0616a5eb",
   "metadata": {},
   "source": [
    "# Análisis del Acero "
   ]
  },
  {
   "cell_type": "markdown",
   "id": "a71f2243",
   "metadata": {},
   "source": [
    "### Descargar el Histórico\n",
    "#### https://www.wsj.com/market-data/quotes/index/XX/STEEL/historical-prices\n",
    "#### https://machinelearningmastery.com/random-forest-for-time-series-forecasting/\n"
   ]
  },
  {
   "cell_type": "code",
   "execution_count": 48,
   "id": "f00b4531",
   "metadata": {},
   "outputs": [],
   "source": [
    "import pandas as pd\n",
    "import datetime"
   ]
  },
  {
   "cell_type": "code",
   "execution_count": 49,
   "id": "90d2b1f6",
   "metadata": {},
   "outputs": [
    {
     "data": {
      "text/html": [
       "<div>\n",
       "<style scoped>\n",
       "    .dataframe tbody tr th:only-of-type {\n",
       "        vertical-align: middle;\n",
       "    }\n",
       "\n",
       "    .dataframe tbody tr th {\n",
       "        vertical-align: top;\n",
       "    }\n",
       "\n",
       "    .dataframe thead th {\n",
       "        text-align: right;\n",
       "    }\n",
       "</style>\n",
       "<table border=\"1\" class=\"dataframe\">\n",
       "  <thead>\n",
       "    <tr style=\"text-align: right;\">\n",
       "      <th></th>\n",
       "      <th>Date</th>\n",
       "      <th>Open</th>\n",
       "      <th>High</th>\n",
       "      <th>Low</th>\n",
       "      <th>Close</th>\n",
       "    </tr>\n",
       "  </thead>\n",
       "  <tbody>\n",
       "    <tr>\n",
       "      <th>0</th>\n",
       "      <td>10/31/22</td>\n",
       "      <td>1515.46</td>\n",
       "      <td>1540.19</td>\n",
       "      <td>1502.85</td>\n",
       "      <td>1527.60</td>\n",
       "    </tr>\n",
       "    <tr>\n",
       "      <th>1</th>\n",
       "      <td>10/28/22</td>\n",
       "      <td>1549.91</td>\n",
       "      <td>1549.91</td>\n",
       "      <td>1495.24</td>\n",
       "      <td>1515.46</td>\n",
       "    </tr>\n",
       "    <tr>\n",
       "      <th>2</th>\n",
       "      <td>10/27/22</td>\n",
       "      <td>1569.01</td>\n",
       "      <td>1569.01</td>\n",
       "      <td>1540.51</td>\n",
       "      <td>1549.92</td>\n",
       "    </tr>\n",
       "    <tr>\n",
       "      <th>3</th>\n",
       "      <td>10/26/22</td>\n",
       "      <td>1549.37</td>\n",
       "      <td>1598.02</td>\n",
       "      <td>1546.81</td>\n",
       "      <td>1569.01</td>\n",
       "    </tr>\n",
       "    <tr>\n",
       "      <th>4</th>\n",
       "      <td>10/25/22</td>\n",
       "      <td>1545.64</td>\n",
       "      <td>1556.36</td>\n",
       "      <td>1516.04</td>\n",
       "      <td>1549.37</td>\n",
       "    </tr>\n",
       "    <tr>\n",
       "      <th>...</th>\n",
       "      <td>...</td>\n",
       "      <td>...</td>\n",
       "      <td>...</td>\n",
       "      <td>...</td>\n",
       "      <td>...</td>\n",
       "    </tr>\n",
       "    <tr>\n",
       "      <th>3223</th>\n",
       "      <td>01/08/10</td>\n",
       "      <td>1819.66</td>\n",
       "      <td>1872.38</td>\n",
       "      <td>1819.66</td>\n",
       "      <td>1866.62</td>\n",
       "    </tr>\n",
       "    <tr>\n",
       "      <th>3224</th>\n",
       "      <td>01/07/10</td>\n",
       "      <td>1827.25</td>\n",
       "      <td>1827.25</td>\n",
       "      <td>1794.30</td>\n",
       "      <td>1819.66</td>\n",
       "    </tr>\n",
       "    <tr>\n",
       "      <th>3225</th>\n",
       "      <td>01/06/10</td>\n",
       "      <td>1785.33</td>\n",
       "      <td>1834.36</td>\n",
       "      <td>1783.68</td>\n",
       "      <td>1827.25</td>\n",
       "    </tr>\n",
       "    <tr>\n",
       "      <th>3226</th>\n",
       "      <td>01/05/10</td>\n",
       "      <td>1770.72</td>\n",
       "      <td>1796.94</td>\n",
       "      <td>1767.13</td>\n",
       "      <td>1785.33</td>\n",
       "    </tr>\n",
       "    <tr>\n",
       "      <th>3227</th>\n",
       "      <td>01/04/10</td>\n",
       "      <td>1699.33</td>\n",
       "      <td>1771.28</td>\n",
       "      <td>1699.33</td>\n",
       "      <td>1770.72</td>\n",
       "    </tr>\n",
       "  </tbody>\n",
       "</table>\n",
       "<p>3228 rows × 5 columns</p>\n",
       "</div>"
      ],
      "text/plain": [
       "          Date     Open     High      Low    Close\n",
       "0     10/31/22  1515.46  1540.19  1502.85  1527.60\n",
       "1     10/28/22  1549.91  1549.91  1495.24  1515.46\n",
       "2     10/27/22  1569.01  1569.01  1540.51  1549.92\n",
       "3     10/26/22  1549.37  1598.02  1546.81  1569.01\n",
       "4     10/25/22  1545.64  1556.36  1516.04  1549.37\n",
       "...        ...      ...      ...      ...      ...\n",
       "3223  01/08/10  1819.66  1872.38  1819.66  1866.62\n",
       "3224  01/07/10  1827.25  1827.25  1794.30  1819.66\n",
       "3225  01/06/10  1785.33  1834.36  1783.68  1827.25\n",
       "3226  01/05/10  1770.72  1796.94  1767.13  1785.33\n",
       "3227  01/04/10  1699.33  1771.28  1699.33  1770.72\n",
       "\n",
       "[3228 rows x 5 columns]"
      ]
     },
     "execution_count": 49,
     "metadata": {},
     "output_type": "execute_result"
    }
   ],
   "source": [
    "steel = pd.read_csv('./steel_2010_221101.csv')\n",
    "steel"
   ]
  },
  {
   "cell_type": "code",
   "execution_count": 50,
   "id": "7c6571a6",
   "metadata": {},
   "outputs": [],
   "source": [
    "steel = steel.drop(columns=['Open', 'Low', 'Close'])\n",
    "steel = steel.rename(columns={\"High\": \"STEEL\"})"
   ]
  },
  {
   "cell_type": "code",
   "execution_count": 51,
   "id": "8a4f8435",
   "metadata": {},
   "outputs": [],
   "source": [
    "steel['Date'] = steel['Date'].str[0:2]+'/'+steel['Date'].str[3:5]+'/20'+steel['Date'].str[6:9]"
   ]
  },
  {
   "cell_type": "code",
   "execution_count": 52,
   "id": "3541b765",
   "metadata": {},
   "outputs": [
    {
     "data": {
      "text/html": [
       "<div>\n",
       "<style scoped>\n",
       "    .dataframe tbody tr th:only-of-type {\n",
       "        vertical-align: middle;\n",
       "    }\n",
       "\n",
       "    .dataframe tbody tr th {\n",
       "        vertical-align: top;\n",
       "    }\n",
       "\n",
       "    .dataframe thead th {\n",
       "        text-align: right;\n",
       "    }\n",
       "</style>\n",
       "<table border=\"1\" class=\"dataframe\">\n",
       "  <thead>\n",
       "    <tr style=\"text-align: right;\">\n",
       "      <th></th>\n",
       "      <th>STEEL</th>\n",
       "    </tr>\n",
       "  </thead>\n",
       "  <tbody>\n",
       "    <tr>\n",
       "      <th>count</th>\n",
       "      <td>3228.000000</td>\n",
       "    </tr>\n",
       "    <tr>\n",
       "      <th>mean</th>\n",
       "      <td>1272.399777</td>\n",
       "    </tr>\n",
       "    <tr>\n",
       "      <th>std</th>\n",
       "      <td>360.317227</td>\n",
       "    </tr>\n",
       "    <tr>\n",
       "      <th>min</th>\n",
       "      <td>456.510000</td>\n",
       "    </tr>\n",
       "    <tr>\n",
       "      <th>25%</th>\n",
       "      <td>1036.320000</td>\n",
       "    </tr>\n",
       "    <tr>\n",
       "      <th>50%</th>\n",
       "      <td>1241.275000</td>\n",
       "    </tr>\n",
       "    <tr>\n",
       "      <th>75%</th>\n",
       "      <td>1510.945000</td>\n",
       "    </tr>\n",
       "    <tr>\n",
       "      <th>max</th>\n",
       "      <td>2415.200000</td>\n",
       "    </tr>\n",
       "  </tbody>\n",
       "</table>\n",
       "</div>"
      ],
      "text/plain": [
       "             STEEL\n",
       "count  3228.000000\n",
       "mean   1272.399777\n",
       "std     360.317227\n",
       "min     456.510000\n",
       "25%    1036.320000\n",
       "50%    1241.275000\n",
       "75%    1510.945000\n",
       "max    2415.200000"
      ]
     },
     "execution_count": 52,
     "metadata": {},
     "output_type": "execute_result"
    }
   ],
   "source": [
    "steel.describe()"
   ]
  },
  {
   "cell_type": "code",
   "execution_count": 53,
   "id": "466c8847",
   "metadata": {},
   "outputs": [],
   "source": [
    "steel['Date'] = pd.to_datetime(steel['Date'], format=\"%m/%d/%Y\")\n",
    "#steel"
   ]
  },
  {
   "cell_type": "code",
   "execution_count": 54,
   "id": "01cc65d0",
   "metadata": {},
   "outputs": [
    {
     "data": {
      "text/plain": [
       "DatetimeIndex(['2022-10-31', '2022-10-28', '2022-10-27', '2022-10-26',\n",
       "               '2022-10-25', '2022-10-24', '2022-10-21', '2022-10-20',\n",
       "               '2022-10-19', '2022-10-18',\n",
       "               ...\n",
       "               '2010-01-15', '2010-01-14', '2010-01-13', '2010-01-12',\n",
       "               '2010-01-11', '2010-01-08', '2010-01-07', '2010-01-06',\n",
       "               '2010-01-05', '2010-01-04'],\n",
       "              dtype='datetime64[ns]', name='Date', length=3228, freq=None)"
      ]
     },
     "execution_count": 54,
     "metadata": {},
     "output_type": "execute_result"
    }
   ],
   "source": [
    "steel.index = pd.to_datetime(steel['Date'], format='%Y-%m-%d')\n",
    "steel.index"
   ]
  },
  {
   "cell_type": "code",
   "execution_count": 55,
   "id": "0e8947ce",
   "metadata": {},
   "outputs": [],
   "source": [
    "del steel['Date']"
   ]
  },
  {
   "cell_type": "code",
   "execution_count": 56,
   "id": "143e7171",
   "metadata": {},
   "outputs": [],
   "source": [
    "import matplotlib.pyplot as plt\n",
    "import seaborn as sns"
   ]
  },
  {
   "cell_type": "code",
   "execution_count": 57,
   "id": "1c469584",
   "metadata": {},
   "outputs": [],
   "source": [
    "sns.set()"
   ]
  },
  {
   "cell_type": "code",
   "execution_count": 58,
   "id": "f4697487",
   "metadata": {},
   "outputs": [
    {
     "data": {
      "text/plain": [
       "[<matplotlib.lines.Line2D at 0x7fec43aa9850>]"
      ]
     },
     "execution_count": 58,
     "metadata": {},
     "output_type": "execute_result"
    },
    {
     "data": {
      "image/png": "[encoded data removed]",
      "text/plain": [
       "<Figure size 432x288 with 1 Axes>"
      ]
     },
     "metadata": {},
     "output_type": "display_data"
    }
   ],
   "source": [
    "plt.plot(steel.index, steel['STEEL'], )"
   ]
  },
  {
   "cell_type": "code",
   "execution_count": 59,
   "id": "392d2eb0",
   "metadata": {},
   "outputs": [],
   "source": [
    "### Continuamos"
   ]
  },
  {
   "cell_type": "code",
   "execution_count": 60,
   "id": "48176162",
   "metadata": {},
   "outputs": [],
   "source": [
    "data = steel\n",
    "data = data.rename(columns={\"STEEL\": \"y\"})"
   ]
  },
  {
   "cell_type": "code",
   "execution_count": 61,
   "id": "de46fbec",
   "metadata": {},
   "outputs": [],
   "source": [
    "data = data.sort_values('Date')"
   ]
  },
  {
   "cell_type": "code",
   "execution_count": 62,
   "id": "096a9e32",
   "metadata": {},
   "outputs": [
    {
     "name": "stdout",
     "output_type": "stream",
     "text": [
      "(3228, 1)\n"
     ]
    }
   ],
   "source": [
    "#data = data.tail(195)\n",
    "print(data.shape)\n",
    "data = data.rename(columns={\"STEEL\": \"y\"})\n",
    "data\n",
    "steel = data.copy()"
   ]
  },
  {
   "cell_type": "code",
   "execution_count": 63,
   "id": "1148d801",
   "metadata": {},
   "outputs": [
    {
     "data": {
      "text/plain": [
       "[<matplotlib.lines.Line2D at 0x7fec40312d90>]"
      ]
     },
     "execution_count": 63,
     "metadata": {},
     "output_type": "execute_result"
    },
    {
     "data": {
      "image/png": "[encoded data removed]",
      "text/plain": [
       "<Figure size 432x288 with 1 Axes>"
      ]
     },
     "metadata": {},
     "output_type": "display_data"
    }
   ],
   "source": [
    "plt.plot(data.index, data['y'], )"
   ]
  },
  {
   "cell_type": "code",
   "execution_count": 68,
   "id": "acef3ce0",
   "metadata": {},
   "outputs": [
    {
     "data": {
      "image/png": "[encoded data removed]",
      "text/plain": [
       "<Figure size 432x288 with 4 Axes>"
      ]
     },
     "metadata": {},
     "output_type": "display_data"
    }
   ],
   "source": [
    "from statsmodels.tsa.seasonal import seasonal_decompose\n",
    "from matplotlib import pyplot\n",
    "\n",
    "\n",
    "result = seasonal_decompose(data, model='multiplicative', period=52)\n",
    "result.plot()\n",
    "pyplot.show()"
   ]
  },
  {
   "cell_type": "code",
   "execution_count": 67,
   "id": "c7d3e34d",
   "metadata": {},
   "outputs": [
    {
     "name": "stdout",
     "output_type": "stream",
     "text": [
      ">expected=1501.6, predicted=1531.8\n",
      ">expected=1493.9, predicted=1485.0\n",
      ">expected=1517.8, predicted=1503.4\n",
      ">expected=1502.9, predicted=1520.1\n",
      ">expected=1532.7, predicted=1481.0\n",
      ">expected=1586.7, predicted=1541.4\n",
      ">expected=1580.5, predicted=1596.7\n",
      ">expected=1556.4, predicted=1576.2\n",
      ">expected=1598.0, predicted=1556.0\n",
      ">expected=1569.0, predicted=1619.5\n",
      ">expected=1549.9, predicted=1568.7\n",
      ">expected=1540.2, predicted=1563.1\n",
      "MAE: 28.159\n"
     ]
    },
    {
     "data": {
      "image/png": "[encoded data removed]",
      "text/plain": [
       "<Figure size 432x288 with 1 Axes>"
      ]
     },
     "metadata": {},
     "output_type": "display_data"
    }
   ],
   "source": [
    "# forecast steel price with random forest\n",
    "from numpy import asarray\n",
    "from pandas import read_csv\n",
    "from pandas import DataFrame\n",
    "from pandas import concat\n",
    "from sklearn.metrics import mean_absolute_error\n",
    "from sklearn.ensemble import RandomForestRegressor\n",
    "from matplotlib import pyplot\n",
    "\n",
    "# transform a time series dataset into a supervised learning dataset\n",
    "def series_to_supervised(data, n_in=1, n_out=1, dropnan=True):\n",
    "\tn_vars = 1 if type(data) is list else data.shape[1]\n",
    "\tdf = DataFrame(data)\n",
    "\tcols = list()\n",
    "\t# input sequence (t-n, ... t-1)\n",
    "\tfor i in range(n_in, 0, -1):\n",
    "\t\tcols.append(df.shift(i))\n",
    "\t# forecast sequence (t, t+1, ... t+n)\n",
    "\tfor i in range(0, n_out):\n",
    "\t\tcols.append(df.shift(-i))\n",
    "\t# put it all together\n",
    "\tagg = concat(cols, axis=1)\n",
    "\t# drop rows with NaN values\n",
    "\tif dropnan:\n",
    "\t\tagg.dropna(inplace=True)\n",
    "\treturn agg.values\n",
    "\n",
    "# split a univariate dataset into train/test sets\n",
    "def train_test_split(data, n_test):\n",
    "\treturn data[:-n_test, :], data[-n_test:, :]\n",
    "\n",
    "# fit an random forest model and make a one step prediction\n",
    "def random_forest_forecast(train, testX):\n",
    "\t# transform list into array\n",
    "\ttrain = asarray(train)\n",
    "\t# split into input and output columns\n",
    "\ttrainX, trainy = train[:, :-1], train[:, -1]\n",
    "\t# fit model\n",
    "\tmodel = RandomForestRegressor(n_estimators=1000)\n",
    "\tmodel.fit(trainX, trainy)\n",
    "\t# make a one-step prediction\n",
    "\tyhat = model.predict([testX])\n",
    "\treturn yhat[0]\n",
    "\n",
    "# walk-forward validation for univariate data\n",
    "def walk_forward_validation(data, n_test):\n",
    "\tpredictions = list()\n",
    "\t# split dataset\n",
    "\ttrain, test = train_test_split(data, n_test)\n",
    "\t# seed history with training dataset\n",
    "\thistory = [x for x in train]\n",
    "\t# step over each time-step in the test set\n",
    "\tfor i in range(len(test)):\n",
    "\t\t# split test row into input and output columns\n",
    "\t\ttestX, testy = test[i, :-1], test[i, -1]\n",
    "\t\t# fit model on history and make a prediction\n",
    "\t\tyhat = random_forest_forecast(history, testX)\n",
    "\t\t# store forecast in list of predictions\n",
    "\t\tpredictions.append(yhat)\n",
    "\t\t# add actual observation to history for the next loop\n",
    "\t\thistory.append(test[i])\n",
    "\t\t# summarize progress\n",
    "\t\tprint('>expected=%.1f, predicted=%.1f' % (testy, yhat))\n",
    "\t# estimate prediction error\n",
    "\terror = mean_absolute_error(test[:, -1], predictions)\n",
    "\treturn error, test[:, -1], predictions\n",
    "\n",
    "# load the dataset\n",
    "#series = read_csv('daily-total-female-births.csv', header=0, index_col=0)\n",
    "series = data.copy()\n",
    "values = series.values\n",
    "# transform the time series data into supervised learning\n",
    "data = series_to_supervised(values, n_in=6)\n",
    "# evaluate\n",
    "mae, y, yhat = walk_forward_validation(data, 12)\n",
    "print('MAE: %.3f' % mae)\n",
    "# plot expected vs predicted\n",
    "pyplot.plot(y, label='Expected')\n",
    "pyplot.plot(yhat, label='Predicted')\n",
    "pyplot.legend()\n",
    "pyplot.show()"
   ]
  },
  {
   "cell_type": "code",
   "execution_count": 65,
   "id": "7d1ad9f5",
   "metadata": {},
   "outputs": [
    {
     "name": "stdout",
     "output_type": "stream",
     "text": [
      "Input: [1580.45 1556.36 1598.02 1569.01 1549.91 1540.19], Predicted: 1540.879\n"
     ]
    }
   ],
   "source": [
    "# finalize model and make a prediction for steel price with random forest\n",
    "from numpy import asarray\n",
    "from pandas import read_csv\n",
    "from pandas import DataFrame\n",
    "from pandas import concat\n",
    "from sklearn.ensemble import RandomForestRegressor\n",
    "\n",
    "# transform a time series dataset into a supervised learning dataset\n",
    "def series_to_supervised(data, n_in=1, n_out=1, dropnan=True):\n",
    "\tn_vars = 1 if type(data) is list else data.shape[1]\n",
    "\tdf = DataFrame(data)\n",
    "\tcols = list()\n",
    "\t# input sequence (t-n, ... t-1)\n",
    "\tfor i in range(n_in, 0, -1):\n",
    "\t\tcols.append(df.shift(i))\n",
    "\t# forecast sequence (t, t+1, ... t+n)\n",
    "\tfor i in range(0, n_out):\n",
    "\t\tcols.append(df.shift(-i))\n",
    "\t# put it all together\n",
    "\tagg = concat(cols, axis=1)\n",
    "\t# drop rows with NaN values\n",
    "\tif dropnan:\n",
    "\t\tagg.dropna(inplace=True)\n",
    "\treturn agg.values\n",
    "\n",
    "# load the dataset\n",
    "series = steel.copy()\n",
    "values = series.values\n",
    "# transform the time series data into supervised learning\n",
    "train = series_to_supervised(values, n_in=6)\n",
    "# split into input and output columns\n",
    "trainX, trainy = train[:, :-1], train[:, -1]\n",
    "# fit model\n",
    "model = RandomForestRegressor(n_estimators=1000)\n",
    "model.fit(trainX, trainy)\n",
    "# construct an input for a new prediction\n",
    "row = values[-6:].flatten()\n",
    "# make a one-step prediction\n",
    "yhat = model.predict(asarray([row]))\n",
    "print('Input: %s, Predicted: %.3f' % (row, yhat[0]))"
   ]
  },
  {
   "cell_type": "code",
   "execution_count": 66,
   "id": "0be3265d",
   "metadata": {},
   "outputs": [
    {
     "data": {
      "text/html": [
       "<div>\n",
       "<style scoped>\n",
       "    .dataframe tbody tr th:only-of-type {\n",
       "        vertical-align: middle;\n",
       "    }\n",
       "\n",
       "    .dataframe tbody tr th {\n",
       "        vertical-align: top;\n",
       "    }\n",
       "\n",
       "    .dataframe thead th {\n",
       "        text-align: right;\n",
       "    }\n",
       "</style>\n",
       "<table border=\"1\" class=\"dataframe\">\n",
       "  <thead>\n",
       "    <tr style=\"text-align: right;\">\n",
       "      <th></th>\n",
       "      <th>y</th>\n",
       "    </tr>\n",
       "    <tr>\n",
       "      <th>Date</th>\n",
       "      <th></th>\n",
       "    </tr>\n",
       "  </thead>\n",
       "  <tbody>\n",
       "    <tr>\n",
       "      <th>2022-10-24</th>\n",
       "      <td>1580.45</td>\n",
       "    </tr>\n",
       "    <tr>\n",
       "      <th>2022-10-25</th>\n",
       "      <td>1556.36</td>\n",
       "    </tr>\n",
       "    <tr>\n",
       "      <th>2022-10-26</th>\n",
       "      <td>1598.02</td>\n",
       "    </tr>\n",
       "    <tr>\n",
       "      <th>2022-10-27</th>\n",
       "      <td>1569.01</td>\n",
       "    </tr>\n",
       "    <tr>\n",
       "      <th>2022-10-28</th>\n",
       "      <td>1549.91</td>\n",
       "    </tr>\n",
       "    <tr>\n",
       "      <th>2022-10-31</th>\n",
       "      <td>1540.19</td>\n",
       "    </tr>\n",
       "  </tbody>\n",
       "</table>\n",
       "</div>"
      ],
      "text/plain": [
       "                  y\n",
       "Date               \n",
       "2022-10-24  1580.45\n",
       "2022-10-25  1556.36\n",
       "2022-10-26  1598.02\n",
       "2022-10-27  1569.01\n",
       "2022-10-28  1549.91\n",
       "2022-10-31  1540.19"
      ]
     },
     "execution_count": 66,
     "metadata": {},
     "output_type": "execute_result"
    }
   ],
   "source": [
    "series.tail(6)"
   ]
  },
  {
   "cell_type": "code",
   "execution_count": null,
   "id": "543fd26b",
   "metadata": {},
   "outputs": [],
   "source": []
  },
  {
   "cell_type": "code",
   "execution_count": null,
   "id": "3b957034",
   "metadata": {},
   "outputs": [],
   "source": []
  },
  {
   "cell_type": "code",
   "execution_count": null,
   "id": "15722918",
   "metadata": {},
   "outputs": [],
   "source": []
  },
  {
   "cell_type": "code",
   "execution_count": null,
   "id": "da4113e3",
   "metadata": {},
   "outputs": [],
   "source": []
  },
  {
   "cell_type": "code",
   "execution_count": null,
   "id": "fb193434",
   "metadata": {},
   "outputs": [],
   "source": []
  }
 ],
 "metadata": {
  "kernelspec": {
   "display_name": "Python 3 (ipykernel)",
   "language": "python",
   "name": "python3"
  },
  "language_info": {
   "codemirror_mode": {
    "name": "ipython",
    "version": 3
   },
   "file_extension": ".py",
   "mimetype": "text/x-python",
   "name": "python",
   "nbconvert_exporter": "python",
   "pygments_lexer": "ipython3",
   "version": "3.9.12"
  }
 },
 "nbformat": 4,
 "nbformat_minor": 5
}
