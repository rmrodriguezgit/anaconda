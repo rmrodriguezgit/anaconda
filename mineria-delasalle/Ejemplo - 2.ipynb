{
 "cells": [
  {
   "cell_type": "code",
   "execution_count": 1,
   "id": "c1b5129d",
   "metadata": {},
   "outputs": [],
   "source": [
    "import pandas as pd\n",
    "import numpy as np\n",
    "import random"
   ]
  },
  {
   "cell_type": "code",
   "execution_count": 2,
   "id": "02f95466",
   "metadata": {},
   "outputs": [
    {
     "name": "stdout",
     "output_type": "stream",
     "text": [
      "[2.3, 2.2, 4.5, 1.9, 2.6, 3, 3.1, 4, 4.2, 5, 3.7, 4.2, 1.1, 2.6, 5, 4.6]\n"
     ]
    }
   ],
   "source": [
    "A = [2.3,2.2,4.5,1.9,2.6,3,3.1,4,4.2,5,3.7,4.2,1.1,2.6,5,4.6]\n",
    "print(A)\n",
    "#import random\n",
    "#random.seed(0)\n",
    "#A = (random.sample(range(1000000),60))\n"
   ]
  },
  {
   "cell_type": "code",
   "execution_count": 3,
   "id": "9280afbb",
   "metadata": {},
   "outputs": [
    {
     "data": {
      "text/plain": [
       "[2.3, 2.2, 4.5, 1.9, 2.6, 3, 3.1, 4, 4.2, 5, 3.7, 4.2, 1.1, 2.6, 5, 4.6]"
      ]
     },
     "execution_count": 3,
     "metadata": {},
     "output_type": "execute_result"
    }
   ],
   "source": [
    "A"
   ]
  },
  {
   "cell_type": "code",
   "execution_count": 4,
   "id": "635f27aa",
   "metadata": {},
   "outputs": [
    {
     "name": "stdout",
     "output_type": "stream",
     "text": [
      "[2.3, 2.2, 4.5, 1.9, 2.6, 3, 3.1, 4, 4.2, 5, 3.7, 4.2, 1.1, 2.6, 5, 4.6]\n"
     ]
    }
   ],
   "source": [
    "print(A)"
   ]
  },
  {
   "cell_type": "code",
   "execution_count": 5,
   "id": "985ba9ff",
   "metadata": {},
   "outputs": [
    {
     "data": {
      "text/plain": [
       "1.1"
      ]
     },
     "execution_count": 5,
     "metadata": {},
     "output_type": "execute_result"
    }
   ],
   "source": [
    "np.min(A)"
   ]
  },
  {
   "cell_type": "code",
   "execution_count": 6,
   "id": "ebb60003",
   "metadata": {},
   "outputs": [
    {
     "data": {
      "text/plain": [
       "5.0"
      ]
     },
     "execution_count": 6,
     "metadata": {},
     "output_type": "execute_result"
    }
   ],
   "source": [
    "np.max(A)"
   ]
  },
  {
   "cell_type": "code",
   "execution_count": 7,
   "id": "ae3dadf6",
   "metadata": {},
   "outputs": [],
   "source": [
    "# Media, Mediana, Moda, STD, VAR, Histograma"
   ]
  },
  {
   "cell_type": "code",
   "execution_count": 8,
   "id": "51ba6104",
   "metadata": {},
   "outputs": [
    {
     "name": "stdout",
     "output_type": "stream",
     "text": [
      "La media es = 3.375\n"
     ]
    }
   ],
   "source": [
    "# Calcular la media (mean) de la muestra A\n",
    "media = np.mean(A)\n",
    "print(f'La media es = {media}')"
   ]
  },
  {
   "cell_type": "code",
   "execution_count": 9,
   "id": "bcda83ce",
   "metadata": {},
   "outputs": [
    {
     "name": "stdout",
     "output_type": "stream",
     "text": [
      "La mediana es = 3.4000000000000004\n"
     ]
    }
   ],
   "source": [
    "# Calcular la mediana (median) de la muestra A\n",
    "mediana = np.median(A)\n",
    "print(f'La mediana es = {mediana}')"
   ]
  },
  {
   "cell_type": "code",
   "execution_count": 10,
   "id": "18b0a918",
   "metadata": {},
   "outputs": [
    {
     "name": "stdout",
     "output_type": "stream",
     "text": [
      "El elemento menor es: 1.1\n"
     ]
    },
    {
     "data": {
      "text/plain": [
       "ModeResult(mode=array([2.6]), count=array([2]))"
      ]
     },
     "execution_count": 10,
     "metadata": {},
     "output_type": "execute_result"
    }
   ],
   "source": [
    "#Calcular moda - Es el elemento que más se repite\n",
    "print(f'El elemento menor es: {np.min(A)}')\n",
    "from scipy import stats\n",
    "stats.mode(A)"
   ]
  },
  {
   "cell_type": "code",
   "execution_count": 11,
   "id": "c9d9b8b7",
   "metadata": {},
   "outputs": [
    {
     "data": {
      "text/plain": [
       "3.4000000000000004"
      ]
     },
     "execution_count": 11,
     "metadata": {},
     "output_type": "execute_result"
    }
   ],
   "source": [
    "# Percentil https://es.wikipedia.org/wiki/Percentil\n",
    "# 1er Cuartil 25\n",
    "# 2do es igual a la mediana 50\n",
    "# 3ero Cuartil 75\n",
    "\n",
    "np.percentile(A,50)"
   ]
  },
  {
   "cell_type": "code",
   "execution_count": 12,
   "id": "fd3d5a48",
   "metadata": {},
   "outputs": [
    {
     "data": {
      "text/plain": [
       "2.525"
      ]
     },
     "execution_count": 12,
     "metadata": {},
     "output_type": "execute_result"
    }
   ],
   "source": [
    "np.percentile(A,25)"
   ]
  },
  {
   "cell_type": "code",
   "execution_count": 13,
   "id": "a33f3139",
   "metadata": {},
   "outputs": [
    {
     "data": {
      "text/plain": [
       "4.275"
      ]
     },
     "execution_count": 13,
     "metadata": {},
     "output_type": "execute_result"
    }
   ],
   "source": [
    "np.percentile(A,75)"
   ]
  },
  {
   "cell_type": "code",
   "execution_count": 14,
   "id": "11336727",
   "metadata": {},
   "outputs": [
    {
     "name": "stdout",
     "output_type": "stream",
     "text": [
      "La varianza es = 1.325625\n"
     ]
    }
   ],
   "source": [
    "# Varianza\n",
    "varianza = np.var(A)\n",
    "print(f'La varianza es = {varianza}')"
   ]
  },
  {
   "cell_type": "code",
   "execution_count": 15,
   "id": "537be5aa",
   "metadata": {},
   "outputs": [
    {
     "name": "stdout",
     "output_type": "stream",
     "text": [
      "La desviación estándar es = 1.1513578939669455\n"
     ]
    }
   ],
   "source": [
    "# Desviación Estándar\n",
    "desv_std = np.std(A)\n",
    "print(f'La desviación estándar es = {desv_std}')"
   ]
  },
  {
   "cell_type": "code",
   "execution_count": 16,
   "id": "38af0216",
   "metadata": {},
   "outputs": [
    {
     "data": {
      "text/plain": [
       "34.11430796939098"
      ]
     },
     "execution_count": 16,
     "metadata": {},
     "output_type": "execute_result"
    }
   ],
   "source": [
    "#Coeficiente de variación std/mean*100\n",
    "desv_std/media*100"
   ]
  },
  {
   "cell_type": "code",
   "execution_count": 17,
   "id": "e78de801",
   "metadata": {},
   "outputs": [],
   "source": [
    "# Medidas de asimetría\n",
    "import scipy.stats as sp"
   ]
  },
  {
   "cell_type": "code",
   "execution_count": 18,
   "id": "c8bef587",
   "metadata": {},
   "outputs": [
    {
     "data": {
      "text/plain": [
       "-0.22960405016439983"
      ]
     },
     "execution_count": 18,
     "metadata": {},
     "output_type": "execute_result"
    }
   ],
   "source": [
    "# Asimetría de Fisher\n",
    "asimetria = sp.skew(A)\n",
    "asimetria"
   ]
  },
  {
   "cell_type": "code",
   "execution_count": 19,
   "id": "10a61a77",
   "metadata": {},
   "outputs": [
    {
     "data": {
      "text/plain": [
       "-1.06523770178594"
      ]
     },
     "execution_count": 19,
     "metadata": {},
     "output_type": "execute_result"
    }
   ],
   "source": [
    "# Curtosis\n",
    "# =0 Mesocúrtica\n",
    "# >0 Leptocúrtica\n",
    "# <0 Platicúrtica\n",
    "\n",
    "curtosis = sp.kurtosis(A)\n",
    "curtosis"
   ]
  },
  {
   "cell_type": "code",
   "execution_count": 20,
   "id": "80212cca",
   "metadata": {},
   "outputs": [],
   "source": [
    "# Graficar el histograma de A\n",
    "import matplotlib.pyplot as plt\n",
    "%matplotlib inline"
   ]
  },
  {
   "cell_type": "code",
   "execution_count": 21,
   "id": "b75c93e5",
   "metadata": {},
   "outputs": [
    {
     "data": {
      "text/plain": [
       "(array([1., 0., 2., 3., 1., 1., 1., 3., 2., 2.]),\n",
       " array([1.1 , 1.49, 1.88, 2.27, 2.66, 3.05, 3.44, 3.83, 4.22, 4.61, 5.  ]),\n",
       " <BarContainer object of 10 artists>)"
      ]
     },
     "execution_count": 21,
     "metadata": {},
     "output_type": "execute_result"
    },
    {
     "data": {
      "image/png": "[encoded data removed]",
      "text/plain": [
       "<Figure size 432x288 with 1 Axes>"
      ]
     },
     "metadata": {
      "needs_background": "light"
     },
     "output_type": "display_data"
    }
   ],
   "source": [
    "plt.hist(A)"
   ]
  },
  {
   "cell_type": "code",
   "execution_count": null,
   "id": "55172d7a",
   "metadata": {},
   "outputs": [],
   "source": []
  }
 ],
 "metadata": {
  "kernelspec": {
   "display_name": "Python 3 (ipykernel)",
   "language": "python",
   "name": "python3"
  },
  "language_info": {
   "codemirror_mode": {
    "name": "ipython",
    "version": 3
   },
   "file_extension": ".py",
   "mimetype": "text/x-python",
   "name": "python",
   "nbconvert_exporter": "python",
   "pygments_lexer": "ipython3",
   "version": "3.9.12"
  }
 },
 "nbformat": 4,
 "nbformat_minor": 5
}
