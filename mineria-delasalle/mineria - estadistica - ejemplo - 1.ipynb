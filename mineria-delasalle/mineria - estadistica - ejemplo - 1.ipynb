{
 "cells": [
  {
   "cell_type": "markdown",
   "id": "e15d8e51",
   "metadata": {},
   "source": [
    "#### Ejecución de una línea se hace con Shift-Enter \n",
    "\n",
    "#### Esta es la segunda línea"
   ]
  },
  {
   "cell_type": "code",
   "execution_count": 3,
   "id": "e0daccd2",
   "metadata": {},
   "outputs": [
    {
     "name": "stdout",
     "output_type": "stream",
     "text": [
      "Hola Mundo\n"
     ]
    }
   ],
   "source": [
    "print('Hola Mundo')"
   ]
  },
  {
   "cell_type": "markdown",
   "id": "fec454e6",
   "metadata": {},
   "source": [
    "# Título de la Sección\n",
    "## Subtítulo de nivel 2\n",
    "### Subtítulo de nivel 3\n",
    "Este es un texto normal"
   ]
  },
  {
   "cell_type": "markdown",
   "id": "c54a7653",
   "metadata": {},
   "source": [
    "### https://fieecs.uni.edu.pe/wp-content/uploads/2020/01/COMPRESIÓN-Y-MEDIDA-DEL-CONCEPTO-DE-SIMETRÍA.pdf\n"
   ]
  },
  {
   "cell_type": "markdown",
   "id": "907f9948",
   "metadata": {},
   "source": [
    "# Importación de librerías\n",
    "import <nombre de la librería> as <alias>\n",
    "\n",
    "- para ejecutar un renglón solo presionar SHIFT - ENTER"
   ]
  },
  {
   "cell_type": "code",
   "execution_count": 1,
   "id": "6df3f13c",
   "metadata": {},
   "outputs": [],
   "source": [
    "import pandas as pd\n",
    "import numpy as np"
   ]
  },
  {
   "cell_type": "markdown",
   "id": "97bd3606",
   "metadata": {},
   "source": [
    "## Medidas de tendencia central\n",
    "### Media, Mediana, Moda, Desv STD, Varianza"
   ]
  },
  {
   "cell_type": "markdown",
   "id": "a28d1b6d",
   "metadata": {},
   "source": [
    "### Generar un número aleatorio = random\n",
    "(1 al 100) - 57, 74, 67, 48, 12, 34, 45"
   ]
  },
  {
   "cell_type": "markdown",
   "id": "76b64a7e",
   "metadata": {},
   "source": [
    "### (Pregunta Examen) Genere una muestra de números aleatorios con semilla 0, con números de hasta 1000000 y 60 muestras."
   ]
  },
  {
   "cell_type": "code",
   "execution_count": 2,
   "id": "30610101",
   "metadata": {},
   "outputs": [
    {
     "data": {
      "text/plain": [
       "[885440,\n",
       " 403958,\n",
       " 794772,\n",
       " 933488,\n",
       " 441001,\n",
       " 42450,\n",
       " 271493,\n",
       " 536110,\n",
       " 509532,\n",
       " 424604,\n",
       " 962838,\n",
       " 821872,\n",
       " 870163,\n",
       " 318046,\n",
       " 499748,\n",
       " 375441,\n",
       " 611720,\n",
       " 934973,\n",
       " 952225,\n",
       " 229053,\n",
       " 529202,\n",
       " 146039,\n",
       " 295528,\n",
       " 146534,\n",
       " 792518,\n",
       " 99437,\n",
       " 648406,\n",
       " 838234,\n",
       " 262674,\n",
       " 953938,\n",
       " 558433,\n",
       " 739426,\n",
       " 849574,\n",
       " 631140,\n",
       " 945989,\n",
       " 154100,\n",
       " 325213,\n",
       " 103560,\n",
       " 765284,\n",
       " 77324,\n",
       " 942500,\n",
       " 891786,\n",
       " 717209,\n",
       " 346236,\n",
       " 495077,\n",
       " 587007,\n",
       " 105592,\n",
       " 370977,\n",
       " 455262,\n",
       " 331556,\n",
       " 640561,\n",
       " 671532,\n",
       " 957361,\n",
       " 214410,\n",
       " 579363,\n",
       " 500181,\n",
       " 464197,\n",
       " 907343,\n",
       " 546678,\n",
       " 273145]"
      ]
     },
     "execution_count": 2,
     "metadata": {},
     "output_type": "execute_result"
    }
   ],
   "source": [
    "import random\n",
    "random.seed(0)\n",
    "A = (random.sample(range(1000000),60))\n",
    "A"
   ]
  },
  {
   "cell_type": "code",
   "execution_count": 3,
   "id": "f9f70565",
   "metadata": {},
   "outputs": [
    {
     "name": "stdout",
     "output_type": "stream",
     "text": [
      "[885440, 403958, 794772, 933488, 441001, 42450, 271493, 536110, 509532, 424604, 962838, 821872, 870163, 318046, 499748, 375441, 611720, 934973, 952225, 229053, 529202, 146039, 295528, 146534, 792518, 99437, 648406, 838234, 262674, 953938, 558433, 739426, 849574, 631140, 945989, 154100, 325213, 103560, 765284, 77324, 942500, 891786, 717209, 346236, 495077, 587007, 105592, 370977, 455262, 331556, 640561, 671532, 957361, 214410, 579363, 500181, 464197, 907343, 546678, 273145]\n"
     ]
    }
   ],
   "source": [
    "# Tengo dos formas de imprimir el valor de A\n",
    "print(A)"
   ]
  },
  {
   "cell_type": "code",
   "execution_count": 4,
   "id": "48c25f38",
   "metadata": {},
   "outputs": [
    {
     "name": "stdout",
     "output_type": "stream",
     "text": [
      "La media es = 544657.55\n"
     ]
    }
   ],
   "source": [
    "# Calcular la media (mean) de la muestra A\n",
    "media = np.mean(A)\n",
    "print(f'La media es = {media}')"
   ]
  },
  {
   "cell_type": "code",
   "execution_count": 5,
   "id": "f46694c6",
   "metadata": {},
   "outputs": [],
   "source": [
    "# 4 , 6 , 7,  8,  9   -> media 34/5 = 6.8\n",
    "# 4 , 6 , 7,  8,  9   -> mediana = 7\n",
    "# 4, 4, 4, 6, 6, 7, 7, 7, 7 , 8, 8, 9 -> moda = 7"
   ]
  },
  {
   "cell_type": "code",
   "execution_count": 6,
   "id": "ae72a81d",
   "metadata": {},
   "outputs": [
    {
     "name": "stdout",
     "output_type": "stream",
     "text": [
      "La mediana es = 532656.0\n"
     ]
    }
   ],
   "source": [
    "# Calcular la mediana (median) de la muestra A\n",
    "mediana = np.median(A)\n",
    "print(f'La mediana es = {mediana}')"
   ]
  },
  {
   "cell_type": "code",
   "execution_count": 7,
   "id": "86477d24",
   "metadata": {},
   "outputs": [
    {
     "data": {
      "text/plain": [
       "ModeResult(mode=array([42450]), count=array([1]))"
      ]
     },
     "execution_count": 7,
     "metadata": {},
     "output_type": "execute_result"
    }
   ],
   "source": [
    "#Calcular moda - Es el elemento que más se repite\n",
    "from scipy import stats\n",
    "stats.mode(A)"
   ]
  },
  {
   "cell_type": "code",
   "execution_count": 8,
   "id": "d9a0260c",
   "metadata": {},
   "outputs": [
    {
     "data": {
      "text/plain": [
       "532656.0"
      ]
     },
     "execution_count": 8,
     "metadata": {},
     "output_type": "execute_result"
    }
   ],
   "source": [
    "# Percentil https://es.wikipedia.org/wiki/Percentil\n",
    "# 1er Cuartil 25\n",
    "# 2do es igual a la mediana 50\n",
    "# 3ero Cuartil 75\n",
    "\n",
    "np.percentile(A,50)"
   ]
  },
  {
   "cell_type": "code",
   "execution_count": 9,
   "id": "cee3cb2d",
   "metadata": {},
   "outputs": [
    {
     "data": {
      "text/plain": [
       "323421.25"
      ]
     },
     "execution_count": 9,
     "metadata": {},
     "output_type": "execute_result"
    }
   ],
   "source": [
    "np.percentile(A,25)"
   ]
  },
  {
   "cell_type": "code",
   "execution_count": 10,
   "id": "a2d64b61",
   "metadata": {},
   "outputs": [
    {
     "data": {
      "text/plain": [
       "801547.0"
      ]
     },
     "execution_count": 10,
     "metadata": {},
     "output_type": "execute_result"
    }
   ],
   "source": [
    "np.percentile(A,75)"
   ]
  },
  {
   "cell_type": "code",
   "execution_count": 11,
   "id": "4f4efd79",
   "metadata": {},
   "outputs": [
    {
     "name": "stdout",
     "output_type": "stream",
     "text": [
      "La varianza es = 77644188472.38083\n"
     ]
    }
   ],
   "source": [
    "# Varianza\n",
    "varianza = np.var(A)\n",
    "print(f'La varianza es = {varianza}')"
   ]
  },
  {
   "cell_type": "code",
   "execution_count": 12,
   "id": "3059d1e8",
   "metadata": {},
   "outputs": [
    {
     "name": "stdout",
     "output_type": "stream",
     "text": [
      "La desviación estándar es = 278647.0679414747\n"
     ]
    }
   ],
   "source": [
    "# Desviación Estándar\n",
    "desv_std = np.std(A)\n",
    "print(f'La desviación estándar es = {desv_std}')"
   ]
  },
  {
   "cell_type": "code",
   "execution_count": 13,
   "id": "f42b2876",
   "metadata": {},
   "outputs": [
    {
     "data": {
      "text/plain": [
       "51.16004872079248"
      ]
     },
     "execution_count": 13,
     "metadata": {},
     "output_type": "execute_result"
    }
   ],
   "source": [
    "#Coeficiente de variación std/mean*100\n",
    "desv_std/media*100"
   ]
  },
  {
   "cell_type": "code",
   "execution_count": 14,
   "id": "10b741ee",
   "metadata": {},
   "outputs": [],
   "source": [
    "# Medidas de asimetría\n",
    "\n",
    "import scipy.stats as sp"
   ]
  },
  {
   "cell_type": "code",
   "execution_count": 15,
   "id": "d8fc0f9c",
   "metadata": {},
   "outputs": [
    {
     "data": {
      "text/plain": [
       "-0.04070722775199801"
      ]
     },
     "execution_count": 15,
     "metadata": {},
     "output_type": "execute_result"
    }
   ],
   "source": [
    "# Asimetría de Fisher\n",
    "\n",
    "asimetria = sp.skew(A)\n",
    "asimetria"
   ]
  },
  {
   "cell_type": "code",
   "execution_count": 16,
   "id": "0b36beb1",
   "metadata": {},
   "outputs": [
    {
     "data": {
      "text/plain": [
       "-1.1833015691664803"
      ]
     },
     "execution_count": 16,
     "metadata": {},
     "output_type": "execute_result"
    }
   ],
   "source": [
    "# Curtosis\n",
    "# =0 Mesocúrtica\n",
    "# >0 Leptocúrtica\n",
    "# <0 Platicúrtica\n",
    "\n",
    "curtosis = sp.kurtosis(A)\n",
    "curtosis\n"
   ]
  },
  {
   "cell_type": "code",
   "execution_count": 17,
   "id": "02b82ab2",
   "metadata": {},
   "outputs": [],
   "source": [
    "# Graficar el histograma de A\n",
    "import matplotlib.pyplot as plt\n",
    "%matplotlib inline"
   ]
  },
  {
   "cell_type": "code",
   "execution_count": 18,
   "id": "6acdae24",
   "metadata": {},
   "outputs": [
    {
     "data": {
      "text/plain": [
       "(array([ 5.,  4.,  6.,  6.,  7.,  7.,  5.,  3.,  6., 11.]),\n",
       " array([ 42450. , 134488.8, 226527.6, 318566.4, 410605.2, 502644. ,\n",
       "        594682.8, 686721.6, 778760.4, 870799.2, 962838. ]),\n",
       " <BarContainer object of 10 artists>)"
      ]
     },
     "execution_count": 18,
     "metadata": {},
     "output_type": "execute_result"
    },
    {
     "data": {
      "image/png": "[encoded data removed]",
      "text/plain": [
       "<Figure size 432x288 with 1 Axes>"
      ]
     },
     "metadata": {
      "needs_background": "light"
     },
     "output_type": "display_data"
    }
   ],
   "source": [
    "plt.hist(A)"
   ]
  },
  {
   "cell_type": "code",
   "execution_count": null,
   "id": "86c8d716",
   "metadata": {},
   "outputs": [],
   "source": []
  },
  {
   "cell_type": "code",
   "execution_count": null,
   "id": "80cdea0f",
   "metadata": {},
   "outputs": [],
   "source": []
  }
 ],
 "metadata": {
  "kernelspec": {
   "display_name": "Python 3 (ipykernel)",
   "language": "python",
   "name": "python3"
  },
  "language_info": {
   "codemirror_mode": {
    "name": "ipython",
    "version": 3
   },
   "file_extension": ".py",
   "mimetype": "text/x-python",
   "name": "python",
   "nbconvert_exporter": "python",
   "pygments_lexer": "ipython3",
   "version": "3.9.12"
  }
 },
 "nbformat": 4,
 "nbformat_minor": 5
}
