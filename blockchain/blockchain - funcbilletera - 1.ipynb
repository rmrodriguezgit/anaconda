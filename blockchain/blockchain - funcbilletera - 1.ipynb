{
 "cells": [
  {
   "cell_type": "code",
   "execution_count": null,
   "id": "64d43a01",
   "metadata": {},
   "outputs": [],
   "source": [
    "# FUNCIONES\n",
    "from datetime import datetime\n",
    "dia=datetime.now()\n",
    "\n",
    "# Reporte de recepción o transferencia de monto \n",
    "# rot: \"recibir\" o \"transferir\"\n",
    "def reporte(moneda, monto, usd, rot):\n",
    "    if rot==\"recibir\":\n",
    "        print(\"La cantidad de %7.2f\"%monto+\" \"+moneda+\", fue recibida con éxito.\")\n",
    "        print(\"Se ingresan: %7.2f\"%usd+\" USD, según a la cotización actual de la moneda \"+moneda)\n",
    "    else:\n",
    "        print(\"La cantidad de %7.2f\"%monto+\" \"+moneda+\", fue transferida con éxito.\")\n",
    "        print(\"Se tranfieren: %7.2f\"%usd+\" USD, según a la cotización actual de la moneda \"+moneda)\n",
    "\n",
    "def guardarexistente(dicc, moneda, nuevosaldo, archivo, monto, usd, rot):\n",
    "    dicc[moneda]=nuevosaldo\n",
    "    monedaslista=list(dicc.keys())\n",
    "    saldoslista=list(dicc.values())\n",
    "    arch=open(archivo,\"w\")\n",
    "    for i in range(0,len(monedaslista)):\n",
    "        arch.write(monedaslista[i]+\":\"+str(saldoslista[i])+\"\\n\")\n",
    "    arch.close()\n",
    "    if rot==\"recibir\":\n",
    "        print(reporte(moneda, float(monto), usd, \"recibir\"))\n",
    "    else:\n",
    "        print(reporte(moneda, float(monto), usd, \"transferir\"))\n",
    "\n",
    "def guardaralfinal(archivo, moneda, monto, usd, rot):\n",
    "    arch=open(archivo,\"a\")\n",
    "    arch.write(moneda+\":\"+str(monto)+\"\\n\")\n",
    "    arch.close()\n",
    "    if rot==\"recibir\":\n",
    "        print(reporte(moneda, float(monto), usd, \"recibir\"))\n",
    "    else:\n",
    "        print(reporte(moneda, float(monto), usd, \"transferir\"))\n",
    "\n",
    "def guardarhist(archivo, monto, moneda, usd, codigo, rot):\n",
    "    arch=open(archivo,\"a\")\n",
    "    if rot==\"recibir\":\n",
    "        arch.write(dia.strftime(\"Fecha: %d/%m/%Y.\")+\" Moneda: \"+moneda+\". Monto (+): %9.2f\"%monto+\". Cantidad (USD): %9.2f\"%usd+\". Código: \"+codigo+\"\\n\")\n",
    "    else:\n",
    "        arch.write(dia.strftime(\"Fecha: %d/%m/%Y.\")+\" Moneda: \"+moneda+\". Monto (-): %9.2f\"%monto+\". Cantidad (USD): %9.2f\"%usd+\". Código: \"+codigo+\"\\n\")\n",
    "    arch.close()"
   ]
  }
 ],
 "metadata": {
  "kernelspec": {
   "display_name": "Python 3 (ipykernel)",
   "language": "python",
   "name": "python3"
  },
  "language_info": {
   "codemirror_mode": {
    "name": "ipython",
    "version": 3
   },
   "file_extension": ".py",
   "mimetype": "text/x-python",
   "name": "python",
   "nbconvert_exporter": "python",
   "pygments_lexer": "ipython3",
   "version": "3.9.12"
  }
 },
 "nbformat": 4,
 "nbformat_minor": 5
}
