{
 "cells": [
  {
   "cell_type": "markdown",
   "id": "12614d70",
   "metadata": {},
   "source": [
    "## Medidas básicas de la estadística descriptiva"
   ]
  },
  {
   "cell_type": "code",
   "execution_count": 2,
   "id": "4c00dcfc",
   "metadata": {},
   "outputs": [],
   "source": [
    "import pandas as pd\n",
    "import numpy as np"
   ]
  },
  {
   "cell_type": "markdown",
   "id": "17afd64c",
   "metadata": {},
   "source": [
    "### Medidas de tendencia central"
   ]
  },
  {
   "cell_type": "code",
   "execution_count": 3,
   "id": "ba0d5dcb",
   "metadata": {},
   "outputs": [
    {
     "data": {
      "text/plain": [
       "[885440,\n",
       " 403958,\n",
       " 794772,\n",
       " 933488,\n",
       " 441001,\n",
       " 42450,\n",
       " 271493,\n",
       " 536110,\n",
       " 509532,\n",
       " 424604,\n",
       " 962838,\n",
       " 821872,\n",
       " 870163,\n",
       " 318046,\n",
       " 499748,\n",
       " 375441,\n",
       " 611720,\n",
       " 934973,\n",
       " 952225,\n",
       " 229053,\n",
       " 529202,\n",
       " 146039,\n",
       " 295528,\n",
       " 146534,\n",
       " 792518,\n",
       " 99437,\n",
       " 648406,\n",
       " 838234,\n",
       " 262674,\n",
       " 953938,\n",
       " 558433,\n",
       " 739426,\n",
       " 849574,\n",
       " 631140,\n",
       " 945989,\n",
       " 154100,\n",
       " 325213,\n",
       " 103560,\n",
       " 765284,\n",
       " 77324,\n",
       " 942500,\n",
       " 891786,\n",
       " 717209,\n",
       " 346236,\n",
       " 495077,\n",
       " 587007,\n",
       " 105592,\n",
       " 370977,\n",
       " 455262,\n",
       " 331556,\n",
       " 640561,\n",
       " 671532,\n",
       " 957361,\n",
       " 214410,\n",
       " 579363,\n",
       " 500181,\n",
       " 464197,\n",
       " 907343,\n",
       " 546678,\n",
       " 273145]"
      ]
     },
     "execution_count": 3,
     "metadata": {},
     "output_type": "execute_result"
    }
   ],
   "source": [
    "# Generar números aleatorios\n",
    "import random\n",
    "random.seed(0)\n",
    "A = (random.sample(range(1000000),60))\n",
    "A"
   ]
  },
  {
   "cell_type": "code",
   "execution_count": 4,
   "id": "7ab04792",
   "metadata": {},
   "outputs": [
    {
     "data": {
      "text/plain": [
       "544657.55"
      ]
     },
     "execution_count": 4,
     "metadata": {},
     "output_type": "execute_result"
    }
   ],
   "source": [
    "# Cálculo de la media\n",
    "mean = np.mean(A)\n",
    "mean"
   ]
  },
  {
   "cell_type": "code",
   "execution_count": 5,
   "id": "a8815970",
   "metadata": {},
   "outputs": [
    {
     "data": {
      "text/plain": [
       "532656.0"
      ]
     },
     "execution_count": 5,
     "metadata": {},
     "output_type": "execute_result"
    }
   ],
   "source": [
    "# Mediana\n",
    "np.median(A)"
   ]
  },
  {
   "cell_type": "code",
   "execution_count": 6,
   "id": "ccdd9138",
   "metadata": {},
   "outputs": [
    {
     "data": {
      "text/plain": [
       "ModeResult(mode=array([42450]), count=array([1]))"
      ]
     },
     "execution_count": 6,
     "metadata": {},
     "output_type": "execute_result"
    }
   ],
   "source": [
    "# Cálculo de la moda\n",
    "from scipy import stats\n",
    "stats.mode(A)"
   ]
  },
  {
   "cell_type": "code",
   "execution_count": 7,
   "id": "81ec4de3",
   "metadata": {},
   "outputs": [
    {
     "data": {
      "text/plain": [
       "323421.25"
      ]
     },
     "execution_count": 7,
     "metadata": {},
     "output_type": "execute_result"
    }
   ],
   "source": [
    "# percentil 100 = p1 0=p0, 0.25 1er cuartil 0-75 3er cuantil\n",
    "# https://es.wikipedia.org/wiki/Percentil\n",
    "\n",
    "np.percentile(A, 25) "
   ]
  },
  {
   "cell_type": "markdown",
   "id": "62d9a0b9",
   "metadata": {},
   "source": [
    "### Medidas de dispersión"
   ]
  },
  {
   "cell_type": "code",
   "execution_count": 12,
   "id": "4f3a6914",
   "metadata": {},
   "outputs": [
    {
     "data": {
      "text/plain": [
       "77644188472.38083"
      ]
     },
     "execution_count": 12,
     "metadata": {},
     "output_type": "execute_result"
    }
   ],
   "source": [
    "#Varianza\n",
    "np.var(A)"
   ]
  },
  {
   "cell_type": "code",
   "execution_count": 15,
   "id": "c9d51868",
   "metadata": {},
   "outputs": [
    {
     "data": {
      "text/plain": [
       "278647.0679414747"
      ]
     },
     "execution_count": 15,
     "metadata": {},
     "output_type": "execute_result"
    }
   ],
   "source": [
    "# Desviación típica\n",
    "std = np.std(A)\n",
    "std"
   ]
  },
  {
   "cell_type": "code",
   "execution_count": 16,
   "id": "ed998c1a",
   "metadata": {},
   "outputs": [
    {
     "data": {
      "text/plain": [
       "51.16004872079248"
      ]
     },
     "execution_count": 16,
     "metadata": {},
     "output_type": "execute_result"
    }
   ],
   "source": [
    "# Coeficiente de variación std/mean*100\n",
    "std/mean*100"
   ]
  },
  {
   "cell_type": "markdown",
   "id": "fa27c1d9",
   "metadata": {},
   "source": [
    "### Medidas de asimetría\n",
    "https://fieecs.uni.edu.pe/wp-content/uploads/2020/01/COMPRESIÓN-Y-MEDIDA-DEL-CONCEPTO-DE-SIMETRÍA.pdf\n"
   ]
  },
  {
   "cell_type": "code",
   "execution_count": 20,
   "id": "854dd0be",
   "metadata": {},
   "outputs": [],
   "source": [
    "import scipy.stats as sp # para modelos de asimetria\n"
   ]
  },
  {
   "cell_type": "markdown",
   "id": "bf075def",
   "metadata": {},
   "source": [
    "Asimetría de Fisher\n",
    "• Si el coeficiente es = 0; Significa que vuestra función es perfectamente simetríca, se distribuye igual, por ejemplo la distribución normal. Raro es que salga cero\n",
    "• Si el coeficiente es >0; Significa que cuánto más positivo es este valor más desplazada está la distribución hacía la izquierda, de modo que tenemos una asimetría positiva, nos queda la media muy por encima de la distribución.\n",
    "• Si el el coeficiente es <0; Significa que cuánto más negativo es este valor más desplazado está la distribución hacía la derecha, de modo que tenemos una asimetría negativa, nos queda la media muy por debajo de la distribución."
   ]
  },
  {
   "cell_type": "code",
   "execution_count": 25,
   "id": "b646ca91",
   "metadata": {
    "scrolled": true
   },
   "outputs": [
    {
     "data": {
      "text/plain": [
       "-0.04070722775199801"
      ]
     },
     "execution_count": 25,
     "metadata": {},
     "output_type": "execute_result"
    }
   ],
   "source": [
    " # 3rd Moment: Asimetría de Fisher\n",
    "Asimetria=sp.skew(A) \n",
    "Asimetria"
   ]
  },
  {
   "cell_type": "markdown",
   "id": "6d36980b",
   "metadata": {},
   "source": [
    "### Curtosis\n",
    "##### =0 Mesocúrtica Distribución perfecta, asemejada a la distribución normal en forma, no en valores. Está compensado tanto el centro como las colas.\n",
    "##### >0 Leptocúrtica Distribución donde se le concentran mucho los datos en el valor central, y apenas tiene cola.\n",
    "##### <0 Platicúrtica Distribución donde hay pocos valores que se concentren respecto al valor central (media) y hay muchos que aparecen hacia las colas, se concentran más en los laterales. Existe valor central, pero también hay mucha presencia de colas directamente en la distribución de nuestros datos."
   ]
  },
  {
   "cell_type": "code",
   "execution_count": 27,
   "id": "6a02df26",
   "metadata": {},
   "outputs": [
    {
     "data": {
      "text/plain": [
       "-1.1833015691664803"
      ]
     },
     "execution_count": 27,
     "metadata": {},
     "output_type": "execute_result"
    }
   ],
   "source": [
    " # 4th Moment: Curtosis\n",
    "curtosis=sp.kurtosis(A) \n",
    "curtosis"
   ]
  },
  {
   "cell_type": "markdown",
   "id": "a885944e",
   "metadata": {},
   "source": [
    "### Histogramas"
   ]
  },
  {
   "cell_type": "code",
   "execution_count": 28,
   "id": "8532bb32",
   "metadata": {},
   "outputs": [],
   "source": [
    "import matplotlib.pyplot as plt \n",
    "%matplotlib inline"
   ]
  },
  {
   "cell_type": "code",
   "execution_count": 29,
   "id": "0d9a9f5a",
   "metadata": {},
   "outputs": [
    {
     "data": {
      "text/plain": [
       "(array([ 5.,  4.,  6.,  6.,  7.,  7.,  5.,  3.,  6., 11.]),\n",
       " array([ 42450. , 134488.8, 226527.6, 318566.4, 410605.2, 502644. ,\n",
       "        594682.8, 686721.6, 778760.4, 870799.2, 962838. ]),\n",
       " <BarContainer object of 10 artists>)"
      ]
     },
     "execution_count": 29,
     "metadata": {},
     "output_type": "execute_result"
    },
    {
     "data": {
      "image/png": "[encoded data removed]",
      "text/plain": [
       "<Figure size 432x288 with 1 Axes>"
      ]
     },
     "metadata": {
      "needs_background": "light"
     },
     "output_type": "display_data"
    }
   ],
   "source": [
    "plt.hist(A)"
   ]
  },
  {
   "cell_type": "code",
   "execution_count": null,
   "id": "f1d57578",
   "metadata": {},
   "outputs": [],
   "source": []
  }
 ],
 "metadata": {
  "kernelspec": {
   "display_name": "Python 3 (ipykernel)",
   "language": "python",
   "name": "python3"
  },
  "language_info": {
   "codemirror_mode": {
    "name": "ipython",
    "version": 3
   },
   "file_extension": ".py",
   "mimetype": "text/x-python",
   "name": "python",
   "nbconvert_exporter": "python",
   "pygments_lexer": "ipython3",
   "version": "3.9.12"
  }
 },
 "nbformat": 4,
 "nbformat_minor": 5
}
