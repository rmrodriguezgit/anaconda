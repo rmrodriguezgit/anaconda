{
 "cells": [
  {
   "cell_type": "markdown",
   "id": "069f5cea",
   "metadata": {},
   "source": [
    "# Importaciones necesarias"
   ]
  },
  {
   "cell_type": "code",
   "execution_count": 1,
   "id": "75c2b007",
   "metadata": {},
   "outputs": [],
   "source": [
    "import matplotlib.pyplot as plt\n",
    "import matplotlib.cbook as cbook\n",
    "import matplotlib.image as image\n",
    "import pandas as pd\n",
    "from timple.timedelta import strftimedelta\n",
    "import fastf1 as ff1\n",
    "import fastf1.plotting\n",
    "from fastf1.core import Laps\n",
    "import matplotlib.cbook as cbook\n",
    "import matplotlib.image as image"
   ]
  },
  {
   "cell_type": "code",
   "execution_count": 2,
   "id": "829f8064",
   "metadata": {},
   "outputs": [],
   "source": [
    "# Habilitamos el cache en nuestro equipo\n",
    "ff1.Cache.enable_cache('cache') "
   ]
  },
  {
   "cell_type": "code",
   "execution_count": 3,
   "id": "83256b0b",
   "metadata": {},
   "outputs": [],
   "source": [
    "# we only want support for timedelta plotting in this example\n",
    "ff1.plotting.setup_mpl(mpl_timedelta_support=True, color_scheme=None, misc_mpl_mods=False)"
   ]
  },
  {
   "cell_type": "code",
   "execution_count": 4,
   "id": "7dd5eb2a",
   "metadata": {},
   "outputs": [
    {
     "name": "stdout",
     "output_type": "stream",
     "text": [
      "Año: 2022\n",
      "Round: 21\n",
      "------ Session Type ------\n",
      "R - Race\n",
      "Q - Qualifying\n",
      "SQ - Sprint Qualifying\n",
      "FP1 - Practice 1\n",
      "FP2 - Practice 2\n",
      "FP3 - Practice 3\n",
      "--------------------------\n",
      "Session :R\n",
      "Piloto 1: PER\n",
      "Piloto 2: VER\n"
     ]
    }
   ],
   "source": [
    "# Solicitar variables\n",
    "year = int(input('Año: '))\n",
    "wknd = int(input('Round: '))\n",
    "print('------ Session Type ------')\n",
    "print('R - Race')\n",
    "print('Q - Qualifying')\n",
    "print('SQ - Sprint Qualifying')\n",
    "print('FP1 - Practice 1')\n",
    "print('FP2 - Practice 2')\n",
    "print('FP3 - Practice 3')\n",
    "print('--------------------------')\n",
    "ses = input('Session :')\n",
    "piloto1 = input('Piloto 1: ')\n",
    "piloto2 = input('Piloto 2: ')"
   ]
  },
  {
   "cell_type": "markdown",
   "id": "6bd95999",
   "metadata": {},
   "source": [
    "# Carga de la sesión"
   ]
  },
  {
   "cell_type": "code",
   "execution_count": 5,
   "id": "98f433cf",
   "metadata": {},
   "outputs": [
    {
     "name": "stderr",
     "output_type": "stream",
     "text": [
      "core           INFO \tLoading data for São Paulo Grand Prix - Race [v2.2.8]\n",
      "api            INFO \tUsing cached data for driver_info\n",
      "api            INFO \tUsing cached data for timing_data\n",
      "api            INFO \tUsing cached data for timing_app_data\n",
      "core           INFO \tProcessing timing data...\n",
      "api            INFO \tUsing cached data for session_status_data\n",
      "api            INFO \tUsing cached data for track_status_data\n",
      "api            INFO \tUsing cached data for car_data\n",
      "api            INFO \tUsing cached data for position_data\n",
      "api            INFO \tUsing cached data for weather_data\n",
      "api            INFO \tUsing cached data for race_control_messages\n",
      "core           INFO \tFinished loading data for 20 drivers: ['63', '44', '55', '16', '14', '1', '11', '31', '77', '18', '5', '24', '47', '10', '23', '6', '22', '4', '20', '3']\n"
     ]
    }
   ],
   "source": [
    "session = ff1.get_session(year, wknd, ses)\n",
    "session.load()"
   ]
  },
  {
   "cell_type": "markdown",
   "id": "8c4d4496",
   "metadata": {},
   "source": [
    "# Listado de pilotos"
   ]
  },
  {
   "cell_type": "code",
   "execution_count": 6,
   "id": "44981cd8",
   "metadata": {},
   "outputs": [
    {
     "data": {
      "text/plain": [
       "array(['RUS', 'HAM', 'SAI', 'LEC', 'ALO', 'VER', 'PER', 'OCO', 'BOT',\n",
       "       'STR', 'VET', 'ZHO', 'MSC', 'GAS', 'ALB', 'LAT', 'TSU', 'NOR',\n",
       "       'MAG', 'RIC'], dtype=object)"
      ]
     },
     "execution_count": 6,
     "metadata": {},
     "output_type": "execute_result"
    }
   ],
   "source": [
    "drivers = pd.unique(session.laps['Driver'])\n",
    "drivers\n",
    "# seleccionar un solo piloto drivers[0] - SAI"
   ]
  },
  {
   "cell_type": "markdown",
   "id": "dddd125d",
   "metadata": {},
   "source": [
    "# Listado de Equipos"
   ]
  },
  {
   "cell_type": "code",
   "execution_count": 7,
   "id": "ec027289",
   "metadata": {},
   "outputs": [
    {
     "data": {
      "text/plain": [
       "array(['Mercedes', 'Ferrari', 'Alpine', 'Red Bull Racing', 'Alfa Romeo',\n",
       "       'Aston Martin', 'Haas F1 Team', 'AlphaTauri', 'Williams',\n",
       "       'McLaren'], dtype=object)"
      ]
     },
     "execution_count": 7,
     "metadata": {},
     "output_type": "execute_result"
    }
   ],
   "source": [
    "teams = pd.unique(session.laps['Team'])\n",
    "teams"
   ]
  },
  {
   "cell_type": "code",
   "execution_count": 8,
   "id": "c9f3ad83",
   "metadata": {},
   "outputs": [
    {
     "data": {
      "text/html": [
       "<div>\n",
       "<style scoped>\n",
       "    .dataframe tbody tr th:only-of-type {\n",
       "        vertical-align: middle;\n",
       "    }\n",
       "\n",
       "    .dataframe tbody tr th {\n",
       "        vertical-align: top;\n",
       "    }\n",
       "\n",
       "    .dataframe thead th {\n",
       "        text-align: right;\n",
       "    }\n",
       "</style>\n",
       "<table border=\"1\" class=\"dataframe\">\n",
       "  <thead>\n",
       "    <tr style=\"text-align: right;\">\n",
       "      <th></th>\n",
       "      <th>DriverNumber</th>\n",
       "      <th>BroadcastName</th>\n",
       "      <th>Abbreviation</th>\n",
       "      <th>TeamName</th>\n",
       "      <th>TeamColor</th>\n",
       "      <th>FirstName</th>\n",
       "      <th>LastName</th>\n",
       "      <th>FullName</th>\n",
       "      <th>Position</th>\n",
       "      <th>GridPosition</th>\n",
       "      <th>Q1</th>\n",
       "      <th>Q2</th>\n",
       "      <th>Q3</th>\n",
       "      <th>Time</th>\n",
       "      <th>Status</th>\n",
       "      <th>Points</th>\n",
       "    </tr>\n",
       "  </thead>\n",
       "  <tbody>\n",
       "    <tr>\n",
       "      <th>63</th>\n",
       "      <td>63</td>\n",
       "      <td>G RUSSELL</td>\n",
       "      <td>RUS</td>\n",
       "      <td>Mercedes</td>\n",
       "      <td>6cd3bf</td>\n",
       "      <td>George</td>\n",
       "      <td>Russell</td>\n",
       "      <td>George Russell</td>\n",
       "      <td>1.0</td>\n",
       "      <td>1.0</td>\n",
       "      <td>NaT</td>\n",
       "      <td>NaT</td>\n",
       "      <td>NaT</td>\n",
       "      <td>0 days 01:38:34.044000</td>\n",
       "      <td>Finished</td>\n",
       "      <td>26.0</td>\n",
       "    </tr>\n",
       "    <tr>\n",
       "      <th>44</th>\n",
       "      <td>44</td>\n",
       "      <td>L HAMILTON</td>\n",
       "      <td>HAM</td>\n",
       "      <td>Mercedes</td>\n",
       "      <td>6cd3bf</td>\n",
       "      <td>Lewis</td>\n",
       "      <td>Hamilton</td>\n",
       "      <td>Lewis Hamilton</td>\n",
       "      <td>2.0</td>\n",
       "      <td>2.0</td>\n",
       "      <td>NaT</td>\n",
       "      <td>NaT</td>\n",
       "      <td>NaT</td>\n",
       "      <td>0 days 01:38:35.573000</td>\n",
       "      <td>Finished</td>\n",
       "      <td>18.0</td>\n",
       "    </tr>\n",
       "    <tr>\n",
       "      <th>55</th>\n",
       "      <td>55</td>\n",
       "      <td>C SAINZ</td>\n",
       "      <td>SAI</td>\n",
       "      <td>Ferrari</td>\n",
       "      <td>ed1c24</td>\n",
       "      <td>Carlos</td>\n",
       "      <td>Sainz</td>\n",
       "      <td>Carlos Sainz</td>\n",
       "      <td>3.0</td>\n",
       "      <td>7.0</td>\n",
       "      <td>NaT</td>\n",
       "      <td>NaT</td>\n",
       "      <td>NaT</td>\n",
       "      <td>0 days 01:38:38.095000</td>\n",
       "      <td>Finished</td>\n",
       "      <td>15.0</td>\n",
       "    </tr>\n",
       "    <tr>\n",
       "      <th>16</th>\n",
       "      <td>16</td>\n",
       "      <td>C LECLERC</td>\n",
       "      <td>LEC</td>\n",
       "      <td>Ferrari</td>\n",
       "      <td>ed1c24</td>\n",
       "      <td>Charles</td>\n",
       "      <td>Leclerc</td>\n",
       "      <td>Charles Leclerc</td>\n",
       "      <td>4.0</td>\n",
       "      <td>5.0</td>\n",
       "      <td>NaT</td>\n",
       "      <td>NaT</td>\n",
       "      <td>NaT</td>\n",
       "      <td>0 days 01:38:42.485000</td>\n",
       "      <td>Finished</td>\n",
       "      <td>12.0</td>\n",
       "    </tr>\n",
       "    <tr>\n",
       "      <th>14</th>\n",
       "      <td>14</td>\n",
       "      <td>F ALONSO</td>\n",
       "      <td>ALO</td>\n",
       "      <td>Alpine</td>\n",
       "      <td>2293d1</td>\n",
       "      <td>Fernando</td>\n",
       "      <td>Alonso</td>\n",
       "      <td>Fernando Alonso</td>\n",
       "      <td>5.0</td>\n",
       "      <td>17.0</td>\n",
       "      <td>NaT</td>\n",
       "      <td>NaT</td>\n",
       "      <td>NaT</td>\n",
       "      <td>0 days 01:38:43.605000</td>\n",
       "      <td>Finished</td>\n",
       "      <td>10.0</td>\n",
       "    </tr>\n",
       "    <tr>\n",
       "      <th>1</th>\n",
       "      <td>1</td>\n",
       "      <td>M VERSTAPPEN</td>\n",
       "      <td>VER</td>\n",
       "      <td>Red Bull Racing</td>\n",
       "      <td>1e5bc6</td>\n",
       "      <td>Max</td>\n",
       "      <td>Verstappen</td>\n",
       "      <td>Max Verstappen</td>\n",
       "      <td>6.0</td>\n",
       "      <td>3.0</td>\n",
       "      <td>NaT</td>\n",
       "      <td>NaT</td>\n",
       "      <td>NaT</td>\n",
       "      <td>0 days 01:38:44.100000</td>\n",
       "      <td>Finished</td>\n",
       "      <td>8.0</td>\n",
       "    </tr>\n",
       "    <tr>\n",
       "      <th>11</th>\n",
       "      <td>11</td>\n",
       "      <td>S PEREZ</td>\n",
       "      <td>PER</td>\n",
       "      <td>Red Bull Racing</td>\n",
       "      <td>1e5bc6</td>\n",
       "      <td>Sergio</td>\n",
       "      <td>Perez</td>\n",
       "      <td>Sergio Perez</td>\n",
       "      <td>7.0</td>\n",
       "      <td>4.0</td>\n",
       "      <td>NaT</td>\n",
       "      <td>NaT</td>\n",
       "      <td>NaT</td>\n",
       "      <td>0 days 01:38:48.124000</td>\n",
       "      <td>Finished</td>\n",
       "      <td>6.0</td>\n",
       "    </tr>\n",
       "    <tr>\n",
       "      <th>31</th>\n",
       "      <td>31</td>\n",
       "      <td>E OCON</td>\n",
       "      <td>OCO</td>\n",
       "      <td>Alpine</td>\n",
       "      <td>2293d1</td>\n",
       "      <td>Esteban</td>\n",
       "      <td>Ocon</td>\n",
       "      <td>Esteban Ocon</td>\n",
       "      <td>8.0</td>\n",
       "      <td>16.0</td>\n",
       "      <td>NaT</td>\n",
       "      <td>NaT</td>\n",
       "      <td>NaT</td>\n",
       "      <td>0 days 01:38:52.734000</td>\n",
       "      <td>Finished</td>\n",
       "      <td>4.0</td>\n",
       "    </tr>\n",
       "    <tr>\n",
       "      <th>77</th>\n",
       "      <td>77</td>\n",
       "      <td>V BOTTAS</td>\n",
       "      <td>BOT</td>\n",
       "      <td>Alfa Romeo</td>\n",
       "      <td>b12039</td>\n",
       "      <td>Valtteri</td>\n",
       "      <td>Bottas</td>\n",
       "      <td>Valtteri Bottas</td>\n",
       "      <td>9.0</td>\n",
       "      <td>14.0</td>\n",
       "      <td>NaT</td>\n",
       "      <td>NaT</td>\n",
       "      <td>NaT</td>\n",
       "      <td>0 days 01:38:56.596000</td>\n",
       "      <td>Finished</td>\n",
       "      <td>2.0</td>\n",
       "    </tr>\n",
       "    <tr>\n",
       "      <th>18</th>\n",
       "      <td>18</td>\n",
       "      <td>L STROLL</td>\n",
       "      <td>STR</td>\n",
       "      <td>Aston Martin</td>\n",
       "      <td>2d826d</td>\n",
       "      <td>Lance</td>\n",
       "      <td>Stroll</td>\n",
       "      <td>Lance Stroll</td>\n",
       "      <td>10.0</td>\n",
       "      <td>15.0</td>\n",
       "      <td>NaT</td>\n",
       "      <td>NaT</td>\n",
       "      <td>NaT</td>\n",
       "      <td>0 days 01:38:57.596000</td>\n",
       "      <td>Finished</td>\n",
       "      <td>1.0</td>\n",
       "    </tr>\n",
       "  </tbody>\n",
       "</table>\n",
       "</div>"
      ],
      "text/plain": [
       "   DriverNumber BroadcastName Abbreviation         TeamName TeamColor  \\\n",
       "63           63     G RUSSELL          RUS         Mercedes    6cd3bf   \n",
       "44           44    L HAMILTON          HAM         Mercedes    6cd3bf   \n",
       "55           55       C SAINZ          SAI          Ferrari    ed1c24   \n",
       "16           16     C LECLERC          LEC          Ferrari    ed1c24   \n",
       "14           14      F ALONSO          ALO           Alpine    2293d1   \n",
       "1             1  M VERSTAPPEN          VER  Red Bull Racing    1e5bc6   \n",
       "11           11       S PEREZ          PER  Red Bull Racing    1e5bc6   \n",
       "31           31        E OCON          OCO           Alpine    2293d1   \n",
       "77           77      V BOTTAS          BOT       Alfa Romeo    b12039   \n",
       "18           18      L STROLL          STR     Aston Martin    2d826d   \n",
       "\n",
       "   FirstName    LastName         FullName  Position  GridPosition  Q1  Q2  Q3  \\\n",
       "63    George     Russell   George Russell       1.0           1.0 NaT NaT NaT   \n",
       "44     Lewis    Hamilton   Lewis Hamilton       2.0           2.0 NaT NaT NaT   \n",
       "55    Carlos       Sainz     Carlos Sainz       3.0           7.0 NaT NaT NaT   \n",
       "16   Charles     Leclerc  Charles Leclerc       4.0           5.0 NaT NaT NaT   \n",
       "14  Fernando      Alonso  Fernando Alonso       5.0          17.0 NaT NaT NaT   \n",
       "1        Max  Verstappen   Max Verstappen       6.0           3.0 NaT NaT NaT   \n",
       "11    Sergio       Perez     Sergio Perez       7.0           4.0 NaT NaT NaT   \n",
       "31   Esteban        Ocon     Esteban Ocon       8.0          16.0 NaT NaT NaT   \n",
       "77  Valtteri      Bottas  Valtteri Bottas       9.0          14.0 NaT NaT NaT   \n",
       "18     Lance      Stroll     Lance Stroll      10.0          15.0 NaT NaT NaT   \n",
       "\n",
       "                     Time    Status  Points  \n",
       "63 0 days 01:38:34.044000  Finished    26.0  \n",
       "44 0 days 01:38:35.573000  Finished    18.0  \n",
       "55 0 days 01:38:38.095000  Finished    15.0  \n",
       "16 0 days 01:38:42.485000  Finished    12.0  \n",
       "14 0 days 01:38:43.605000  Finished    10.0  \n",
       "1  0 days 01:38:44.100000  Finished     8.0  \n",
       "11 0 days 01:38:48.124000  Finished     6.0  \n",
       "31 0 days 01:38:52.734000  Finished     4.0  \n",
       "77 0 days 01:38:56.596000  Finished     2.0  \n",
       "18 0 days 01:38:57.596000  Finished     1.0  "
      ]
     },
     "execution_count": 8,
     "metadata": {},
     "output_type": "execute_result"
    }
   ],
   "source": [
    "session.results[0:10]"
   ]
  },
  {
   "cell_type": "markdown",
   "id": "ee0cb024",
   "metadata": {},
   "source": [
    "# tabla de vueltas más rápidas"
   ]
  },
  {
   "cell_type": "code",
   "execution_count": 9,
   "id": "0f615d5b",
   "metadata": {},
   "outputs": [
    {
     "name": "stderr",
     "output_type": "stream",
     "text": [
      "/opt/anaconda3/lib/python3.9/site-packages/fastf1/core.py:2165: FutureWarning: The default dtype for empty Series will be 'object' instead of 'float64' in a future version. Specify a dtype explicitly to silence this warning.\n",
      "  super().__init__(*args, **kwargs)\n"
     ]
    }
   ],
   "source": [
    "list_fastest_laps = list()\n",
    "for drv in drivers:\n",
    "    drvs_fastest_lap = session.laps.pick_driver(drv).pick_fastest()\n",
    "    list_fastest_laps.append(drvs_fastest_lap)\n",
    "fastest_laps = Laps(list_fastest_laps).sort_values(by='LapTime').reset_index(drop=True)"
   ]
  },
  {
   "cell_type": "code",
   "execution_count": 10,
   "id": "8dc2ea40",
   "metadata": {},
   "outputs": [],
   "source": [
    "pole_lap = fastest_laps.pick_fastest()\n",
    "fastest_laps['LapTimeDelta'] = fastest_laps['LapTime'] - pole_lap['LapTime']"
   ]
  },
  {
   "cell_type": "code",
   "execution_count": 11,
   "id": "e035c37d",
   "metadata": {},
   "outputs": [
    {
     "name": "stdout",
     "output_type": "stream",
     "text": [
      "   Driver                LapTime           LapTimeDelta\n",
      "0     RUS 0 days 00:01:13.785000        0 days 00:00:00\n",
      "1     HAM 0 days 00:01:13.942000 0 days 00:00:00.157000\n",
      "2     SAI 0 days 00:01:13.953000 0 days 00:00:00.168000\n",
      "3     ALO 0 days 00:01:14.164000 0 days 00:00:00.379000\n",
      "4     VER 0 days 00:01:14.195000 0 days 00:00:00.410000\n",
      "5     LEC 0 days 00:01:14.253000 0 days 00:00:00.468000\n",
      "6     PER 0 days 00:01:14.283000 0 days 00:00:00.498000\n",
      "7     STR 0 days 00:01:14.831000 0 days 00:00:01.046000\n",
      "8     OCO 0 days 00:01:15.093000 0 days 00:00:01.308000\n",
      "9     MSC 0 days 00:01:15.251000 0 days 00:00:01.466000\n",
      "10    LAT 0 days 00:01:15.327000 0 days 00:00:01.542000\n",
      "11    GAS 0 days 00:01:15.327000 0 days 00:00:01.542000\n",
      "12    TSU 0 days 00:01:15.508000 0 days 00:00:01.723000\n",
      "13    BOT 0 days 00:01:15.511000 0 days 00:00:01.726000\n",
      "14    VET 0 days 00:01:15.549000 0 days 00:00:01.764000\n",
      "15    ALB 0 days 00:01:15.613000 0 days 00:00:01.828000\n",
      "16    ZHO 0 days 00:01:15.802000 0 days 00:00:02.017000\n",
      "17    NOR 0 days 00:01:15.855000 0 days 00:00:02.070000\n",
      "18    NaN                    NaT                    NaT\n",
      "19    NaN                    NaT                    NaT\n"
     ]
    }
   ],
   "source": [
    "print(fastest_laps[['Driver', 'LapTime', 'LapTimeDelta']])"
   ]
  },
  {
   "cell_type": "code",
   "execution_count": 12,
   "id": "2a032fba",
   "metadata": {},
   "outputs": [],
   "source": [
    "# Graficador"
   ]
  },
  {
   "cell_type": "code",
   "execution_count": 14,
   "id": "5e4237a6",
   "metadata": {},
   "outputs": [
    {
     "name": "stdout",
     "output_type": "stream",
     "text": [
      "Mercedes\n",
      "Mercedes\n",
      "Ferrari\n",
      "Alpine\n",
      "Red Bull Racing\n",
      "Ferrari\n",
      "Red Bull Racing\n",
      "Aston Martin\n",
      "Alpine\n",
      "Haas F1 Team\n",
      "Williams\n",
      "AlphaTauri\n",
      "AlphaTauri\n",
      "Alfa Romeo\n",
      "Aston Martin\n",
      "Williams\n",
      "Alfa Romeo\n",
      "McLaren\n",
      "NaT\n",
      "NaT\n"
     ]
    }
   ],
   "source": [
    "team_colors = list()\n",
    "for index, lap in fastest_laps.iterlaps():\n",
    "    print(lap['Team'])\n",
    "    if pd.isnull(lap['Team']):\n",
    "        color = '#000000'\n",
    "    else:\n",
    "        color = ff1.plotting.team_color(lap['Team'])\n",
    "    team_colors.append(color)"
   ]
  },
  {
   "cell_type": "code",
   "execution_count": 16,
   "id": "202a6c48",
   "metadata": {},
   "outputs": [
    {
     "data": {
      "image/png": "[encoded data removed]",
      "text/plain": [
       "<Figure size 1080x1080 with 1 Axes>"
      ]
     },
     "metadata": {},
     "output_type": "display_data"
    }
   ],
   "source": [
    "#with cbook.get_sample_data('/Users/rubenrodriguez/Documents/anaconda/fastf1/images/logog.png') as file:\n",
    "#    im = image.imread(file)\n",
    "\n",
    "im = image.imread('./images/logog.png')\n",
    "    #Modo oscuro\n",
    "plt.style.use('dark_background')\n",
    "\n",
    "fig, ax = plt.subplots()\n",
    "\n",
    "plt.rcParams['figure.figsize'] = [15, 15]\n",
    "\n",
    "# Etiquetas Verticales | Pilotos\n",
    "ax.set_yticks(fastest_laps.index,labels=fastest_laps['Driver'])\n",
    "ax.barh(fastest_laps.index, fastest_laps['LapTimeDelta'], color=team_colors, edgecolor='grey')\n",
    "\n",
    "ax.invert_yaxis()\n",
    "# Etiquetas\n",
    "ax.set_ylabel('Drivers')\n",
    "ax.set_xlabel('Lap Time Delta')\n",
    "session.event\n",
    "#ax.set_title(session.event['OfficialEventName'])\n",
    "plt.suptitle(f\"\\n{session.event['OfficialEventName']} \\n Lap Time Delta \\n\"\n",
    "             , size=20, y=1.02)\n",
    "# Barras\n",
    "# draw vertical lines behind the bars\n",
    "ax.set_axisbelow(True)\n",
    "ax.xaxis.grid(True, which='major', linestyle='--', color='white', zorder=-1000)\n",
    "\n",
    "#fig.figimage(im, 3, 3, zorder=13, alpha=.35)\n",
    "fig.figimage(im, xo=350, yo=450, zorder=13, alpha=.35)\n",
    "\n",
    "nombrearchivo = str(year)+'-'+str(wknd)+'-LTD-'+ses+'.png'\n",
    "plt.savefig(nombrearchivo)\n",
    "\n",
    "#Mostrar gráfico\n",
    "#plt.savefig('2022-13-RLTD.png')\n",
    "plt.show()"
   ]
  },
  {
   "cell_type": "code",
   "execution_count": null,
   "id": "b8e3ae1c",
   "metadata": {},
   "outputs": [],
   "source": []
  },
  {
   "cell_type": "code",
   "execution_count": null,
   "id": "783b4fef",
   "metadata": {},
   "outputs": [],
   "source": []
  }
 ],
 "metadata": {
  "kernelspec": {
   "display_name": "Python 3 (ipykernel)",
   "language": "python",
   "name": "python3"
  },
  "language_info": {
   "codemirror_mode": {
    "name": "ipython",
    "version": 3
   },
   "file_extension": ".py",
   "mimetype": "text/x-python",
   "name": "python",
   "nbconvert_exporter": "python",
   "pygments_lexer": "ipython3",
   "version": "3.9.12"
  }
 },
 "nbformat": 4,
 "nbformat_minor": 5
}
