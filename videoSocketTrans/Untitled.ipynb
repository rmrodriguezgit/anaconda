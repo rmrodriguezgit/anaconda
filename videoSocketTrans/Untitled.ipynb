{
 "cells": [
  {
   "cell_type": "code",
   "execution_count": 1,
   "id": "14de091d",
   "metadata": {},
   "outputs": [],
   "source": [
    "import socket\n"
   ]
  },
  {
   "cell_type": "code",
   "execution_count": 3,
   "id": "e56c0ffd",
   "metadata": {},
   "outputs": [],
   "source": [
    "import cv2"
   ]
  },
  {
   "cell_type": "code",
   "execution_count": 4,
   "id": "b2264ab7",
   "metadata": {},
   "outputs": [],
   "source": [
    "import pickle\n"
   ]
  },
  {
   "cell_type": "code",
   "execution_count": 5,
   "id": "72f1206d",
   "metadata": {},
   "outputs": [],
   "source": [
    "import struct\n"
   ]
  },
  {
   "cell_type": "code",
   "execution_count": 7,
   "id": "0e27ff7e",
   "metadata": {},
   "outputs": [
    {
     "name": "stdout",
     "output_type": "stream",
     "text": [
      "Warning! No module named 'sounddevice'\n",
      "Warning! No module named 'matplotlib'\n",
      "Warning! No module named 'keras'\n"
     ]
    }
   ],
   "source": [
    "import pyshine as ps # pip install pyshine\n"
   ]
  },
  {
   "cell_type": "code",
   "execution_count": 9,
   "id": "c89dc665",
   "metadata": {},
   "outputs": [],
   "source": [
    "import imutils # pip install imutils"
   ]
  },
  {
   "cell_type": "code",
   "execution_count": null,
   "id": "b408a13e",
   "metadata": {},
   "outputs": [],
   "source": []
  }
 ],
 "metadata": {
  "kernelspec": {
   "display_name": "Python 3 (ipykernel)",
   "language": "python",
   "name": "python3"
  },
  "language_info": {
   "codemirror_mode": {
    "name": "ipython",
    "version": 3
   },
   "file_extension": ".py",
   "mimetype": "text/x-python",
   "name": "python",
   "nbconvert_exporter": "python",
   "pygments_lexer": "ipython3",
   "version": "3.9.13"
  }
 },
 "nbformat": 4,
 "nbformat_minor": 5
}
