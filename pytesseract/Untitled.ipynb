{
 "cells": [
  {
   "cell_type": "code",
   "execution_count": 1,
   "id": "27c7d468",
   "metadata": {},
   "outputs": [],
   "source": [
    "import re"
   ]
  },
  {
   "cell_type": "code",
   "execution_count": 3,
   "id": "7a4bed85",
   "metadata": {},
   "outputs": [],
   "source": [
    "import numpy"
   ]
  },
  {
   "cell_type": "code",
   "execution_count": 11,
   "id": "a3d156aa",
   "metadata": {},
   "outputs": [],
   "source": [
    "from pytesseract import Output"
   ]
  },
  {
   "cell_type": "code",
   "execution_count": 12,
   "id": "3b4efd3d",
   "metadata": {},
   "outputs": [],
   "source": [
    "from matplotlib import pyplot as plt"
   ]
  },
  {
   "cell_type": "code",
   "execution_count": 13,
   "id": "6f83dd06",
   "metadata": {},
   "outputs": [],
   "source": [
    "import cv2"
   ]
  },
  {
   "cell_type": "code",
   "execution_count": 14,
   "id": "d0eb4838",
   "metadata": {},
   "outputs": [],
   "source": [
    "import PIL"
   ]
  },
  {
   "cell_type": "code",
   "execution_count": 15,
   "id": "69d87985",
   "metadata": {},
   "outputs": [],
   "source": [
    "import os"
   ]
  },
  {
   "cell_type": "code",
   "execution_count": 16,
   "id": "3a02ab7e",
   "metadata": {},
   "outputs": [],
   "source": [
    "import openpyxl"
   ]
  },
  {
   "cell_type": "code",
   "execution_count": 17,
   "id": "efe64ddb",
   "metadata": {},
   "outputs": [],
   "source": [
    "from numpy import interp"
   ]
  },
  {
   "cell_type": "code",
   "execution_count": 18,
   "id": "48cbed3e",
   "metadata": {},
   "outputs": [],
   "source": [
    "import numpy as np"
   ]
  },
  {
   "cell_type": "code",
   "execution_count": 20,
   "id": "dc663661",
   "metadata": {},
   "outputs": [],
   "source": [
    "import fastf1 as ff1"
   ]
  },
  {
   "cell_type": "code",
   "execution_count": 21,
   "id": "b5406174",
   "metadata": {},
   "outputs": [],
   "source": [
    "from fastf1 import plotting"
   ]
  },
  {
   "cell_type": "code",
   "execution_count": 22,
   "id": "21d76f94",
   "metadata": {},
   "outputs": [],
   "source": [
    "import matplotlib.pyplot as plt"
   ]
  },
  {
   "cell_type": "code",
   "execution_count": null,
   "id": "cd100828",
   "metadata": {},
   "outputs": [],
   "source": [
    "'/Users/rubenrodriguez/Documents/anaconda/fastf1/cache/'"
   ]
  }
 ],
 "metadata": {
  "kernelspec": {
   "display_name": "Python 3 (ipykernel)",
   "language": "python",
   "name": "python3"
  },
  "language_info": {
   "codemirror_mode": {
    "name": "ipython",
    "version": 3
   },
   "file_extension": ".py",
   "mimetype": "text/x-python",
   "name": "python",
   "nbconvert_exporter": "python",
   "pygments_lexer": "ipython3",
   "version": "3.7.13"
  }
 },
 "nbformat": 4,
 "nbformat_minor": 5
}
