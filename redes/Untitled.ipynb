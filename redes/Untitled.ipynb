{
 "cells": [
  {
   "cell_type": "code",
   "execution_count": 11,
   "id": "084917b7",
   "metadata": {},
   "outputs": [],
   "source": [
    "import argparse"
   ]
  },
  {
   "cell_type": "code",
   "execution_count": 12,
   "id": "9b00ce07",
   "metadata": {},
   "outputs": [],
   "source": [
    "import pcap"
   ]
  },
  {
   "cell_type": "code",
   "execution_count": 17,
   "id": "32d5f2e7",
   "metadata": {},
   "outputs": [],
   "source": [
    "import construct "
   ]
  },
  {
   "cell_type": "code",
   "execution_count": 18,
   "id": "da9de727",
   "metadata": {},
   "outputs": [],
   "source": [
    "def print_packet(pktlen, data, timestamp):\n",
    "    if not data:\n",
    "        return\n",
    "    stack = ip_stack.parse(data) \n",
    "    payload = stack.next.next.next \n",
    "    print (payload)"
   ]
  },
  {
   "cell_type": "code",
   "execution_count": 19,
   "id": "1f4df78f",
   "metadata": {},
   "outputs": [],
   "source": [
    "def main():\n",
    "    # setup commandline arguments\n",
    "    parser = argparse.ArgumentParser(description='Packet Sniffer') \n",
    "    parser.add_argument('--iface', action=\"store\",dest=\"iface\", default='eth0') \n",
    "    parser.add_argument('--port', action=\"store\", dest=\"port\", default=80, type=int)\n",
    "# parse arguments\n",
    "    given_args = parser.parse_args()\n",
    "    iface, port = given_args.iface, given_args.port # start sniffing\n",
    "    pc = pcap.pcapObject() \n",
    "    pc.open_live(iface, 1600, 0, 100) \n",
    "    pc.setfilter('dst port %d' %port, 0, 0) \n",
    "    print ('Press CTRL+C to end capture') \n",
    "    try:\n",
    "        while True:\n",
    "            pc.dispatch(1, print_packet)\n",
    "    except KeyboardInterrupt:\n",
    "        print ('Packet statistics: %d packets received, %d packets dropped, %d packets dropped by the interface' % pc.stats())"
   ]
  },
  {
   "cell_type": "code",
   "execution_count": 20,
   "id": "2e4a4e25",
   "metadata": {},
   "outputs": [
    {
     "name": "stderr",
     "output_type": "stream",
     "text": [
      "usage: ipykernel_launcher.py [-h] [--iface IFACE] [--port PORT]\n",
      "ipykernel_launcher.py: error: unrecognized arguments: -f /Users/rubenrodriguez/Library/Jupyter/runtime/kernel-1d7ebc17-2279-4153-bddd-3a0e3349be17.json\n"
     ]
    },
    {
     "ename": "SystemExit",
     "evalue": "2",
     "output_type": "error",
     "traceback": [
      "An exception has occurred, use %tb to see the full traceback.\n",
      "\u001b[0;31mSystemExit\u001b[0m\u001b[0;31m:\u001b[0m 2\n"
     ]
    }
   ],
   "source": [
    "if __name__ == '__main__':\n",
    "    main()"
   ]
  },
  {
   "cell_type": "code",
   "execution_count": null,
   "id": "ef8f4c89",
   "metadata": {},
   "outputs": [],
   "source": []
  }
 ],
 "metadata": {
  "kernelspec": {
   "display_name": "Python 3 (ipykernel)",
   "language": "python",
   "name": "python3"
  },
  "language_info": {
   "codemirror_mode": {
    "name": "ipython",
    "version": 3
   },
   "file_extension": ".py",
   "mimetype": "text/x-python",
   "name": "python",
   "nbconvert_exporter": "python",
   "pygments_lexer": "ipython3",
   "version": "3.9.13"
  }
 },
 "nbformat": 4,
 "nbformat_minor": 5
}
