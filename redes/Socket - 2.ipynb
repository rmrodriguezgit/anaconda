{
 "cells": [
  {
   "cell_type": "code",
   "execution_count": 1,
   "id": "22da8ca2",
   "metadata": {},
   "outputs": [],
   "source": [
    "#Socket"
   ]
  },
  {
   "cell_type": "code",
   "execution_count": 2,
   "id": "b1cbeec4",
   "metadata": {},
   "outputs": [],
   "source": [
    "import socket"
   ]
  },
  {
   "cell_type": "code",
   "execution_count": 3,
   "id": "71c1382d",
   "metadata": {},
   "outputs": [
    {
     "name": "stdout",
     "output_type": "stream",
     "text": [
      "servidor.mini.com\n"
     ]
    }
   ],
   "source": [
    "print(socket.gethostname())"
   ]
  },
  {
   "cell_type": "code",
   "execution_count": 8,
   "id": "1251fd1d",
   "metadata": {},
   "outputs": [
    {
     "name": "stdout",
     "output_type": "stream",
     "text": [
      "localhost : 127.0.0.1\n",
      "pymotw.com : 185.199.111.153\n",
      "www.python.org : 146.75.104.223\n",
      "nosuchname : [Errno 8] nodename nor servname provided, or not known\n"
     ]
    }
   ],
   "source": [
    "HOSTS = [\n",
    "    'localhost',\n",
    "    'pymotw.com',\n",
    "    'www.python.org',\n",
    "    'nosuchname',\n",
    "]\n",
    "\n",
    "for host in HOSTS:\n",
    "    try:\n",
    "        print('{} : {}'.format(host, socket.gethostbyname(host)))\n",
    "    except socket.error as msg:\n",
    "        print('{} : {}'.format(host, msg))"
   ]
  },
  {
   "cell_type": "code",
   "execution_count": 10,
   "id": "5e96f5b4",
   "metadata": {},
   "outputs": [
    {
     "name": "stdout",
     "output_type": "stream",
     "text": [
      "localhost\n",
      "  Hostname: localhost\n",
      "  Aliases : []\n",
      " Addresses: ['127.0.0.1']\n",
      "\n",
      "pymotw.com\n",
      "  Hostname: pymotw.com\n",
      "  Aliases : []\n",
      " Addresses: ['185.199.110.153', '185.199.109.153', '185.199.108.153', '185.199.111.153']\n",
      "\n",
      "www.python.org\n",
      "  Hostname: dualstack.python.map.fastly.net\n",
      "  Aliases : ['www.python.org']\n",
      " Addresses: ['146.75.104.223']\n",
      "\n",
      "nosuchname\n",
      "ERROR: [Errno 8] nodename nor servname provided, or not known\n",
      "\n"
     ]
    }
   ],
   "source": [
    "HOSTS = [\n",
    "    'localhost',\n",
    "    'pymotw.com',\n",
    "    'www.python.org',\n",
    "    'nosuchname',\n",
    "]\n",
    "\n",
    "for host in HOSTS:\n",
    "    print(host)\n",
    "    try:\n",
    "        name, aliases, addresses = socket.gethostbyname_ex(host)\n",
    "        print('  Hostname:', name)\n",
    "        print('  Aliases :', aliases)\n",
    "        print(' Addresses:', addresses)\n",
    "    except socket.error as msg:\n",
    "        print('ERROR:', msg)\n",
    "    print()"
   ]
  },
  {
   "cell_type": "code",
   "execution_count": 13,
   "id": "f1d6e7ef",
   "metadata": {},
   "outputs": [
    {
     "name": "stdout",
     "output_type": "stream",
     "text": [
      " 127.0.0.1 : 1.0.0.127.in-addr.arpa\n",
      "pymotw.com : pymotw.com\n"
     ]
    }
   ],
   "source": [
    "for host in ['127.0.0.1', 'pymotw.com']:\n",
    "    print('{:>10} : {}'.format(host, socket.getfqdn(host)))"
   ]
  },
  {
   "cell_type": "code",
   "execution_count": 15,
   "id": "d7fecdfe",
   "metadata": {},
   "outputs": [
    {
     "name": "stdout",
     "output_type": "stream",
     "text": [
      "Hostname : localhost\n",
      "Aliases  : ['1.0.0.127.in-addr.arpa']\n",
      "Addresses: ['127.0.0.1']\n"
     ]
    }
   ],
   "source": [
    "hostname, aliases, addresses = socket.gethostbyaddr('127.0.0.1')\n",
    "\n",
    "print('Hostname :', hostname)\n",
    "print('Aliases  :', aliases)\n",
    "print('Addresses:', addresses)"
   ]
  },
  {
   "cell_type": "code",
   "execution_count": 16,
   "id": "229a21ca",
   "metadata": {},
   "outputs": [
    {
     "name": "stdout",
     "output_type": "stream",
     "text": [
      "  http : 80\n",
      " https : 443\n",
      "   ftp : 21\n",
      "gopher : 70\n",
      "  smtp : 25\n",
      "  imap : 143\n",
      " imaps : 993\n",
      "  pop3 : 110\n",
      " pop3s : 995\n"
     ]
    }
   ],
   "source": [
    "import socket\n",
    "from urllib.parse import urlparse\n",
    "\n",
    "URLS = [\n",
    "    'http://www.python.org',\n",
    "    'https://www.mybank.com',\n",
    "    'ftp://prep.ai.mit.edu',\n",
    "    'gopher://gopher.micro.umn.edu',\n",
    "    'smtp://mail.example.com',\n",
    "    'imap://mail.example.com',\n",
    "    'imaps://mail.example.com',\n",
    "    'pop3://pop.example.com',\n",
    "    'pop3s://pop.example.com',\n",
    "]\n",
    "\n",
    "for url in URLS:\n",
    "    parsed_url = urlparse(url)\n",
    "    port = socket.getservbyname(parsed_url.scheme)\n",
    "    print('{:>6} : {}'.format(parsed_url.scheme, port))"
   ]
  },
  {
   "cell_type": "code",
   "execution_count": 17,
   "id": "198d3d6c",
   "metadata": {},
   "outputs": [
    {
     "name": "stdout",
     "output_type": "stream",
     "text": [
      "http://example.com/\n",
      "https://example.com/\n",
      "ftp://example.com/\n",
      "gopher://example.com/\n",
      "smtp://example.com/\n",
      "imap://example.com/\n",
      "imaps://example.com/\n",
      "pop3://example.com/\n",
      "pop3s://example.com/\n"
     ]
    }
   ],
   "source": [
    "import socket\n",
    "from urllib.parse import urlunparse\n",
    "\n",
    "for port in [80, 443, 21, 70, 25, 143, 993, 110, 995]:\n",
    "    url = '{}://example.com/'.format(socket.getservbyport(port))\n",
    "    print(url)"
   ]
  },
  {
   "cell_type": "code",
   "execution_count": 18,
   "id": "514b9860",
   "metadata": {},
   "outputs": [
    {
     "name": "stdout",
     "output_type": "stream",
     "text": [
      "icmp ->  1 (socket.IPPROTO_ICMP =  1)\n",
      " udp -> 17 (socket.IPPROTO_UDP  = 17)\n",
      " tcp ->  6 (socket.IPPROTO_TCP  =  6)\n"
     ]
    }
   ],
   "source": [
    "import socket\n",
    "\n",
    "\n",
    "def get_constants(prefix):\n",
    "    \"\"\"Create a dictionary mapping socket module\n",
    "    constants to their names.\n",
    "    \"\"\"\n",
    "    return {\n",
    "        getattr(socket, n): n\n",
    "        for n in dir(socket)\n",
    "        if n.startswith(prefix)\n",
    "    }\n",
    "\n",
    "\n",
    "protocols = get_constants('IPPROTO_')\n",
    "\n",
    "for name in ['icmp', 'udp', 'tcp']:\n",
    "    proto_num = socket.getprotobyname(name)\n",
    "    const_name = protocols[proto_num]\n",
    "    print('{:>4} -> {:2d} (socket.{:<12} = {:2d})'.format(\n",
    "        name, proto_num, const_name,\n",
    "        getattr(socket, const_name)))"
   ]
  },
  {
   "cell_type": "code",
   "execution_count": 19,
   "id": "a8a479b8",
   "metadata": {},
   "outputs": [],
   "source": [
    "#Buscar direcciones de un servidor"
   ]
  },
  {
   "cell_type": "code",
   "execution_count": 20,
   "id": "76266d18",
   "metadata": {},
   "outputs": [
    {
     "name": "stdout",
     "output_type": "stream",
     "text": [
      "Family        : AF_INET6\n",
      "Type          : SOCK_DGRAM\n",
      "Protocol      : IPPROTO_UDP\n",
      "Canonical name: \n",
      "Socket address: ('2a04:4e42:8a::223', 80, 0, 0)\n",
      "\n",
      "Family        : AF_INET6\n",
      "Type          : SOCK_STREAM\n",
      "Protocol      : IPPROTO_TCP\n",
      "Canonical name: \n",
      "Socket address: ('2a04:4e42:8a::223', 80, 0, 0)\n",
      "\n",
      "Family        : AF_INET\n",
      "Type          : SOCK_DGRAM\n",
      "Protocol      : IPPROTO_UDP\n",
      "Canonical name: \n",
      "Socket address: ('146.75.104.223', 80)\n",
      "\n",
      "Family        : AF_INET\n",
      "Type          : SOCK_STREAM\n",
      "Protocol      : IPPROTO_TCP\n",
      "Canonical name: \n",
      "Socket address: ('146.75.104.223', 80)\n",
      "\n"
     ]
    }
   ],
   "source": [
    "import socket\n",
    "\n",
    "\n",
    "def get_constants(prefix):\n",
    "    \"\"\"Create a dictionary mapping socket module\n",
    "    constants to their names.\n",
    "    \"\"\"\n",
    "    return {\n",
    "        getattr(socket, n): n\n",
    "        for n in dir(socket)\n",
    "        if n.startswith(prefix)\n",
    "    }\n",
    "\n",
    "\n",
    "families = get_constants('AF_')\n",
    "types = get_constants('SOCK_')\n",
    "protocols = get_constants('IPPROTO_')\n",
    "\n",
    "for response in socket.getaddrinfo('www.python.org', 'http'):\n",
    "\n",
    "    # Unpack the response tuple\n",
    "    family, socktype, proto, canonname, sockaddr = response\n",
    "\n",
    "    print('Family        :', families[family])\n",
    "    print('Type          :', types[socktype])\n",
    "    print('Protocol      :', protocols[proto])\n",
    "    print('Canonical name:', canonname)\n",
    "    print('Socket address:', sockaddr)\n",
    "    print()"
   ]
  },
  {
   "cell_type": "code",
   "execution_count": 21,
   "id": "e1ce14e5",
   "metadata": {},
   "outputs": [
    {
     "name": "stdout",
     "output_type": "stream",
     "text": [
      "Family        : AF_INET\n",
      "Type          : SOCK_STREAM\n",
      "Protocol      : IPPROTO_TCP\n",
      "Canonical name: dualstack.python.map.fastly.net\n",
      "Socket address: ('146.75.104.223', 80)\n",
      "\n"
     ]
    }
   ],
   "source": [
    "import socket\n",
    "\n",
    "\n",
    "def get_constants(prefix):\n",
    "    \"\"\"Create a dictionary mapping socket module\n",
    "    constants to their names.\n",
    "    \"\"\"\n",
    "    return {\n",
    "        getattr(socket, n): n\n",
    "        for n in dir(socket)\n",
    "        if n.startswith(prefix)\n",
    "    }\n",
    "\n",
    "\n",
    "families = get_constants('AF_')\n",
    "types = get_constants('SOCK_')\n",
    "protocols = get_constants('IPPROTO_')\n",
    "\n",
    "responses = socket.getaddrinfo(\n",
    "    host='www.python.org',\n",
    "    port='http',\n",
    "    family=socket.AF_INET,\n",
    "    type=socket.SOCK_STREAM,\n",
    "    proto=socket.IPPROTO_TCP,\n",
    "    flags=socket.AI_CANONNAME,\n",
    ")\n",
    "\n",
    "for response in responses:\n",
    "    # Unpack the response tuple\n",
    "    family, socktype, proto, canonname, sockaddr = response\n",
    "\n",
    "    print('Family        :', families[family])\n",
    "    print('Type          :', types[socktype])\n",
    "    print('Protocol      :', protocols[proto])\n",
    "    print('Canonical name:', canonname)\n",
    "    print('Socket address:', sockaddr)\n",
    "    print()"
   ]
  },
  {
   "cell_type": "code",
   "execution_count": 22,
   "id": "4aefcfd4",
   "metadata": {},
   "outputs": [],
   "source": [
    "# Representaciones de direcciones IP"
   ]
  },
  {
   "cell_type": "code",
   "execution_count": 23,
   "id": "8b159ba0",
   "metadata": {},
   "outputs": [
    {
     "name": "stdout",
     "output_type": "stream",
     "text": [
      "Original: 192.168.1.1\n",
      "Packed  : b'c0a80101'\n",
      "Unpacked: 192.168.1.1\n",
      "\n",
      "Original: 127.0.0.1\n",
      "Packed  : b'7f000001'\n",
      "Unpacked: 127.0.0.1\n",
      "\n"
     ]
    }
   ],
   "source": [
    "import binascii\n",
    "import socket\n",
    "import struct\n",
    "import sys\n",
    "\n",
    "for string_address in ['192.168.1.1', '127.0.0.1']:\n",
    "    packed = socket.inet_aton(string_address)\n",
    "    print('Original:', string_address)\n",
    "    print('Packed  :', binascii.hexlify(packed))\n",
    "    print('Unpacked:', socket.inet_ntoa(packed))\n",
    "    print()"
   ]
  },
  {
   "cell_type": "code",
   "execution_count": 24,
   "id": "06e8cda7",
   "metadata": {},
   "outputs": [
    {
     "name": "stdout",
     "output_type": "stream",
     "text": [
      "Original: 2002:ac10:10a:1234:21e:52ff:fe74:40e\n",
      "Packed  : b'2002ac10010a1234021e52fffe74040e'\n",
      "Unpacked: 2002:ac10:10a:1234:21e:52ff:fe74:40e\n"
     ]
    }
   ],
   "source": [
    "import binascii\n",
    "import socket\n",
    "import struct\n",
    "import sys\n",
    "\n",
    "string_address = '2002:ac10:10a:1234:21e:52ff:fe74:40e'\n",
    "packed = socket.inet_pton(socket.AF_INET6, string_address)\n",
    "\n",
    "print('Original:', string_address)\n",
    "print('Packed  :', binascii.hexlify(packed))\n",
    "print('Unpacked:', socket.inet_ntop(socket.AF_INET6, packed))"
   ]
  },
  {
   "cell_type": "code",
   "execution_count": null,
   "id": "9668afb5",
   "metadata": {},
   "outputs": [],
   "source": []
  }
 ],
 "metadata": {
  "kernelspec": {
   "display_name": "Python 3 (ipykernel)",
   "language": "python",
   "name": "python3"
  },
  "language_info": {
   "codemirror_mode": {
    "name": "ipython",
    "version": 3
   },
   "file_extension": ".py",
   "mimetype": "text/x-python",
   "name": "python",
   "nbconvert_exporter": "python",
   "pygments_lexer": "ipython3",
   "version": "3.9.13"
  }
 },
 "nbformat": 4,
 "nbformat_minor": 5
}
