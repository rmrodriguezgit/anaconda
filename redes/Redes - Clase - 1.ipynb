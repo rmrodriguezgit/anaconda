{
 "cells": [
  {
   "cell_type": "code",
   "execution_count": 1,
   "id": "c60c108f",
   "metadata": {},
   "outputs": [],
   "source": [
    "import binascii\n",
    "import ipaddress\n",
    "# pip install "
   ]
  },
  {
   "cell_type": "code",
   "execution_count": 14,
   "id": "3b23d47d",
   "metadata": {},
   "outputs": [],
   "source": [
    "ADDRESSES = [\n",
    "    '10.9.0.6',\n",
    "    '127.0.0.1',\n",
    "    'fdfd:87b5:b475:5e3e:b1bc:e121:a8eb:14aa'\n",
    "]"
   ]
  },
  {
   "cell_type": "code",
   "execution_count": 15,
   "id": "77f195b5",
   "metadata": {},
   "outputs": [
    {
     "name": "stdout",
     "output_type": "stream",
     "text": [
      "IPv4Address('10.9.0.6')\n",
      "   IP version: 4\n",
      "   is private: True\n",
      "  packed form: b'0a090006'\n",
      "      integer: 168361990\n",
      "\n",
      "IPv4Address('127.0.0.1')\n",
      "   IP version: 4\n",
      "   is private: True\n",
      "  packed form: b'7f000001'\n",
      "      integer: 2130706433\n",
      "\n",
      "IPv6Address('fdfd:87b5:b475:5e3e:b1bc:e121:a8eb:14aa')\n",
      "   IP version: 6\n",
      "   is private: True\n",
      "  packed form: b'fdfd87b5b4755e3eb1bce121a8eb14aa'\n",
      "      integer: 337611086560236126439725644408160982186\n",
      "\n"
     ]
    }
   ],
   "source": [
    "for ip in ADDRESSES:\n",
    "    addr = ipaddress.ip_address(ip)\n",
    "    print('{!r}'.format(addr))\n",
    "    print('   IP version:', addr.version)\n",
    "    print('   is private:', addr.is_private)\n",
    "    print('  packed form:', binascii.hexlify(addr.packed))\n",
    "    print('      integer:', int(addr))\n",
    "    print()"
   ]
  },
  {
   "cell_type": "code",
   "execution_count": 16,
   "id": "9c68155f",
   "metadata": {},
   "outputs": [],
   "source": [
    "#Redes"
   ]
  },
  {
   "cell_type": "code",
   "execution_count": 18,
   "id": "00b77918",
   "metadata": {},
   "outputs": [
    {
     "name": "stdout",
     "output_type": "stream",
     "text": [
      "IPv4Network('10.9.0.0/24')\n",
      "     is private: True\n",
      "      broadcast: 10.9.0.255\n",
      "     compressed: 10.9.0.0/24\n",
      "   with netmask: 10.9.0.0/255.255.255.0\n",
      "  with hostmask: 10.9.0.0/0.0.0.255\n",
      "  num addresses: 256\n",
      "\n",
      "IPv6Network('fdfd:87b5:b475:5e3e::/64')\n",
      "     is private: True\n",
      "      broadcast: fdfd:87b5:b475:5e3e:ffff:ffff:ffff:ffff\n",
      "     compressed: fdfd:87b5:b475:5e3e::/64\n",
      "   with netmask: fdfd:87b5:b475:5e3e::/ffff:ffff:ffff:ffff::\n",
      "  with hostmask: fdfd:87b5:b475:5e3e::/::ffff:ffff:ffff:ffff\n",
      "  num addresses: 18446744073709551616\n",
      "\n",
      "IPv6Network('fdfd:87b5:b475:5e3e:b1bc:e121:a8eb:14aa/128')\n",
      "     is private: True\n",
      "      broadcast: fdfd:87b5:b475:5e3e:b1bc:e121:a8eb:14aa\n",
      "     compressed: fdfd:87b5:b475:5e3e:b1bc:e121:a8eb:14aa/128\n",
      "   with netmask: fdfd:87b5:b475:5e3e:b1bc:e121:a8eb:14aa/ffff:ffff:ffff:ffff:ffff:ffff:ffff:ffff\n",
      "  with hostmask: fdfd:87b5:b475:5e3e:b1bc:e121:a8eb:14aa/::\n",
      "  num addresses: 1\n",
      "\n"
     ]
    }
   ],
   "source": [
    "NETWORKS = [\n",
    "    '10.9.0.0/24',\n",
    "    'fdfd:87b5:b475:5e3e::/64',\n",
    "    'fdfd:87b5:b475:5e3e:b1bc:e121:a8eb:14aa'\n",
    "]\n",
    "\n",
    "for n in NETWORKS:\n",
    "    net = ipaddress.ip_network(n)\n",
    "    print('{!r}'.format(net))\n",
    "    print('     is private:', net.is_private)\n",
    "    print('      broadcast:', net.broadcast_address)\n",
    "    print('     compressed:', net.compressed)\n",
    "    print('   with netmask:', net.with_netmask)\n",
    "    print('  with hostmask:', net.with_hostmask)\n",
    "    print('  num addresses:', net.num_addresses)\n",
    "    print()"
   ]
  },
  {
   "cell_type": "code",
   "execution_count": 28,
   "id": "269643f2",
   "metadata": {},
   "outputs": [
    {
     "name": "stdout",
     "output_type": "stream",
     "text": [
      "IPv4Network('10.9.0.0/24')\n",
      "10.9.0.0\n",
      "10.9.0.1\n",
      "10.9.0.2\n",
      "\n",
      "IPv6Network('fdfd:87b5:b475:5e3e::/64')\n",
      "fdfd:87b5:b475:5e3e::\n",
      "fdfd:87b5:b475:5e3e::1\n",
      "fdfd:87b5:b475:5e3e::2\n",
      "\n",
      "IPv6Network('fdfd:87b5:b475:5e3e:b1bc:e121:a8eb:14aa/128')\n",
      "fdfd:87b5:b475:5e3e:b1bc:e121:a8eb:14aa\n",
      "\n"
     ]
    }
   ],
   "source": [
    "NETWORKS = [\n",
    "    '10.9.0.0/24',\n",
    "    'fdfd:87b5:b475:5e3e::/64',\n",
    "    'fdfd:87b5:b475:5e3e:b1bc:e121:a8eb:14aa'\n",
    "    \n",
    "]\n",
    "for n in NETWORKS:\n",
    "    net = ipaddress.ip_network(n)\n",
    "    print('{!r}'.format(net))\n",
    "    for i, ip in zip(range(3), net):\n",
    "        print(ip)\n",
    "    print()"
   ]
  },
  {
   "cell_type": "code",
   "execution_count": 25,
   "id": "c4b6081d",
   "metadata": {},
   "outputs": [
    {
     "name": "stdout",
     "output_type": "stream",
     "text": [
      "IPv4Network('10.9.0.0/24')\n",
      "10.9.0.1\n",
      "10.9.0.2\n",
      "10.9.0.3\n",
      "\n",
      "IPv6Network('fdfd:87b5:b475:5e3e::/64')\n",
      "fdfd:87b5:b475:5e3e::1\n",
      "fdfd:87b5:b475:5e3e::2\n",
      "fdfd:87b5:b475:5e3e::3\n",
      "\n"
     ]
    }
   ],
   "source": [
    "NETWORKS = [\n",
    "    '10.9.0.0/24',\n",
    "    'fdfd:87b5:b475:5e3e::/64',\n",
    "]\n",
    "for n in NETWORKS:\n",
    "    net = ipaddress.ip_network(n)\n",
    "    print('{!r}'.format(net))\n",
    "    for i, ip in zip(range(3), net.hosts()):\n",
    "        print(ip)\n",
    "    print()"
   ]
  },
  {
   "cell_type": "code",
   "execution_count": 26,
   "id": "b4bce8d7",
   "metadata": {},
   "outputs": [
    {
     "name": "stdout",
     "output_type": "stream",
     "text": [
      "10.9.0.6\n",
      "is on 10.9.0.0/24\n",
      "\n",
      "10.7.0.31\n",
      "is not on a known network\n",
      "\n",
      "fdfd:87b5:b475:5e3e:b1bc:e121:a8eb:14aa\n",
      "is on fdfd:87b5:b475:5e3e::/64\n",
      "\n",
      "fe80::3840:c439:b25e:63b0\n",
      "is not on a known network\n",
      "\n"
     ]
    }
   ],
   "source": [
    "# import ipaddress\n",
    "\n",
    "NETWORKS = [\n",
    "    ipaddress.ip_network('10.9.0.0/24'),\n",
    "    ipaddress.ip_network('fdfd:87b5:b475:5e3e::/64'),\n",
    "]\n",
    "\n",
    "ADDRESSES = [\n",
    "    ipaddress.ip_address('10.9.0.6'),\n",
    "    ipaddress.ip_address('10.7.0.31'),\n",
    "    ipaddress.ip_address(\n",
    "        'fdfd:87b5:b475:5e3e:b1bc:e121:a8eb:14aa'\n",
    "    ),\n",
    "    ipaddress.ip_address('fe80::3840:c439:b25e:63b0'),\n",
    "]\n",
    "\n",
    "\n",
    "for ip in ADDRESSES:\n",
    "    for net in NETWORKS:\n",
    "        if ip in net:\n",
    "            print('{}\\nis on {}'.format(ip, net))\n",
    "            break\n",
    "    else:\n",
    "        print('{}\\nis not on a known network'.format(ip))\n",
    "    print()"
   ]
  },
  {
   "cell_type": "code",
   "execution_count": null,
   "id": "4259f58b",
   "metadata": {},
   "outputs": [],
   "source": []
  }
 ],
 "metadata": {
  "kernelspec": {
   "display_name": "Python 3 (ipykernel)",
   "language": "python",
   "name": "python3"
  },
  "language_info": {
   "codemirror_mode": {
    "name": "ipython",
    "version": 3
   },
   "file_extension": ".py",
   "mimetype": "text/x-python",
   "name": "python",
   "nbconvert_exporter": "python",
   "pygments_lexer": "ipython3",
   "version": "3.9.13"
  }
 },
 "nbformat": 4,
 "nbformat_minor": 5
}
