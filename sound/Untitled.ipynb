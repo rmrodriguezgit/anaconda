{
 "cells": [
  {
   "cell_type": "markdown",
   "id": "e8c80048",
   "metadata": {},
   "source": [
    "https://programacionpython80889555.wordpress.com/2021/03/09/generacion-de-tonos-de-audio-con-pydub/"
   ]
  },
  {
   "cell_type": "code",
   "execution_count": 24,
   "id": "15a74931",
   "metadata": {},
   "outputs": [],
   "source": [
    "from pydub import AudioSegment\n",
    "from pydub.generators import Square\n",
    "from pydub.playback import play"
   ]
  },
  {
   "cell_type": "code",
   "execution_count": 29,
   "id": "63159665",
   "metadata": {},
   "outputs": [],
   "source": [
    "s = 10\n",
    "tone1 = Square(17000).to_audio_segment(duration=s*1000)\n",
    "tone2 = Square(700).to_audio_segment(duration=s*1000)"
   ]
  },
  {
   "cell_type": "code",
   "execution_count": 30,
   "id": "7c0dbeb4",
   "metadata": {},
   "outputs": [],
   "source": [
    "multitone = tone1.append(tone2, crossfade=2500)\n"
   ]
  },
  {
   "cell_type": "code",
   "execution_count": 28,
   "id": "f05c07cb",
   "metadata": {},
   "outputs": [],
   "source": [
    "play(multitone)"
   ]
  },
  {
   "cell_type": "code",
   "execution_count": null,
   "id": "cbe42df1",
   "metadata": {},
   "outputs": [],
   "source": [
    "#solicitar padecimiento"
   ]
  }
 ],
 "metadata": {
  "kernelspec": {
   "display_name": "Python 3 (ipykernel)",
   "language": "python",
   "name": "python3"
  },
  "language_info": {
   "codemirror_mode": {
    "name": "ipython",
    "version": 3
   },
   "file_extension": ".py",
   "mimetype": "text/x-python",
   "name": "python",
   "nbconvert_exporter": "python",
   "pygments_lexer": "ipython3",
   "version": "3.9.12"
  }
 },
 "nbformat": 4,
 "nbformat_minor": 5
}
