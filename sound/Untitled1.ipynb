{
 "cells": [
  {
   "cell_type": "code",
   "execution_count": 2,
   "id": "de67681f",
   "metadata": {},
   "outputs": [],
   "source": [
    "import graph2sound as g2s\n",
    "import pandas as pd"
   ]
  },
  {
   "cell_type": "code",
   "execution_count": 3,
   "id": "28bcab21",
   "metadata": {},
   "outputs": [],
   "source": [
    "d = {'x':[0,0.1,0.2,3],'y':[0,0,0,1]}\n",
    "df = pd.DataFrame(d)\n",
    "g2s.graph2sound(df['y'],df['x'],t=1.5,l=440,h=880,w='sawtooth')"
   ]
  },
  {
   "cell_type": "code",
   "execution_count": 15,
   "id": "fab449e1",
   "metadata": {},
   "outputs": [],
   "source": [
    "from scipy import signal\n",
    "import numpy as np\n",
    "x = np.linspace(0,17000)\n",
    "y = signal.square(x)\n",
    "g2s.graph2sound(y,x,w='square')\n"
   ]
  },
  {
   "cell_type": "code",
   "execution_count": 21,
   "id": "fc400ee8",
   "metadata": {},
   "outputs": [],
   "source": [
    "import pandas as pd\n",
    "d = {'x':[0,0.1,0.2,3],'y':[0,0,0,1]}\n",
    "df = pd.DataFrame(d)\n",
    "g2s.graph2sound(df['y'],df['x'],t=1.5,l=440,h=880,w='square')\n"
   ]
  },
  {
   "cell_type": "code",
   "execution_count": 20,
   "id": "34f98093",
   "metadata": {},
   "outputs": [
    {
     "ename": "g2sError",
     "evalue": "You can't play a y singularity",
     "output_type": "error",
     "traceback": [
      "\u001b[0;31m---------------------------------------------------------------------------\u001b[0m",
      "\u001b[0;31mg2sError\u001b[0m                                  Traceback (most recent call last)",
      "Input \u001b[0;32mIn [20]\u001b[0m, in \u001b[0;36m<cell line: 4>\u001b[0;34m()\u001b[0m\n\u001b[1;32m      2\u001b[0m x \u001b[38;5;241m=\u001b[39m \u001b[38;5;241m17000\u001b[39m\n\u001b[1;32m      3\u001b[0m y \u001b[38;5;241m=\u001b[39m x \u001b[38;5;241m*\u001b[39m (\u001b[38;5;241m3\u001b[39m \u001b[38;5;241m*\u001b[39m math\u001b[38;5;241m.\u001b[39mpi)\u001b[38;5;241m/\u001b[39m\u001b[38;5;241m4\u001b[39m\n\u001b[0;32m----> 4\u001b[0m \u001b[43mg2s\u001b[49m\u001b[38;5;241;43m.\u001b[39;49m\u001b[43mgraph2sound\u001b[49m\u001b[43m(\u001b[49m\u001b[43my\u001b[49m\u001b[43m,\u001b[49m\u001b[43mx\u001b[49m\u001b[43m,\u001b[49m\u001b[43mw\u001b[49m\u001b[38;5;241;43m=\u001b[39;49m\u001b[38;5;124;43m'\u001b[39;49m\u001b[38;5;124;43msquare\u001b[39;49m\u001b[38;5;124;43m'\u001b[39;49m\u001b[43m)\u001b[49m\n",
      "File \u001b[0;32m/opt/anaconda3/lib/python3.9/site-packages/graph2sound/__init__.py:272\u001b[0m, in \u001b[0;36mgraph2sound\u001b[0;34m(*args, **kwargs)\u001b[0m\n\u001b[1;32m    269\u001b[0m \u001b[38;5;28;01mdef\u001b[39;00m \u001b[38;5;21mgraph2sound\u001b[39m(\u001b[38;5;241m*\u001b[39margs, \u001b[38;5;241m*\u001b[39m\u001b[38;5;241m*\u001b[39mkwargs):\n\u001b[1;32m    270\u001b[0m     \u001b[38;5;124;03m\"\"\"Takes in: x ot t array (optional) and a y array. Optional keywords: tone time t in s (def. 2), sample rate r in Hz (def. 44100), tone segments s (def. 100 per 1 s), lowest tone l in Hz (def. 130.8, C3), highest tone h in Hz (def. 2093, C7). Plays the sound it should make and returns null.\"\"\"\u001b[39;00m\n\u001b[0;32m--> 272\u001b[0m     A,sr \u001b[38;5;241m=\u001b[39m \u001b[43mgraph2wav\u001b[49m\u001b[43m(\u001b[49m\u001b[38;5;241;43m*\u001b[39;49m\u001b[43margs\u001b[49m\u001b[43m,\u001b[49m\u001b[38;5;241;43m*\u001b[39;49m\u001b[38;5;241;43m*\u001b[39;49m\u001b[43mkwargs\u001b[49m\u001b[43m)\u001b[49m\n\u001b[1;32m    274\u001b[0m     wav2sound(A,sr)\n\u001b[1;32m    276\u001b[0m     \u001b[38;5;28;01mreturn\u001b[39;00m\n",
      "File \u001b[0;32m/opt/anaconda3/lib/python3.9/site-packages/graph2sound/__init__.py:18\u001b[0m, in \u001b[0;36mgraph2wav\u001b[0;34m(*args, **kwargs)\u001b[0m\n\u001b[1;32m     15\u001b[0m \u001b[38;5;28;01mimport\u001b[39;00m \u001b[38;5;21;01mnumpy\u001b[39;00m \u001b[38;5;28;01mas\u001b[39;00m \u001b[38;5;21;01mnp\u001b[39;00m\n\u001b[1;32m     17\u001b[0m \u001b[38;5;66;03m# Cleaning up the data\u001b[39;00m\n\u001b[0;32m---> 18\u001b[0m y,x \u001b[38;5;241m=\u001b[39m \u001b[43margkwargcleanup\u001b[49m\u001b[43m(\u001b[49m\u001b[38;5;241;43m*\u001b[39;49m\u001b[43margs\u001b[49m\u001b[43m,\u001b[49m\u001b[38;5;241;43m*\u001b[39;49m\u001b[38;5;241;43m*\u001b[39;49m\u001b[43mkwargs\u001b[49m\u001b[43m)\u001b[49m\n\u001b[1;32m     21\u001b[0m \u001b[38;5;66;03m# Setting up the frequency generator and arrays\u001b[39;00m\n\u001b[1;32m     22\u001b[0m \u001b[38;5;28;01mif\u001b[39;00m \u001b[38;5;124m'\u001b[39m\u001b[38;5;124mt\u001b[39m\u001b[38;5;124m'\u001b[39m \u001b[38;5;129;01min\u001b[39;00m kwargs:\n",
      "File \u001b[0;32m/opt/anaconda3/lib/python3.9/site-packages/graph2sound/__init__.py:173\u001b[0m, in \u001b[0;36margkwargcleanup\u001b[0;34m(*args, **kwargs)\u001b[0m\n\u001b[1;32m    171\u001b[0m y,x \u001b[38;5;241m=\u001b[39m args\n\u001b[1;32m    172\u001b[0m \u001b[38;5;28;01mif\u001b[39;00m \u001b[38;5;28misinstance\u001b[39m(y,\u001b[38;5;28mint\u001b[39m) \u001b[38;5;129;01mor\u001b[39;00m \u001b[38;5;28misinstance\u001b[39m(y,\u001b[38;5;28mfloat\u001b[39m):\n\u001b[0;32m--> 173\u001b[0m     \u001b[38;5;28;01mraise\u001b[39;00m(g2sError(\u001b[38;5;124m'\u001b[39m\u001b[38;5;124mYou can\u001b[39m\u001b[38;5;130;01m\\'\u001b[39;00m\u001b[38;5;124mt play a y singularity\u001b[39m\u001b[38;5;124m'\u001b[39m))\n\u001b[1;32m    174\u001b[0m \u001b[38;5;28;01mif\u001b[39;00m \u001b[38;5;28misinstance\u001b[39m(x,\u001b[38;5;28mint\u001b[39m) \u001b[38;5;129;01mor\u001b[39;00m \u001b[38;5;28misinstance\u001b[39m(x,\u001b[38;5;28mfloat\u001b[39m):\n\u001b[1;32m    175\u001b[0m     \u001b[38;5;28;01mraise\u001b[39;00m(g2sError(\u001b[38;5;124m'\u001b[39m\u001b[38;5;124mYou can\u001b[39m\u001b[38;5;130;01m\\'\u001b[39;00m\u001b[38;5;124mt play an x singularity\u001b[39m\u001b[38;5;124m'\u001b[39m))\n",
      "\u001b[0;31mg2sError\u001b[0m: You can't play a y singularity"
     ]
    }
   ],
   "source": [
    "import math\n",
    "x = 17000\n",
    "y = x * (3 * math.pi)/4\n",
    "g2s.graph2sound(y,x,w='square')\n"
   ]
  },
  {
   "cell_type": "code",
   "execution_count": null,
   "id": "c0b1920b",
   "metadata": {},
   "outputs": [],
   "source": []
  }
 ],
 "metadata": {
  "kernelspec": {
   "display_name": "Python 3 (ipykernel)",
   "language": "python",
   "name": "python3"
  },
  "language_info": {
   "codemirror_mode": {
    "name": "ipython",
    "version": 3
   },
   "file_extension": ".py",
   "mimetype": "text/x-python",
   "name": "python",
   "nbconvert_exporter": "python",
   "pygments_lexer": "ipython3",
   "version": "3.9.12"
  }
 },
 "nbformat": 4,
 "nbformat_minor": 5
}
