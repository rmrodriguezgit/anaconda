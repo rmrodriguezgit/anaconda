{
 "cells": [
  {
   "cell_type": "code",
   "execution_count": 6,
   "id": "f907ad54",
   "metadata": {},
   "outputs": [],
   "source": [
    "import sounddevice as sd\n",
    "import numpy as np\n"
   ]
  },
  {
   "cell_type": "code",
   "execution_count": 11,
   "id": "62b2ff50",
   "metadata": {},
   "outputs": [],
   "source": [
    "myarray = np.array\n",
    "fs = 44100"
   ]
  },
  {
   "cell_type": "code",
   "execution_count": 13,
   "id": "c253eafe",
   "metadata": {},
   "outputs": [
    {
     "ename": "TypeError",
     "evalue": "Unsupported data type: 'object'",
     "output_type": "error",
     "traceback": [
      "\u001b[0;31m---------------------------------------------------------------------------\u001b[0m",
      "\u001b[0;31mTypeError\u001b[0m                                 Traceback (most recent call last)",
      "Input \u001b[0;32mIn [13]\u001b[0m, in \u001b[0;36m<cell line: 1>\u001b[0;34m()\u001b[0m\n\u001b[0;32m----> 1\u001b[0m \u001b[43msd\u001b[49m\u001b[38;5;241;43m.\u001b[39;49m\u001b[43mplay\u001b[49m\u001b[43m(\u001b[49m\u001b[43mmyarray\u001b[49m\u001b[43m)\u001b[49m\n",
      "File \u001b[0;32m/opt/anaconda3/lib/python3.9/site-packages/sounddevice.py:167\u001b[0m, in \u001b[0;36mplay\u001b[0;34m(data, samplerate, mapping, blocking, loop, **kwargs)\u001b[0m\n\u001b[1;32m    100\u001b[0m \u001b[38;5;124;03m\"\"\"Play back a NumPy array containing audio data.\u001b[39;00m\n\u001b[1;32m    101\u001b[0m \n\u001b[1;32m    102\u001b[0m \u001b[38;5;124;03mThis is a convenience function for interactive use and for small\u001b[39;00m\n\u001b[0;32m   (...)\u001b[0m\n\u001b[1;32m    164\u001b[0m \n\u001b[1;32m    165\u001b[0m \u001b[38;5;124;03m\"\"\"\u001b[39;00m\n\u001b[1;32m    166\u001b[0m ctx \u001b[38;5;241m=\u001b[39m _CallbackContext(loop\u001b[38;5;241m=\u001b[39mloop)\n\u001b[0;32m--> 167\u001b[0m ctx\u001b[38;5;241m.\u001b[39mframes \u001b[38;5;241m=\u001b[39m \u001b[43mctx\u001b[49m\u001b[38;5;241;43m.\u001b[39;49m\u001b[43mcheck_data\u001b[49m\u001b[43m(\u001b[49m\u001b[43mdata\u001b[49m\u001b[43m,\u001b[49m\u001b[43m \u001b[49m\u001b[43mmapping\u001b[49m\u001b[43m,\u001b[49m\u001b[43m \u001b[49m\u001b[43mkwargs\u001b[49m\u001b[38;5;241;43m.\u001b[39;49m\u001b[43mget\u001b[49m\u001b[43m(\u001b[49m\u001b[38;5;124;43m'\u001b[39;49m\u001b[38;5;124;43mdevice\u001b[39;49m\u001b[38;5;124;43m'\u001b[39;49m\u001b[43m)\u001b[49m\u001b[43m)\u001b[49m\n\u001b[1;32m    169\u001b[0m \u001b[38;5;28;01mdef\u001b[39;00m \u001b[38;5;21mcallback\u001b[39m(outdata, frames, time, status):\n\u001b[1;32m    170\u001b[0m     \u001b[38;5;28;01massert\u001b[39;00m \u001b[38;5;28mlen\u001b[39m(outdata) \u001b[38;5;241m==\u001b[39m frames\n",
      "File \u001b[0;32m/opt/anaconda3/lib/python3.9/site-packages/sounddevice.py:2478\u001b[0m, in \u001b[0;36m_CallbackContext.check_data\u001b[0;34m(self, data, mapping, device)\u001b[0m\n\u001b[1;32m   2475\u001b[0m     \u001b[38;5;28;01mraise\u001b[39;00m \u001b[38;5;167;01mValueError\u001b[39;00m(\n\u001b[1;32m   2476\u001b[0m         \u001b[38;5;124m'\u001b[39m\u001b[38;5;124maudio data to be played back must be one- or two-dimensional\u001b[39m\u001b[38;5;124m'\u001b[39m)\n\u001b[1;32m   2477\u001b[0m frames, channels \u001b[38;5;241m=\u001b[39m data\u001b[38;5;241m.\u001b[39mshape\n\u001b[0;32m-> 2478\u001b[0m dtype \u001b[38;5;241m=\u001b[39m \u001b[43m_check_dtype\u001b[49m\u001b[43m(\u001b[49m\u001b[43mdata\u001b[49m\u001b[38;5;241;43m.\u001b[39;49m\u001b[43mdtype\u001b[49m\u001b[43m)\u001b[49m\n\u001b[1;32m   2479\u001b[0m mapping_is_explicit \u001b[38;5;241m=\u001b[39m mapping \u001b[38;5;129;01mis\u001b[39;00m \u001b[38;5;129;01mnot\u001b[39;00m \u001b[38;5;28;01mNone\u001b[39;00m\n\u001b[1;32m   2480\u001b[0m mapping, channels \u001b[38;5;241m=\u001b[39m _check_mapping(mapping, channels)\n",
      "File \u001b[0;32m/opt/anaconda3/lib/python3.9/site-packages/sounddevice.py:2638\u001b[0m, in \u001b[0;36m_check_dtype\u001b[0;34m(dtype)\u001b[0m\n\u001b[1;32m   2636\u001b[0m     dtype \u001b[38;5;241m=\u001b[39m \u001b[38;5;124m'\u001b[39m\u001b[38;5;124mfloat32\u001b[39m\u001b[38;5;124m'\u001b[39m\n\u001b[1;32m   2637\u001b[0m \u001b[38;5;28;01melse\u001b[39;00m:\n\u001b[0;32m-> 2638\u001b[0m     \u001b[38;5;28;01mraise\u001b[39;00m \u001b[38;5;167;01mTypeError\u001b[39;00m(\u001b[38;5;124m'\u001b[39m\u001b[38;5;124mUnsupported data type: \u001b[39m\u001b[38;5;124m'\u001b[39m \u001b[38;5;241m+\u001b[39m \u001b[38;5;28mrepr\u001b[39m(dtype))\n\u001b[1;32m   2639\u001b[0m \u001b[38;5;28;01mreturn\u001b[39;00m dtype\n",
      "\u001b[0;31mTypeError\u001b[0m: Unsupported data type: 'object'"
     ]
    }
   ],
   "source": [
    "sd.play(myarray)"
   ]
  },
  {
   "cell_type": "code",
   "execution_count": null,
   "id": "fe636292",
   "metadata": {},
   "outputs": [],
   "source": []
  }
 ],
 "metadata": {
  "kernelspec": {
   "display_name": "Python 3 (ipykernel)",
   "language": "python",
   "name": "python3"
  },
  "language_info": {
   "codemirror_mode": {
    "name": "ipython",
    "version": 3
   },
   "file_extension": ".py",
   "mimetype": "text/x-python",
   "name": "python",
   "nbconvert_exporter": "python",
   "pygments_lexer": "ipython3",
   "version": "3.9.12"
  }
 },
 "nbformat": 4,
 "nbformat_minor": 5
}
