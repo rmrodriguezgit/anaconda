{
 "cells": [
  {
   "cell_type": "code",
   "execution_count": 6,
   "id": "85b8d3de",
   "metadata": {},
   "outputs": [
    {
     "name": "stdout",
     "output_type": "stream",
     "text": [
      "Conexión correcta\n"
     ]
    }
   ],
   "source": [
    "import pymysql\n",
    "try:\n",
    "\tconexion = pymysql.connect(host='localhost',\n",
    "                             user='root',\n",
    "                             password='',\n",
    "                             db='mi_base_de_datos')\n",
    "\tprint(\"Conexión correcta\")\n",
    "except (pymysql.err.OperationalError, pymysql.err.InternalError) as e:\n",
    "\tprint(\"Ocurrió un error al conectar: \", e)"
   ]
  },
  {
   "cell_type": "code",
   "execution_count": 4,
   "id": "2a22e392",
   "metadata": {},
   "outputs": [],
   "source": []
  },
  {
   "cell_type": "code",
   "execution_count": null,
   "id": "b017b7c3",
   "metadata": {},
   "outputs": [],
   "source": []
  }
 ],
 "metadata": {
  "kernelspec": {
   "display_name": "Python 3 (ipykernel)",
   "language": "python",
   "name": "python3"
  },
  "language_info": {
   "codemirror_mode": {
    "name": "ipython",
    "version": 3
   },
   "file_extension": ".py",
   "mimetype": "text/x-python",
   "name": "python",
   "nbconvert_exporter": "python",
   "pygments_lexer": "ipython3",
   "version": "3.9.12"
  }
 },
 "nbformat": 4,
 "nbformat_minor": 5
}
