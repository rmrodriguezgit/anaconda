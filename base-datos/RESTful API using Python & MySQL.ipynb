{
 "cells": [
  {
   "cell_type": "markdown",
   "id": "325f275f",
   "metadata": {},
   "source": [
    "##Create RESTful API using Python & MySQL\n",
    "https://webdamn.com/create-restful-api-using-python-mysql/"
   ]
  },
  {
   "cell_type": "markdown",
   "id": "d6c98b39",
   "metadata": {},
   "source": [
    "CREATE TABLE `emp` (\n",
    "  `id` int(11) NOT NULL,\n",
    "  `name` varchar(255) NOT NULL,\n",
    "  `email` varchar(255) NOT NULL,\n",
    "  `phone` varchar(16) DEFAULT NULL,\n",
    "  `address` text DEFAULT NULL\n",
    ") ENGINE=InnoDB DEFAULT CHARSET=latin1;\n",
    "\n",
    "ALTER TABLE `emp`\n",
    "  ADD PRIMARY KEY (`id`);\n",
    "  \n",
    "ALTER TABLE `emp`\n",
    " MODIFY `id` int(11) NOT NULL AUTO_INCREMENT;"
   ]
  },
  {
   "cell_type": "code",
   "execution_count": 4,
   "id": "b2d01a82",
   "metadata": {},
   "outputs": [
    {
     "data": {
      "text/plain": [
       "<flask_cors.extension.CORS at 0x7f88de9db220>"
      ]
     },
     "execution_count": 4,
     "metadata": {},
     "output_type": "execute_result"
    }
   ],
   "source": [
    "#app.py\n",
    "\n",
    "from flask import Flask\n",
    "from flask_cors import CORS, cross_origin\n",
    "\n",
    "app = Flask(__name__)\n",
    "CORS(app)"
   ]
  },
  {
   "cell_type": "code",
   "execution_count": 7,
   "id": "a410a04e",
   "metadata": {},
   "outputs": [
    {
     "ename": "ModuleNotFoundError",
     "evalue": "No module named 'flaskext'",
     "output_type": "error",
     "traceback": [
      "\u001b[0;31m---------------------------------------------------------------------------\u001b[0m",
      "\u001b[0;31mModuleNotFoundError\u001b[0m                       Traceback (most recent call last)",
      "Input \u001b[0;32mIn [7]\u001b[0m, in \u001b[0;36m<cell line: 3>\u001b[0;34m()\u001b[0m\n\u001b[1;32m      1\u001b[0m \u001b[38;5;66;03m#config.py\u001b[39;00m\n\u001b[1;32m      2\u001b[0m \u001b[38;5;28;01mfrom\u001b[39;00m \u001b[38;5;21;01mapp\u001b[39;00m \u001b[38;5;28;01mimport\u001b[39;00m app\n\u001b[0;32m----> 3\u001b[0m \u001b[38;5;28;01mfrom\u001b[39;00m \u001b[38;5;21;01mflaskext\u001b[39;00m\u001b[38;5;21;01m.\u001b[39;00m\u001b[38;5;21;01mmysql\u001b[39;00m \u001b[38;5;28;01mimport\u001b[39;00m MySQL\n\u001b[1;32m      5\u001b[0m mysql \u001b[38;5;241m=\u001b[39m MySQL()\n\u001b[1;32m      6\u001b[0m app\u001b[38;5;241m.\u001b[39mconfig[\u001b[38;5;124m'\u001b[39m\u001b[38;5;124mMYSQL_DATABASE_USER\u001b[39m\u001b[38;5;124m'\u001b[39m] \u001b[38;5;241m=\u001b[39m \u001b[38;5;124m'\u001b[39m\u001b[38;5;124mroot\u001b[39m\u001b[38;5;124m'\u001b[39m\n",
      "\u001b[0;31mModuleNotFoundError\u001b[0m: No module named 'flaskext'"
     ]
    }
   ],
   "source": [
    "#config.py\n",
    "from app import app\n",
    "from flaskext.mysql import MySQL\n",
    "\n",
    "mysql = MySQL()\n",
    "app.config['MYSQL_DATABASE_USER'] = 'root'\n",
    "app.config['MYSQL_DATABASE_PASSWORD'] = ''\n",
    "app.config['MYSQL_DATABASE_DB'] = 'mi_base_de_datos'\n",
    "app.config['MYSQL_DATABASE_HOST'] = 'localhost'\n",
    "mysql.init_app(app)"
   ]
  },
  {
   "cell_type": "code",
   "execution_count": 3,
   "id": "36abd613",
   "metadata": {},
   "outputs": [
    {
     "ename": "ModuleNotFoundError",
     "evalue": "No module named 'flask'",
     "output_type": "error",
     "traceback": [
      "\u001b[0;31m---------------------------------------------------------------------------\u001b[0m",
      "\u001b[0;31mModuleNotFoundError\u001b[0m                       Traceback (most recent call last)",
      "Input \u001b[0;32mIn [3]\u001b[0m, in \u001b[0;36m<cell line: 4>\u001b[0;34m()\u001b[0m\n\u001b[1;32m      1\u001b[0m \u001b[38;5;66;03m#main.py\u001b[39;00m\n\u001b[1;32m      3\u001b[0m \u001b[38;5;28;01mimport\u001b[39;00m \u001b[38;5;21;01mpymysql\u001b[39;00m\n\u001b[0;32m----> 4\u001b[0m \u001b[38;5;28;01mfrom\u001b[39;00m \u001b[38;5;21;01mapp\u001b[39;00m \u001b[38;5;28;01mimport\u001b[39;00m app\n\u001b[1;32m      5\u001b[0m \u001b[38;5;28;01mfrom\u001b[39;00m \u001b[38;5;21;01mconfig\u001b[39;00m \u001b[38;5;28;01mimport\u001b[39;00m mysql\n\u001b[1;32m      6\u001b[0m \u001b[38;5;28;01mfrom\u001b[39;00m \u001b[38;5;21;01mflask\u001b[39;00m \u001b[38;5;28;01mimport\u001b[39;00m jsonify\n",
      "File \u001b[0;32m~/Documents/anaconda/base-datos/app.py:1\u001b[0m, in \u001b[0;36m<module>\u001b[0;34m\u001b[0m\n\u001b[0;32m----> 1\u001b[0m \u001b[38;5;28;01mfrom\u001b[39;00m \u001b[38;5;21;01mflask\u001b[39;00m \u001b[38;5;28;01mimport\u001b[39;00m Flask\n\u001b[1;32m      2\u001b[0m \u001b[38;5;28;01mfrom\u001b[39;00m \u001b[38;5;21;01mflask_cors\u001b[39;00m \u001b[38;5;28;01mimport\u001b[39;00m CORS, cross_origin\n\u001b[1;32m      4\u001b[0m app \u001b[38;5;241m=\u001b[39m Flask(\u001b[38;5;18m__name__\u001b[39m)\n",
      "\u001b[0;31mModuleNotFoundError\u001b[0m: No module named 'flask'"
     ]
    }
   ],
   "source": [
    "#main.py\n",
    "\n",
    "import pymysql\n",
    "from app import app\n",
    "from config import mysql\n",
    "from flask import jsonify\n",
    "from flask import flash, request\n",
    "\n",
    "@app.route('/create', methods=['POST'])\n",
    "def create_emp():\n",
    "    try:        \n",
    "        _json = request.json\n",
    "        _name = _json['name']\n",
    "        _email = _json['email']\n",
    "        _phone = _json['phone']\n",
    "        _address = _json['address']\t\n",
    "        if _name and _email and _phone and _address and request.method == 'POST':\n",
    "            conn = mysql.connect()\n",
    "            cursor = conn.cursor(pymysql.cursors.DictCursor)\t\t\n",
    "            sqlQuery = \"INSERT INTO emp(name, email, phone, address) VALUES(%s, %s, %s, %s)\"\n",
    "            bindData = (_name, _email, _phone, _address)            \n",
    "            cursor.execute(sqlQuery, bindData)\n",
    "            conn.commit()\n",
    "            respone = jsonify('Employee added successfully!')\n",
    "            respone.status_code = 200\n",
    "            return respone\n",
    "        else:\n",
    "            return showMessage()\n",
    "    except Exception as e:\n",
    "        print(e)\n",
    "    finally:\n",
    "        cursor.close() \n",
    "        conn.close()          \n",
    "     \n",
    "@app.route('/emp')\n",
    "def emp():\n",
    "    try:\n",
    "        conn = mysql.connect()\n",
    "        cursor = conn.cursor(pymysql.cursors.DictCursor)\n",
    "        cursor.execute(\"SELECT id, name, email, phone, address FROM emp\")\n",
    "        empRows = cursor.fetchall()\n",
    "        respone = jsonify(empRows)\n",
    "        respone.status_code = 200\n",
    "        return respone\n",
    "    except Exception as e:\n",
    "        print(e)\n",
    "    finally:\n",
    "        cursor.close() \n",
    "        conn.close()  \n",
    "\n",
    "@app.route('/emp/')\n",
    "def emp_details(emp_id):\n",
    "    try:\n",
    "        conn = mysql.connect()\n",
    "        cursor = conn.cursor(pymysql.cursors.DictCursor)\n",
    "        cursor.execute(\"SELECT id, name, email, phone, address FROM emp WHERE id =%s\", emp_id)\n",
    "        empRow = cursor.fetchone()\n",
    "        respone = jsonify(empRow)\n",
    "        respone.status_code = 200\n",
    "        return respone\n",
    "    except Exception as e:\n",
    "        print(e)\n",
    "    finally:\n",
    "        cursor.close() \n",
    "        conn.close() \n",
    "\n",
    "@app.route('/update', methods=['PUT'])\n",
    "def update_emp():\n",
    "    try:\n",
    "        _json = request.json\n",
    "        _id = _json['id']\n",
    "        _name = _json['name']\n",
    "        _email = _json['email']\n",
    "        _phone = _json['phone']\n",
    "        _address = _json['address']\n",
    "        if _name and _email and _phone and _address and _id and request.method == 'PUT':\t\t\t\n",
    "            sqlQuery = \"UPDATE emp SET name=%s, email=%s, phone=%s, address=%s WHERE id=%s\"\n",
    "            bindData = (_name, _email, _phone, _address, _id,)\n",
    "            conn = mysql.connect()\n",
    "            cursor = conn.cursor()\n",
    "            cursor.execute(sqlQuery, bindData)\n",
    "            conn.commit()\n",
    "            respone = jsonify('Employee updated successfully!')\n",
    "            respone.status_code = 200\n",
    "            return respone\n",
    "        else:\n",
    "            return showMessage()\n",
    "    except Exception as e:\n",
    "        print(e)\n",
    "    finally:\n",
    "        cursor.close() \n",
    "        conn.close() \n",
    "\n",
    "@app.route('/delete/', methods=['DELETE'])\n",
    "def delete_emp(id):\n",
    "\ttry:\n",
    "\t\tconn = mysql.connect()\n",
    "\t\tcursor = conn.cursor()\n",
    "\t\tcursor.execute(\"DELETE FROM emp WHERE id =%s\", (id,))\n",
    "\t\tconn.commit()\n",
    "\t\trespone = jsonify('Employee deleted successfully!')\n",
    "\t\trespone.status_code = 200\n",
    "\t\treturn respone\n",
    "\texcept Exception as e:\n",
    "\t\tprint(e)\n",
    "\tfinally:\n",
    "\t\tcursor.close() \n",
    "\t\tconn.close()\n",
    "        \n",
    "       \n",
    "@app.errorhandler(404)\n",
    "def showMessage(error=None):\n",
    "    message = {\n",
    "        'status': 404,\n",
    "        'message': 'Record not found: ' + request.url,\n",
    "    }\n",
    "    respone = jsonify(message)\n",
    "    respone.status_code = 404\n",
    "    return respone\n",
    "        \n",
    "if __name__ == \"__main__\":\n",
    "    app.run()"
   ]
  },
  {
   "cell_type": "code",
   "execution_count": null,
   "id": "50e3774f",
   "metadata": {},
   "outputs": [],
   "source": []
  }
 ],
 "metadata": {
  "kernelspec": {
   "display_name": "Python 3 (ipykernel)",
   "language": "python",
   "name": "python3"
  },
  "language_info": {
   "codemirror_mode": {
    "name": "ipython",
    "version": 3
   },
   "file_extension": ".py",
   "mimetype": "text/x-python",
   "name": "python",
   "nbconvert_exporter": "python",
   "pygments_lexer": "ipython3",
   "version": "3.9.12"
  }
 },
 "nbformat": 4,
 "nbformat_minor": 5
}
