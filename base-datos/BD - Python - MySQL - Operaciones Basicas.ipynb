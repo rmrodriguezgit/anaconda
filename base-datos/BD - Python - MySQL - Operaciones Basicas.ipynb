{
 "cells": [
  {
   "cell_type": "markdown",
   "id": "caab5574",
   "metadata": {},
   "source": [
    "https://parzibyte.me/blog/2018/09/18/python-3-mysql-crud-ejemplos-conexion/"
   ]
  },
  {
   "cell_type": "code",
   "execution_count": 1,
   "id": "baa5f2f7",
   "metadata": {},
   "outputs": [],
   "source": [
    "import pymysql\n",
    "try:\n",
    "\tconexion = pymysql.connect(host='localhost',\n",
    "                             user='root',\n",
    "                             password='',\n",
    "                             db='mi_base_de_datos')\n",
    "\ttry:\n",
    "\t\twith conexion.cursor() as cursor:\n",
    "\t\t\tconsulta = \"INSERT INTO peliculas(titulo, anio) VALUES (%s, %s);\"\n",
    "\t\t\t#Podemos llamar muchas veces a .execute con datos distintos\n",
    "\t\t\tcursor.execute(consulta, (\"Volver al futuro 1\", 1985))\n",
    "\t\t\tcursor.execute(consulta, (\"Ready Player One\", 2018))\n",
    "\t\t\tcursor.execute(consulta, (\"It\", 2017))\n",
    "\t\t\tcursor.execute(consulta, (\"Pulp Fiction\", 1994))\n",
    "\t\tconexion.commit()\n",
    "\tfinally:\n",
    "\t\tconexion.close()\n",
    "except (pymysql.err.OperationalError, pymysql.err.InternalError) as e:\n",
    "\tprint(\"Ocurrió un error al conectar: \", e)"
   ]
  },
  {
   "cell_type": "code",
   "execution_count": 9,
   "id": "48dce9c7",
   "metadata": {},
   "outputs": [
    {
     "name": "stdout",
     "output_type": "stream",
     "text": [
      "(1, 'Ready Player One', 2018)\n",
      "(2, 'Ready Player One: comienza el juego', 1985)\n",
      "(3, 'Ready Player One', 2018)\n",
      "(4, 'It', 2017)\n",
      "(5, 'Pulp Fiction', 1994)\n"
     ]
    }
   ],
   "source": [
    "import pymysql\n",
    "try:\n",
    "\tconexion = pymysql.connect(host='localhost',\n",
    "                             user='root',\n",
    "                             password='',\n",
    "                             db='mi_base_de_datos')\n",
    "\ttry:\n",
    "\t\twith conexion.cursor() as cursor:\n",
    "\t\t\t# En este caso no necesitamos limpiar ningún dato\n",
    "\t\t\tcursor.execute(\"SELECT id, titulo, anio FROM peliculas;\")\n",
    " \n",
    "\t\t\t# Con fetchall traemos todas las filas\n",
    "\t\t\tpeliculas = cursor.fetchall()\n",
    " \n",
    "\t\t\t# Recorrer e imprimir\n",
    "\t\t\tfor pelicula in peliculas:\n",
    "\t\t\t\tprint(pelicula)\n",
    "\tfinally:\n",
    "\t\tconexion.close()\n",
    "\t\n",
    "except (pymysql.err.OperationalError, pymysql.err.InternalError) as e:\n",
    "\tprint(\"Ocurrió un error al conectar: \", e)"
   ]
  },
  {
   "cell_type": "code",
   "execution_count": 7,
   "id": "74e62dab",
   "metadata": {},
   "outputs": [
    {
     "name": "stdout",
     "output_type": "stream",
     "text": [
      "(1, 'Ready Player One', 2018)\n",
      "(3, 'Ready Player One', 2018)\n",
      "(4, 'It', 2017)\n"
     ]
    }
   ],
   "source": [
    "import pymysql\n",
    "try:\n",
    "\tconexion = pymysql.connect(host='localhost',\n",
    "                             user='root',\n",
    "                             password='',\n",
    "                             db='mi_base_de_datos')\n",
    "\ttry:\n",
    "\t\twith conexion.cursor() as cursor:\n",
    "\t\t\t\n",
    "\t\t\tconsulta = \"SELECT id, titulo, anio FROM peliculas WHERE anio > %s;\"\n",
    "\t\t\tcursor.execute(consulta, (2000))\n",
    " \n",
    "\t\t\t# Con fetchall traemos todas las filas\n",
    "\t\t\tpeliculas = cursor.fetchall()\n",
    " \n",
    "\t\t\t# Recorrer e imprimir\n",
    "\t\t\tfor pelicula in peliculas:\n",
    "\t\t\t\tprint(pelicula)\n",
    "\tfinally:\n",
    "\t\tconexion.close()\n",
    "\t\n",
    "except (pymysql.err.OperationalError, pymysql.err.InternalError) as e:\n",
    "\tprint(\"Ocurrió un error al conectar: \", e)"
   ]
  },
  {
   "cell_type": "code",
   "execution_count": 8,
   "id": "0be30299",
   "metadata": {},
   "outputs": [],
   "source": [
    "import pymysql\n",
    "try:\n",
    "\tconexion = pymysql.connect(host='localhost',\n",
    "                             user='root',\n",
    "                             password='',\n",
    "                             db='mi_base_de_datos')\n",
    "\ttry:\n",
    "\t\twith conexion.cursor() as cursor:\n",
    "\t\t\t\n",
    "\t\t\tconsulta = \"UPDATE peliculas SET titulo = %s WHERE id = %s;\"\n",
    "\t\t\tnuevo_titulo = \"Ready Player One: comienza el juego\"\n",
    "\t\t\tid_editar = 2\n",
    "\t\t\tcursor.execute(consulta, (nuevo_titulo, id_editar))\n",
    " \n",
    "\t\t# No olvidemos hacer commit cuando hacemos un cambio a la BD\n",
    "\t\tconexion.commit()\n",
    "\tfinally:\n",
    "\t\tconexion.close()\n",
    "\t\n",
    "except (pymysql.err.OperationalError, pymysql.err.InternalError) as e:\n",
    "\tprint(\"Ocurrió un error al conectar: \", e)"
   ]
  },
  {
   "cell_type": "code",
   "execution_count": 11,
   "id": "026653d1",
   "metadata": {},
   "outputs": [],
   "source": [
    "import pymysql\n",
    "try:\n",
    "\tconexion = pymysql.connect(host='localhost',\n",
    "                             user='root',\n",
    "                             password='',\n",
    "                             db='mi_base_de_datos')\n",
    "\ttry:\n",
    "\t\twith conexion.cursor() as cursor:\n",
    "\t\t\t\n",
    "\t\t\tconsulta = \"DELETE FROM peliculas WHERE anio < %s;\"\n",
    "\t\t\tanio = 2000\n",
    "\t\t\tcursor.execute(consulta, (anio))\n",
    " \n",
    "\t\t# No olvidemos hacer commit cuando hacemos un cambio a la BD\n",
    "\t\tconexion.commit()\n",
    "\tfinally:\n",
    "\t\tconexion.close()\n",
    "\t\n",
    "except (pymysql.err.OperationalError, pymysql.err.InternalError) as e:\n",
    "\tprint(\"Ocurrió un error al conectar: \", e)"
   ]
  },
  {
   "cell_type": "code",
   "execution_count": null,
   "id": "49d2bf3f",
   "metadata": {},
   "outputs": [],
   "source": []
  }
 ],
 "metadata": {
  "kernelspec": {
   "display_name": "Python 3 (ipykernel)",
   "language": "python",
   "name": "python3"
  },
  "language_info": {
   "codemirror_mode": {
    "name": "ipython",
    "version": 3
   },
   "file_extension": ".py",
   "mimetype": "text/x-python",
   "name": "python",
   "nbconvert_exporter": "python",
   "pygments_lexer": "ipython3",
   "version": "3.9.12"
  }
 },
 "nbformat": 4,
 "nbformat_minor": 5
}
