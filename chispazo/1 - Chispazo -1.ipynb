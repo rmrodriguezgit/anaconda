{
 "cells": [
  {
   "cell_type": "code",
   "execution_count": 4,
   "id": "566e5ab6",
   "metadata": {},
   "outputs": [],
   "source": [
    "# https://www.pakin.lat/chispazo-resultados-historicos"
   ]
  },
  {
   "cell_type": "code",
   "execution_count": 12,
   "id": "65d2cbf8",
   "metadata": {},
   "outputs": [],
   "source": [
    "%matplotlib inline\n",
    "import pandas as pd\n",
    "import matplotlib.pyplot as plt\n",
    "# TensorFlow y tf.keras\n",
    "import tensorflow as tf\n",
    "from tensorflow import keras\n",
    "\n",
    "# Librerias de ayuda\n",
    "import numpy as np\n",
    "import numpy as np\n",
    "from keras.models import Sequential\n",
    "from keras.layers.core import Dense\n"
   ]
  },
  {
   "cell_type": "code",
   "execution_count": 3,
   "id": "250bb8d1",
   "metadata": {},
   "outputs": [
    {
     "data": {
      "text/html": [
       "<div>\n",
       "<style scoped>\n",
       "    .dataframe tbody tr th:only-of-type {\n",
       "        vertical-align: middle;\n",
       "    }\n",
       "\n",
       "    .dataframe tbody tr th {\n",
       "        vertical-align: top;\n",
       "    }\n",
       "\n",
       "    .dataframe thead th {\n",
       "        text-align: right;\n",
       "    }\n",
       "</style>\n",
       "<table border=\"1\" class=\"dataframe\">\n",
       "  <thead>\n",
       "    <tr style=\"text-align: right;\">\n",
       "      <th></th>\n",
       "      <th>CONCURSO</th>\n",
       "      <th>R1</th>\n",
       "      <th>R2</th>\n",
       "      <th>R3</th>\n",
       "      <th>R4</th>\n",
       "      <th>R5</th>\n",
       "      <th>FECHA</th>\n",
       "    </tr>\n",
       "  </thead>\n",
       "  <tbody>\n",
       "    <tr>\n",
       "      <th>0</th>\n",
       "      <td>9404</td>\n",
       "      <td>13</td>\n",
       "      <td>21</td>\n",
       "      <td>24</td>\n",
       "      <td>26</td>\n",
       "      <td>27</td>\n",
       "      <td>2022-10-21</td>\n",
       "    </tr>\n",
       "    <tr>\n",
       "      <th>1</th>\n",
       "      <td>9403</td>\n",
       "      <td>1</td>\n",
       "      <td>8</td>\n",
       "      <td>11</td>\n",
       "      <td>22</td>\n",
       "      <td>24</td>\n",
       "      <td>2022-10-21</td>\n",
       "    </tr>\n",
       "    <tr>\n",
       "      <th>2</th>\n",
       "      <td>9402</td>\n",
       "      <td>6</td>\n",
       "      <td>8</td>\n",
       "      <td>9</td>\n",
       "      <td>16</td>\n",
       "      <td>21</td>\n",
       "      <td>2022-10-20</td>\n",
       "    </tr>\n",
       "    <tr>\n",
       "      <th>3</th>\n",
       "      <td>9401</td>\n",
       "      <td>2</td>\n",
       "      <td>5</td>\n",
       "      <td>12</td>\n",
       "      <td>18</td>\n",
       "      <td>28</td>\n",
       "      <td>2022-10-20</td>\n",
       "    </tr>\n",
       "    <tr>\n",
       "      <th>4</th>\n",
       "      <td>9400</td>\n",
       "      <td>3</td>\n",
       "      <td>5</td>\n",
       "      <td>18</td>\n",
       "      <td>25</td>\n",
       "      <td>26</td>\n",
       "      <td>2022-10-19</td>\n",
       "    </tr>\n",
       "    <tr>\n",
       "      <th>...</th>\n",
       "      <td>...</td>\n",
       "      <td>...</td>\n",
       "      <td>...</td>\n",
       "      <td>...</td>\n",
       "      <td>...</td>\n",
       "      <td>...</td>\n",
       "      <td>...</td>\n",
       "    </tr>\n",
       "    <tr>\n",
       "      <th>9399</th>\n",
       "      <td>5</td>\n",
       "      <td>12</td>\n",
       "      <td>14</td>\n",
       "      <td>17</td>\n",
       "      <td>21</td>\n",
       "      <td>24</td>\n",
       "      <td>1999-01-19</td>\n",
       "    </tr>\n",
       "    <tr>\n",
       "      <th>9400</th>\n",
       "      <td>4</td>\n",
       "      <td>6</td>\n",
       "      <td>10</td>\n",
       "      <td>16</td>\n",
       "      <td>20</td>\n",
       "      <td>25</td>\n",
       "      <td>1999-01-19</td>\n",
       "    </tr>\n",
       "    <tr>\n",
       "      <th>9401</th>\n",
       "      <td>3</td>\n",
       "      <td>1</td>\n",
       "      <td>12</td>\n",
       "      <td>16</td>\n",
       "      <td>18</td>\n",
       "      <td>21</td>\n",
       "      <td>1999-01-12</td>\n",
       "    </tr>\n",
       "    <tr>\n",
       "      <th>9402</th>\n",
       "      <td>2</td>\n",
       "      <td>5</td>\n",
       "      <td>12</td>\n",
       "      <td>18</td>\n",
       "      <td>22</td>\n",
       "      <td>23</td>\n",
       "      <td>1999-01-08</td>\n",
       "    </tr>\n",
       "    <tr>\n",
       "      <th>9403</th>\n",
       "      <td>1</td>\n",
       "      <td>4</td>\n",
       "      <td>7</td>\n",
       "      <td>11</td>\n",
       "      <td>21</td>\n",
       "      <td>24</td>\n",
       "      <td>1999-01-05</td>\n",
       "    </tr>\n",
       "  </tbody>\n",
       "</table>\n",
       "<p>9404 rows × 7 columns</p>\n",
       "</div>"
      ],
      "text/plain": [
       "      CONCURSO  R1  R2  R3  R4  R5       FECHA\n",
       "0         9404  13  21  24  26  27  2022-10-21\n",
       "1         9403   1   8  11  22  24  2022-10-21\n",
       "2         9402   6   8   9  16  21  2022-10-20\n",
       "3         9401   2   5  12  18  28  2022-10-20\n",
       "4         9400   3   5  18  25  26  2022-10-19\n",
       "...        ...  ..  ..  ..  ..  ..         ...\n",
       "9399         5  12  14  17  21  24  1999-01-19\n",
       "9400         4   6  10  16  20  25  1999-01-19\n",
       "9401         3   1  12  16  18  21  1999-01-12\n",
       "9402         2   5  12  18  22  23  1999-01-08\n",
       "9403         1   4   7  11  21  24  1999-01-05\n",
       "\n",
       "[9404 rows x 7 columns]"
      ]
     },
     "execution_count": 3,
     "metadata": {},
     "output_type": "execute_result"
    }
   ],
   "source": [
    "df = pd.read_csv('./historico.csv')\n",
    "df\n"
   ]
  },
  {
   "cell_type": "code",
   "execution_count": 44,
   "id": "c35fb55e",
   "metadata": {},
   "outputs": [],
   "source": [
    "df = df[['R1','R2','R3','R4','R5']]"
   ]
  },
  {
   "cell_type": "code",
   "execution_count": 45,
   "id": "addba41b",
   "metadata": {},
   "outputs": [
    {
     "data": {
      "text/plain": [
       "4.0"
      ]
     },
     "execution_count": 45,
     "metadata": {},
     "output_type": "execute_result"
    }
   ],
   "source": [
    "np.median(df['R1'])"
   ]
  },
  {
   "cell_type": "code",
   "execution_count": 46,
   "id": "3ac57a9e",
   "metadata": {},
   "outputs": [
    {
     "data": {
      "text/plain": [
       "9.0"
      ]
     },
     "execution_count": 46,
     "metadata": {},
     "output_type": "execute_result"
    }
   ],
   "source": [
    "np.median(df['R2'])"
   ]
  },
  {
   "cell_type": "code",
   "execution_count": 47,
   "id": "a1333032",
   "metadata": {},
   "outputs": [
    {
     "data": {
      "text/plain": [
       "14.0"
      ]
     },
     "execution_count": 47,
     "metadata": {},
     "output_type": "execute_result"
    }
   ],
   "source": [
    "np.median(df['R3'])"
   ]
  },
  {
   "cell_type": "code",
   "execution_count": 48,
   "id": "6c4216c3",
   "metadata": {},
   "outputs": [
    {
     "data": {
      "text/plain": [
       "20.0"
      ]
     },
     "execution_count": 48,
     "metadata": {},
     "output_type": "execute_result"
    }
   ],
   "source": [
    "np.median(df['R4'])"
   ]
  },
  {
   "cell_type": "code",
   "execution_count": 49,
   "id": "45f22f4d",
   "metadata": {},
   "outputs": [
    {
     "data": {
      "text/plain": [
       "25.0"
      ]
     },
     "execution_count": 49,
     "metadata": {},
     "output_type": "execute_result"
    }
   ],
   "source": [
    "np.median(df['R5'])"
   ]
  },
  {
   "cell_type": "code",
   "execution_count": 59,
   "id": "5f3e15ae",
   "metadata": {},
   "outputs": [
    {
     "name": "stdout",
     "output_type": "stream",
     "text": [
      "[380 765 474  92   6]\n"
     ]
    }
   ],
   "source": [
    "print(np.count_nonzero(df == 9, axis=0))"
   ]
  },
  {
   "cell_type": "code",
   "execution_count": 73,
   "id": "674e79bc",
   "metadata": {},
   "outputs": [
    {
     "name": "stdout",
     "output_type": "stream",
     "text": [
      "1 [1689    0    0    0    0]\n",
      "2 [1416  279    0    0    0]\n",
      "3 [1187  412   43    0    0]\n",
      "4 [1049  589   64    3    0]\n",
      "5 [896 631 135  14   0]\n",
      "6 [687 746 235  26   1]\n",
      "7 [558 787 305  48   4]\n",
      "8 [440 797 393  66   6]\n",
      "9 [380 765 474  92   6]\n",
      "10 [316 731 566 154  19]\n",
      "11 [220 669 596 203  17]\n",
      "12 [167 588 654 276  35]\n",
      "13 [141 483 707 292  56]\n",
      "14 [ 85 468 682 404  65]\n",
      "15 [ 67 389 655 493  90]\n",
      "16 [ 34 294 680 553 128]\n",
      "17 [ 30 254 625 646 202]\n",
      "18 [ 18 170 569 695 286]\n",
      "19 [ 13 119 537 714 311]\n",
      "20 [  7 110 438 766 378]\n",
      "21 [  4  60 364 766 567]\n",
      "22 [  0  36 283 726 617]\n",
      "23 [  0  16 176 728 786]\n",
      "24 [  0   8 147 639 935]\n",
      "25 [   0    3   55  492 1181]\n",
      "26 [   0    0   21  387 1017]\n",
      "27 [   0    0    0  221 1293]\n",
      "28 [   0    0    0    0 1404]\n"
     ]
    }
   ],
   "source": [
    "\n",
    "for i in range(1,29):\n",
    "    print(i, np.count_nonzero(df == i, axis=0))\n"
   ]
  },
  {
   "cell_type": "code",
   "execution_count": null,
   "id": "c9febf9f",
   "metadata": {},
   "outputs": [],
   "source": []
  }
 ],
 "metadata": {
  "kernelspec": {
   "display_name": "Python 3 (ipykernel)",
   "language": "python",
   "name": "python3"
  },
  "language_info": {
   "codemirror_mode": {
    "name": "ipython",
    "version": 3
   },
   "file_extension": ".py",
   "mimetype": "text/x-python",
   "name": "python",
   "nbconvert_exporter": "python",
   "pygments_lexer": "ipython3",
   "version": "3.9.12"
  }
 },
 "nbformat": 4,
 "nbformat_minor": 5
}
