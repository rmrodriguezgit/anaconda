{
 "cells": [
  {
   "cell_type": "code",
   "execution_count": 1,
   "id": "0875701f",
   "metadata": {},
   "outputs": [],
   "source": [
    "# Importing all necessary libraries\n",
    "import cv2\n",
    "import pytesseract"
   ]
  },
  {
   "cell_type": "code",
   "execution_count": 4,
   "id": "91106259",
   "metadata": {},
   "outputs": [],
   "source": [
    "# Read the video from specified path\n",
    "capture = cv2.VideoCapture(\"../F1-Data-Extractor/images/f122_ca_cl.mov\")"
   ]
  },
  {
   "cell_type": "code",
   "execution_count": 5,
   "id": "ecfffb9a",
   "metadata": {},
   "outputs": [
    {
     "name": "stdout",
     "output_type": "stream",
     "text": [
      "CV_CAP_PROP_FRAME_WIDTH: '960.0'\n",
      "CV_CAP_PROP_FRAME_HEIGHT : '720.0'\n",
      "CAP_PROP_FPS : '29.848217095548186'\n",
      "CAP_PROP_POS_MSEC : '0.0'\n",
      "CAP_PROP_FRAME_COUNT  : '2055.0'\n",
      "CAP_PROP_BRIGHTNESS : '0.0'\n",
      "CAP_PROP_CONTRAST : '0.0'\n",
      "CAP_PROP_SATURATION : '0.0'\n",
      "CAP_PROP_HUE : '0.0'\n",
      "CAP_PROP_GAIN  : '0.0'\n",
      "CAP_PROP_CONVERT_RGB : '0.0'\n"
     ]
    }
   ],
   "source": [
    "\n",
    "  \n",
    "# showing values of the properties\n",
    "print(\"CV_CAP_PROP_FRAME_WIDTH: '{}'\".format(capture.get(cv2.CAP_PROP_FRAME_WIDTH)))\n",
    "print(\"CV_CAP_PROP_FRAME_HEIGHT : '{}'\".format(capture.get(cv2.CAP_PROP_FRAME_HEIGHT)))\n",
    "print(\"CAP_PROP_FPS : '{}'\".format(capture.get(cv2.CAP_PROP_FPS)))\n",
    "print(\"CAP_PROP_POS_MSEC : '{}'\".format(capture.get(cv2.CAP_PROP_POS_MSEC)))\n",
    "print(\"CAP_PROP_FRAME_COUNT  : '{}'\".format(capture.get(cv2.CAP_PROP_FRAME_COUNT)))\n",
    "print(\"CAP_PROP_BRIGHTNESS : '{}'\".format(capture.get(cv2.CAP_PROP_BRIGHTNESS)))\n",
    "print(\"CAP_PROP_CONTRAST : '{}'\".format(capture.get(cv2.CAP_PROP_CONTRAST)))\n",
    "print(\"CAP_PROP_SATURATION : '{}'\".format(capture.get(cv2.CAP_PROP_SATURATION)))\n",
    "print(\"CAP_PROP_HUE : '{}'\".format(capture.get(cv2.CAP_PROP_HUE)))\n",
    "print(\"CAP_PROP_GAIN  : '{}'\".format(capture.get(cv2.CAP_PROP_GAIN)))\n",
    "print(\"CAP_PROP_CONVERT_RGB : '{}'\".format(capture.get(cv2.CAP_PROP_CONVERT_RGB)))\n",
    "  \n",
    "# release window\n",
    "capture.release()\n",
    "cv2.destroyAllWindows()"
   ]
  },
  {
   "cell_type": "code",
   "execution_count": null,
   "id": "3b3d7a67",
   "metadata": {},
   "outputs": [],
   "source": []
  }
 ],
 "metadata": {
  "kernelspec": {
   "display_name": "Python 3 (ipykernel)",
   "language": "python",
   "name": "python3"
  },
  "language_info": {
   "codemirror_mode": {
    "name": "ipython",
    "version": 3
   },
   "file_extension": ".py",
   "mimetype": "text/x-python",
   "name": "python",
   "nbconvert_exporter": "python",
   "pygments_lexer": "ipython3",
   "version": "3.9.12"
  }
 },
 "nbformat": 4,
 "nbformat_minor": 5
}
