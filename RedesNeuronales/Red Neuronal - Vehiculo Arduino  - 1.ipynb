{
 "cells": [
  {
   "cell_type": "markdown",
   "id": "35b680a8",
   "metadata": {},
   "source": [
    "### Red Neuronal en Python (mejorada)\n",
    "Crearemos una red neuronal simple, con 3 capas, neuronas con valores de entrada -1 a 1 y de salida 0 a 1 indicando encender o no los motores de un coche Arduino."
   ]
  },
  {
   "cell_type": "markdown",
   "id": "5e85a6c3",
   "metadata": {},
   "source": [
    "https://github.com/jbagnato/machine-learning/blob/master/Red_Neuronal_coche.ipynb"
   ]
  },
  {
   "cell_type": "markdown",
   "id": "a37a8f82",
   "metadata": {},
   "source": [
    "https://www.aprendemachinelearning.com/programa-un-coche-arduino-con-inteligencia-artificial/"
   ]
  },
  {
   "cell_type": "markdown",
   "id": "479a5fca",
   "metadata": {},
   "source": [
    "Artículo Original - Red Neuronal con explicación\n",
    "https://www.aprendemachinelearning.com/crear-una-red-neuronal-en-python-desde-cero/"
   ]
  },
  {
   "cell_type": "code",
   "execution_count": 1,
   "id": "4c48998c",
   "metadata": {},
   "outputs": [],
   "source": [
    "import numpy as np\n",
    "\n",
    "# Creamos la clase \n",
    "class NeuralNetwork:\n",
    "\n",
    "    def __init__(self, layers, activation='tanh'):\n",
    "        if activation == 'sigmoid':\n",
    "            self.activation = sigmoid\n",
    "            self.activation_prime = sigmoid_derivada\n",
    "        elif activation == 'tanh':\n",
    "            self.activation = tanh\n",
    "            self.activation_prime = tanh_derivada\n",
    "\n",
    "        # inicializo los pesos\n",
    "        self.weights = []\n",
    "        self.deltas = []\n",
    "        # capas = [2,3,4]\n",
    "        # rando de pesos varia entre (-1,1)\n",
    "        # asigno valores aleatorios a capa de entrada y capa oculta\n",
    "        for i in range(1, len(layers) - 1):\n",
    "            r = 2*np.random.random((layers[i-1] + 1, layers[i] + 1)) -1\n",
    "            self.weights.append(r)\n",
    "        # asigno aleatorios a capa de salida\n",
    "        r = 2*np.random.random( (layers[i] + 1, layers[i+1])) - 1\n",
    "        self.weights.append(r)\n",
    "\n",
    "    def fit(self, X, y, learning_rate=0.2, epochs=100000):\n",
    "        # Agrego columna de unos a las entradas X\n",
    "        # Con esto agregamos la unidad de Bias a la capa de entrada\n",
    "        ones = np.atleast_2d(np.ones(X.shape[0]))\n",
    "        X = np.concatenate((ones.T, X), axis=1)\n",
    "        \n",
    "        for k in range(epochs):\n",
    "            i = np.random.randint(X.shape[0])\n",
    "            a = [X[i]]\n",
    "\n",
    "            for l in range(len(self.weights)):\n",
    "                    dot_value = np.dot(a[l], self.weights[l])\n",
    "                    activation = self.activation(dot_value)\n",
    "                    a.append(activation)\n",
    "            # Calculo la diferencia en la capa de salida y el valor obtenido\n",
    "            error = y[i] - a[-1]\n",
    "            deltas = [error * self.activation_prime(a[-1])]\n",
    "            \n",
    "            # Empezamos en el segundo layer hasta el ultimo\n",
    "            # (Una capa anterior a la de salida)\n",
    "            for l in range(len(a) - 2, 0, -1): \n",
    "                deltas.append(deltas[-1].dot(self.weights[l].T)*self.activation_prime(a[l]))\n",
    "            self.deltas.append(deltas)\n",
    "\n",
    "            # invertir\n",
    "            # [level3(output)->level2(hidden)]  => [level2(hidden)->level3(output)]\n",
    "            deltas.reverse()\n",
    "\n",
    "            # backpropagation\n",
    "            # 1. Multiplcar los delta de salida con las activaciones de entrada \n",
    "            #    para obtener el gradiente del peso.\n",
    "            # 2. actualizo el peso restandole un porcentaje del gradiente\n",
    "            for i in range(len(self.weights)):\n",
    "                layer = np.atleast_2d(a[i])\n",
    "                delta = np.atleast_2d(deltas[i])\n",
    "                self.weights[i] += learning_rate * layer.T.dot(delta)\n",
    "\n",
    "            if k % 10000 == 0: print('epochs:', k)\n",
    "\n",
    "    def predict(self, x): \n",
    "        ones = np.atleast_2d(np.ones(x.shape[0]))\n",
    "        a = np.concatenate((np.ones(1).T, np.array(x)), axis=0)\n",
    "        for l in range(0, len(self.weights)):\n",
    "            a = self.activation(np.dot(a, self.weights[l]))\n",
    "        return a\n",
    "\n",
    "    def print_weights(self):\n",
    "        print(\"LISTADO PESOS DE CONEXIONES\")\n",
    "        for i in range(len(self.weights)):\n",
    "            print(self.weights[i])\n",
    "\n",
    "    def get_weights(self):\n",
    "        return self.weights\n",
    "    \n",
    "    def get_deltas(self):\n",
    "        return self.deltas\n",
    "\n",
    "# Al crear la red, podremos elegir entre usar la funcion sigmoid o tanh\n",
    "def sigmoid(x):\n",
    "    return 1.0/(1.0 + np.exp(-x))\n",
    "\n",
    "def sigmoid_derivada(x):\n",
    "    return sigmoid(x)*(1.0-sigmoid(x))\n",
    "\n",
    "def tanh(x):\n",
    "    return np.tanh(x)\n",
    "\n",
    "def tanh_derivada(x):\n",
    "    return 1.0 - x**2"
   ]
  },
  {
   "cell_type": "code",
   "execution_count": 2,
   "id": "c0288b35",
   "metadata": {},
   "outputs": [
    {
     "name": "stdout",
     "output_type": "stream",
     "text": [
      "epochs: 0\n",
      "epochs: 10000\n",
      "epochs: 20000\n",
      "epochs: 30000\n",
      "epochs: 40000\n",
      "X: [-1  0] esperado: [1 0 0 1] obtenido: 1 0 0 1\n",
      "X: [-1  1] esperado: [1 0 0 1] obtenido: 1 0 0 1\n",
      "X: [-1 -1] esperado: [1 0 0 1] obtenido: 1 0 0 1\n",
      "X: [ 0 -1] esperado: [0 1 0 1] obtenido: 0 1 0 1\n",
      "X: [0 1] esperado: [1 0 1 0] obtenido: 1 0 1 0\n",
      "X: [0 0] esperado: [1 0 0 1] obtenido: 1 0 0 1\n",
      "X: [1 1] esperado: [0 1 1 0] obtenido: 0 1 1 0\n",
      "X: [ 1 -1] esperado: [0 1 1 0] obtenido: 0 1 1 0\n",
      "X: [1 0] esperado: [0 1 1 0] obtenido: 0 1 1 0\n"
     ]
    }
   ],
   "source": [
    "# Red Coche para Evitar obstáculos\n",
    "nn = NeuralNetwork([2,3,4],activation ='tanh')\n",
    "X = np.array([[-1, 0],   # sin obstaculos\n",
    "              [-1, 1],   # sin obstaculos\n",
    "              [-1, -1],  # sin obstaculos\n",
    "              [0, -1],   # obstaculo detectado a derecha\n",
    "              [0,1],     # obstaculo a izq\n",
    "              [0,0],     # obstaculo centro\n",
    "              [1,1],     # demasiado cerca a derecha\n",
    "              [1,-1],    # demasiado cerca a izq\n",
    "              [1,0]      # demasiado cerca centro\n",
    "             ])\n",
    "# las salidas 'y' se corresponden con encender (o no) los motores\n",
    "y = np.array([[1,0,0,1], # avanzar\n",
    "              [1,0,0,1], # avanzar\n",
    "              [1,0,0,1], # avanzar\n",
    "              [0,1,0,1], # giro derecha\n",
    "              [1,0,1,0], # giro izquierda (cambie izq y derecha)\n",
    "              [1,0,0,1], # avanzar\n",
    "              [0,1,1,0], # retroceder\n",
    "              [0,1,1,0], # retroceder\n",
    "              [0,1,1,0]  # retroceder\n",
    "             ])\n",
    "nn.fit(X, y, learning_rate=0.03,epochs=40001)\n",
    "\n",
    "def valNN(x):\n",
    "    return (int)(abs(round(x)))\n",
    "\n",
    "index=0\n",
    "for e in X:\n",
    "    prediccion = nn.predict(e)\n",
    "    print(\"X:\",e,\"esperado:\",y[index],\"obtenido:\", valNN(prediccion[0]),valNN(prediccion[1]),valNN(prediccion[2]),valNN(prediccion[3]))\n",
    "    #print(\"X:\",e,\"y:\",y[index],\"Network:\",prediccion)\n",
    "    index=index+1"
   ]
  },
  {
   "cell_type": "code",
   "execution_count": 3,
   "id": "a9c9b33d",
   "metadata": {},
   "outputs": [
    {
     "data": {
      "image/png": "[encoded data removed]",
      "text/plain": [
       "<Figure size 432x288 with 1 Axes>"
      ]
     },
     "metadata": {
      "needs_background": "light"
     },
     "output_type": "display_data"
    }
   ],
   "source": [
    "import matplotlib.pyplot as plt\n",
    "\n",
    "deltas = nn.get_deltas()\n",
    "valores=[]\n",
    "index=0\n",
    "for arreglo in deltas:\n",
    "    valores.append(arreglo[1][0] + arreglo[1][1])\n",
    "    index=index+1\n",
    "\n",
    "plt.plot(range(len(valores)), valores, color='b')\n",
    "plt.ylim([0, 0.4])\n",
    "plt.ylabel('Cost')\n",
    "plt.xlabel('Epochs')\n",
    "plt.tight_layout()\n",
    "plt.show()"
   ]
  },
  {
   "cell_type": "code",
   "execution_count": 4,
   "id": "460ad868",
   "metadata": {},
   "outputs": [],
   "source": [
    "def to_str(name, W):\n",
    "    s = str(W.tolist()).replace('[', '{').replace(']', '}')\n",
    "    return 'float '+name+'['+str(W.shape[0])+']['+str(W.shape[1])+'] = ' + s + ';'"
   ]
  },
  {
   "cell_type": "code",
   "execution_count": 5,
   "id": "3e6b3e57",
   "metadata": {},
   "outputs": [
    {
     "name": "stdout",
     "output_type": "stream",
     "text": [
      "// Reemplazar estas lineas en tu codigo arduino:\n",
      "// float HiddenWeights ...\n",
      "// float OutputWeights ...\n",
      "// Con lo pesos entrenados.\n",
      "\n",
      "\n",
      "float HiddenWeights[3][4] = {{-0.8186297048992076, -1.0819829872287012, -1.1308322704285751, 1.1627505105334208}, {0.7335276379768696, 3.9894448480913782, 0.45906707020425014, -4.050369826652077}, {-0.2137867783278083, 1.6874154685655078, 0.2311688890357433, 1.6324916498228053}};\n",
      "float OutputWeights[4][4] = {{-0.21992095768348682, -0.931161050403404, -1.2857675405899087, -1.4478248641195097}, {0.757000682973484, 0.22931011638583582, 1.687877525809194, -1.495967088957901}, {-1.589152230842038, -1.203969713421604, -0.9490028332010398, -0.7944602004814827}, {1.7317759492426765, -1.7226802332108868, -0.34687577865178637, -0.8862388050170096}};\n"
     ]
    }
   ],
   "source": [
    "# Obtenermos los pesos entrenados para poder usarlos en el codigo de arduino\n",
    "pesos = nn.get_weights();\n",
    "\n",
    "print('// Reemplazar estas lineas en tu codigo arduino:')\n",
    "print('// float HiddenWeights ...')\n",
    "print('// float OutputWeights ...')\n",
    "print('// Con lo pesos entrenados.')\n",
    "print('\\n')\n",
    "print(to_str('HiddenWeights', pesos[0]))\n",
    "print(to_str('OutputWeights', pesos[1]))"
   ]
  },
  {
   "cell_type": "code",
   "execution_count": null,
   "id": "86b009d7",
   "metadata": {},
   "outputs": [],
   "source": []
  }
 ],
 "metadata": {
  "kernelspec": {
   "display_name": "Python 3 (ipykernel)",
   "language": "python",
   "name": "python3"
  },
  "language_info": {
   "codemirror_mode": {
    "name": "ipython",
    "version": 3
   },
   "file_extension": ".py",
   "mimetype": "text/x-python",
   "name": "python",
   "nbconvert_exporter": "python",
   "pygments_lexer": "ipython3",
   "version": "3.9.12"
  }
 },
 "nbformat": 4,
 "nbformat_minor": 5
}
