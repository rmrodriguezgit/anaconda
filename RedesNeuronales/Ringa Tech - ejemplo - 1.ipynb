{
 "cells": [
  {
   "cell_type": "markdown",
   "id": "e17a54a6",
   "metadata": {},
   "source": [
    "### Tu primera red neuronal\n",
    "https://youtu.be/iX_on3VxZzk\n",
    "### Environment KerasTensor"
   ]
  },
  {
   "cell_type": "code",
   "execution_count": 1,
   "id": "31e349f8",
   "metadata": {},
   "outputs": [],
   "source": [
    "import tensorflow as tf"
   ]
  },
  {
   "cell_type": "code",
   "execution_count": 2,
   "id": "0a250478",
   "metadata": {},
   "outputs": [],
   "source": [
    "import numpy as np"
   ]
  },
  {
   "cell_type": "code",
   "execution_count": 13,
   "id": "8ac2f975",
   "metadata": {},
   "outputs": [],
   "source": [
    "celsius = np.array([-40,-10,0,8,15,22,38], dtype=float)\n",
    "farenheit = np.array([-40,14,32,46,59,72,100], dtype=float)"
   ]
  },
  {
   "cell_type": "code",
   "execution_count": 14,
   "id": "a98b0f28",
   "metadata": {},
   "outputs": [],
   "source": [
    "#capa = tf.keras.layers.Dense(units=1, input_shape=[1])\n",
    "#modelo = tf.keras.Sequential([capa])"
   ]
  },
  {
   "cell_type": "code",
   "execution_count": 20,
   "id": "1697b155",
   "metadata": {},
   "outputs": [],
   "source": [
    "oculta1 = tf.keras.layers.Dense(units=3, input_shape=[1])\n",
    "oculta2 = tf.keras.layers.Dense(units=3)\n",
    "salida = tf.keras.layers.Dense(units=1)\n",
    "modelo = tf.keras.Sequential([oculta1, oculta2, salida])"
   ]
  },
  {
   "cell_type": "code",
   "execution_count": 21,
   "id": "d4468bcc",
   "metadata": {},
   "outputs": [],
   "source": [
    "modelo.compile(\n",
    "    optimizer=tf.keras.optimizers.Adam(0.1),\n",
    "    loss='mean_squared_error'\n",
    ")"
   ]
  },
  {
   "cell_type": "code",
   "execution_count": 22,
   "id": "54104662",
   "metadata": {},
   "outputs": [
    {
     "name": "stdout",
     "output_type": "stream",
     "text": [
      "Comenzando entrenamiento...\n",
      "Modelo entrenado!\n"
     ]
    }
   ],
   "source": [
    "print('Comenzando entrenamiento...')\n",
    "historial = modelo.fit(celsius, farenheit, epochs=1000, verbose=False)\n",
    "print('Modelo entrenado!')"
   ]
  },
  {
   "cell_type": "code",
   "execution_count": 23,
   "id": "5b1e5e65",
   "metadata": {},
   "outputs": [
    {
     "data": {
      "text/plain": [
       "[<matplotlib.lines.Line2D at 0x7f9e971506d0>]"
      ]
     },
     "execution_count": 23,
     "metadata": {},
     "output_type": "execute_result"
    },
    {
     "data": {
      "image/png": "[encoded data removed]",
      "text/plain": [
       "<Figure size 432x288 with 1 Axes>"
      ]
     },
     "metadata": {
      "needs_background": "light"
     },
     "output_type": "display_data"
    }
   ],
   "source": [
    "import matplotlib.pyplot as plt\n",
    "plt.xlabel('# Epoca')\n",
    "plt.ylabel('Magnitud de Pérdida')\n",
    "plt.plot(historial.history['loss'])"
   ]
  },
  {
   "cell_type": "code",
   "execution_count": 24,
   "id": "42f3916b",
   "metadata": {},
   "outputs": [
    {
     "name": "stdout",
     "output_type": "stream",
     "text": [
      "Hagamos una predicción!\n",
      "1/1 [==============================] - 0s 110ms/step\n",
      "El resultado es[[211.74742]] farenheit!\n"
     ]
    }
   ],
   "source": [
    "print('Hagamos una predicción!')\n",
    "resultado = modelo.predict([100.0])\n",
    "print('El resultado es'+str(resultado)+' farenheit!')"
   ]
  },
  {
   "cell_type": "code",
   "execution_count": 25,
   "id": "d3faecc2",
   "metadata": {},
   "outputs": [
    {
     "name": "stdout",
     "output_type": "stream",
     "text": [
      "Variable internas del modelo\n",
      "[array([[1.7981681]], dtype=float32), array([31.926783], dtype=float32)]\n"
     ]
    }
   ],
   "source": [
    "print('Variable internas del modelo')\n",
    "#print(capa.get_weights())"
   ]
  },
  {
   "cell_type": "code",
   "execution_count": 26,
   "id": "067cb988",
   "metadata": {},
   "outputs": [
    {
     "name": "stdout",
     "output_type": "stream",
     "text": [
      "[array([[-0.10673536, -0.6199203 , -0.37815315]], dtype=float32), array([ 3.607938  , -3.9561    ,  0.06835616], dtype=float32)]\n",
      "[array([[-0.47537622,  1.6041915 ,  1.9779081 ],\n",
      "       [ 1.8819935 ,  0.16911732,  0.20236768],\n",
      "       [-0.2509822 , -0.60353893, -0.6188997 ]], dtype=float32), array([-4.2973065, -2.0617964,  1.3486432], dtype=float32)]\n",
      "[array([[-1.809399  ],\n",
      "       [-0.00231441],\n",
      "       [ 0.4840225 ]], dtype=float32), array([3.8790882], dtype=float32)]\n"
     ]
    }
   ],
   "source": [
    "print(oculta1.get_weights())\n",
    "print(oculta2.get_weights())\n",
    "print(salida.get_weights())"
   ]
  },
  {
   "cell_type": "code",
   "execution_count": null,
   "id": "86c57475",
   "metadata": {},
   "outputs": [],
   "source": []
  }
 ],
 "metadata": {
  "kernelspec": {
   "display_name": "Python 3 (ipykernel)",
   "language": "python",
   "name": "python3"
  },
  "language_info": {
   "codemirror_mode": {
    "name": "ipython",
    "version": 3
   },
   "file_extension": ".py",
   "mimetype": "text/x-python",
   "name": "python",
   "nbconvert_exporter": "python",
   "pygments_lexer": "ipython3",
   "version": "3.9.12"
  }
 },
 "nbformat": 4,
 "nbformat_minor": 5
}
