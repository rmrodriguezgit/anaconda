{
 "cells": [
  {
   "cell_type": "markdown",
   "id": "f79ce64c",
   "metadata": {},
   "source": [
    "Ejemplo de una red neuronal\n",
    "https://bookdown.org/eljorgehdz/red_neuronal_mediante_python/Red-neuronal-mediante-Python.html"
   ]
  },
  {
   "cell_type": "code",
   "execution_count": 2,
   "id": "aed3a738",
   "metadata": {},
   "outputs": [
    {
     "name": "stdout",
     "output_type": "stream",
     "text": [
      "Date\n",
      "2019-05-10    61.660000\n",
      "2019-05-13    61.040001\n",
      "2019-05-14    61.779999\n",
      "2019-05-15    62.020000\n",
      "2019-05-16    62.869999\n",
      "                ...    \n",
      "2021-05-05    65.629997\n",
      "2021-05-06    64.709999\n",
      "2021-05-07    64.900002\n",
      "2021-05-10    64.919998\n",
      "2021-05-11    65.279999\n",
      "Name: Close, Length: 505, dtype: float64 Date\n",
      "2019-05-10    1285.699951\n",
      "2019-05-13    1300.099976\n",
      "2019-05-14    1294.699951\n",
      "2019-05-15    1296.300049\n",
      "2019-05-16    1285.000000\n",
      "                 ...     \n",
      "2021-05-05    1784.099976\n",
      "2021-05-06    1815.500000\n",
      "2021-05-07    1831.099976\n",
      "2021-05-10    1837.500000\n",
      "2021-05-11    1835.900024\n",
      "Name: Close, Length: 505, dtype: float64\n"
     ]
    }
   ],
   "source": [
    "# Cargamos las paqueterías\n",
    "import pandas_datareader as pdr\n",
    "from datetime import datetime\n",
    "import tensorflow as tf\n",
    "import matplotlib.pyplot as plt\n",
    "\n",
    "# Cargamos los datos\n",
    "Petroleo = pdr.DataReader(\"CL=F\", \"yahoo\", start='2019-05-10', end='2021-05-10')\n",
    "Oro = pdr.DataReader(\"GC=F\", \"yahoo\", start='2019-05-10', end='2021-05-10')\n",
    "\n",
    "# Visualizamos los datos a usar\n",
    "print (Petroleo.Close, Oro.Close) "
   ]
  },
  {
   "cell_type": "code",
   "execution_count": 3,
   "id": "47982b13",
   "metadata": {},
   "outputs": [],
   "source": [
    "# creamos una capa densa para conectar los datos de entrada con los de salida\n",
    "capa = tf.keras.layers.Dense(units = 1, input_shape=[1])\n",
    "\n",
    "# Creamos un modelo sequencial para este caso\n",
    "# Utilizamos una función de pérdida de error cuadrático medio\n",
    "# Usamos el optimizador de Adamax para que el modelo mejore en lugar de empeorar conforme se entrena\n",
    "modelo = tf.keras.Sequential([capa])\n",
    "modelo.compile(\n",
    "  optimizer=tf.keras.optimizers.Adamax(0.1),\n",
    "  loss=\"mean_squared_error\"\n",
    ")\n",
    "\n",
    "# Entrenamos el modelo. Le decimos a la función fit que lo haga 100 veces con epoch. \n",
    "# ¿Esto es mucho o poco? Lo averiguaremos cuando grafiquemos la función de pérdida.\n",
    "historico = modelo.fit(Petroleo.Close, Oro.Close, epochs=100, verbose=False)"
   ]
  },
  {
   "cell_type": "code",
   "execution_count": 4,
   "id": "52625f3c",
   "metadata": {},
   "outputs": [
    {
     "data": {
      "image/png": "[encoded data removed]",
      "text/plain": [
       "<Figure size 432x288 with 1 Axes>"
      ]
     },
     "metadata": {
      "needs_background": "light"
     },
     "output_type": "display_data"
    }
   ],
   "source": [
    "plt.xlabel(\"Número de pruebas\")\n",
    "plt.ylabel(\"Magnitud de pérdida\")\n",
    "plt.plot(historico.history[\"loss\"])\n",
    "plt.show()"
   ]
  },
  {
   "cell_type": "code",
   "execution_count": 5,
   "id": "d9ce3231",
   "metadata": {},
   "outputs": [
    {
     "name": "stdout",
     "output_type": "stream",
     "text": [
      "1/1 [==============================] - 0s 152ms/step\n",
      "Si el precio del petroleo es de 50 dólares el barril, entonces el precio del oro tenderá a ser de [[1598.9569]] dolares la onza\n"
     ]
    }
   ],
   "source": [
    "print(\"Si el precio del petroleo es de 50 dólares el barril, entonces el precio del oro tenderá a ser de\", modelo.predict([50]), \"dolares la onza\")"
   ]
  },
  {
   "cell_type": "code",
   "execution_count": null,
   "id": "915377ee",
   "metadata": {},
   "outputs": [],
   "source": []
  }
 ],
 "metadata": {
  "kernelspec": {
   "display_name": "Python 3 (ipykernel)",
   "language": "python",
   "name": "python3"
  },
  "language_info": {
   "codemirror_mode": {
    "name": "ipython",
    "version": 3
   },
   "file_extension": ".py",
   "mimetype": "text/x-python",
   "name": "python",
   "nbconvert_exporter": "python",
   "pygments_lexer": "ipython3",
   "version": "3.9.12"
  }
 },
 "nbformat": 4,
 "nbformat_minor": 5
}
