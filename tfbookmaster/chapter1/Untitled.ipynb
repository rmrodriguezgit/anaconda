{
 "cells": [
  {
   "cell_type": "code",
   "execution_count": 2,
   "id": "4679a978",
   "metadata": {},
   "outputs": [],
   "source": [
    "import tensorflow as tf\n",
    "data = tf.keras.datasets.fashion_mnist"
   ]
  },
  {
   "cell_type": "code",
   "execution_count": 3,
   "id": "74cbc02e",
   "metadata": {},
   "outputs": [],
   "source": [
    "class myCallback(tf.keras.callbacks.Callback):\n",
    "  def on_epoch_end(self, epoch, logs={}):\n",
    "    if(logs.get('accuracy')>0.99):\n",
    "      print(\"\\nReached 99% accuracy so cancelling training!\")\n",
    "      self.model.stop_training = True"
   ]
  },
  {
   "cell_type": "code",
   "execution_count": 4,
   "id": "d2ec13ca",
   "metadata": {},
   "outputs": [
    {
     "name": "stdout",
     "output_type": "stream",
     "text": [
      "Downloading data from https://storage.googleapis.com/tensorflow/tf-keras-datasets/train-labels-idx1-ubyte.gz\n",
      "29515/29515 [==============================] - 0s 2us/step\n",
      "Downloading data from https://storage.googleapis.com/tensorflow/tf-keras-datasets/train-images-idx3-ubyte.gz\n",
      "26421880/26421880 [==============================] - 10s 0us/step\n",
      "Downloading data from https://storage.googleapis.com/tensorflow/tf-keras-datasets/t10k-labels-idx1-ubyte.gz\n",
      "5148/5148 [==============================] - 0s 0us/step\n",
      "Downloading data from https://storage.googleapis.com/tensorflow/tf-keras-datasets/t10k-images-idx3-ubyte.gz\n",
      "4422102/4422102 [==============================] - 2s 0us/step\n",
      "<class 'numpy.ndarray'>\n",
      "Model: \"sequential\"\n",
      "_________________________________________________________________\n",
      " Layer (type)                Output Shape              Param #   \n",
      "=================================================================\n",
      " conv2d (Conv2D)             (None, 26, 26, 64)        640       \n",
      "                                                                 \n",
      " max_pooling2d (MaxPooling2D  (None, 13, 13, 64)       0         \n",
      " )                                                               \n",
      "                                                                 \n",
      " conv2d_1 (Conv2D)           (None, 11, 11, 64)        36928     \n",
      "                                                                 \n",
      " max_pooling2d_1 (MaxPooling  (None, 5, 5, 64)         0         \n",
      " 2D)                                                             \n",
      "                                                                 \n",
      " flatten (Flatten)           (None, 1600)              0         \n",
      "                                                                 \n",
      " dense (Dense)               (None, 128)               204928    \n",
      "                                                                 \n",
      " dense_1 (Dense)             (None, 10)                1290      \n",
      "                                                                 \n",
      "=================================================================\n",
      "Total params: 243,786\n",
      "Trainable params: 243,786\n",
      "Non-trainable params: 0\n",
      "_________________________________________________________________\n"
     ]
    },
    {
     "name": "stderr",
     "output_type": "stream",
     "text": [
      "2022-10-27 18:29:25.890196: I tensorflow/core/platform/cpu_feature_guard.cc:193] This TensorFlow binary is optimized with oneAPI Deep Neural Network Library (oneDNN) to use the following CPU instructions in performance-critical operations:  AVX2 FMA\n",
      "To enable them in other operations, rebuild TensorFlow with the appropriate compiler flags.\n"
     ]
    },
    {
     "name": "stdout",
     "output_type": "stream",
     "text": [
      "Epoch 1/50\n",
      "1875/1875 [==============================] - 80s 43ms/step - loss: 0.4350 - accuracy: 0.8430\n",
      "Epoch 2/50\n",
      "1875/1875 [==============================] - 64s 34ms/step - loss: 0.2924 - accuracy: 0.8926\n",
      "Epoch 3/50\n",
      "1875/1875 [==============================] - 82s 44ms/step - loss: 0.2466 - accuracy: 0.9084\n",
      "Epoch 4/50\n",
      "1875/1875 [==============================] - 79s 42ms/step - loss: 0.2142 - accuracy: 0.9199\n",
      "Epoch 5/50\n",
      "1875/1875 [==============================] - 64s 34ms/step - loss: 0.1900 - accuracy: 0.9288\n",
      "Epoch 6/50\n",
      "1875/1875 [==============================] - 63s 33ms/step - loss: 0.1646 - accuracy: 0.9378\n",
      "Epoch 7/50\n",
      "1875/1875 [==============================] - 67s 36ms/step - loss: 0.1448 - accuracy: 0.9452\n",
      "Epoch 8/50\n",
      "1875/1875 [==============================] - 71s 38ms/step - loss: 0.1263 - accuracy: 0.9524\n",
      "Epoch 9/50\n",
      "1875/1875 [==============================] - 61s 32ms/step - loss: 0.1108 - accuracy: 0.9589\n",
      "Epoch 10/50\n",
      "1875/1875 [==============================] - 63s 34ms/step - loss: 0.0971 - accuracy: 0.9632\n",
      "Epoch 11/50\n",
      "1875/1875 [==============================] - 59s 32ms/step - loss: 0.0866 - accuracy: 0.9682\n",
      "Epoch 12/50\n",
      "1875/1875 [==============================] - 64s 34ms/step - loss: 0.0758 - accuracy: 0.9716\n",
      "Epoch 13/50\n",
      "1875/1875 [==============================] - 67s 36ms/step - loss: 0.0672 - accuracy: 0.9747\n",
      "Epoch 14/50\n",
      "1875/1875 [==============================] - 67s 36ms/step - loss: 0.0595 - accuracy: 0.9783\n",
      "Epoch 15/50\n",
      "1875/1875 [==============================] - 75s 40ms/step - loss: 0.0536 - accuracy: 0.9797\n",
      "Epoch 16/50\n",
      "1875/1875 [==============================] - 69s 37ms/step - loss: 0.0505 - accuracy: 0.9812\n",
      "Epoch 17/50\n",
      "1875/1875 [==============================] - 77s 41ms/step - loss: 0.0439 - accuracy: 0.9837\n",
      "Epoch 18/50\n",
      "1875/1875 [==============================] - 71s 38ms/step - loss: 0.0402 - accuracy: 0.9855\n",
      "Epoch 19/50\n",
      "1875/1875 [==============================] - 68s 36ms/step - loss: 0.0377 - accuracy: 0.9862\n",
      "Epoch 20/50\n",
      "1875/1875 [==============================] - 74s 39ms/step - loss: 0.0368 - accuracy: 0.9865\n",
      "Epoch 21/50\n",
      "1875/1875 [==============================] - 88s 47ms/step - loss: 0.0338 - accuracy: 0.9870\n",
      "Epoch 22/50\n",
      "1875/1875 [==============================] - 78s 42ms/step - loss: 0.0360 - accuracy: 0.9867\n",
      "Epoch 23/50\n",
      "1875/1875 [==============================] - 74s 40ms/step - loss: 0.0318 - accuracy: 0.9888\n",
      "Epoch 24/50\n",
      "1875/1875 [==============================] - 69s 37ms/step - loss: 0.0276 - accuracy: 0.9898\n",
      "Epoch 25/50\n",
      "1875/1875 [==============================] - 162s 86ms/step - loss: 0.0300 - accuracy: 0.9897\n",
      "Epoch 26/50\n",
      "1875/1875 [==============================] - ETA: 0s - loss: 0.0270 - accuracy: 0.9903\n",
      "Reached 99% accuracy so cancelling training!\n",
      "1875/1875 [==============================] - 228s 122ms/step - loss: 0.0270 - accuracy: 0.9903\n",
      "313/313 [==============================] - 5s 13ms/step - loss: 0.6710 - accuracy: 0.9064\n",
      "313/313 [==============================] - 4s 12ms/step\n"
     ]
    }
   ],
   "source": [
    "callbacks = myCallback()\n",
    "\n",
    "(training_images, training_labels), (test_images, test_labels) = data.load_data()\n",
    "print(type(training_images))\n",
    "training_images=training_images.reshape(60000, 28, 28, 1)\n",
    "training_images  = training_images / 255.0\n",
    "test_images = test_images.reshape(10000, 28, 28, 1)\n",
    "test_images = test_images / 255.0\n",
    "\n",
    "model = tf.keras.models.Sequential([\n",
    "    tf.keras.layers.Conv2D(64, (3, 3), activation='relu', input_shape=(28, 28, 1)),\n",
    "    tf.keras.layers.MaxPooling2D(2, 2),\n",
    "    tf.keras.layers.Conv2D(64, (3, 3), activation='relu'),\n",
    "    tf.keras.layers.MaxPooling2D(2,2),\n",
    "    tf.keras.layers.Flatten(),\n",
    "    tf.keras.layers.Dense(128, activation=tf.nn.relu),\n",
    "    tf.keras.layers.Dense(10, activation=tf.nn.softmax)])\n",
    "\n",
    "model.compile(optimizer='adam',\n",
    "              loss='sparse_categorical_crossentropy',\n",
    "              metrics=['accuracy'])\n",
    "\n",
    "model.summary()\n",
    "\n",
    "model.fit(training_images, training_labels, epochs=50, callbacks=[callbacks])\n",
    "\n",
    "model.evaluate(test_images, test_labels)\n",
    "\n",
    "classifications = model.predict(test_images)"
   ]
  },
  {
   "cell_type": "code",
   "execution_count": null,
   "id": "c21b0649",
   "metadata": {},
   "outputs": [],
   "source": [
    "print(classifications[0])\n",
    "print(test_labels[0])"
   ]
  }
 ],
 "metadata": {
  "kernelspec": {
   "display_name": "Python 3 (ipykernel)",
   "language": "python",
   "name": "python3"
  },
  "language_info": {
   "codemirror_mode": {
    "name": "ipython",
    "version": 3
   },
   "file_extension": ".py",
   "mimetype": "text/x-python",
   "name": "python",
   "nbconvert_exporter": "python",
   "pygments_lexer": "ipython3",
   "version": "3.9.12"
  }
 },
 "nbformat": 4,
 "nbformat_minor": 5
}
